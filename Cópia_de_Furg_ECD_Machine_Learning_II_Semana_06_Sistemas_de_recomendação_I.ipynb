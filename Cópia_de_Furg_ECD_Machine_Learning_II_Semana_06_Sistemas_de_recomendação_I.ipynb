{
  "nbformat": 4,
  "nbformat_minor": 5,
  "metadata": {
    "kernelspec": {
      "display_name": "Python 3 (ipykernel)",
      "language": "python",
      "name": "python3"
    },
    "language_info": {
      "codemirror_mode": {
        "name": "ipython",
        "version": 3
      },
      "file_extension": ".py",
      "mimetype": "text/x-python",
      "name": "python",
      "nbconvert_exporter": "python",
      "pygments_lexer": "ipython3",
      "version": "3.8.2"
    },
    "colab": {
      "name": "Cópia de Furg - ECD - Machine Learning II - Semana 06 - Sistemas de recomendação I",
      "provenance": [],
      "collapsed_sections": [],
      "include_colab_link": true
    }
  },
  "cells": [
    {
      "cell_type": "markdown",
      "metadata": {
        "id": "view-in-github",
        "colab_type": "text"
      },
      "source": [
        "<a href=\"https://colab.research.google.com/github/pcpiscator/2T2021/blob/main/C%C3%B3pia_de_Furg_ECD_Machine_Learning_II_Semana_06_Sistemas_de_recomenda%C3%A7%C3%A3o_I.ipynb\" target=\"_parent\"><img src=\"https://colab.research.google.com/assets/colab-badge.svg\" alt=\"Open In Colab\"/></a>"
      ]
    },
    {
      "cell_type": "markdown",
      "metadata": {
        "id": "57ff3cb7"
      },
      "source": [
        "# Curso de Especialização em Ciência de Dados - FURG\n",
        "## Machine Learning II - Sistemas de recomendação I\n",
        "### Prof. Marcelo Malheiros\n",
        "\n",
        "Parte do código adaptada de Aditya Sharma (Datacamp)\n",
        "\n",
        "---"
      ],
      "id": "57ff3cb7"
    },
    {
      "cell_type": "markdown",
      "metadata": {
        "id": "c4bd217d"
      },
      "source": [
        "# Inicialização\n",
        "\n",
        "Aqui importamos as bibliotecas fundamentais de Python para este _notebook_:\n",
        "\n",
        "- NumPy: suporte a vetores, matrizes e operações de Álgebra Linear\n",
        "- Matplotlib: biblioteca de visualização de dados\n",
        "- Pandas: pacote estatístico e de manipulação de DataFrames\n",
        "- Scikit-Learn: biblioteca com algoritmos de Machine Learning"
      ],
      "id": "c4bd217d"
    },
    {
      "cell_type": "code",
      "metadata": {
        "id": "54f88cd9"
      },
      "source": [
        "%matplotlib inline\n",
        "import numpy as np\n",
        "import matplotlib.pyplot as plt\n",
        "import pandas as pd\n",
        "import sklearn"
      ],
      "id": "54f88cd9",
      "execution_count": 1,
      "outputs": []
    },
    {
      "cell_type": "markdown",
      "metadata": {
        "id": "972c355e"
      },
      "source": [
        "# Conjunto de dados\n",
        "\n",
        "**Atenção:** é preciso fazer o _upload_ do arquivo **popular_movies_csv.zip** primeiro.\n",
        "\n",
        "Para este _notebook_ vamos usar uma versão condensada do _dataset_ chamado [The Movies Dataset](https://www.kaggle.com/rounakbanik/the-movies-dataset/).\n",
        "\n",
        "A versão completa contém informações detalhadas sobre 45.000 filmes, além de 29 milhões de avaliações destes filmes, feitas por 270 mil usuários. As avaliações seguem a métrica usual de estrelas, em uma escala de 1 a 5.\n",
        "\n",
        "A versão condensada contém a maioria dos metadados sobre os 4.606 filmes mais populares, incluindo atributos como título, ano, duração, nome do diretor e popularidade. As avaliações individuais de usuários não fazem parte deste _dataset_, uma vez que iremos focar em **recomendações baseadas em conteúdo**.\n"
      ],
      "id": "972c355e"
    },
    {
      "cell_type": "code",
      "metadata": {
        "id": "8777a9aa"
      },
      "source": [
        "# se o arquivo ZIP contiver um único CSV, este pode ser carregado diretamente\n",
        "#filmes = pd.read_csv('popular_movies_csv.zip', index_col=0)"
      ],
      "id": "8777a9aa",
      "execution_count": 3,
      "outputs": []
    },
    {
      "cell_type": "code",
      "metadata": {
        "id": "JvSRhV6FD2gp"
      },
      "source": [
        "filmes = pd.read_csv('https://raw.githubusercontent.com/pcpiscator/2T2021/main/popular_movies.csv')"
      ],
      "id": "JvSRhV6FD2gp",
      "execution_count": 5,
      "outputs": []
    },
    {
      "cell_type": "code",
      "metadata": {
        "id": "8f1a3df8",
        "colab": {
          "base_uri": "https://localhost:8080/",
          "height": 683
        },
        "outputId": "4bb1fdf8-23d0-4ba3-b38f-c290a9ea71c2"
      },
      "source": [
        "filmes.head(5)"
      ],
      "id": "8f1a3df8",
      "execution_count": 6,
      "outputs": [
        {
          "output_type": "execute_result",
          "data": {
            "text/html": [
              "<div>\n",
              "<style scoped>\n",
              "    .dataframe tbody tr th:only-of-type {\n",
              "        vertical-align: middle;\n",
              "    }\n",
              "\n",
              "    .dataframe tbody tr th {\n",
              "        vertical-align: top;\n",
              "    }\n",
              "\n",
              "    .dataframe thead th {\n",
              "        text-align: right;\n",
              "    }\n",
              "</style>\n",
              "<table border=\"1\" class=\"dataframe\">\n",
              "  <thead>\n",
              "    <tr style=\"text-align: right;\">\n",
              "      <th></th>\n",
              "      <th>Unnamed: 0</th>\n",
              "      <th>budget</th>\n",
              "      <th>genres</th>\n",
              "      <th>homepage</th>\n",
              "      <th>id</th>\n",
              "      <th>imdb_id</th>\n",
              "      <th>original_language</th>\n",
              "      <th>original_title</th>\n",
              "      <th>overview</th>\n",
              "      <th>popularity</th>\n",
              "      <th>release_date</th>\n",
              "      <th>revenue</th>\n",
              "      <th>runtime</th>\n",
              "      <th>status</th>\n",
              "      <th>tagline</th>\n",
              "      <th>title</th>\n",
              "      <th>video</th>\n",
              "      <th>vote_average</th>\n",
              "      <th>vote_count</th>\n",
              "      <th>cast</th>\n",
              "      <th>keywords</th>\n",
              "      <th>director</th>\n",
              "    </tr>\n",
              "  </thead>\n",
              "  <tbody>\n",
              "    <tr>\n",
              "      <th>0</th>\n",
              "      <td>0</td>\n",
              "      <td>25000000</td>\n",
              "      <td>['Drama', 'Crime']</td>\n",
              "      <td>NaN</td>\n",
              "      <td>278</td>\n",
              "      <td>tt0111161</td>\n",
              "      <td>en</td>\n",
              "      <td>The Shawshank Redemption</td>\n",
              "      <td>Framed in the 1940s for the double murder of h...</td>\n",
              "      <td>51.645403</td>\n",
              "      <td>1994-09-23</td>\n",
              "      <td>2.834147e+07</td>\n",
              "      <td>142.0</td>\n",
              "      <td>Released</td>\n",
              "      <td>Fear can hold you prisoner. Hope can set you f...</td>\n",
              "      <td>The Shawshank Redemption</td>\n",
              "      <td>False</td>\n",
              "      <td>8.5</td>\n",
              "      <td>8358.0</td>\n",
              "      <td>['Tim Robbins', 'Morgan Freeman', 'Bob Gunton']</td>\n",
              "      <td>['prison', 'corruption', 'police brutality']</td>\n",
              "      <td>Frank Darabont</td>\n",
              "    </tr>\n",
              "    <tr>\n",
              "      <th>1</th>\n",
              "      <td>1</td>\n",
              "      <td>6000000</td>\n",
              "      <td>['Drama', 'Crime']</td>\n",
              "      <td>http://www.thegodfather.com/</td>\n",
              "      <td>238</td>\n",
              "      <td>tt0068646</td>\n",
              "      <td>en</td>\n",
              "      <td>The Godfather</td>\n",
              "      <td>Spanning the years 1945 to 1955, a chronicle o...</td>\n",
              "      <td>41.109264</td>\n",
              "      <td>1972-03-14</td>\n",
              "      <td>2.450664e+08</td>\n",
              "      <td>175.0</td>\n",
              "      <td>Released</td>\n",
              "      <td>An offer you can't refuse.</td>\n",
              "      <td>The Godfather</td>\n",
              "      <td>False</td>\n",
              "      <td>8.5</td>\n",
              "      <td>6024.0</td>\n",
              "      <td>['Marlon Brando', 'Al Pacino', 'James Caan']</td>\n",
              "      <td>['italy', 'love at first sight', 'loss of fath...</td>\n",
              "      <td>Francis Ford Coppola</td>\n",
              "    </tr>\n",
              "    <tr>\n",
              "      <th>2</th>\n",
              "      <td>2</td>\n",
              "      <td>13200000</td>\n",
              "      <td>['Comedy', 'Drama', 'Romance']</td>\n",
              "      <td>NaN</td>\n",
              "      <td>19404</td>\n",
              "      <td>tt0112870</td>\n",
              "      <td>hi</td>\n",
              "      <td>Dilwale Dulhania Le Jayenge</td>\n",
              "      <td>Raj is a rich, carefree, happy-go-lucky second...</td>\n",
              "      <td>34.457024</td>\n",
              "      <td>1995-10-20</td>\n",
              "      <td>1.000000e+08</td>\n",
              "      <td>190.0</td>\n",
              "      <td>Released</td>\n",
              "      <td>Come... Fall In Love</td>\n",
              "      <td>Dilwale Dulhania Le Jayenge</td>\n",
              "      <td>False</td>\n",
              "      <td>9.1</td>\n",
              "      <td>661.0</td>\n",
              "      <td>['Shah Rukh Khan', 'Kajol', 'Amrish Puri']</td>\n",
              "      <td>['musical']</td>\n",
              "      <td>Aditya Chopra</td>\n",
              "    </tr>\n",
              "    <tr>\n",
              "      <th>3</th>\n",
              "      <td>3</td>\n",
              "      <td>185000000</td>\n",
              "      <td>['Drama', 'Action', 'Crime']</td>\n",
              "      <td>http://thedarkknight.warnerbros.com/dvdsite/</td>\n",
              "      <td>155</td>\n",
              "      <td>tt0468569</td>\n",
              "      <td>en</td>\n",
              "      <td>The Dark Knight</td>\n",
              "      <td>Batman raises the stakes in his war on crime. ...</td>\n",
              "      <td>123.167259</td>\n",
              "      <td>2008-07-16</td>\n",
              "      <td>1.004558e+09</td>\n",
              "      <td>152.0</td>\n",
              "      <td>Released</td>\n",
              "      <td>Why So Serious?</td>\n",
              "      <td>The Dark Knight</td>\n",
              "      <td>False</td>\n",
              "      <td>8.3</td>\n",
              "      <td>12269.0</td>\n",
              "      <td>['Christian Bale', 'Michael Caine', 'Heath Led...</td>\n",
              "      <td>['dc comics', 'crime fighter', 'secret identity']</td>\n",
              "      <td>Christopher Nolan</td>\n",
              "    </tr>\n",
              "    <tr>\n",
              "      <th>4</th>\n",
              "      <td>4</td>\n",
              "      <td>63000000</td>\n",
              "      <td>['Drama']</td>\n",
              "      <td>http://www.foxmovies.com/movies/fight-club</td>\n",
              "      <td>550</td>\n",
              "      <td>tt0137523</td>\n",
              "      <td>en</td>\n",
              "      <td>Fight Club</td>\n",
              "      <td>A ticking-time-bomb insomniac and a slippery s...</td>\n",
              "      <td>63.869599</td>\n",
              "      <td>1999-10-15</td>\n",
              "      <td>1.008538e+08</td>\n",
              "      <td>139.0</td>\n",
              "      <td>Released</td>\n",
              "      <td>Mischief. Mayhem. Soap.</td>\n",
              "      <td>Fight Club</td>\n",
              "      <td>False</td>\n",
              "      <td>8.3</td>\n",
              "      <td>9678.0</td>\n",
              "      <td>['Edward Norton', 'Brad Pitt', 'Meat Loaf']</td>\n",
              "      <td>['support group', 'dual identity', 'nihilism']</td>\n",
              "      <td>David Fincher</td>\n",
              "    </tr>\n",
              "  </tbody>\n",
              "</table>\n",
              "</div>"
            ],
            "text/plain": [
              "   Unnamed: 0  ...              director\n",
              "0           0  ...        Frank Darabont\n",
              "1           1  ...  Francis Ford Coppola\n",
              "2           2  ...         Aditya Chopra\n",
              "3           3  ...     Christopher Nolan\n",
              "4           4  ...         David Fincher\n",
              "\n",
              "[5 rows x 22 columns]"
            ]
          },
          "metadata": {},
          "execution_count": 6
        }
      ]
    },
    {
      "cell_type": "code",
      "metadata": {
        "id": "be8c607a",
        "colab": {
          "base_uri": "https://localhost:8080/"
        },
        "outputId": "16966bd8-060d-489b-ce3a-d92973297246"
      },
      "source": [
        "filmes.info()"
      ],
      "id": "be8c607a",
      "execution_count": 7,
      "outputs": [
        {
          "output_type": "stream",
          "name": "stdout",
          "text": [
            "<class 'pandas.core.frame.DataFrame'>\n",
            "RangeIndex: 4606 entries, 0 to 4605\n",
            "Data columns (total 22 columns):\n",
            " #   Column             Non-Null Count  Dtype  \n",
            "---  ------             --------------  -----  \n",
            " 0   Unnamed: 0         4606 non-null   int64  \n",
            " 1   budget             4606 non-null   int64  \n",
            " 2   genres             4606 non-null   object \n",
            " 3   homepage           1847 non-null   object \n",
            " 4   id                 4606 non-null   int64  \n",
            " 5   imdb_id            4606 non-null   object \n",
            " 6   original_language  4606 non-null   object \n",
            " 7   original_title     4606 non-null   object \n",
            " 8   overview           4601 non-null   object \n",
            " 9   popularity         4606 non-null   float64\n",
            " 10  release_date       4606 non-null   object \n",
            " 11  revenue            4606 non-null   float64\n",
            " 12  runtime            4606 non-null   float64\n",
            " 13  status             4606 non-null   object \n",
            " 14  tagline            4102 non-null   object \n",
            " 15  title              4606 non-null   object \n",
            " 16  video              4606 non-null   bool   \n",
            " 17  vote_average       4606 non-null   float64\n",
            " 18  vote_count         4606 non-null   float64\n",
            " 19  cast               4606 non-null   object \n",
            " 20  keywords           4606 non-null   object \n",
            " 21  director           4606 non-null   object \n",
            "dtypes: bool(1), float64(5), int64(3), object(13)\n",
            "memory usage: 760.3+ KB\n"
          ]
        }
      ]
    },
    {
      "cell_type": "markdown",
      "metadata": {
        "id": "43ff83d3"
      },
      "source": [
        "# Recomendações baseadas em conteúdo\n",
        "\n",
        "Este tipo de sistema de recomendação foca em analisar os **metadados** dos itens para gerar indicações, porém sem utilizar neste processo o cruzamento entre perfis de usuários.\n",
        "\n",
        "Podemos separar esta abordagem para sistemas de recomendação em dois tipos:\n",
        "\n",
        "- **Recomendações não-personalizadas**, em que apenas métricas mais gerais são usadas para sugerir novos itens.\n",
        "\n",
        "- **Recomendações personalizadas**, em que o perfil do usuário é usado para medir similaridade entre itens e assim sugerir novos itens."
      ],
      "id": "43ff83d3"
    },
    {
      "cell_type": "markdown",
      "metadata": {
        "id": "0efe5095"
      },
      "source": [
        "# Recomendações não-personalizadas\n",
        "\n",
        "## Recomendação por popularidade\n",
        "\n",
        "Este é o tipo mais simples de recomendação que pode ser construída, pois usa apenas medidas globais calculadas sobre os itens disponíveis.\n",
        "\n",
        "Aqui, por exemplo, vamos elencar mais bem avaliados (globalmente, sem levar em conta a avaliação individual de usuários) e os filmes com mais votos (sem levar em conta a avaliação)."
      ],
      "id": "0efe5095"
    },
    {
      "cell_type": "code",
      "metadata": {
        "id": "aca372de"
      },
      "source": [
        "# média de avaliações\n",
        "m_aval = filmes['vote_average'].mean()\n",
        "print(m_aval)"
      ],
      "id": "aca372de",
      "execution_count": null,
      "outputs": []
    },
    {
      "cell_type": "code",
      "metadata": {
        "id": "d74a3b8d"
      },
      "source": [
        "# top 10 dos filmes melhor avaliados\n",
        "filmes.sort_values(by=['vote_average'], ascending=False).head(10).title"
      ],
      "id": "d74a3b8d",
      "execution_count": null,
      "outputs": []
    },
    {
      "cell_type": "code",
      "metadata": {
        "id": "45aa1e0b"
      },
      "source": [
        "# média do número de votos por filme\n",
        "m_votos = filmes['vote_count'].mean()\n",
        "print(m_votos)"
      ],
      "id": "45aa1e0b",
      "execution_count": null,
      "outputs": []
    },
    {
      "cell_type": "code",
      "metadata": {
        "id": "c716e031"
      },
      "source": [
        "# top 10 dos filmes mais votados\n",
        "filmes.sort_values(by=['vote_count'], ascending=False).head(10).title"
      ],
      "id": "c716e031",
      "execution_count": null,
      "outputs": []
    },
    {
      "cell_type": "markdown",
      "metadata": {
        "id": "db771061"
      },
      "source": [
        "## Recomendação por avaliação ponderada\n",
        "\n",
        "Usar contagens simples de avaliação ou números de votos pode distorcer a representatividade de um certo item. Por exemplo, um filme votado por poucos mas bem avaliado pode ter mais destaque do que um filme bem popular mas que teve uma avaliação ligeiramente menor.\n",
        "\n",
        "O ideal é criar uma medida ponderada, que chamaremos de **score**, que combina tanto o número de votos recebidos como a avaliação dada. Isso é uma indicação melhor da qualidade percebida: quanto maior o número de votos, mais peso terá a avaliação recebida."
      ],
      "id": "db771061"
    },
    {
      "cell_type": "code",
      "metadata": {
        "id": "7acb4c80"
      },
      "source": [
        "# medida de avaliação ponderada, segundo critério do IMDB\n",
        "def avaliação_ponderada(item):\n",
        "    aval = item['vote_average']\n",
        "    votos = item['vote_count']\n",
        "    return (votos / (votos + m_votos) * aval) + (m_votos / (m_votos + votos) * m_aval)"
      ],
      "id": "7acb4c80",
      "execution_count": null,
      "outputs": []
    },
    {
      "cell_type": "code",
      "metadata": {
        "id": "d888b1a5"
      },
      "source": [
        "# define novo atributo 'score'\n",
        "filmes['score'] = filmes.apply(avaliação_ponderada, axis=1)"
      ],
      "id": "d888b1a5",
      "execution_count": null,
      "outputs": []
    },
    {
      "cell_type": "code",
      "metadata": {
        "id": "e62391a4"
      },
      "source": [
        "# novo DataFrame com base no 'score'\n",
        "top = filmes.sort_values('score', ascending=False)"
      ],
      "id": "e62391a4",
      "execution_count": null,
      "outputs": []
    },
    {
      "cell_type": "code",
      "metadata": {
        "id": "ba356681"
      },
      "source": [
        "# top 10 dos filmes por 'score'\n",
        "top[['title', 'vote_count', 'vote_average', 'score']].head(10)"
      ],
      "id": "ba356681",
      "execution_count": null,
      "outputs": []
    },
    {
      "cell_type": "markdown",
      "metadata": {
        "id": "aa46757b"
      },
      "source": [
        "# Recomendações personalizadas\n",
        "\n",
        "Recomendações personalizadas são calculadas com base nos **metadados**, como antes, mas levam em conta muito mais atributos.\n",
        "\n",
        "Além disso, usam **conhecimento prévio sobre o usuário** para selecionar itens potencialmente mais relevantes para o mesmo."
      ],
      "id": "aa46757b"
    },
    {
      "cell_type": "markdown",
      "metadata": {
        "id": "27bb883a"
      },
      "source": [
        "## Extração de novas _features_\n",
        "\n",
        "Em um primeiro momento vamos indexar mais metadados, em especial usar agora **palavras-chave** extraídas de diversos campos de texto."
      ],
      "id": "27bb883a"
    },
    {
      "cell_type": "code",
      "metadata": {
        "id": "a1a079ee"
      },
      "source": [
        "# resumo do enredo dos primeiros filmes\n",
        "filmes['overview'].head(5)"
      ],
      "id": "a1a079ee",
      "execution_count": null,
      "outputs": []
    },
    {
      "cell_type": "markdown",
      "metadata": {
        "id": "4afd5e91"
      },
      "source": [
        "Para extrair palavras-chave, precisamos usar várias técnicas de Processamento de Linguagem Natural (PLN).\n",
        "\n",
        "Para isso iremos usar o algoritmo vetorizador `TfidfVectorizer` da biblioteca Sciki-Learn, que implementa a técnica Term Frequency – Inverse Document Frequency (TFIDF). \n",
        "\n",
        "Um vetorizador é um processo que mede a importância de cada palavra para um documento, em relação a todas as demais palavras de uma coleção de documentos.\n",
        "\n",
        "Cada medida de importância é usada como um fator de ponderação em pesquisas de recuperação de informações e mineração de textos. O valor **TF-IDF** aumenta proporcionalmente ao número de vezes em que uma palavra aparece no documento, sendo compensado pelo número de documentos na coleção que contém tal palavra, ajustando o fato de que algumas palavras aparecem com mais frequência em geral."
      ],
      "id": "4afd5e91"
    },
    {
      "cell_type": "code",
      "metadata": {
        "id": "630bc641"
      },
      "source": [
        "# importação\n",
        "from sklearn.feature_extraction.text import TfidfVectorizer"
      ],
      "id": "630bc641",
      "execution_count": null,
      "outputs": []
    },
    {
      "cell_type": "markdown",
      "metadata": {
        "id": "c7be8156"
      },
      "source": [
        "Um ponto fundamental é que estamos **processando a linguagem humana**, então é preciso conhecimento prévio sobre a língua dos textos que estamos manipulando.\n",
        "\n",
        "Em especial, precisamos ter uma lista de palavras especiais chamadas **stopwords**, que são palavras frequentes daquela língua e que podem ser removidas de um texto sem prejuízo para a identificação de elementos importantes.\n",
        "\n",
        "Tipicamente a lista de _stopwords_ inclui artigos, pronomes, conjunções e outros elementos estruturais das frases."
      ],
      "id": "c7be8156"
    },
    {
      "cell_type": "code",
      "metadata": {
        "id": "13308572"
      },
      "source": [
        "# criação do modelo TF-IDF para a língua inglesa\n",
        "tfidf = TfidfVectorizer(stop_words='english')"
      ],
      "id": "13308572",
      "execution_count": null,
      "outputs": []
    },
    {
      "cell_type": "code",
      "metadata": {
        "id": "22a90663"
      },
      "source": [
        "# troca valores ausentes em alguns resumos pela string vazia\n",
        "filmes['overview'] = filmes['overview'].fillna('')"
      ],
      "id": "22a90663",
      "execution_count": null,
      "outputs": []
    },
    {
      "cell_type": "markdown",
      "metadata": {
        "id": "202a1a6c"
      },
      "source": [
        "**Atenção:** O algoritmo TF-IDF cria muitos novos atributos para cada instância, então é preciso cautela com o tamanho do conjunto de dados a ser processado para efeitos de consumo de memória.\n",
        "\n",
        "Basicamente, para cada termo indexado haverá uma nova coluna, indicando a presença ou não do mesmo."
      ],
      "id": "202a1a6c"
    },
    {
      "cell_type": "code",
      "metadata": {
        "id": "fcfc247f"
      },
      "source": [
        "# dados originais\n",
        "filmes.shape"
      ],
      "id": "fcfc247f",
      "execution_count": null,
      "outputs": []
    },
    {
      "cell_type": "code",
      "metadata": {
        "id": "cc07be15"
      },
      "source": [
        "# criação da matriz TF-IDF com base no atributo 'overview'\n",
        "matriz_tfidf = tfidf.fit_transform(filmes['overview'])"
      ],
      "id": "cc07be15",
      "execution_count": null,
      "outputs": []
    },
    {
      "cell_type": "code",
      "metadata": {
        "id": "6bd13125"
      },
      "source": [
        "# novos termos indexados\n",
        "len(tfidf.get_feature_names())"
      ],
      "id": "6bd13125",
      "execution_count": null,
      "outputs": []
    },
    {
      "cell_type": "code",
      "metadata": {
        "id": "2c62e04f"
      },
      "source": [
        "# lista de alguns termos indexados\n",
        "tfidf.get_feature_names()[4000:4010]"
      ],
      "id": "2c62e04f",
      "execution_count": null,
      "outputs": []
    },
    {
      "cell_type": "code",
      "metadata": {
        "id": "1d60ccf7"
      },
      "source": [
        "# matriz TF-IDF\n",
        "matriz_tfidf.shape"
      ],
      "id": "1d60ccf7",
      "execution_count": null,
      "outputs": []
    },
    {
      "cell_type": "markdown",
      "metadata": {
        "id": "74563d07"
      },
      "source": [
        "## Critério de similaridade\n",
        "\n",
        "Sistemas de recomendação precisam definir um critério de **similaridade** entre itens para encontrar e sugerir os mais relevantes.\n",
        "\n",
        "Aqui vamos definir a similaridade entre dois filmes usando o **coeficiente do cosseno**, também chamada de similaridade por cosseno (_cosine similarity_). A ideia é medir o ângulo em um espaço de muitas dimensões, de forma que um ângulo menor indica mais similaridade e um ângulo maior, menos similaridade.\n",
        "\n",
        "Como estamos usando o vetorizador TF-IDF, que produz medidas normalizadas, é mais eficiente usar `linear_kernel()` para calcular cada medida entre pares de instâncias, ao invés da função mais genérica `cosine_similarities()` (que também está disponível mas seria mais lenta neste caso)."
      ],
      "id": "74563d07"
    },
    {
      "cell_type": "code",
      "metadata": {
        "id": "16bea216"
      },
      "source": [
        "# importação\n",
        "from sklearn.metrics.pairwise import linear_kernel"
      ],
      "id": "16bea216",
      "execution_count": null,
      "outputs": []
    },
    {
      "cell_type": "code",
      "metadata": {
        "id": "007a59c6"
      },
      "source": [
        "# calcular a matriz de similaridade por cosseno\n",
        "matriz_cosseno = linear_kernel(matriz_tfidf, matriz_tfidf)"
      ],
      "id": "007a59c6",
      "execution_count": null,
      "outputs": []
    },
    {
      "cell_type": "code",
      "metadata": {
        "id": "ad9d9f0a"
      },
      "source": [
        "matriz_cosseno.shape"
      ],
      "id": "ad9d9f0a",
      "execution_count": null,
      "outputs": []
    },
    {
      "cell_type": "code",
      "metadata": {
        "id": "1db344b4"
      },
      "source": [
        "matriz_cosseno[0]"
      ],
      "id": "1db344b4",
      "execution_count": null,
      "outputs": []
    },
    {
      "cell_type": "markdown",
      "metadata": {
        "id": "6929a74a"
      },
      "source": [
        "## Recomendação baseada em similaridade\n",
        "\n",
        "A ideia é, dado o nome de um filme, obter a indicação de títulos de filmes com grande similaridade (usando a `matriz_cosseno` criada anteriormente).\n",
        "\n",
        "Para isso, precisamos primeiro de um mapeamento reverso de títulos de filmes para índices do DataFrame `filmes`."
      ],
      "id": "6929a74a"
    },
    {
      "cell_type": "code",
      "metadata": {
        "id": "99972157"
      },
      "source": [
        "# mapeamento reverso\n",
        "índice = pd.Series(filmes.index, index=filmes['title'])"
      ],
      "id": "99972157",
      "execution_count": null,
      "outputs": []
    },
    {
      "cell_type": "code",
      "metadata": {
        "id": "3d4382a6"
      },
      "source": [
        "índice.shape"
      ],
      "id": "3d4382a6",
      "execution_count": null,
      "outputs": []
    },
    {
      "cell_type": "code",
      "metadata": {
        "id": "bc9e326f"
      },
      "source": [
        "índice.head(10)"
      ],
      "id": "bc9e326f",
      "execution_count": null,
      "outputs": []
    },
    {
      "cell_type": "markdown",
      "metadata": {
        "id": "cd4fceaf"
      },
      "source": [
        "Agora podemos definir a função de recomendação.\n",
        "\n",
        "Note que para ela funcionar, é preciso indicar o **título exato** de um filme que já esteja entre os itens disponíveis.\n",
        "\n",
        "Para um sistema mais complexo poderia ser necessária uma outra função"
      ],
      "id": "cd4fceaf"
    },
    {
      "cell_type": "code",
      "metadata": {
        "id": "085f9f8e"
      },
      "source": [
        "# função que recebe o título do filme e retorna os 10 filmes mais similares\n",
        "def recomendações(título, similaridade):\n",
        "    # obtenha o índice de um filme dado seu título (usando o mapeamento reverso)\n",
        "    if título not in índice:\n",
        "        raise Exception('Filme não encontrado')\n",
        "    idx = índice[título]\n",
        "\n",
        "    # obter a lista de pontuações de similaridade associadas a este filme (em relação a todos os outros)\n",
        "    sim_scores = list(enumerate(similaridade[idx]))\n",
        "\n",
        "    # ordenar a lista scores por similaridade decrescente\n",
        "    sim_scores = sorted(sim_scores, key=lambda x: x[1], reverse=True)\n",
        "\n",
        "    # obter os 10 mais similares (ignorando o primeiro, pois é o próprio filme consultado)\n",
        "    movie_indices = [i[0] for i in sim_scores[1:11]]\n",
        "\n",
        "    # retornar os títulos dos 10 mais similares\n",
        "    return filmes['title'].loc[movie_indices]"
      ],
      "id": "085f9f8e",
      "execution_count": null,
      "outputs": []
    },
    {
      "cell_type": "code",
      "metadata": {
        "id": "5ac50b98"
      },
      "source": [
        "recomendações('The Godfather', matriz_cosseno)"
      ],
      "id": "5ac50b98",
      "execution_count": null,
      "outputs": []
    },
    {
      "cell_type": "code",
      "metadata": {
        "id": "3f319ead"
      },
      "source": [
        "recomendações('The Dark Knight', matriz_cosseno)"
      ],
      "id": "3f319ead",
      "execution_count": null,
      "outputs": []
    },
    {
      "cell_type": "markdown",
      "metadata": {
        "id": "dd1bec19"
      },
      "source": [
        "## Busca aproximada por título\n",
        "\n",
        "Muitas vezes a entrada de dados vem do usuário ou de uma outra base, o que pode ter inconsistências na escrita. Isso vale também para os títulos dos filmes.\n",
        "\n",
        "Então aqui podemos fazer uma **busca aproximada** por título, de forma a encontrar um título válido da base mesmo que a entrada não tenha sido exata.\n",
        "\n",
        "O processo na prática é o mesmo de definir medidas de similaridade entre itens, e então selecionar o mais semelhante. Como isso se aplica a _strings_, felizmente já podemos utilizar funções prontas de bibliotecas que fazem todo o processo de forma bem direta e eficiente.\n",
        "\n",
        "O trecho de código abaixo usa uma biblioteca chamada `fuzzywuzzy`. Como ela não vem instalada por padrão no Colaboratory, é preciso primeiro solicitar a instalação, tal como na linha abaixo:"
      ],
      "id": "dd1bec19"
    },
    {
      "cell_type": "code",
      "metadata": {
        "id": "fee4197d"
      },
      "source": [
        "! pip install fuzzywuzzy[speedup]"
      ],
      "id": "fee4197d",
      "execution_count": null,
      "outputs": []
    },
    {
      "cell_type": "markdown",
      "metadata": {
        "id": "7e558d83"
      },
      "source": [
        "O comando acima também funciona no ambiente Anaconda. Mas uma forma alternativa de instalação usa a seguinte linha de comando:\n",
        "\n",
        "    conda install -c conda-forge fuzzywuzzy"
      ],
      "id": "7e558d83"
    },
    {
      "cell_type": "code",
      "metadata": {
        "id": "28ecd0cf"
      },
      "source": [
        "# importação\n",
        "from fuzzywuzzy import fuzz, process"
      ],
      "id": "28ecd0cf",
      "execution_count": null,
      "outputs": []
    },
    {
      "cell_type": "code",
      "metadata": {
        "id": "43f50218"
      },
      "source": [
        "# exemplo de medida de similaridade\n",
        "fuzz.ratio('Isso é um teste!', 'Isso é  um teste')"
      ],
      "id": "43f50218",
      "execution_count": null,
      "outputs": []
    },
    {
      "cell_type": "code",
      "metadata": {
        "id": "9b6e2002"
      },
      "source": [
        "# lista de títulos para a busca aproximada\n",
        "títulos = filmes.title"
      ],
      "id": "9b6e2002",
      "execution_count": null,
      "outputs": []
    },
    {
      "cell_type": "code",
      "metadata": {
        "id": "e3a66459"
      },
      "source": [
        "# indicação de títulos encontrados\n",
        "process.extract('alien', títulos, limit=10)"
      ],
      "id": "e3a66459",
      "execution_count": null,
      "outputs": []
    },
    {
      "cell_type": "markdown",
      "metadata": {
        "id": "16d1bd26"
      },
      "source": [
        "## Refinamento do sistema de recomendação\n",
        "\n",
        "O critério de similaridade definido anteriormente levava em conta apenas as palavras mais significativas usadas no resumo de cada filme, mas não usava outros metadados.\n",
        "\n",
        "Assim, alguns filmes em série como a saga \"O Poderoso Chefão\" (The Godfather) foram recomendados, ao passo que nenhum outro filme do Batman apareceu entre as recomendações.\n",
        "\n",
        "O resumo do enredo pode ajudar, mas existem outros metadados disponíveis muito mais importantes, e que iremos usar agora. Em especial o próprio título do filme, o diretor, os três atores principais, uma lista de gêneros relacionados e ainda as palavras-chave do enredo do filme (todos esses dados já estão prontos para o uso como atributos de cada instância)."
      ],
      "id": "16d1bd26"
    },
    {
      "cell_type": "code",
      "metadata": {
        "id": "de1bda76"
      },
      "source": [
        "# título\n",
        "filmes.title[0]"
      ],
      "id": "de1bda76",
      "execution_count": null,
      "outputs": []
    },
    {
      "cell_type": "code",
      "metadata": {
        "id": "7f44d140"
      },
      "source": [
        "# diretor\n",
        "filmes.director[0]"
      ],
      "id": "7f44d140",
      "execution_count": null,
      "outputs": []
    },
    {
      "cell_type": "markdown",
      "metadata": {
        "id": "76e9d081"
      },
      "source": [
        "É necessária apenas a conversão de formato textual em listas para três atributos: elenco (_cast_), gêneros (_genre_) e palavras-chave (_keywords_)."
      ],
      "id": "76e9d081"
    },
    {
      "cell_type": "code",
      "metadata": {
        "id": "7e803632"
      },
      "source": [
        "# três atores principais\n",
        "filmes.cast[0]"
      ],
      "id": "7e803632",
      "execution_count": null,
      "outputs": []
    },
    {
      "cell_type": "code",
      "metadata": {
        "id": "56d712ba"
      },
      "source": [
        "# gêneros do filme\n",
        "filmes.genres[0]"
      ],
      "id": "56d712ba",
      "execution_count": null,
      "outputs": []
    },
    {
      "cell_type": "code",
      "metadata": {
        "id": "5df300f1"
      },
      "source": [
        "# palavras-chave\n",
        "filmes.keywords[0]"
      ],
      "id": "5df300f1",
      "execution_count": null,
      "outputs": []
    },
    {
      "cell_type": "code",
      "metadata": {
        "id": "35d3acb2"
      },
      "source": [
        "# função para converter representação em texto para lista\n",
        "def string_para_lista(x):\n",
        "    if isinstance(x, str) and x[0] == '[' and x[-1] == ']':\n",
        "        return eval(x)\n",
        "    else:\n",
        "        return x"
      ],
      "id": "35d3acb2",
      "execution_count": null,
      "outputs": []
    },
    {
      "cell_type": "code",
      "metadata": {
        "id": "779a80a5"
      },
      "source": [
        "# aplica conversão para lista em três atributos\n",
        "features = ['cast', 'genres', 'keywords']\n",
        "for feature in features:\n",
        "    filmes[feature] = filmes[feature].apply(string_para_lista)"
      ],
      "id": "779a80a5",
      "execution_count": null,
      "outputs": []
    },
    {
      "cell_type": "code",
      "metadata": {
        "id": "ee023195"
      },
      "source": [
        "filmes.cast[0]"
      ],
      "id": "ee023195",
      "execution_count": null,
      "outputs": []
    },
    {
      "cell_type": "code",
      "metadata": {
        "id": "8155a4be"
      },
      "source": [
        "filmes.genres[0]"
      ],
      "id": "8155a4be",
      "execution_count": null,
      "outputs": []
    },
    {
      "cell_type": "code",
      "metadata": {
        "id": "d056d40e"
      },
      "source": [
        "filmes.keywords[0]"
      ],
      "id": "d056d40e",
      "execution_count": null,
      "outputs": []
    },
    {
      "cell_type": "code",
      "metadata": {
        "id": "42672232"
      },
      "source": [
        "# estes serão os metadados a serem usados agora\n",
        "filmes[['title', 'director', 'cast', 'genres', 'keywords']].head(5)"
      ],
      "id": "42672232",
      "execution_count": null,
      "outputs": []
    },
    {
      "cell_type": "markdown",
      "metadata": {
        "id": "a25332fe"
      },
      "source": [
        "Como estes são campos textuais, podemos simplificar eles, convertendo para minúsculas e removendo os espaços."
      ],
      "id": "a25332fe"
    },
    {
      "cell_type": "code",
      "metadata": {
        "id": "d2b4af00"
      },
      "source": [
        "# conversão de textos para minúsculas e remoção de espaços\n",
        "def limpeza(x):\n",
        "    if isinstance(x, list):\n",
        "        return [str.lower(i.replace(' ', '')) for i in x]\n",
        "    elif isinstance(x, str):\n",
        "        return str.lower(x.replace(' ', ''))\n",
        "    else:\n",
        "        return ''"
      ],
      "id": "d2b4af00",
      "execution_count": null,
      "outputs": []
    },
    {
      "cell_type": "code",
      "metadata": {
        "id": "11d0362e"
      },
      "source": [
        "# limpeza dos atributos indicados\n",
        "features = ['director', 'cast', 'genres', 'keywords']\n",
        "for feature in features:\n",
        "    filmes[feature] = filmes[feature].apply(limpeza)"
      ],
      "id": "11d0362e",
      "execution_count": null,
      "outputs": []
    },
    {
      "cell_type": "code",
      "metadata": {
        "id": "e56ea5e5"
      },
      "source": [
        "# função para criar 'soup' de palavras\n",
        "def criar_soup(x):\n",
        "    return x['title'].lower() + ' ' + x['director'] + ' ' + ' '.join(x['cast']) + ' ' + \\\n",
        "           ' '.join(x['genres']) + ' ' + ' '.join(x['keywords'])"
      ],
      "id": "e56ea5e5",
      "execution_count": null,
      "outputs": []
    },
    {
      "cell_type": "code",
      "metadata": {
        "id": "e764bd15"
      },
      "source": [
        "# novo atributo\n",
        "filmes['soup'] = filmes.apply(criar_soup, axis=1)"
      ],
      "id": "e764bd15",
      "execution_count": null,
      "outputs": []
    },
    {
      "cell_type": "code",
      "metadata": {
        "id": "6e21e0c2"
      },
      "source": [
        "filmes['soup'][0]"
      ],
      "id": "6e21e0c2",
      "execution_count": null,
      "outputs": []
    },
    {
      "cell_type": "markdown",
      "metadata": {
        "id": "4ed853c4"
      },
      "source": [
        "Aqui vamos usar o algoritmo `CountVectorizer`, que é um tipo mais simples de vetorizador. Aqui todas as palavras serão contadas e mantidas em uma nova matriz."
      ],
      "id": "4ed853c4"
    },
    {
      "cell_type": "code",
      "metadata": {
        "id": "d348eb53"
      },
      "source": [
        "# importação\n",
        "from sklearn.feature_extraction.text import CountVectorizer\n",
        "\n",
        "# criação do vetorizador\n",
        "contagem = CountVectorizer()\n",
        "\n",
        "# matriz de contagem baseada no atributo 'soup'\n",
        "matriz_contagem = contagem.fit_transform(filmes['soup'])"
      ],
      "id": "d348eb53",
      "execution_count": null,
      "outputs": []
    },
    {
      "cell_type": "code",
      "metadata": {
        "id": "99e297a5"
      },
      "source": [
        "matriz_contagem.shape"
      ],
      "id": "99e297a5",
      "execution_count": null,
      "outputs": []
    },
    {
      "cell_type": "code",
      "metadata": {
        "id": "ad6de84e"
      },
      "source": [
        "# importação\n",
        "from sklearn.metrics.pairwise import cosine_similarity\n",
        "\n",
        "# matriz de similaridade\n",
        "matriz_cosseno2 = cosine_similarity(matriz_contagem, matriz_contagem)"
      ],
      "id": "ad6de84e",
      "execution_count": null,
      "outputs": []
    },
    {
      "cell_type": "code",
      "metadata": {
        "id": "714a9d47"
      },
      "source": [
        "matriz_cosseno2.shape"
      ],
      "id": "714a9d47",
      "execution_count": null,
      "outputs": []
    },
    {
      "cell_type": "markdown",
      "metadata": {
        "id": "b6126c82"
      },
      "source": [
        "Agora basta chamar a mesma função de antes, passando a nova matriz de similaridade"
      ],
      "id": "b6126c82"
    },
    {
      "cell_type": "code",
      "metadata": {
        "id": "8b8e011a"
      },
      "source": [
        "recomendações('The Godfather', matriz_cosseno2)"
      ],
      "id": "8b8e011a",
      "execution_count": null,
      "outputs": []
    },
    {
      "cell_type": "code",
      "metadata": {
        "id": "d56bfeb8"
      },
      "source": [
        "recomendações('The Dark Knight', matriz_cosseno2)"
      ],
      "id": "d56bfeb8",
      "execution_count": null,
      "outputs": []
    },
    {
      "cell_type": "code",
      "metadata": {
        "id": "7ef90e49"
      },
      "source": [
        "recomendações('Alien', matriz_cosseno2)"
      ],
      "id": "7ef90e49",
      "execution_count": null,
      "outputs": []
    }
  ]
}