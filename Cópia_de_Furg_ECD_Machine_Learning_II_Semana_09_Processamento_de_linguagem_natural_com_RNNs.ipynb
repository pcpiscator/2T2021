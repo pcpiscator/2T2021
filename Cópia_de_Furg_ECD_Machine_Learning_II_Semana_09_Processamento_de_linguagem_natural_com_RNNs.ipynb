{
  "nbformat": 4,
  "nbformat_minor": 0,
  "metadata": {
    "colab": {
      "name": "Cópia de Furg - ECD - Machine Learning II - Semana 09 - Processamento de linguagem natural com RNNs",
      "provenance": [],
      "collapsed_sections": [],
      "include_colab_link": true
    },
    "kernelspec": {
      "display_name": "Python 3 (ipykernel)",
      "language": "python",
      "name": "python3"
    },
    "language_info": {
      "codemirror_mode": {
        "name": "ipython",
        "version": 3
      },
      "file_extension": ".py",
      "mimetype": "text/x-python",
      "name": "python",
      "nbconvert_exporter": "python",
      "pygments_lexer": "ipython3",
      "version": "3.9.7"
    },
    "nav_menu": {},
    "toc": {
      "navigate_menu": true,
      "number_sections": true,
      "sideBar": true,
      "threshold": 6,
      "toc_cell": false,
      "toc_section_display": "block",
      "toc_window_display": false
    },
    "widgets": {
      "application/vnd.jupyter.widget-state+json": {
        "7120debc4c124fb68410bf5d0004043e": {
          "model_module": "@jupyter-widgets/controls",
          "model_name": "HBoxModel",
          "model_module_version": "1.5.0",
          "state": {
            "_view_name": "HBoxView",
            "_dom_classes": [],
            "_model_name": "HBoxModel",
            "_view_module": "@jupyter-widgets/controls",
            "_model_module_version": "1.5.0",
            "_view_count": null,
            "_view_module_version": "1.5.0",
            "box_style": "",
            "layout": "IPY_MODEL_3df13e268620431fae3e24280f79c2e2",
            "_model_module": "@jupyter-widgets/controls",
            "children": [
              "IPY_MODEL_4c0eab4df4884a52b657f69e9331622a",
              "IPY_MODEL_6f1ab8594099436684444c20dd8dd834",
              "IPY_MODEL_a88af0c26a634398a5184c4db73c7285"
            ]
          }
        },
        "3df13e268620431fae3e24280f79c2e2": {
          "model_module": "@jupyter-widgets/base",
          "model_name": "LayoutModel",
          "model_module_version": "1.2.0",
          "state": {
            "_view_name": "LayoutView",
            "grid_template_rows": null,
            "right": null,
            "justify_content": null,
            "_view_module": "@jupyter-widgets/base",
            "overflow": null,
            "_model_module_version": "1.2.0",
            "_view_count": null,
            "flex_flow": null,
            "width": null,
            "min_width": null,
            "border": null,
            "align_items": null,
            "bottom": null,
            "_model_module": "@jupyter-widgets/base",
            "top": null,
            "grid_column": null,
            "overflow_y": null,
            "overflow_x": null,
            "grid_auto_flow": null,
            "grid_area": null,
            "grid_template_columns": null,
            "flex": null,
            "_model_name": "LayoutModel",
            "justify_items": null,
            "grid_row": null,
            "max_height": null,
            "align_content": null,
            "visibility": null,
            "align_self": null,
            "height": null,
            "min_height": null,
            "padding": null,
            "grid_auto_rows": null,
            "grid_gap": null,
            "max_width": null,
            "order": null,
            "_view_module_version": "1.2.0",
            "grid_template_areas": null,
            "object_position": null,
            "object_fit": null,
            "grid_auto_columns": null,
            "margin": null,
            "display": null,
            "left": null
          }
        },
        "4c0eab4df4884a52b657f69e9331622a": {
          "model_module": "@jupyter-widgets/controls",
          "model_name": "HTMLModel",
          "model_module_version": "1.5.0",
          "state": {
            "_view_name": "HTMLView",
            "style": "IPY_MODEL_8dabdbc2606c435d8b339078ea26ce93",
            "_dom_classes": [],
            "description": "",
            "_model_name": "HTMLModel",
            "placeholder": "​",
            "_view_module": "@jupyter-widgets/controls",
            "_model_module_version": "1.5.0",
            "value": "Downloading: 100%",
            "_view_count": null,
            "_view_module_version": "1.5.0",
            "description_tooltip": null,
            "_model_module": "@jupyter-widgets/controls",
            "layout": "IPY_MODEL_4b726c1c5738463c9adac43365960907"
          }
        },
        "6f1ab8594099436684444c20dd8dd834": {
          "model_module": "@jupyter-widgets/controls",
          "model_name": "FloatProgressModel",
          "model_module_version": "1.5.0",
          "state": {
            "_view_name": "ProgressView",
            "style": "IPY_MODEL_a60a7c9df84b4ab7873717d4cd4998ce",
            "_dom_classes": [],
            "description": "",
            "_model_name": "FloatProgressModel",
            "bar_style": "success",
            "max": 647,
            "_view_module": "@jupyter-widgets/controls",
            "_model_module_version": "1.5.0",
            "value": 647,
            "_view_count": null,
            "_view_module_version": "1.5.0",
            "orientation": "horizontal",
            "min": 0,
            "description_tooltip": null,
            "_model_module": "@jupyter-widgets/controls",
            "layout": "IPY_MODEL_733d82a969614293a67f938ba32f2d27"
          }
        },
        "a88af0c26a634398a5184c4db73c7285": {
          "model_module": "@jupyter-widgets/controls",
          "model_name": "HTMLModel",
          "model_module_version": "1.5.0",
          "state": {
            "_view_name": "HTMLView",
            "style": "IPY_MODEL_e4238eaff9ad4b399e3107a38501d925",
            "_dom_classes": [],
            "description": "",
            "_model_name": "HTMLModel",
            "placeholder": "​",
            "_view_module": "@jupyter-widgets/controls",
            "_model_module_version": "1.5.0",
            "value": " 647/647 [00:00&lt;00:00, 15.1kB/s]",
            "_view_count": null,
            "_view_module_version": "1.5.0",
            "description_tooltip": null,
            "_model_module": "@jupyter-widgets/controls",
            "layout": "IPY_MODEL_6dc9ae85ca394c8bbb0ffb6bd1c93b13"
          }
        },
        "8dabdbc2606c435d8b339078ea26ce93": {
          "model_module": "@jupyter-widgets/controls",
          "model_name": "DescriptionStyleModel",
          "model_module_version": "1.5.0",
          "state": {
            "_view_name": "StyleView",
            "_model_name": "DescriptionStyleModel",
            "description_width": "",
            "_view_module": "@jupyter-widgets/base",
            "_model_module_version": "1.5.0",
            "_view_count": null,
            "_view_module_version": "1.2.0",
            "_model_module": "@jupyter-widgets/controls"
          }
        },
        "4b726c1c5738463c9adac43365960907": {
          "model_module": "@jupyter-widgets/base",
          "model_name": "LayoutModel",
          "model_module_version": "1.2.0",
          "state": {
            "_view_name": "LayoutView",
            "grid_template_rows": null,
            "right": null,
            "justify_content": null,
            "_view_module": "@jupyter-widgets/base",
            "overflow": null,
            "_model_module_version": "1.2.0",
            "_view_count": null,
            "flex_flow": null,
            "width": null,
            "min_width": null,
            "border": null,
            "align_items": null,
            "bottom": null,
            "_model_module": "@jupyter-widgets/base",
            "top": null,
            "grid_column": null,
            "overflow_y": null,
            "overflow_x": null,
            "grid_auto_flow": null,
            "grid_area": null,
            "grid_template_columns": null,
            "flex": null,
            "_model_name": "LayoutModel",
            "justify_items": null,
            "grid_row": null,
            "max_height": null,
            "align_content": null,
            "visibility": null,
            "align_self": null,
            "height": null,
            "min_height": null,
            "padding": null,
            "grid_auto_rows": null,
            "grid_gap": null,
            "max_width": null,
            "order": null,
            "_view_module_version": "1.2.0",
            "grid_template_areas": null,
            "object_position": null,
            "object_fit": null,
            "grid_auto_columns": null,
            "margin": null,
            "display": null,
            "left": null
          }
        },
        "a60a7c9df84b4ab7873717d4cd4998ce": {
          "model_module": "@jupyter-widgets/controls",
          "model_name": "ProgressStyleModel",
          "model_module_version": "1.5.0",
          "state": {
            "_view_name": "StyleView",
            "_model_name": "ProgressStyleModel",
            "description_width": "",
            "_view_module": "@jupyter-widgets/base",
            "_model_module_version": "1.5.0",
            "_view_count": null,
            "_view_module_version": "1.2.0",
            "bar_color": null,
            "_model_module": "@jupyter-widgets/controls"
          }
        },
        "733d82a969614293a67f938ba32f2d27": {
          "model_module": "@jupyter-widgets/base",
          "model_name": "LayoutModel",
          "model_module_version": "1.2.0",
          "state": {
            "_view_name": "LayoutView",
            "grid_template_rows": null,
            "right": null,
            "justify_content": null,
            "_view_module": "@jupyter-widgets/base",
            "overflow": null,
            "_model_module_version": "1.2.0",
            "_view_count": null,
            "flex_flow": null,
            "width": null,
            "min_width": null,
            "border": null,
            "align_items": null,
            "bottom": null,
            "_model_module": "@jupyter-widgets/base",
            "top": null,
            "grid_column": null,
            "overflow_y": null,
            "overflow_x": null,
            "grid_auto_flow": null,
            "grid_area": null,
            "grid_template_columns": null,
            "flex": null,
            "_model_name": "LayoutModel",
            "justify_items": null,
            "grid_row": null,
            "max_height": null,
            "align_content": null,
            "visibility": null,
            "align_self": null,
            "height": null,
            "min_height": null,
            "padding": null,
            "grid_auto_rows": null,
            "grid_gap": null,
            "max_width": null,
            "order": null,
            "_view_module_version": "1.2.0",
            "grid_template_areas": null,
            "object_position": null,
            "object_fit": null,
            "grid_auto_columns": null,
            "margin": null,
            "display": null,
            "left": null
          }
        },
        "e4238eaff9ad4b399e3107a38501d925": {
          "model_module": "@jupyter-widgets/controls",
          "model_name": "DescriptionStyleModel",
          "model_module_version": "1.5.0",
          "state": {
            "_view_name": "StyleView",
            "_model_name": "DescriptionStyleModel",
            "description_width": "",
            "_view_module": "@jupyter-widgets/base",
            "_model_module_version": "1.5.0",
            "_view_count": null,
            "_view_module_version": "1.2.0",
            "_model_module": "@jupyter-widgets/controls"
          }
        },
        "6dc9ae85ca394c8bbb0ffb6bd1c93b13": {
          "model_module": "@jupyter-widgets/base",
          "model_name": "LayoutModel",
          "model_module_version": "1.2.0",
          "state": {
            "_view_name": "LayoutView",
            "grid_template_rows": null,
            "right": null,
            "justify_content": null,
            "_view_module": "@jupyter-widgets/base",
            "overflow": null,
            "_model_module_version": "1.2.0",
            "_view_count": null,
            "flex_flow": null,
            "width": null,
            "min_width": null,
            "border": null,
            "align_items": null,
            "bottom": null,
            "_model_module": "@jupyter-widgets/base",
            "top": null,
            "grid_column": null,
            "overflow_y": null,
            "overflow_x": null,
            "grid_auto_flow": null,
            "grid_area": null,
            "grid_template_columns": null,
            "flex": null,
            "_model_name": "LayoutModel",
            "justify_items": null,
            "grid_row": null,
            "max_height": null,
            "align_content": null,
            "visibility": null,
            "align_self": null,
            "height": null,
            "min_height": null,
            "padding": null,
            "grid_auto_rows": null,
            "grid_gap": null,
            "max_width": null,
            "order": null,
            "_view_module_version": "1.2.0",
            "grid_template_areas": null,
            "object_position": null,
            "object_fit": null,
            "grid_auto_columns": null,
            "margin": null,
            "display": null,
            "left": null
          }
        },
        "4304acd965164a25b83825cf248111c9": {
          "model_module": "@jupyter-widgets/controls",
          "model_name": "HBoxModel",
          "model_module_version": "1.5.0",
          "state": {
            "_view_name": "HBoxView",
            "_dom_classes": [],
            "_model_name": "HBoxModel",
            "_view_module": "@jupyter-widgets/controls",
            "_model_module_version": "1.5.0",
            "_view_count": null,
            "_view_module_version": "1.5.0",
            "box_style": "",
            "layout": "IPY_MODEL_414e63f967594366b578d03ab9ce5953",
            "_model_module": "@jupyter-widgets/controls",
            "children": [
              "IPY_MODEL_6a63d32bebb4431f9cf9dd8bd3cb0e74",
              "IPY_MODEL_8123f1d7f7644ca9a499e5c56d4e79cf",
              "IPY_MODEL_b9d43cb489d440929c59aaab30570dfb"
            ]
          }
        },
        "414e63f967594366b578d03ab9ce5953": {
          "model_module": "@jupyter-widgets/base",
          "model_name": "LayoutModel",
          "model_module_version": "1.2.0",
          "state": {
            "_view_name": "LayoutView",
            "grid_template_rows": null,
            "right": null,
            "justify_content": null,
            "_view_module": "@jupyter-widgets/base",
            "overflow": null,
            "_model_module_version": "1.2.0",
            "_view_count": null,
            "flex_flow": null,
            "width": null,
            "min_width": null,
            "border": null,
            "align_items": null,
            "bottom": null,
            "_model_module": "@jupyter-widgets/base",
            "top": null,
            "grid_column": null,
            "overflow_y": null,
            "overflow_x": null,
            "grid_auto_flow": null,
            "grid_area": null,
            "grid_template_columns": null,
            "flex": null,
            "_model_name": "LayoutModel",
            "justify_items": null,
            "grid_row": null,
            "max_height": null,
            "align_content": null,
            "visibility": null,
            "align_self": null,
            "height": null,
            "min_height": null,
            "padding": null,
            "grid_auto_rows": null,
            "grid_gap": null,
            "max_width": null,
            "order": null,
            "_view_module_version": "1.2.0",
            "grid_template_areas": null,
            "object_position": null,
            "object_fit": null,
            "grid_auto_columns": null,
            "margin": null,
            "display": null,
            "left": null
          }
        },
        "6a63d32bebb4431f9cf9dd8bd3cb0e74": {
          "model_module": "@jupyter-widgets/controls",
          "model_name": "HTMLModel",
          "model_module_version": "1.5.0",
          "state": {
            "_view_name": "HTMLView",
            "style": "IPY_MODEL_43fde4d63dd74aa6add22bddda5b6513",
            "_dom_classes": [],
            "description": "",
            "_model_name": "HTMLModel",
            "placeholder": "​",
            "_view_module": "@jupyter-widgets/controls",
            "_model_module_version": "1.5.0",
            "value": "Downloading: 100%",
            "_view_count": null,
            "_view_module_version": "1.5.0",
            "description_tooltip": null,
            "_model_module": "@jupyter-widgets/controls",
            "layout": "IPY_MODEL_6f5003fcd71046e28a4ba2b5f4ad5347"
          }
        },
        "8123f1d7f7644ca9a499e5c56d4e79cf": {
          "model_module": "@jupyter-widgets/controls",
          "model_name": "FloatProgressModel",
          "model_module_version": "1.5.0",
          "state": {
            "_view_name": "ProgressView",
            "style": "IPY_MODEL_3970b7bc855e4e2884e948ee9ed88c74",
            "_dom_classes": [],
            "description": "",
            "_model_name": "FloatProgressModel",
            "bar_style": "success",
            "max": 438235074,
            "_view_module": "@jupyter-widgets/controls",
            "_model_module_version": "1.5.0",
            "value": 438235074,
            "_view_count": null,
            "_view_module_version": "1.5.0",
            "orientation": "horizontal",
            "min": 0,
            "description_tooltip": null,
            "_model_module": "@jupyter-widgets/controls",
            "layout": "IPY_MODEL_0d8f8f6543fb4c9a9ed16a65dfa598a5"
          }
        },
        "b9d43cb489d440929c59aaab30570dfb": {
          "model_module": "@jupyter-widgets/controls",
          "model_name": "HTMLModel",
          "model_module_version": "1.5.0",
          "state": {
            "_view_name": "HTMLView",
            "style": "IPY_MODEL_4c7e9f4665f14050ac423b0473b62164",
            "_dom_classes": [],
            "description": "",
            "_model_name": "HTMLModel",
            "placeholder": "​",
            "_view_module": "@jupyter-widgets/controls",
            "_model_module_version": "1.5.0",
            "value": " 418M/418M [00:11&lt;00:00, 32.0MB/s]",
            "_view_count": null,
            "_view_module_version": "1.5.0",
            "description_tooltip": null,
            "_model_module": "@jupyter-widgets/controls",
            "layout": "IPY_MODEL_a64af2aacfc8430c9e7090b28e71598e"
          }
        },
        "43fde4d63dd74aa6add22bddda5b6513": {
          "model_module": "@jupyter-widgets/controls",
          "model_name": "DescriptionStyleModel",
          "model_module_version": "1.5.0",
          "state": {
            "_view_name": "StyleView",
            "_model_name": "DescriptionStyleModel",
            "description_width": "",
            "_view_module": "@jupyter-widgets/base",
            "_model_module_version": "1.5.0",
            "_view_count": null,
            "_view_module_version": "1.2.0",
            "_model_module": "@jupyter-widgets/controls"
          }
        },
        "6f5003fcd71046e28a4ba2b5f4ad5347": {
          "model_module": "@jupyter-widgets/base",
          "model_name": "LayoutModel",
          "model_module_version": "1.2.0",
          "state": {
            "_view_name": "LayoutView",
            "grid_template_rows": null,
            "right": null,
            "justify_content": null,
            "_view_module": "@jupyter-widgets/base",
            "overflow": null,
            "_model_module_version": "1.2.0",
            "_view_count": null,
            "flex_flow": null,
            "width": null,
            "min_width": null,
            "border": null,
            "align_items": null,
            "bottom": null,
            "_model_module": "@jupyter-widgets/base",
            "top": null,
            "grid_column": null,
            "overflow_y": null,
            "overflow_x": null,
            "grid_auto_flow": null,
            "grid_area": null,
            "grid_template_columns": null,
            "flex": null,
            "_model_name": "LayoutModel",
            "justify_items": null,
            "grid_row": null,
            "max_height": null,
            "align_content": null,
            "visibility": null,
            "align_self": null,
            "height": null,
            "min_height": null,
            "padding": null,
            "grid_auto_rows": null,
            "grid_gap": null,
            "max_width": null,
            "order": null,
            "_view_module_version": "1.2.0",
            "grid_template_areas": null,
            "object_position": null,
            "object_fit": null,
            "grid_auto_columns": null,
            "margin": null,
            "display": null,
            "left": null
          }
        },
        "3970b7bc855e4e2884e948ee9ed88c74": {
          "model_module": "@jupyter-widgets/controls",
          "model_name": "ProgressStyleModel",
          "model_module_version": "1.5.0",
          "state": {
            "_view_name": "StyleView",
            "_model_name": "ProgressStyleModel",
            "description_width": "",
            "_view_module": "@jupyter-widgets/base",
            "_model_module_version": "1.5.0",
            "_view_count": null,
            "_view_module_version": "1.2.0",
            "bar_color": null,
            "_model_module": "@jupyter-widgets/controls"
          }
        },
        "0d8f8f6543fb4c9a9ed16a65dfa598a5": {
          "model_module": "@jupyter-widgets/base",
          "model_name": "LayoutModel",
          "model_module_version": "1.2.0",
          "state": {
            "_view_name": "LayoutView",
            "grid_template_rows": null,
            "right": null,
            "justify_content": null,
            "_view_module": "@jupyter-widgets/base",
            "overflow": null,
            "_model_module_version": "1.2.0",
            "_view_count": null,
            "flex_flow": null,
            "width": null,
            "min_width": null,
            "border": null,
            "align_items": null,
            "bottom": null,
            "_model_module": "@jupyter-widgets/base",
            "top": null,
            "grid_column": null,
            "overflow_y": null,
            "overflow_x": null,
            "grid_auto_flow": null,
            "grid_area": null,
            "grid_template_columns": null,
            "flex": null,
            "_model_name": "LayoutModel",
            "justify_items": null,
            "grid_row": null,
            "max_height": null,
            "align_content": null,
            "visibility": null,
            "align_self": null,
            "height": null,
            "min_height": null,
            "padding": null,
            "grid_auto_rows": null,
            "grid_gap": null,
            "max_width": null,
            "order": null,
            "_view_module_version": "1.2.0",
            "grid_template_areas": null,
            "object_position": null,
            "object_fit": null,
            "grid_auto_columns": null,
            "margin": null,
            "display": null,
            "left": null
          }
        },
        "4c7e9f4665f14050ac423b0473b62164": {
          "model_module": "@jupyter-widgets/controls",
          "model_name": "DescriptionStyleModel",
          "model_module_version": "1.5.0",
          "state": {
            "_view_name": "StyleView",
            "_model_name": "DescriptionStyleModel",
            "description_width": "",
            "_view_module": "@jupyter-widgets/base",
            "_model_module_version": "1.5.0",
            "_view_count": null,
            "_view_module_version": "1.2.0",
            "_model_module": "@jupyter-widgets/controls"
          }
        },
        "a64af2aacfc8430c9e7090b28e71598e": {
          "model_module": "@jupyter-widgets/base",
          "model_name": "LayoutModel",
          "model_module_version": "1.2.0",
          "state": {
            "_view_name": "LayoutView",
            "grid_template_rows": null,
            "right": null,
            "justify_content": null,
            "_view_module": "@jupyter-widgets/base",
            "overflow": null,
            "_model_module_version": "1.2.0",
            "_view_count": null,
            "flex_flow": null,
            "width": null,
            "min_width": null,
            "border": null,
            "align_items": null,
            "bottom": null,
            "_model_module": "@jupyter-widgets/base",
            "top": null,
            "grid_column": null,
            "overflow_y": null,
            "overflow_x": null,
            "grid_auto_flow": null,
            "grid_area": null,
            "grid_template_columns": null,
            "flex": null,
            "_model_name": "LayoutModel",
            "justify_items": null,
            "grid_row": null,
            "max_height": null,
            "align_content": null,
            "visibility": null,
            "align_self": null,
            "height": null,
            "min_height": null,
            "padding": null,
            "grid_auto_rows": null,
            "grid_gap": null,
            "max_width": null,
            "order": null,
            "_view_module_version": "1.2.0",
            "grid_template_areas": null,
            "object_position": null,
            "object_fit": null,
            "grid_auto_columns": null,
            "margin": null,
            "display": null,
            "left": null
          }
        },
        "7fa9fbd768a048df80c45589bc4e57b0": {
          "model_module": "@jupyter-widgets/controls",
          "model_name": "HBoxModel",
          "model_module_version": "1.5.0",
          "state": {
            "_view_name": "HBoxView",
            "_dom_classes": [],
            "_model_name": "HBoxModel",
            "_view_module": "@jupyter-widgets/controls",
            "_model_module_version": "1.5.0",
            "_view_count": null,
            "_view_module_version": "1.5.0",
            "box_style": "",
            "layout": "IPY_MODEL_19fb4cf4476b4bae9f383fad35f656ee",
            "_model_module": "@jupyter-widgets/controls",
            "children": [
              "IPY_MODEL_fa61af48eb5e4a52ac16158d3328111d",
              "IPY_MODEL_079f2a290f744ee7b26838707bb95775",
              "IPY_MODEL_90b2671a2b544e279de2415220ceb21b"
            ]
          }
        },
        "19fb4cf4476b4bae9f383fad35f656ee": {
          "model_module": "@jupyter-widgets/base",
          "model_name": "LayoutModel",
          "model_module_version": "1.2.0",
          "state": {
            "_view_name": "LayoutView",
            "grid_template_rows": null,
            "right": null,
            "justify_content": null,
            "_view_module": "@jupyter-widgets/base",
            "overflow": null,
            "_model_module_version": "1.2.0",
            "_view_count": null,
            "flex_flow": null,
            "width": null,
            "min_width": null,
            "border": null,
            "align_items": null,
            "bottom": null,
            "_model_module": "@jupyter-widgets/base",
            "top": null,
            "grid_column": null,
            "overflow_y": null,
            "overflow_x": null,
            "grid_auto_flow": null,
            "grid_area": null,
            "grid_template_columns": null,
            "flex": null,
            "_model_name": "LayoutModel",
            "justify_items": null,
            "grid_row": null,
            "max_height": null,
            "align_content": null,
            "visibility": null,
            "align_self": null,
            "height": null,
            "min_height": null,
            "padding": null,
            "grid_auto_rows": null,
            "grid_gap": null,
            "max_width": null,
            "order": null,
            "_view_module_version": "1.2.0",
            "grid_template_areas": null,
            "object_position": null,
            "object_fit": null,
            "grid_auto_columns": null,
            "margin": null,
            "display": null,
            "left": null
          }
        },
        "fa61af48eb5e4a52ac16158d3328111d": {
          "model_module": "@jupyter-widgets/controls",
          "model_name": "HTMLModel",
          "model_module_version": "1.5.0",
          "state": {
            "_view_name": "HTMLView",
            "style": "IPY_MODEL_20ac41d31d2140ea9cd4130149ed196b",
            "_dom_classes": [],
            "description": "",
            "_model_name": "HTMLModel",
            "placeholder": "​",
            "_view_module": "@jupyter-widgets/controls",
            "_model_module_version": "1.5.0",
            "value": "Downloading: 100%",
            "_view_count": null,
            "_view_module_version": "1.5.0",
            "description_tooltip": null,
            "_model_module": "@jupyter-widgets/controls",
            "layout": "IPY_MODEL_c9b200898adf4adabe2fad19f9d6ec17"
          }
        },
        "079f2a290f744ee7b26838707bb95775": {
          "model_module": "@jupyter-widgets/controls",
          "model_name": "FloatProgressModel",
          "model_module_version": "1.5.0",
          "state": {
            "_view_name": "ProgressView",
            "style": "IPY_MODEL_e09db36e180f4f30a33311a0ced8713d",
            "_dom_classes": [],
            "description": "",
            "_model_name": "FloatProgressModel",
            "bar_style": "success",
            "max": 43,
            "_view_module": "@jupyter-widgets/controls",
            "_model_module_version": "1.5.0",
            "value": 43,
            "_view_count": null,
            "_view_module_version": "1.5.0",
            "orientation": "horizontal",
            "min": 0,
            "description_tooltip": null,
            "_model_module": "@jupyter-widgets/controls",
            "layout": "IPY_MODEL_a3dbdb8a8a944a31a1e8c8cd91e2e2f1"
          }
        },
        "90b2671a2b544e279de2415220ceb21b": {
          "model_module": "@jupyter-widgets/controls",
          "model_name": "HTMLModel",
          "model_module_version": "1.5.0",
          "state": {
            "_view_name": "HTMLView",
            "style": "IPY_MODEL_d16c87fc52864622a3a5011dc53795c4",
            "_dom_classes": [],
            "description": "",
            "_model_name": "HTMLModel",
            "placeholder": "​",
            "_view_module": "@jupyter-widgets/controls",
            "_model_module_version": "1.5.0",
            "value": " 43.0/43.0 [00:00&lt;00:00, 952B/s]",
            "_view_count": null,
            "_view_module_version": "1.5.0",
            "description_tooltip": null,
            "_model_module": "@jupyter-widgets/controls",
            "layout": "IPY_MODEL_9db6634c460f461fad10d3d607fdeaea"
          }
        },
        "20ac41d31d2140ea9cd4130149ed196b": {
          "model_module": "@jupyter-widgets/controls",
          "model_name": "DescriptionStyleModel",
          "model_module_version": "1.5.0",
          "state": {
            "_view_name": "StyleView",
            "_model_name": "DescriptionStyleModel",
            "description_width": "",
            "_view_module": "@jupyter-widgets/base",
            "_model_module_version": "1.5.0",
            "_view_count": null,
            "_view_module_version": "1.2.0",
            "_model_module": "@jupyter-widgets/controls"
          }
        },
        "c9b200898adf4adabe2fad19f9d6ec17": {
          "model_module": "@jupyter-widgets/base",
          "model_name": "LayoutModel",
          "model_module_version": "1.2.0",
          "state": {
            "_view_name": "LayoutView",
            "grid_template_rows": null,
            "right": null,
            "justify_content": null,
            "_view_module": "@jupyter-widgets/base",
            "overflow": null,
            "_model_module_version": "1.2.0",
            "_view_count": null,
            "flex_flow": null,
            "width": null,
            "min_width": null,
            "border": null,
            "align_items": null,
            "bottom": null,
            "_model_module": "@jupyter-widgets/base",
            "top": null,
            "grid_column": null,
            "overflow_y": null,
            "overflow_x": null,
            "grid_auto_flow": null,
            "grid_area": null,
            "grid_template_columns": null,
            "flex": null,
            "_model_name": "LayoutModel",
            "justify_items": null,
            "grid_row": null,
            "max_height": null,
            "align_content": null,
            "visibility": null,
            "align_self": null,
            "height": null,
            "min_height": null,
            "padding": null,
            "grid_auto_rows": null,
            "grid_gap": null,
            "max_width": null,
            "order": null,
            "_view_module_version": "1.2.0",
            "grid_template_areas": null,
            "object_position": null,
            "object_fit": null,
            "grid_auto_columns": null,
            "margin": null,
            "display": null,
            "left": null
          }
        },
        "e09db36e180f4f30a33311a0ced8713d": {
          "model_module": "@jupyter-widgets/controls",
          "model_name": "ProgressStyleModel",
          "model_module_version": "1.5.0",
          "state": {
            "_view_name": "StyleView",
            "_model_name": "ProgressStyleModel",
            "description_width": "",
            "_view_module": "@jupyter-widgets/base",
            "_model_module_version": "1.5.0",
            "_view_count": null,
            "_view_module_version": "1.2.0",
            "bar_color": null,
            "_model_module": "@jupyter-widgets/controls"
          }
        },
        "a3dbdb8a8a944a31a1e8c8cd91e2e2f1": {
          "model_module": "@jupyter-widgets/base",
          "model_name": "LayoutModel",
          "model_module_version": "1.2.0",
          "state": {
            "_view_name": "LayoutView",
            "grid_template_rows": null,
            "right": null,
            "justify_content": null,
            "_view_module": "@jupyter-widgets/base",
            "overflow": null,
            "_model_module_version": "1.2.0",
            "_view_count": null,
            "flex_flow": null,
            "width": null,
            "min_width": null,
            "border": null,
            "align_items": null,
            "bottom": null,
            "_model_module": "@jupyter-widgets/base",
            "top": null,
            "grid_column": null,
            "overflow_y": null,
            "overflow_x": null,
            "grid_auto_flow": null,
            "grid_area": null,
            "grid_template_columns": null,
            "flex": null,
            "_model_name": "LayoutModel",
            "justify_items": null,
            "grid_row": null,
            "max_height": null,
            "align_content": null,
            "visibility": null,
            "align_self": null,
            "height": null,
            "min_height": null,
            "padding": null,
            "grid_auto_rows": null,
            "grid_gap": null,
            "max_width": null,
            "order": null,
            "_view_module_version": "1.2.0",
            "grid_template_areas": null,
            "object_position": null,
            "object_fit": null,
            "grid_auto_columns": null,
            "margin": null,
            "display": null,
            "left": null
          }
        },
        "d16c87fc52864622a3a5011dc53795c4": {
          "model_module": "@jupyter-widgets/controls",
          "model_name": "DescriptionStyleModel",
          "model_module_version": "1.5.0",
          "state": {
            "_view_name": "StyleView",
            "_model_name": "DescriptionStyleModel",
            "description_width": "",
            "_view_module": "@jupyter-widgets/base",
            "_model_module_version": "1.5.0",
            "_view_count": null,
            "_view_module_version": "1.2.0",
            "_model_module": "@jupyter-widgets/controls"
          }
        },
        "9db6634c460f461fad10d3d607fdeaea": {
          "model_module": "@jupyter-widgets/base",
          "model_name": "LayoutModel",
          "model_module_version": "1.2.0",
          "state": {
            "_view_name": "LayoutView",
            "grid_template_rows": null,
            "right": null,
            "justify_content": null,
            "_view_module": "@jupyter-widgets/base",
            "overflow": null,
            "_model_module_version": "1.2.0",
            "_view_count": null,
            "flex_flow": null,
            "width": null,
            "min_width": null,
            "border": null,
            "align_items": null,
            "bottom": null,
            "_model_module": "@jupyter-widgets/base",
            "top": null,
            "grid_column": null,
            "overflow_y": null,
            "overflow_x": null,
            "grid_auto_flow": null,
            "grid_area": null,
            "grid_template_columns": null,
            "flex": null,
            "_model_name": "LayoutModel",
            "justify_items": null,
            "grid_row": null,
            "max_height": null,
            "align_content": null,
            "visibility": null,
            "align_self": null,
            "height": null,
            "min_height": null,
            "padding": null,
            "grid_auto_rows": null,
            "grid_gap": null,
            "max_width": null,
            "order": null,
            "_view_module_version": "1.2.0",
            "grid_template_areas": null,
            "object_position": null,
            "object_fit": null,
            "grid_auto_columns": null,
            "margin": null,
            "display": null,
            "left": null
          }
        },
        "f4d1128d45aa4a3fb5f9c835bc7c4536": {
          "model_module": "@jupyter-widgets/controls",
          "model_name": "HBoxModel",
          "model_module_version": "1.5.0",
          "state": {
            "_view_name": "HBoxView",
            "_dom_classes": [],
            "_model_name": "HBoxModel",
            "_view_module": "@jupyter-widgets/controls",
            "_model_module_version": "1.5.0",
            "_view_count": null,
            "_view_module_version": "1.5.0",
            "box_style": "",
            "layout": "IPY_MODEL_3969cbdce54f446c89aec9796612943a",
            "_model_module": "@jupyter-widgets/controls",
            "children": [
              "IPY_MODEL_971e1f0084c84c008e07ae891d79a8eb",
              "IPY_MODEL_ab2b02dcc75444d7808ec615ec2f7112",
              "IPY_MODEL_4cade444ec4f471dbce1ea361cfdfc99"
            ]
          }
        },
        "3969cbdce54f446c89aec9796612943a": {
          "model_module": "@jupyter-widgets/base",
          "model_name": "LayoutModel",
          "model_module_version": "1.2.0",
          "state": {
            "_view_name": "LayoutView",
            "grid_template_rows": null,
            "right": null,
            "justify_content": null,
            "_view_module": "@jupyter-widgets/base",
            "overflow": null,
            "_model_module_version": "1.2.0",
            "_view_count": null,
            "flex_flow": null,
            "width": null,
            "min_width": null,
            "border": null,
            "align_items": null,
            "bottom": null,
            "_model_module": "@jupyter-widgets/base",
            "top": null,
            "grid_column": null,
            "overflow_y": null,
            "overflow_x": null,
            "grid_auto_flow": null,
            "grid_area": null,
            "grid_template_columns": null,
            "flex": null,
            "_model_name": "LayoutModel",
            "justify_items": null,
            "grid_row": null,
            "max_height": null,
            "align_content": null,
            "visibility": null,
            "align_self": null,
            "height": null,
            "min_height": null,
            "padding": null,
            "grid_auto_rows": null,
            "grid_gap": null,
            "max_width": null,
            "order": null,
            "_view_module_version": "1.2.0",
            "grid_template_areas": null,
            "object_position": null,
            "object_fit": null,
            "grid_auto_columns": null,
            "margin": null,
            "display": null,
            "left": null
          }
        },
        "971e1f0084c84c008e07ae891d79a8eb": {
          "model_module": "@jupyter-widgets/controls",
          "model_name": "HTMLModel",
          "model_module_version": "1.5.0",
          "state": {
            "_view_name": "HTMLView",
            "style": "IPY_MODEL_9b78dd53993d4b619ce598cda3866a21",
            "_dom_classes": [],
            "description": "",
            "_model_name": "HTMLModel",
            "placeholder": "​",
            "_view_module": "@jupyter-widgets/controls",
            "_model_module_version": "1.5.0",
            "value": "Downloading: 100%",
            "_view_count": null,
            "_view_module_version": "1.5.0",
            "description_tooltip": null,
            "_model_module": "@jupyter-widgets/controls",
            "layout": "IPY_MODEL_093e74a00b594da9a95e67c8499d6d72"
          }
        },
        "ab2b02dcc75444d7808ec615ec2f7112": {
          "model_module": "@jupyter-widgets/controls",
          "model_name": "FloatProgressModel",
          "model_module_version": "1.5.0",
          "state": {
            "_view_name": "ProgressView",
            "style": "IPY_MODEL_e27908a55538441ea282f7453210ff01",
            "_dom_classes": [],
            "description": "",
            "_model_name": "FloatProgressModel",
            "bar_style": "success",
            "max": 209528,
            "_view_module": "@jupyter-widgets/controls",
            "_model_module_version": "1.5.0",
            "value": 209528,
            "_view_count": null,
            "_view_module_version": "1.5.0",
            "orientation": "horizontal",
            "min": 0,
            "description_tooltip": null,
            "_model_module": "@jupyter-widgets/controls",
            "layout": "IPY_MODEL_67d63afb511d47358b9a2fd2be6e854a"
          }
        },
        "4cade444ec4f471dbce1ea361cfdfc99": {
          "model_module": "@jupyter-widgets/controls",
          "model_name": "HTMLModel",
          "model_module_version": "1.5.0",
          "state": {
            "_view_name": "HTMLView",
            "style": "IPY_MODEL_c67503261c39403c8275d34d593da4c0",
            "_dom_classes": [],
            "description": "",
            "_model_name": "HTMLModel",
            "placeholder": "​",
            "_view_module": "@jupyter-widgets/controls",
            "_model_module_version": "1.5.0",
            "value": " 205k/205k [00:00&lt;00:00, 3.30MB/s]",
            "_view_count": null,
            "_view_module_version": "1.5.0",
            "description_tooltip": null,
            "_model_module": "@jupyter-widgets/controls",
            "layout": "IPY_MODEL_cfd6f2e895584bbe8ea6bdbe8833c0ef"
          }
        },
        "9b78dd53993d4b619ce598cda3866a21": {
          "model_module": "@jupyter-widgets/controls",
          "model_name": "DescriptionStyleModel",
          "model_module_version": "1.5.0",
          "state": {
            "_view_name": "StyleView",
            "_model_name": "DescriptionStyleModel",
            "description_width": "",
            "_view_module": "@jupyter-widgets/base",
            "_model_module_version": "1.5.0",
            "_view_count": null,
            "_view_module_version": "1.2.0",
            "_model_module": "@jupyter-widgets/controls"
          }
        },
        "093e74a00b594da9a95e67c8499d6d72": {
          "model_module": "@jupyter-widgets/base",
          "model_name": "LayoutModel",
          "model_module_version": "1.2.0",
          "state": {
            "_view_name": "LayoutView",
            "grid_template_rows": null,
            "right": null,
            "justify_content": null,
            "_view_module": "@jupyter-widgets/base",
            "overflow": null,
            "_model_module_version": "1.2.0",
            "_view_count": null,
            "flex_flow": null,
            "width": null,
            "min_width": null,
            "border": null,
            "align_items": null,
            "bottom": null,
            "_model_module": "@jupyter-widgets/base",
            "top": null,
            "grid_column": null,
            "overflow_y": null,
            "overflow_x": null,
            "grid_auto_flow": null,
            "grid_area": null,
            "grid_template_columns": null,
            "flex": null,
            "_model_name": "LayoutModel",
            "justify_items": null,
            "grid_row": null,
            "max_height": null,
            "align_content": null,
            "visibility": null,
            "align_self": null,
            "height": null,
            "min_height": null,
            "padding": null,
            "grid_auto_rows": null,
            "grid_gap": null,
            "max_width": null,
            "order": null,
            "_view_module_version": "1.2.0",
            "grid_template_areas": null,
            "object_position": null,
            "object_fit": null,
            "grid_auto_columns": null,
            "margin": null,
            "display": null,
            "left": null
          }
        },
        "e27908a55538441ea282f7453210ff01": {
          "model_module": "@jupyter-widgets/controls",
          "model_name": "ProgressStyleModel",
          "model_module_version": "1.5.0",
          "state": {
            "_view_name": "StyleView",
            "_model_name": "ProgressStyleModel",
            "description_width": "",
            "_view_module": "@jupyter-widgets/base",
            "_model_module_version": "1.5.0",
            "_view_count": null,
            "_view_module_version": "1.2.0",
            "bar_color": null,
            "_model_module": "@jupyter-widgets/controls"
          }
        },
        "67d63afb511d47358b9a2fd2be6e854a": {
          "model_module": "@jupyter-widgets/base",
          "model_name": "LayoutModel",
          "model_module_version": "1.2.0",
          "state": {
            "_view_name": "LayoutView",
            "grid_template_rows": null,
            "right": null,
            "justify_content": null,
            "_view_module": "@jupyter-widgets/base",
            "overflow": null,
            "_model_module_version": "1.2.0",
            "_view_count": null,
            "flex_flow": null,
            "width": null,
            "min_width": null,
            "border": null,
            "align_items": null,
            "bottom": null,
            "_model_module": "@jupyter-widgets/base",
            "top": null,
            "grid_column": null,
            "overflow_y": null,
            "overflow_x": null,
            "grid_auto_flow": null,
            "grid_area": null,
            "grid_template_columns": null,
            "flex": null,
            "_model_name": "LayoutModel",
            "justify_items": null,
            "grid_row": null,
            "max_height": null,
            "align_content": null,
            "visibility": null,
            "align_self": null,
            "height": null,
            "min_height": null,
            "padding": null,
            "grid_auto_rows": null,
            "grid_gap": null,
            "max_width": null,
            "order": null,
            "_view_module_version": "1.2.0",
            "grid_template_areas": null,
            "object_position": null,
            "object_fit": null,
            "grid_auto_columns": null,
            "margin": null,
            "display": null,
            "left": null
          }
        },
        "c67503261c39403c8275d34d593da4c0": {
          "model_module": "@jupyter-widgets/controls",
          "model_name": "DescriptionStyleModel",
          "model_module_version": "1.5.0",
          "state": {
            "_view_name": "StyleView",
            "_model_name": "DescriptionStyleModel",
            "description_width": "",
            "_view_module": "@jupyter-widgets/base",
            "_model_module_version": "1.5.0",
            "_view_count": null,
            "_view_module_version": "1.2.0",
            "_model_module": "@jupyter-widgets/controls"
          }
        },
        "cfd6f2e895584bbe8ea6bdbe8833c0ef": {
          "model_module": "@jupyter-widgets/base",
          "model_name": "LayoutModel",
          "model_module_version": "1.2.0",
          "state": {
            "_view_name": "LayoutView",
            "grid_template_rows": null,
            "right": null,
            "justify_content": null,
            "_view_module": "@jupyter-widgets/base",
            "overflow": null,
            "_model_module_version": "1.2.0",
            "_view_count": null,
            "flex_flow": null,
            "width": null,
            "min_width": null,
            "border": null,
            "align_items": null,
            "bottom": null,
            "_model_module": "@jupyter-widgets/base",
            "top": null,
            "grid_column": null,
            "overflow_y": null,
            "overflow_x": null,
            "grid_auto_flow": null,
            "grid_area": null,
            "grid_template_columns": null,
            "flex": null,
            "_model_name": "LayoutModel",
            "justify_items": null,
            "grid_row": null,
            "max_height": null,
            "align_content": null,
            "visibility": null,
            "align_self": null,
            "height": null,
            "min_height": null,
            "padding": null,
            "grid_auto_rows": null,
            "grid_gap": null,
            "max_width": null,
            "order": null,
            "_view_module_version": "1.2.0",
            "grid_template_areas": null,
            "object_position": null,
            "object_fit": null,
            "grid_auto_columns": null,
            "margin": null,
            "display": null,
            "left": null
          }
        },
        "52f89d18f4ab412c994a8c85389a98ae": {
          "model_module": "@jupyter-widgets/controls",
          "model_name": "HBoxModel",
          "model_module_version": "1.5.0",
          "state": {
            "_view_name": "HBoxView",
            "_dom_classes": [],
            "_model_name": "HBoxModel",
            "_view_module": "@jupyter-widgets/controls",
            "_model_module_version": "1.5.0",
            "_view_count": null,
            "_view_module_version": "1.5.0",
            "box_style": "",
            "layout": "IPY_MODEL_7635bee170734b41a6514e246de456ca",
            "_model_module": "@jupyter-widgets/controls",
            "children": [
              "IPY_MODEL_948a0901e11f4d8ba2c9694495b7118a",
              "IPY_MODEL_a2605227ec264e15aebbc4f1a7d8f82c",
              "IPY_MODEL_8b9c20d8b1824d1babb502e6dfd76f55"
            ]
          }
        },
        "7635bee170734b41a6514e246de456ca": {
          "model_module": "@jupyter-widgets/base",
          "model_name": "LayoutModel",
          "model_module_version": "1.2.0",
          "state": {
            "_view_name": "LayoutView",
            "grid_template_rows": null,
            "right": null,
            "justify_content": null,
            "_view_module": "@jupyter-widgets/base",
            "overflow": null,
            "_model_module_version": "1.2.0",
            "_view_count": null,
            "flex_flow": null,
            "width": null,
            "min_width": null,
            "border": null,
            "align_items": null,
            "bottom": null,
            "_model_module": "@jupyter-widgets/base",
            "top": null,
            "grid_column": null,
            "overflow_y": null,
            "overflow_x": null,
            "grid_auto_flow": null,
            "grid_area": null,
            "grid_template_columns": null,
            "flex": null,
            "_model_name": "LayoutModel",
            "justify_items": null,
            "grid_row": null,
            "max_height": null,
            "align_content": null,
            "visibility": null,
            "align_self": null,
            "height": null,
            "min_height": null,
            "padding": null,
            "grid_auto_rows": null,
            "grid_gap": null,
            "max_width": null,
            "order": null,
            "_view_module_version": "1.2.0",
            "grid_template_areas": null,
            "object_position": null,
            "object_fit": null,
            "grid_auto_columns": null,
            "margin": null,
            "display": null,
            "left": null
          }
        },
        "948a0901e11f4d8ba2c9694495b7118a": {
          "model_module": "@jupyter-widgets/controls",
          "model_name": "HTMLModel",
          "model_module_version": "1.5.0",
          "state": {
            "_view_name": "HTMLView",
            "style": "IPY_MODEL_edfd617e664e44048a3e422e2914addf",
            "_dom_classes": [],
            "description": "",
            "_model_name": "HTMLModel",
            "placeholder": "​",
            "_view_module": "@jupyter-widgets/controls",
            "_model_module_version": "1.5.0",
            "value": "Downloading: 100%",
            "_view_count": null,
            "_view_module_version": "1.5.0",
            "description_tooltip": null,
            "_model_module": "@jupyter-widgets/controls",
            "layout": "IPY_MODEL_2983417e54064113a224b034f7e8725a"
          }
        },
        "a2605227ec264e15aebbc4f1a7d8f82c": {
          "model_module": "@jupyter-widgets/controls",
          "model_name": "FloatProgressModel",
          "model_module_version": "1.5.0",
          "state": {
            "_view_name": "ProgressView",
            "style": "IPY_MODEL_85428f12cc2847799a16ed5fc8d68cfe",
            "_dom_classes": [],
            "description": "",
            "_model_name": "FloatProgressModel",
            "bar_style": "success",
            "max": 2,
            "_view_module": "@jupyter-widgets/controls",
            "_model_module_version": "1.5.0",
            "value": 2,
            "_view_count": null,
            "_view_module_version": "1.5.0",
            "orientation": "horizontal",
            "min": 0,
            "description_tooltip": null,
            "_model_module": "@jupyter-widgets/controls",
            "layout": "IPY_MODEL_18013b004e12400e822d50d9cd155b10"
          }
        },
        "8b9c20d8b1824d1babb502e6dfd76f55": {
          "model_module": "@jupyter-widgets/controls",
          "model_name": "HTMLModel",
          "model_module_version": "1.5.0",
          "state": {
            "_view_name": "HTMLView",
            "style": "IPY_MODEL_53d2fd8825524b8a8ba4d8da6e369afd",
            "_dom_classes": [],
            "description": "",
            "_model_name": "HTMLModel",
            "placeholder": "​",
            "_view_module": "@jupyter-widgets/controls",
            "_model_module_version": "1.5.0",
            "value": " 2.00/2.00 [00:00&lt;00:00, 51.5B/s]",
            "_view_count": null,
            "_view_module_version": "1.5.0",
            "description_tooltip": null,
            "_model_module": "@jupyter-widgets/controls",
            "layout": "IPY_MODEL_4aeda0c05ce142ea81904a406c561e61"
          }
        },
        "edfd617e664e44048a3e422e2914addf": {
          "model_module": "@jupyter-widgets/controls",
          "model_name": "DescriptionStyleModel",
          "model_module_version": "1.5.0",
          "state": {
            "_view_name": "StyleView",
            "_model_name": "DescriptionStyleModel",
            "description_width": "",
            "_view_module": "@jupyter-widgets/base",
            "_model_module_version": "1.5.0",
            "_view_count": null,
            "_view_module_version": "1.2.0",
            "_model_module": "@jupyter-widgets/controls"
          }
        },
        "2983417e54064113a224b034f7e8725a": {
          "model_module": "@jupyter-widgets/base",
          "model_name": "LayoutModel",
          "model_module_version": "1.2.0",
          "state": {
            "_view_name": "LayoutView",
            "grid_template_rows": null,
            "right": null,
            "justify_content": null,
            "_view_module": "@jupyter-widgets/base",
            "overflow": null,
            "_model_module_version": "1.2.0",
            "_view_count": null,
            "flex_flow": null,
            "width": null,
            "min_width": null,
            "border": null,
            "align_items": null,
            "bottom": null,
            "_model_module": "@jupyter-widgets/base",
            "top": null,
            "grid_column": null,
            "overflow_y": null,
            "overflow_x": null,
            "grid_auto_flow": null,
            "grid_area": null,
            "grid_template_columns": null,
            "flex": null,
            "_model_name": "LayoutModel",
            "justify_items": null,
            "grid_row": null,
            "max_height": null,
            "align_content": null,
            "visibility": null,
            "align_self": null,
            "height": null,
            "min_height": null,
            "padding": null,
            "grid_auto_rows": null,
            "grid_gap": null,
            "max_width": null,
            "order": null,
            "_view_module_version": "1.2.0",
            "grid_template_areas": null,
            "object_position": null,
            "object_fit": null,
            "grid_auto_columns": null,
            "margin": null,
            "display": null,
            "left": null
          }
        },
        "85428f12cc2847799a16ed5fc8d68cfe": {
          "model_module": "@jupyter-widgets/controls",
          "model_name": "ProgressStyleModel",
          "model_module_version": "1.5.0",
          "state": {
            "_view_name": "StyleView",
            "_model_name": "ProgressStyleModel",
            "description_width": "",
            "_view_module": "@jupyter-widgets/base",
            "_model_module_version": "1.5.0",
            "_view_count": null,
            "_view_module_version": "1.2.0",
            "bar_color": null,
            "_model_module": "@jupyter-widgets/controls"
          }
        },
        "18013b004e12400e822d50d9cd155b10": {
          "model_module": "@jupyter-widgets/base",
          "model_name": "LayoutModel",
          "model_module_version": "1.2.0",
          "state": {
            "_view_name": "LayoutView",
            "grid_template_rows": null,
            "right": null,
            "justify_content": null,
            "_view_module": "@jupyter-widgets/base",
            "overflow": null,
            "_model_module_version": "1.2.0",
            "_view_count": null,
            "flex_flow": null,
            "width": null,
            "min_width": null,
            "border": null,
            "align_items": null,
            "bottom": null,
            "_model_module": "@jupyter-widgets/base",
            "top": null,
            "grid_column": null,
            "overflow_y": null,
            "overflow_x": null,
            "grid_auto_flow": null,
            "grid_area": null,
            "grid_template_columns": null,
            "flex": null,
            "_model_name": "LayoutModel",
            "justify_items": null,
            "grid_row": null,
            "max_height": null,
            "align_content": null,
            "visibility": null,
            "align_self": null,
            "height": null,
            "min_height": null,
            "padding": null,
            "grid_auto_rows": null,
            "grid_gap": null,
            "max_width": null,
            "order": null,
            "_view_module_version": "1.2.0",
            "grid_template_areas": null,
            "object_position": null,
            "object_fit": null,
            "grid_auto_columns": null,
            "margin": null,
            "display": null,
            "left": null
          }
        },
        "53d2fd8825524b8a8ba4d8da6e369afd": {
          "model_module": "@jupyter-widgets/controls",
          "model_name": "DescriptionStyleModel",
          "model_module_version": "1.5.0",
          "state": {
            "_view_name": "StyleView",
            "_model_name": "DescriptionStyleModel",
            "description_width": "",
            "_view_module": "@jupyter-widgets/base",
            "_model_module_version": "1.5.0",
            "_view_count": null,
            "_view_module_version": "1.2.0",
            "_model_module": "@jupyter-widgets/controls"
          }
        },
        "4aeda0c05ce142ea81904a406c561e61": {
          "model_module": "@jupyter-widgets/base",
          "model_name": "LayoutModel",
          "model_module_version": "1.2.0",
          "state": {
            "_view_name": "LayoutView",
            "grid_template_rows": null,
            "right": null,
            "justify_content": null,
            "_view_module": "@jupyter-widgets/base",
            "overflow": null,
            "_model_module_version": "1.2.0",
            "_view_count": null,
            "flex_flow": null,
            "width": null,
            "min_width": null,
            "border": null,
            "align_items": null,
            "bottom": null,
            "_model_module": "@jupyter-widgets/base",
            "top": null,
            "grid_column": null,
            "overflow_y": null,
            "overflow_x": null,
            "grid_auto_flow": null,
            "grid_area": null,
            "grid_template_columns": null,
            "flex": null,
            "_model_name": "LayoutModel",
            "justify_items": null,
            "grid_row": null,
            "max_height": null,
            "align_content": null,
            "visibility": null,
            "align_self": null,
            "height": null,
            "min_height": null,
            "padding": null,
            "grid_auto_rows": null,
            "grid_gap": null,
            "max_width": null,
            "order": null,
            "_view_module_version": "1.2.0",
            "grid_template_areas": null,
            "object_position": null,
            "object_fit": null,
            "grid_auto_columns": null,
            "margin": null,
            "display": null,
            "left": null
          }
        },
        "d1f39d1b53ef458a8925b8e778a29ebc": {
          "model_module": "@jupyter-widgets/controls",
          "model_name": "HBoxModel",
          "model_module_version": "1.5.0",
          "state": {
            "_view_name": "HBoxView",
            "_dom_classes": [],
            "_model_name": "HBoxModel",
            "_view_module": "@jupyter-widgets/controls",
            "_model_module_version": "1.5.0",
            "_view_count": null,
            "_view_module_version": "1.5.0",
            "box_style": "",
            "layout": "IPY_MODEL_e7b413386aaa40a9a12bf5e903a12d14",
            "_model_module": "@jupyter-widgets/controls",
            "children": [
              "IPY_MODEL_45f569ddde87452ba3a966475ea4bae3",
              "IPY_MODEL_f37d797e9f4749a7a50e701b3abb57a9",
              "IPY_MODEL_deef5b6adc044a37b3b8c4f926d5b5e1"
            ]
          }
        },
        "e7b413386aaa40a9a12bf5e903a12d14": {
          "model_module": "@jupyter-widgets/base",
          "model_name": "LayoutModel",
          "model_module_version": "1.2.0",
          "state": {
            "_view_name": "LayoutView",
            "grid_template_rows": null,
            "right": null,
            "justify_content": null,
            "_view_module": "@jupyter-widgets/base",
            "overflow": null,
            "_model_module_version": "1.2.0",
            "_view_count": null,
            "flex_flow": null,
            "width": null,
            "min_width": null,
            "border": null,
            "align_items": null,
            "bottom": null,
            "_model_module": "@jupyter-widgets/base",
            "top": null,
            "grid_column": null,
            "overflow_y": null,
            "overflow_x": null,
            "grid_auto_flow": null,
            "grid_area": null,
            "grid_template_columns": null,
            "flex": null,
            "_model_name": "LayoutModel",
            "justify_items": null,
            "grid_row": null,
            "max_height": null,
            "align_content": null,
            "visibility": null,
            "align_self": null,
            "height": null,
            "min_height": null,
            "padding": null,
            "grid_auto_rows": null,
            "grid_gap": null,
            "max_width": null,
            "order": null,
            "_view_module_version": "1.2.0",
            "grid_template_areas": null,
            "object_position": null,
            "object_fit": null,
            "grid_auto_columns": null,
            "margin": null,
            "display": null,
            "left": null
          }
        },
        "45f569ddde87452ba3a966475ea4bae3": {
          "model_module": "@jupyter-widgets/controls",
          "model_name": "HTMLModel",
          "model_module_version": "1.5.0",
          "state": {
            "_view_name": "HTMLView",
            "style": "IPY_MODEL_4ce1bfd5a2f1470c92001c87502759bc",
            "_dom_classes": [],
            "description": "",
            "_model_name": "HTMLModel",
            "placeholder": "​",
            "_view_module": "@jupyter-widgets/controls",
            "_model_module_version": "1.5.0",
            "value": "Downloading: 100%",
            "_view_count": null,
            "_view_module_version": "1.5.0",
            "description_tooltip": null,
            "_model_module": "@jupyter-widgets/controls",
            "layout": "IPY_MODEL_97097d01c2ed4b3890a5bde9b5d5f685"
          }
        },
        "f37d797e9f4749a7a50e701b3abb57a9": {
          "model_module": "@jupyter-widgets/controls",
          "model_name": "FloatProgressModel",
          "model_module_version": "1.5.0",
          "state": {
            "_view_name": "ProgressView",
            "style": "IPY_MODEL_b11a45e3c92a4145b6a6f5dfa0fc820c",
            "_dom_classes": [],
            "description": "",
            "_model_name": "FloatProgressModel",
            "bar_style": "success",
            "max": 112,
            "_view_module": "@jupyter-widgets/controls",
            "_model_module_version": "1.5.0",
            "value": 112,
            "_view_count": null,
            "_view_module_version": "1.5.0",
            "orientation": "horizontal",
            "min": 0,
            "description_tooltip": null,
            "_model_module": "@jupyter-widgets/controls",
            "layout": "IPY_MODEL_2a5a4f314dcd4d5cb696c17bc5904edb"
          }
        },
        "deef5b6adc044a37b3b8c4f926d5b5e1": {
          "model_module": "@jupyter-widgets/controls",
          "model_name": "HTMLModel",
          "model_module_version": "1.5.0",
          "state": {
            "_view_name": "HTMLView",
            "style": "IPY_MODEL_cb0656466fef437fa77bee4c11b89b98",
            "_dom_classes": [],
            "description": "",
            "_model_name": "HTMLModel",
            "placeholder": "​",
            "_view_module": "@jupyter-widgets/controls",
            "_model_module_version": "1.5.0",
            "value": " 112/112 [00:00&lt;00:00, 2.42kB/s]",
            "_view_count": null,
            "_view_module_version": "1.5.0",
            "description_tooltip": null,
            "_model_module": "@jupyter-widgets/controls",
            "layout": "IPY_MODEL_4b565ab3772a470b8938e7c41ae46d42"
          }
        },
        "4ce1bfd5a2f1470c92001c87502759bc": {
          "model_module": "@jupyter-widgets/controls",
          "model_name": "DescriptionStyleModel",
          "model_module_version": "1.5.0",
          "state": {
            "_view_name": "StyleView",
            "_model_name": "DescriptionStyleModel",
            "description_width": "",
            "_view_module": "@jupyter-widgets/base",
            "_model_module_version": "1.5.0",
            "_view_count": null,
            "_view_module_version": "1.2.0",
            "_model_module": "@jupyter-widgets/controls"
          }
        },
        "97097d01c2ed4b3890a5bde9b5d5f685": {
          "model_module": "@jupyter-widgets/base",
          "model_name": "LayoutModel",
          "model_module_version": "1.2.0",
          "state": {
            "_view_name": "LayoutView",
            "grid_template_rows": null,
            "right": null,
            "justify_content": null,
            "_view_module": "@jupyter-widgets/base",
            "overflow": null,
            "_model_module_version": "1.2.0",
            "_view_count": null,
            "flex_flow": null,
            "width": null,
            "min_width": null,
            "border": null,
            "align_items": null,
            "bottom": null,
            "_model_module": "@jupyter-widgets/base",
            "top": null,
            "grid_column": null,
            "overflow_y": null,
            "overflow_x": null,
            "grid_auto_flow": null,
            "grid_area": null,
            "grid_template_columns": null,
            "flex": null,
            "_model_name": "LayoutModel",
            "justify_items": null,
            "grid_row": null,
            "max_height": null,
            "align_content": null,
            "visibility": null,
            "align_self": null,
            "height": null,
            "min_height": null,
            "padding": null,
            "grid_auto_rows": null,
            "grid_gap": null,
            "max_width": null,
            "order": null,
            "_view_module_version": "1.2.0",
            "grid_template_areas": null,
            "object_position": null,
            "object_fit": null,
            "grid_auto_columns": null,
            "margin": null,
            "display": null,
            "left": null
          }
        },
        "b11a45e3c92a4145b6a6f5dfa0fc820c": {
          "model_module": "@jupyter-widgets/controls",
          "model_name": "ProgressStyleModel",
          "model_module_version": "1.5.0",
          "state": {
            "_view_name": "StyleView",
            "_model_name": "ProgressStyleModel",
            "description_width": "",
            "_view_module": "@jupyter-widgets/base",
            "_model_module_version": "1.5.0",
            "_view_count": null,
            "_view_module_version": "1.2.0",
            "bar_color": null,
            "_model_module": "@jupyter-widgets/controls"
          }
        },
        "2a5a4f314dcd4d5cb696c17bc5904edb": {
          "model_module": "@jupyter-widgets/base",
          "model_name": "LayoutModel",
          "model_module_version": "1.2.0",
          "state": {
            "_view_name": "LayoutView",
            "grid_template_rows": null,
            "right": null,
            "justify_content": null,
            "_view_module": "@jupyter-widgets/base",
            "overflow": null,
            "_model_module_version": "1.2.0",
            "_view_count": null,
            "flex_flow": null,
            "width": null,
            "min_width": null,
            "border": null,
            "align_items": null,
            "bottom": null,
            "_model_module": "@jupyter-widgets/base",
            "top": null,
            "grid_column": null,
            "overflow_y": null,
            "overflow_x": null,
            "grid_auto_flow": null,
            "grid_area": null,
            "grid_template_columns": null,
            "flex": null,
            "_model_name": "LayoutModel",
            "justify_items": null,
            "grid_row": null,
            "max_height": null,
            "align_content": null,
            "visibility": null,
            "align_self": null,
            "height": null,
            "min_height": null,
            "padding": null,
            "grid_auto_rows": null,
            "grid_gap": null,
            "max_width": null,
            "order": null,
            "_view_module_version": "1.2.0",
            "grid_template_areas": null,
            "object_position": null,
            "object_fit": null,
            "grid_auto_columns": null,
            "margin": null,
            "display": null,
            "left": null
          }
        },
        "cb0656466fef437fa77bee4c11b89b98": {
          "model_module": "@jupyter-widgets/controls",
          "model_name": "DescriptionStyleModel",
          "model_module_version": "1.5.0",
          "state": {
            "_view_name": "StyleView",
            "_model_name": "DescriptionStyleModel",
            "description_width": "",
            "_view_module": "@jupyter-widgets/base",
            "_model_module_version": "1.5.0",
            "_view_count": null,
            "_view_module_version": "1.2.0",
            "_model_module": "@jupyter-widgets/controls"
          }
        },
        "4b565ab3772a470b8938e7c41ae46d42": {
          "model_module": "@jupyter-widgets/base",
          "model_name": "LayoutModel",
          "model_module_version": "1.2.0",
          "state": {
            "_view_name": "LayoutView",
            "grid_template_rows": null,
            "right": null,
            "justify_content": null,
            "_view_module": "@jupyter-widgets/base",
            "overflow": null,
            "_model_module_version": "1.2.0",
            "_view_count": null,
            "flex_flow": null,
            "width": null,
            "min_width": null,
            "border": null,
            "align_items": null,
            "bottom": null,
            "_model_module": "@jupyter-widgets/base",
            "top": null,
            "grid_column": null,
            "overflow_y": null,
            "overflow_x": null,
            "grid_auto_flow": null,
            "grid_area": null,
            "grid_template_columns": null,
            "flex": null,
            "_model_name": "LayoutModel",
            "justify_items": null,
            "grid_row": null,
            "max_height": null,
            "align_content": null,
            "visibility": null,
            "align_self": null,
            "height": null,
            "min_height": null,
            "padding": null,
            "grid_auto_rows": null,
            "grid_gap": null,
            "max_width": null,
            "order": null,
            "_view_module_version": "1.2.0",
            "grid_template_areas": null,
            "object_position": null,
            "object_fit": null,
            "grid_auto_columns": null,
            "margin": null,
            "display": null,
            "left": null
          }
        }
      }
    }
  },
  "cells": [
    {
      "cell_type": "markdown",
      "metadata": {
        "id": "view-in-github",
        "colab_type": "text"
      },
      "source": [
        "<a href=\"https://colab.research.google.com/github/pcpiscator/2T2021/blob/main/C%C3%B3pia_de_Furg_ECD_Machine_Learning_II_Semana_09_Processamento_de_linguagem_natural_com_RNNs.ipynb\" target=\"_parent\"><img src=\"https://colab.research.google.com/assets/colab-badge.svg\" alt=\"Open In Colab\"/></a>"
      ]
    },
    {
      "cell_type": "markdown",
      "metadata": {
        "id": "zf7QSPeJpR1H"
      },
      "source": [
        "# Curso de Especialização em Ciência de Dados - FURG\n",
        "## Machine Learning II - Processamento de linguagem natural com RNNs\n",
        "### Prof. Marcelo Malheiros\n",
        "\n",
        "Parte do código adaptada de Aurélien Geron (licença Apache-2.0)\n",
        "\n",
        "---"
      ]
    },
    {
      "cell_type": "markdown",
      "metadata": {
        "id": "2eOQVePeOZft"
      },
      "source": [
        "# Inicialização\n",
        "\n",
        "Aqui importamos as bibliotecas fundamentais de Python para este _notebook_:\n",
        "\n",
        "- NumPy: suporte a vetores, matrizes e operações de Álgebra Linear\n",
        "- Matplotlib: biblioteca de visualização de dados\n",
        "- Scikit-Learn: biblioteca com algoritmos de Machine Learning"
      ]
    },
    {
      "cell_type": "code",
      "metadata": {
        "id": "Kb54VMfeOZfu"
      },
      "source": [
        "%matplotlib inline\n",
        "import numpy as np\n",
        "import matplotlib.pyplot as plt\n",
        "import sklearn"
      ],
      "execution_count": 1,
      "outputs": []
    },
    {
      "cell_type": "markdown",
      "metadata": {
        "id": "x3lC5A5COZfx"
      },
      "source": [
        "Este _notebook_, em particular, utiliza a biblioteca Keras para definir e treinar redes neurais. Aqui utilizamos a versão **integrada** de Keras, que já vem como parte da biblioteca mais geral TensorFlow. Ambas já fazem parte do ambiente Colaboratory.\n",
        "\n",
        "Para quem utiliza o ambiente Anaconda, é preciso primeiro instalar o pacote `tensorflow`. Isso pode ser feito com o seguinte comando:\n",
        "\n",
        "    conda install tensorflow"
      ]
    },
    {
      "cell_type": "code",
      "metadata": {
        "id": "m4DPmHiLOZfy",
        "colab": {
          "base_uri": "https://localhost:8080/"
        },
        "outputId": "2b226bd9-724f-444a-ce9a-291f4d4af505"
      },
      "source": [
        "import tensorflow as tf\n",
        "from tensorflow import keras\n",
        "\n",
        "print('tensorflow:      versão', tf.__version__)\n",
        "print('keras integrada: versão', keras.__version__)"
      ],
      "execution_count": 2,
      "outputs": [
        {
          "output_type": "stream",
          "name": "stdout",
          "text": [
            "tensorflow:      versão 2.6.0\n",
            "keras integrada: versão 2.6.0\n"
          ]
        }
      ]
    },
    {
      "cell_type": "markdown",
      "metadata": {
        "id": "WvDRkF7hOZf0"
      },
      "source": [
        "Este _notebook_ também utiliza a biblioteca `pydot` e a ferramenta Graphviz para visualizar as redes neurais. Ambos já fazem parte do ambiente Colaboratory.\n",
        "\n",
        "Para quem utiliza o ambiente Anaconda, é preciso primeiro instalar os pacotes `pydot` e `graphviz`. Isso pode ser feito com o seguinte comando:\n",
        "\n",
        "    conda install pydot graphviz"
      ]
    },
    {
      "cell_type": "code",
      "metadata": {
        "id": "WqiU75YZOZf1"
      },
      "source": [
        "import pydot"
      ],
      "execution_count": 3,
      "outputs": []
    },
    {
      "cell_type": "markdown",
      "metadata": {
        "id": "1QdSe-kQpR1P",
        "outputId": "516c9d64-290d-4145-d6a1-546aed7638d9"
      },
      "source": [
        "# Previsão de uma série temporal\n",
        "\n",
        "Suponha que você esteja estudando o número de usuários ativos por hora em um site, ou a temperatura diária de uma cidade, ou a saúde financeira de uma empresa, medida trimestralmente usando várias métricas. Em todos esses casos, os dados serão uma sequência de um ou mais valores por intervalo de tempo. Isso é chamado de **série temporal**.\n",
        "\n",
        "Nos primeiros dois exemplos, há um único valor por intervalo de tempo, então essas são **séries temporais univariadas**, enquanto no exemplo financeiro existem vários valores por intervalo de tempo (por exemplo, a receita da empresa, dívida, e assim por diante), por isso é uma **série temporal multivariada**.\n",
        "\n",
        "Uma tarefa típica é prever valores futuros, o que é chamado de **previsão**. Outra tarefa comum é preencher espaços em branco, ou seja, completar valores ausentes do passado. Isso é chamado de **imputação**."
      ]
    },
    {
      "cell_type": "markdown",
      "metadata": {
        "id": "Us-KSm2kpR1W"
      },
      "source": [
        "## Criação dos dados\n",
        "\n",
        "Aqui vamos criar algumas séries temporais univariadas, com dados aleatórios. Cada uma terá 50 valores, que correspondem a 50 medidas ao longo do tempo.\n",
        "\n",
        "A função a seguir cria tantas séries temporais quanto solicitadas (por meio do parâmetro `batch_size`), cada uma com comprimento `n_steps`, e há apenas um valor por intervalo de tempo em cada série (todas as séries são univariadas).\n",
        "\n",
        "A função retorna portanto uma matriz NumPy na forma `[tamanho do lote, etapas de tempo, 1]`, onde cada série é a soma de duas ondas senoidais de amplitudes fixas, mas com frequências e fases aleatórias, além da adição de um pouco de ruído.\n",
        "\n",
        "**Nota:** Ao lidar com séries temporais (e outros tipos de sequências, como visto posteriormente), os atributos de entrada são geralmente representados como matrizes 3D na forma `[tamanho do lote, etapas de tempo, dimensionalidade]`, onde dimensionalidade é 1 para séries temporais univariadas e ou maior para séries temporais multivariadas."
      ]
    },
    {
      "cell_type": "code",
      "metadata": {
        "id": "W4kStnCxpR1X"
      },
      "source": [
        "# função para criar séries temporais\n",
        "def generate_time_series(batch_size, n_steps):\n",
        "    freq1, freq2, offsets1, offsets2 = np.random.rand(4, batch_size, 1)\n",
        "    time = np.linspace(0, 1, n_steps)\n",
        "    series = 0.5 * np.sin((time - offsets1) * (freq1 * 10 + 10))  #   onda 1\n",
        "    series += 0.1 * np.sin((time - offsets2) * (freq2 * 20 + 20)) # + onda 2\n",
        "    series += 0.1 * (np.random.rand(batch_size, n_steps) - 0.5)   # + ruído\n",
        "    return series[..., np.newaxis].astype(np.float32)"
      ],
      "execution_count": 4,
      "outputs": []
    },
    {
      "cell_type": "code",
      "metadata": {
        "id": "fk_3-z-9pR1Y"
      },
      "source": [
        "# inicialização de semente dos valores aleatórios\n",
        "np.random.seed(42)\n",
        "\n",
        "# geração de 1000 séries univariadas, cada uma com 50 medidas ao longo do tempo + um valor a ser previsto\n",
        "n_steps = 50\n",
        "series = generate_time_series(1000, n_steps + 1)"
      ],
      "execution_count": 6,
      "outputs": []
    },
    {
      "cell_type": "markdown",
      "metadata": {
        "id": "XG6WZ_zrpR1Y"
      },
      "source": [
        "Vamos separar estes dados em conjuntos de treino, validação e teste.\n",
        "\n",
        "A matriz `X_treino` contém 700 séries temporais (ou seja, sua forma é `[700, 50, 1]`), enquanto `X_valid` contém 200 (da série temporal 700 até a 899) e `X_teste` contém 100 (da 900 até a 999).\n",
        "\n",
        "Uma vez que queremos prever um único valor para cada série, os rótulos são vetores de coluna (por exemplo, `y_treino` tem formato `[700, 1]`)."
      ]
    },
    {
      "cell_type": "code",
      "metadata": {
        "id": "BJTqu8aBOZf7"
      },
      "source": [
        "# criação dos conjuntos\n",
        "X_treino, y_treino = series[:700, :n_steps], series[:700, -1]\n",
        "X_valid, y_valid = series[700:900, :n_steps], series[700:900, -1]\n",
        "X_teste, y_teste = series[900:, :n_steps], series[900:, -1]"
      ],
      "execution_count": 7,
      "outputs": []
    },
    {
      "cell_type": "code",
      "metadata": {
        "id": "-lHGjyeWpR1Y",
        "colab": {
          "base_uri": "https://localhost:8080/"
        },
        "outputId": "c5ddd345-91e1-4dea-bea1-26231132edb6"
      },
      "source": [
        "print('treino    atributos:', X_treino.shape)\n",
        "print('treino    rótulos:  ', y_treino.shape)\n",
        "print('validação atributos:', X_valid.shape)\n",
        "print('validação rótulos:  ', y_valid.shape)\n",
        "print('teste     atributos:', X_teste.shape)\n",
        "print('teste     rótulos:  ', y_teste.shape)"
      ],
      "execution_count": 8,
      "outputs": [
        {
          "output_type": "stream",
          "name": "stdout",
          "text": [
            "treino    atributos: (700, 50, 1)\n",
            "treino    rótulos:   (700, 1)\n",
            "validação atributos: (200, 50, 1)\n",
            "validação rótulos:   (200, 1)\n",
            "teste     atributos: (100, 50, 1)\n",
            "teste     rótulos:   (100, 1)\n"
          ]
        }
      ]
    },
    {
      "cell_type": "code",
      "metadata": {
        "id": "-y-GznQIpR1a"
      },
      "source": [
        "# função auxiliar para exibir uma série temporal\n",
        "def plot_series(series, y=None, y_pred=None, x_label='$t$', y_label='$x(t)$'):\n",
        "    plt.plot(series, '.-')\n",
        "    if y is not None:\n",
        "        plt.plot(n_steps, y, 'go')\n",
        "    if y_pred is not None:\n",
        "        plt.plot(n_steps, y_pred, 'rx', markersize=10)\n",
        "    plt.grid(True)\n",
        "    if x_label:\n",
        "        plt.xlabel(x_label, fontsize=16)\n",
        "    if y_label:\n",
        "        plt.ylabel(y_label, fontsize=16, rotation=0)\n",
        "    plt.hlines(0, 0, 100, linewidth=1)\n",
        "    plt.axis([0, n_steps + 1, -1, 1])"
      ],
      "execution_count": 9,
      "outputs": []
    },
    {
      "cell_type": "markdown",
      "metadata": {
        "id": "DcA-w6qCOZf9"
      },
      "source": [
        "O objetivo é **prever** o valor final de cada série, indicado como um X vermelho. O valor real, omitido dos dados de entrada mas usado como valor real para efeito de validação, é mostrado como um ponto verde."
      ]
    },
    {
      "cell_type": "code",
      "metadata": {
        "id": "v10hCpAPOZf-",
        "colab": {
          "base_uri": "https://localhost:8080/",
          "height": 289
        },
        "outputId": "8dc45c31-6a25-48da-9788-a25eb3dbb2ff"
      },
      "source": [
        "fig, axes = plt.subplots(nrows=1, ncols=3, sharey=True, figsize=(12, 4))\n",
        "for col in range(3):\n",
        "    plt.sca(axes[col])\n",
        "    plot_series(X_valid[col, :, 0], y_valid[col, 0],\n",
        "                y_label=('$x(t)$' if col==0 else None))\n",
        "plt.show()"
      ],
      "execution_count": 10,
      "outputs": [
        {
          "output_type": "display_data",
          "data": {
            "image/png": "[encoded data removed]",
            "text/plain": [
              "<Figure size 864x288 with 3 Axes>"
            ]
          },
          "metadata": {
            "needs_background": "light"
          }
        }
      ]
    },
    {
      "cell_type": "markdown",
      "metadata": {
        "id": "2ZyNq-nHpR1b"
      },
      "source": [
        "## Comparativo: previsão ingênua\n",
        "\n",
        "É importante fazer outras estimativas para o valor futuro como **baseline**, ou seja, como ponto de comparação para a qualidade de previsão.\n",
        "\n",
        "A abordagem mais simples é prever o último valor de cada série simplesmente repetindo o penúltimo valor. Isso é chamado de **previsão ingênua** (_naive prediction_) e mesmo assim pode ser útil.\n",
        "\n",
        "Calculamos então o erro através da função MSE entre o previsto e o real (para todas as séries), usando o conjunto de teste."
      ]
    },
    {
      "cell_type": "code",
      "metadata": {
        "id": "InrO_QKApR1d",
        "colab": {
          "base_uri": "https://localhost:8080/"
        },
        "outputId": "791e7eab-8aeb-409f-b6b8-641ca2ae50ea"
      },
      "source": [
        "y_pred = X_teste[:, -1]\n",
        "print('MSE:', np.mean(keras.losses.mean_squared_error(y_teste, y_pred)))"
      ],
      "execution_count": 11,
      "outputs": [
        {
          "output_type": "stream",
          "name": "stdout",
          "text": [
            "MSE: 0.017556487\n"
          ]
        }
      ]
    },
    {
      "cell_type": "code",
      "metadata": {
        "id": "12LeymmcpR1d",
        "colab": {
          "base_uri": "https://localhost:8080/",
          "height": 289
        },
        "outputId": "7dcc1463-91e1-4750-9ecf-af3150fa6122"
      },
      "source": [
        "plot_series(X_teste[0, :, 0], y_teste[0, 0], y_pred[0, 0])\n",
        "plt.show()"
      ],
      "execution_count": 12,
      "outputs": [
        {
          "output_type": "display_data",
          "data": {
            "image/png": "[encoded data removed]",
            "text/plain": [
              "<Figure size 432x288 with 1 Axes>"
            ]
          },
          "metadata": {
            "needs_background": "light"
          }
        }
      ]
    },
    {
      "cell_type": "markdown",
      "metadata": {
        "id": "ogYmvaaHpR1e"
      },
      "source": [
        "## Comparativo: rede neural densa\n",
        "\n",
        "Outra abordagem simples é usar uma **rede neural densa**, ou seja uma rede neural com uma camada completamente conectada.\n",
        "\n",
        "Como redes tradicionais esperam como entrada um conjunto simples de dados, precisamos adicionar no início uma camada do tipo `Flatten`.\n",
        "\n",
        "O efeito de treinar uma rede com uma única camada do tipo `Dense` é equivalente a um ajuste linear de curvas, como em um modelo de regressão linear. De fato, cada previsão será apenas uma combinação linear dos valores de sua respectiva série temporal."
      ]
    },
    {
      "cell_type": "code",
      "metadata": {
        "id": "9TvQoDtupR1f"
      },
      "source": [
        "# comando para 'zerar' a biblioteca Keras\n",
        "keras.backend.clear_session()\n",
        "\n",
        "# definição de sementes aleatórias\n",
        "np.random.seed(42)\n",
        "tf.random.set_seed(42)"
      ],
      "execution_count": 13,
      "outputs": []
    },
    {
      "cell_type": "code",
      "metadata": {
        "id": "mOzAon3GOZgC"
      },
      "source": [
        "# modelo\n",
        "model = keras.models.Sequential([\n",
        "    keras.layers.Flatten(input_shape=[50, 1]),\n",
        "    keras.layers.Dense(1)\n",
        "])"
      ],
      "execution_count": 14,
      "outputs": []
    },
    {
      "cell_type": "markdown",
      "metadata": {
        "id": "xC6yfXFpOZgC"
      },
      "source": [
        "Vamos compilar este modelo usando a função MSE como medida de desempenho (perda ou _loss_). Também vamos usar o otimizador Adam padrão como estratégia de treinamento."
      ]
    },
    {
      "cell_type": "code",
      "metadata": {
        "id": "yjTTwJEBpR1f",
        "colab": {
          "base_uri": "https://localhost:8080/"
        },
        "outputId": "82acbf94-dbf3-49b7-8c65-01a0b51f344d"
      },
      "source": [
        "# compilação\n",
        "model.compile(loss='mse', optimizer='adam')\n",
        "\n",
        "# treinamento\n",
        "%time history = model.fit(X_treino, y_treino, epochs=20, validation_data=(X_valid, y_valid))"
      ],
      "execution_count": 15,
      "outputs": [
        {
          "output_type": "stream",
          "name": "stdout",
          "text": [
            "Epoch 1/20\n",
            "22/22 [==============================] - 1s 8ms/step - loss: 0.1658 - val_loss: 0.1382\n",
            "Epoch 2/20\n",
            "22/22 [==============================] - 0s 2ms/step - loss: 0.1172 - val_loss: 0.1041\n",
            "Epoch 3/20\n",
            "22/22 [==============================] - 0s 2ms/step - loss: 0.0903 - val_loss: 0.0844\n",
            "Epoch 4/20\n",
            "22/22 [==============================] - 0s 3ms/step - loss: 0.0748 - val_loss: 0.0713\n",
            "Epoch 5/20\n",
            "22/22 [==============================] - 0s 2ms/step - loss: 0.0640 - val_loss: 0.0622\n",
            "Epoch 6/20\n",
            "22/22 [==============================] - 0s 3ms/step - loss: 0.0556 - val_loss: 0.0540\n",
            "Epoch 7/20\n",
            "22/22 [==============================] - 0s 3ms/step - loss: 0.0486 - val_loss: 0.0477\n",
            "Epoch 8/20\n",
            "22/22 [==============================] - 0s 2ms/step - loss: 0.0429 - val_loss: 0.0422\n",
            "Epoch 9/20\n",
            "22/22 [==============================] - 0s 2ms/step - loss: 0.0383 - val_loss: 0.0376\n",
            "Epoch 10/20\n",
            "22/22 [==============================] - 0s 3ms/step - loss: 0.0342 - val_loss: 0.0340\n",
            "Epoch 11/20\n",
            "22/22 [==============================] - 0s 3ms/step - loss: 0.0311 - val_loss: 0.0310\n",
            "Epoch 12/20\n",
            "22/22 [==============================] - 0s 3ms/step - loss: 0.0286 - val_loss: 0.0283\n",
            "Epoch 13/20\n",
            "22/22 [==============================] - 0s 3ms/step - loss: 0.0264 - val_loss: 0.0261\n",
            "Epoch 14/20\n",
            "22/22 [==============================] - 0s 2ms/step - loss: 0.0246 - val_loss: 0.0243\n",
            "Epoch 15/20\n",
            "22/22 [==============================] - 0s 3ms/step - loss: 0.0231 - val_loss: 0.0228\n",
            "Epoch 16/20\n",
            "22/22 [==============================] - 0s 3ms/step - loss: 0.0218 - val_loss: 0.0214\n",
            "Epoch 17/20\n",
            "22/22 [==============================] - 0s 2ms/step - loss: 0.0207 - val_loss: 0.0202\n",
            "Epoch 18/20\n",
            "22/22 [==============================] - 0s 2ms/step - loss: 0.0198 - val_loss: 0.0192\n",
            "Epoch 19/20\n",
            "22/22 [==============================] - 0s 3ms/step - loss: 0.0189 - val_loss: 0.0183\n",
            "Epoch 20/20\n",
            "22/22 [==============================] - 0s 2ms/step - loss: 0.0181 - val_loss: 0.0173\n",
            "CPU times: user 1.58 s, sys: 116 ms, total: 1.7 s\n",
            "Wall time: 3.16 s\n"
          ]
        }
      ]
    },
    {
      "cell_type": "code",
      "metadata": {
        "id": "-u2dUcMCpR1h"
      },
      "source": [
        "# função auxiliar para exibição da curva de aprendizado\n",
        "def plot_learning_curves(loss, val_loss):\n",
        "    plt.plot(np.arange(len(loss)) + 0.5, loss, 'b.-', label='erro de treinamento')\n",
        "    plt.plot(np.arange(len(val_loss)) + 1, val_loss, 'r.-', label='erro de validação')\n",
        "    plt.axis([1, 20, 0, 0.1])\n",
        "    plt.legend(fontsize=14)\n",
        "    plt.xlabel('épocas')\n",
        "    plt.ylabel('erro')\n",
        "    plt.grid(True)\n",
        "    plt.show()"
      ],
      "execution_count": 17,
      "outputs": []
    },
    {
      "cell_type": "markdown",
      "metadata": {
        "id": "W3-pkjikOZgE"
      },
      "source": [
        "Vamos exibir agora as curvas de aprendizado."
      ]
    },
    {
      "cell_type": "code",
      "metadata": {
        "id": "WWK4SCGuOZgE",
        "colab": {
          "base_uri": "https://localhost:8080/",
          "height": 284
        },
        "outputId": "c32e32a9-630d-4c61-8380-88f7336d9f8a"
      },
      "source": [
        "plot_learning_curves(history.history['loss'], history.history['val_loss'])"
      ],
      "execution_count": 18,
      "outputs": [
        {
          "output_type": "display_data",
          "data": {
            "image/png": "[encoded data removed]",
            "text/plain": [
              "<Figure size 432x288 with 1 Axes>"
            ]
          },
          "metadata": {
            "needs_background": "light"
          }
        }
      ]
    },
    {
      "cell_type": "markdown",
      "metadata": {
        "id": "9HULV2HVOZgF"
      },
      "source": [
        "Agora podemos avaliar o modelo linear sobre o conjunto de teste."
      ]
    },
    {
      "cell_type": "code",
      "metadata": {
        "id": "neIN2OqIpR1g",
        "colab": {
          "base_uri": "https://localhost:8080/"
        },
        "outputId": "0c9ac345-dc15-4f3b-d33a-6c04c73486fb"
      },
      "source": [
        "print('MSE:', model.evaluate(X_teste, y_teste))"
      ],
      "execution_count": 19,
      "outputs": [
        {
          "output_type": "stream",
          "name": "stdout",
          "text": [
            "4/4 [==============================] - 0s 3ms/step - loss: 0.0183\n",
            "MSE: 0.018333353102207184\n"
          ]
        }
      ]
    },
    {
      "cell_type": "code",
      "metadata": {
        "id": "EwwRejJHpR1i",
        "colab": {
          "base_uri": "https://localhost:8080/",
          "height": 289
        },
        "outputId": "301e3d6a-7ffd-4ce4-9cd0-67a8852cb305"
      },
      "source": [
        "n_teste = 0\n",
        "y_pred = model.predict(X_teste)\n",
        "plot_series(X_teste[n_teste, :, 0], y_teste[n_teste, 0], y_pred[n_teste, 0])\n",
        "plt.show()"
      ],
      "execution_count": 21,
      "outputs": [
        {
          "output_type": "display_data",
          "data": {
            "image/png": "[encoded data removed]",
            "text/plain": [
              "<Figure size 432x288 with 1 Axes>"
            ]
          },
          "metadata": {
            "needs_background": "light"
          }
        }
      ]
    },
    {
      "cell_type": "markdown",
      "metadata": {
        "id": "_r7jN1QopR1i"
      },
      "source": [
        "## Criando uma RNN simples\n",
        "\n",
        "Vamos construir a RNN mais simples possível, com uma única camada e com um único neurônio.\n",
        "\n",
        "Lembrando, não precisamos especificar o comprimento das sequências de entrada (ao contrário do modelo anterior, tradicional), pois uma rede neural recorrente pode processar qualquer número de etapas de tempo. É por isso que definimos a primeira dimensão de entrada como `None`.\n",
        "\n",
        "Por padrão, uma camada do tipo `SimpleRNN` usa como função de ativação a tangente hiperbólica.\n",
        "\n",
        "Esta rede funciona assim: o estado inicial $h_{-1}$ é definido como 0 e passado para um único neurônio recorrente, junto com o valor da primeira etapa de tempo, $x_0$. O neurônio calcula uma soma ponderada desses valores e aplica a função de ativação tangente hiperbólica ao resultado, obtendo a primeira saída, $y_0$. Em um RNN simples, essa saída também é o novo estado $h_0$, que é passado para o mesmo neurônio recorrente junto com o próximo valor de entrada, $x_1$. Este processo é repetido até a última etapa de tempo. Em seguida, a camada recorrente produz como saída apenas o último valor $y_{49}$.\n",
        "\n",
        "Este processo é realizado simultaneamente, e de forma transparente, para todas as demais séries temporais."
      ]
    },
    {
      "cell_type": "code",
      "metadata": {
        "id": "f45srLJZOZgH"
      },
      "source": [
        "# comando para 'zerar' a biblioteca Keras\n",
        "keras.backend.clear_session()\n",
        "\n",
        "# definição de sementes aleatórias\n",
        "np.random.seed(42)\n",
        "tf.random.set_seed(42)"
      ],
      "execution_count": 22,
      "outputs": []
    },
    {
      "cell_type": "code",
      "metadata": {
        "id": "3VgCnzjMpR1j"
      },
      "source": [
        "# modelo\n",
        "model = keras.models.Sequential([\n",
        "    keras.layers.SimpleRNN(1, input_shape=(None, 1))\n",
        "])"
      ],
      "execution_count": 23,
      "outputs": []
    },
    {
      "cell_type": "code",
      "metadata": {
        "id": "djW1u94JpR1j",
        "colab": {
          "base_uri": "https://localhost:8080/"
        },
        "outputId": "554af2c1-0afd-4acf-c96e-2a691f170220"
      },
      "source": [
        "# compilação\n",
        "optimizer = keras.optimizers.Adam(learning_rate=0.01)\n",
        "model.compile(loss='mse', optimizer=optimizer)\n",
        "\n",
        "# treinamento\n",
        "%time history = model.fit(X_treino, y_treino, epochs=20, validation_data=(X_valid, y_valid))"
      ],
      "execution_count": 24,
      "outputs": [
        {
          "output_type": "stream",
          "name": "stdout",
          "text": [
            "Epoch 1/20\n",
            "22/22 [==============================] - 1s 18ms/step - loss: 0.1949 - val_loss: 0.1118\n",
            "Epoch 2/20\n",
            "22/22 [==============================] - 0s 10ms/step - loss: 0.0792 - val_loss: 0.0702\n",
            "Epoch 3/20\n",
            "22/22 [==============================] - 0s 8ms/step - loss: 0.0590 - val_loss: 0.0553\n",
            "Epoch 4/20\n",
            "22/22 [==============================] - 0s 8ms/step - loss: 0.0484 - val_loss: 0.0472\n",
            "Epoch 5/20\n",
            "22/22 [==============================] - 0s 8ms/step - loss: 0.0411 - val_loss: 0.0410\n",
            "Epoch 6/20\n",
            "22/22 [==============================] - 0s 8ms/step - loss: 0.0361 - val_loss: 0.0368\n",
            "Epoch 7/20\n",
            "22/22 [==============================] - 0s 8ms/step - loss: 0.0321 - val_loss: 0.0327\n",
            "Epoch 8/20\n",
            "22/22 [==============================] - 0s 8ms/step - loss: 0.0293 - val_loss: 0.0298\n",
            "Epoch 9/20\n",
            "22/22 [==============================] - 0s 8ms/step - loss: 0.0267 - val_loss: 0.0276\n",
            "Epoch 10/20\n",
            "22/22 [==============================] - 0s 8ms/step - loss: 0.0247 - val_loss: 0.0253\n",
            "Epoch 11/20\n",
            "22/22 [==============================] - 0s 8ms/step - loss: 0.0230 - val_loss: 0.0238\n",
            "Epoch 12/20\n",
            "22/22 [==============================] - 0s 8ms/step - loss: 0.0215 - val_loss: 0.0224\n",
            "Epoch 13/20\n",
            "22/22 [==============================] - 0s 8ms/step - loss: 0.0203 - val_loss: 0.0212\n",
            "Epoch 14/20\n",
            "22/22 [==============================] - 0s 9ms/step - loss: 0.0193 - val_loss: 0.0201\n",
            "Epoch 15/20\n",
            "22/22 [==============================] - 0s 8ms/step - loss: 0.0184 - val_loss: 0.0190\n",
            "Epoch 16/20\n",
            "22/22 [==============================] - 0s 8ms/step - loss: 0.0175 - val_loss: 0.0182\n",
            "Epoch 17/20\n",
            "22/22 [==============================] - 0s 8ms/step - loss: 0.0168 - val_loss: 0.0175\n",
            "Epoch 18/20\n",
            "22/22 [==============================] - 0s 8ms/step - loss: 0.0162 - val_loss: 0.0168\n",
            "Epoch 19/20\n",
            "22/22 [==============================] - 0s 8ms/step - loss: 0.0156 - val_loss: 0.0162\n",
            "Epoch 20/20\n",
            "22/22 [==============================] - 0s 8ms/step - loss: 0.0150 - val_loss: 0.0157\n",
            "CPU times: user 5.54 s, sys: 386 ms, total: 5.93 s\n",
            "Wall time: 4.69 s\n"
          ]
        }
      ]
    },
    {
      "cell_type": "code",
      "metadata": {
        "id": "jDr6VRCBpR1k",
        "colab": {
          "base_uri": "https://localhost:8080/",
          "height": 284
        },
        "outputId": "e192eae4-000a-4135-9480-253b980f250a"
      },
      "source": [
        "plot_learning_curves(history.history['loss'], history.history['val_loss'])\n",
        "plt.show()"
      ],
      "execution_count": 25,
      "outputs": [
        {
          "output_type": "display_data",
          "data": {
            "image/png": "[encoded data removed]",
            "text/plain": [
              "<Figure size 432x288 with 1 Axes>"
            ]
          },
          "metadata": {
            "needs_background": "light"
          }
        }
      ]
    },
    {
      "cell_type": "code",
      "metadata": {
        "id": "xkHr9YZgpR1k",
        "colab": {
          "base_uri": "https://localhost:8080/"
        },
        "outputId": "60339001-645b-4d42-e639-407c298483e7"
      },
      "source": [
        "print('MSE:', model.evaluate(X_teste, y_teste))"
      ],
      "execution_count": 26,
      "outputs": [
        {
          "output_type": "stream",
          "name": "stdout",
          "text": [
            "4/4 [==============================] - 0s 6ms/step - loss: 0.0169\n",
            "MSE: 0.016878601163625717\n"
          ]
        }
      ]
    },
    {
      "cell_type": "code",
      "metadata": {
        "id": "YH9x4UdJpR1l",
        "colab": {
          "base_uri": "https://localhost:8080/",
          "height": 289
        },
        "outputId": "ac052eb4-6fa7-48ef-db8f-150de7abbc2a"
      },
      "source": [
        "n_teste = 0\n",
        "y_pred = model.predict(X_teste)\n",
        "plot_series(X_teste[n_teste, :, 0], y_teste[n_teste, 0], y_pred[n_teste, 0])\n",
        "plt.show()"
      ],
      "execution_count": 27,
      "outputs": [
        {
          "output_type": "display_data",
          "data": {
            "image/png": "[encoded data removed]",
            "text/plain": [
              "<Figure size 432x288 with 1 Axes>"
            ]
          },
          "metadata": {
            "needs_background": "light"
          }
        }
      ]
    },
    {
      "cell_type": "markdown",
      "metadata": {
        "id": "Tw1wt5JppR1m"
      },
      "source": [
        "## Criando uma RNN complexa\n",
        "\n",
        "Implementar uma RNN mais complexa com Keras é simples: basta empilhar outras camadas recorrentes.\n",
        "\n",
        "A seguir usaremos duas camadas `SimpleRNN`. Certifique-se de definir `return_sequences=True` para todas as camadas recorrentes (exceto a última, se você se preocupa apenas com a última saída). Do contrário, eles produzirão uma matriz 2D (contendo apenas a saída da última etapa de tempo) em vez de uma matriz 3D (contendo saídas para todas as etapas de tempo), e a próxima camada recorrente reclamará que você não a está alimentando sequências no formato 3D esperado.\n",
        "\n",
        "Vamos também fazer com que a camada de saída seja `Dense`: ela permite escolher qualquer função de ativação de saída que desejarmos."
      ]
    },
    {
      "cell_type": "code",
      "metadata": {
        "id": "aIwLcA8qOZgK"
      },
      "source": [
        "# comando para 'zerar' a biblioteca Keras\n",
        "keras.backend.clear_session()\n",
        "\n",
        "# definição de sementes aleatórias\n",
        "np.random.seed(42)\n",
        "tf.random.set_seed(42)"
      ],
      "execution_count": 28,
      "outputs": []
    },
    {
      "cell_type": "code",
      "metadata": {
        "id": "i5VYhC1epR1n"
      },
      "source": [
        "# modelo\n",
        "model = keras.models.Sequential([\n",
        "    keras.layers.SimpleRNN(20, return_sequences=True, input_shape=[None, 1]),\n",
        "    keras.layers.SimpleRNN(20),\n",
        "    keras.layers.Dense(1)\n",
        "])"
      ],
      "execution_count": 29,
      "outputs": []
    },
    {
      "cell_type": "code",
      "metadata": {
        "id": "z64QbrapOZgK",
        "colab": {
          "base_uri": "https://localhost:8080/"
        },
        "outputId": "c2d1f74c-9b56-4a1c-b161-566e8c6e0da0"
      },
      "source": [
        "# compilação\n",
        "optimizer = keras.optimizers.Adam(learning_rate=0.01)\n",
        "model.compile(loss='mse', optimizer=optimizer)\n",
        "\n",
        "# treinamento\n",
        "%time history = model.fit(X_treino, y_treino, epochs=20, validation_data=(X_valid, y_valid))"
      ],
      "execution_count": 30,
      "outputs": [
        {
          "output_type": "stream",
          "name": "stdout",
          "text": [
            "Epoch 1/20\n",
            "22/22 [==============================] - 2s 31ms/step - loss: 0.0804 - val_loss: 0.0098\n",
            "Epoch 2/20\n",
            "22/22 [==============================] - 0s 19ms/step - loss: 0.0055 - val_loss: 0.0050\n",
            "Epoch 3/20\n",
            "22/22 [==============================] - 0s 18ms/step - loss: 0.0039 - val_loss: 0.0036\n",
            "Epoch 4/20\n",
            "22/22 [==============================] - 0s 18ms/step - loss: 0.0032 - val_loss: 0.0034\n",
            "Epoch 5/20\n",
            "22/22 [==============================] - 0s 18ms/step - loss: 0.0031 - val_loss: 0.0037\n",
            "Epoch 6/20\n",
            "22/22 [==============================] - 0s 18ms/step - loss: 0.0031 - val_loss: 0.0037\n",
            "Epoch 7/20\n",
            "22/22 [==============================] - 0s 18ms/step - loss: 0.0032 - val_loss: 0.0037\n",
            "Epoch 8/20\n",
            "22/22 [==============================] - 0s 18ms/step - loss: 0.0033 - val_loss: 0.0038\n",
            "Epoch 9/20\n",
            "22/22 [==============================] - 0s 18ms/step - loss: 0.0030 - val_loss: 0.0034\n",
            "Epoch 10/20\n",
            "22/22 [==============================] - 0s 18ms/step - loss: 0.0028 - val_loss: 0.0031\n",
            "Epoch 11/20\n",
            "22/22 [==============================] - 0s 18ms/step - loss: 0.0028 - val_loss: 0.0036\n",
            "Epoch 12/20\n",
            "22/22 [==============================] - 0s 18ms/step - loss: 0.0029 - val_loss: 0.0035\n",
            "Epoch 13/20\n",
            "22/22 [==============================] - 0s 19ms/step - loss: 0.0030 - val_loss: 0.0032\n",
            "Epoch 14/20\n",
            "22/22 [==============================] - 0s 19ms/step - loss: 0.0029 - val_loss: 0.0038\n",
            "Epoch 15/20\n",
            "22/22 [==============================] - 0s 19ms/step - loss: 0.0029 - val_loss: 0.0034\n",
            "Epoch 16/20\n",
            "22/22 [==============================] - 0s 18ms/step - loss: 0.0028 - val_loss: 0.0034\n",
            "Epoch 17/20\n",
            "22/22 [==============================] - 0s 18ms/step - loss: 0.0027 - val_loss: 0.0031\n",
            "Epoch 18/20\n",
            "22/22 [==============================] - 0s 19ms/step - loss: 0.0027 - val_loss: 0.0032\n",
            "Epoch 19/20\n",
            "22/22 [==============================] - 0s 18ms/step - loss: 0.0026 - val_loss: 0.0032\n",
            "Epoch 20/20\n",
            "22/22 [==============================] - 0s 18ms/step - loss: 0.0028 - val_loss: 0.0040\n",
            "CPU times: user 14 s, sys: 912 ms, total: 14.9 s\n",
            "Wall time: 9.76 s\n"
          ]
        }
      ]
    },
    {
      "cell_type": "code",
      "metadata": {
        "id": "oHQdRQLxpR1o",
        "colab": {
          "base_uri": "https://localhost:8080/",
          "height": 284
        },
        "outputId": "a6f54a0c-4d56-461c-fb22-ad6a59dec9bd"
      },
      "source": [
        "plot_learning_curves(history.history['loss'], history.history['val_loss'])\n",
        "plt.show()"
      ],
      "execution_count": 31,
      "outputs": [
        {
          "output_type": "display_data",
          "data": {
            "image/png": "[encoded data removed]",
            "text/plain": [
              "<Figure size 432x288 with 1 Axes>"
            ]
          },
          "metadata": {
            "needs_background": "light"
          }
        }
      ]
    },
    {
      "cell_type": "code",
      "metadata": {
        "id": "xuQDY5C6pR1n",
        "colab": {
          "base_uri": "https://localhost:8080/"
        },
        "outputId": "a06f12c1-1e6e-4472-c60e-357064e8115e"
      },
      "source": [
        "print('MSE:', model.evaluate(X_teste, y_teste))"
      ],
      "execution_count": 32,
      "outputs": [
        {
          "output_type": "stream",
          "name": "stdout",
          "text": [
            "4/4 [==============================] - 0s 6ms/step - loss: 0.0030\n",
            "MSE: 0.0030241874046623707\n"
          ]
        }
      ]
    },
    {
      "cell_type": "code",
      "metadata": {
        "id": "4I_a5iaUpR1o",
        "colab": {
          "base_uri": "https://localhost:8080/",
          "height": 289
        },
        "outputId": "756480bb-baca-4573-ddf0-f5afb7aee575"
      },
      "source": [
        "n_teste = 0\n",
        "y_pred = model.predict(X_teste)\n",
        "plot_series(X_teste[n_teste, :, 0], y_teste[n_teste, 0], y_pred[n_teste, 0])\n",
        "plt.show()"
      ],
      "execution_count": 33,
      "outputs": [
        {
          "output_type": "display_data",
          "data": {
            "image/png": "[encoded data removed]",
            "text/plain": [
              "<Figure size 432x288 with 1 Axes>"
            ]
          },
          "metadata": {
            "needs_background": "light"
          }
        }
      ]
    },
    {
      "cell_type": "code",
      "metadata": {
        "id": "sCrnlNhSOZgN",
        "colab": {
          "base_uri": "https://localhost:8080/"
        },
        "outputId": "157a7742-ab4c-47d7-deee-db7d79fe311b"
      },
      "source": [
        "# resumo legível da arquitetura deste modelo\n",
        "model.summary()"
      ],
      "execution_count": 34,
      "outputs": [
        {
          "output_type": "stream",
          "name": "stdout",
          "text": [
            "Model: \"sequential\"\n",
            "_________________________________________________________________\n",
            "Layer (type)                 Output Shape              Param #   \n",
            "=================================================================\n",
            "simple_rnn (SimpleRNN)       (None, None, 20)          440       \n",
            "_________________________________________________________________\n",
            "simple_rnn_1 (SimpleRNN)     (None, 20)                820       \n",
            "_________________________________________________________________\n",
            "dense (Dense)                (None, 1)                 21        \n",
            "=================================================================\n",
            "Total params: 1,281\n",
            "Trainable params: 1,281\n",
            "Non-trainable params: 0\n",
            "_________________________________________________________________\n"
          ]
        }
      ]
    },
    {
      "cell_type": "code",
      "metadata": {
        "id": "N5POcApAOZgN",
        "colab": {
          "base_uri": "https://localhost:8080/",
          "height": 422
        },
        "outputId": "8403f749-c1c0-4283-f1d6-68b6fcc8e87f"
      },
      "source": [
        "# figura da arquitetura deste modelo\n",
        "keras.utils.plot_model(model, 'model.png', show_shapes=True)"
      ],
      "execution_count": 35,
      "outputs": [
        {
          "output_type": "execute_result",
          "data": {
            "image/png": "[encoded data removed]",
            "text/plain": [
              "<IPython.core.display.Image object>"
            ]
          },
          "metadata": {},
          "execution_count": 35
        }
      ]
    },
    {
      "cell_type": "markdown",
      "metadata": {
        "id": "e-OtfNB3pR1p"
      },
      "source": [
        "# Previsão de vários valores futuros\n",
        "\n",
        "Agora vamos criar modelos para prever os próximos 10 valores.\n",
        "\n",
        "Primeiro, precisamos regenerar as séries temporais para incluir mais 9 etapas de tempo como rótulos."
      ]
    },
    {
      "cell_type": "code",
      "metadata": {
        "id": "3PVLLycrOZgN"
      },
      "source": [
        "# apagar os rótulos antigos (univariados) para evitar confusão\n",
        "for v in ['y_treino', 'y_valid', 'y_teste', 'y_pred']:\n",
        "    globals().pop(v, None)"
      ],
      "execution_count": 36,
      "outputs": []
    },
    {
      "cell_type": "code",
      "metadata": {
        "id": "KVRVoIqkpR1q"
      },
      "source": [
        "# inicialização de semente dos valores aleatórios\n",
        "np.random.seed(42)\n",
        "\n",
        "# geração de 1000 séries univariadas, cada uma com 50 medidas ao longo do tempo + 10 valores a ser previstos\n",
        "n_steps = 50\n",
        "series = generate_time_series(1000, n_steps + 10)\n",
        "\n",
        "# criação dos conjuntos\n",
        "X_treino, Y_treino = series[:700, :n_steps], series[:700, -10:, 0]\n",
        "X_valid, Y_valid = series[700:900, :n_steps], series[700:900, -10:, 0]\n",
        "X_teste, Y_teste = series[900:, :n_steps], series[900:, -10:, 0]"
      ],
      "execution_count": 37,
      "outputs": []
    },
    {
      "cell_type": "code",
      "metadata": {
        "id": "2PCT964QOZgO",
        "colab": {
          "base_uri": "https://localhost:8080/"
        },
        "outputId": "5a993994-df53-4834-a7b3-b7e93afe39d4"
      },
      "source": [
        "print('treino    atributos:', X_treino.shape)\n",
        "print('treino    rótulos:  ', Y_treino.shape)\n",
        "print('validação atributos:', X_valid.shape)\n",
        "print('validação rótulos:  ', Y_valid.shape)\n",
        "print('teste     atributos:', X_teste.shape)\n",
        "print('teste     rótulos:  ', Y_teste.shape)"
      ],
      "execution_count": 38,
      "outputs": [
        {
          "output_type": "stream",
          "name": "stdout",
          "text": [
            "treino    atributos: (700, 50, 1)\n",
            "treino    rótulos:   (700, 10)\n",
            "validação atributos: (200, 50, 1)\n",
            "validação rótulos:   (200, 10)\n",
            "teste     atributos: (100, 50, 1)\n",
            "teste     rótulos:   (100, 10)\n"
          ]
        }
      ]
    },
    {
      "cell_type": "code",
      "metadata": {
        "id": "HZAJYVGvpR1p"
      },
      "source": [
        "# função auxiliar para exibir uma série temporal, com múltiplas previsões\n",
        "def plot_multiple_forecasts(X, Y, Y_pred):\n",
        "    n_steps = X.shape[0]\n",
        "    ahead = Y.shape[0]\n",
        "    plot_series(X)\n",
        "    plt.plot(np.arange(n_steps, n_steps + ahead), Y, 'go-', label='real')\n",
        "    plt.plot(np.arange(n_steps, n_steps + ahead), Y_pred, 'rx-', label='previsto', markersize=10)\n",
        "    plt.axis([0, n_steps + ahead, -1, 1])\n",
        "    plt.legend(fontsize=14)"
      ],
      "execution_count": 39,
      "outputs": []
    },
    {
      "cell_type": "markdown",
      "metadata": {
        "id": "hDSqJFzbOZgP"
      },
      "source": [
        "## Comparativo: previsão ingênua\n",
        "\n",
        "Agora nossa previsão ingênua é supor que o último valor se repete 10 vezes no futuro.\n",
        "\n",
        "Como antes, vamos calcular o erro através da função MSE entre o previsto e o real (para todas as séries), usando o conjunto de teste."
      ]
    },
    {
      "cell_type": "code",
      "metadata": {
        "id": "jPbw2BkJpR1q",
        "colab": {
          "base_uri": "https://localhost:8080/"
        },
        "outputId": "68a3d4b6-8f49-4b52-8cf8-a496b8023485"
      },
      "source": [
        "# pegue o último valor e repita dez vezes\n",
        "Y_pred = np.tile(X_teste[:, -1], 10)\n",
        "\n",
        "print('MSE:', np.mean(keras.losses.mean_squared_error(Y_teste, Y_pred)))"
      ],
      "execution_count": 40,
      "outputs": [
        {
          "output_type": "stream",
          "name": "stdout",
          "text": [
            "MSE: 0.21367128\n"
          ]
        }
      ]
    },
    {
      "cell_type": "markdown",
      "metadata": {
        "id": "o697fClzOZgQ"
      },
      "source": [
        "## Comparativo: rede neural densa\n",
        "\n",
        "Novamente vamos definir outro _baseline_, usando uma rede neural densa, que corresponde a um modelo de ajuste linear dos dados."
      ]
    },
    {
      "cell_type": "code",
      "metadata": {
        "id": "8CJOtBkiOZgQ"
      },
      "source": [
        "# comando para 'zerar' a biblioteca Keras\n",
        "keras.backend.clear_session()\n",
        "\n",
        "# definição de sementes aleatórias\n",
        "np.random.seed(42)\n",
        "tf.random.set_seed(42)"
      ],
      "execution_count": 41,
      "outputs": []
    },
    {
      "cell_type": "code",
      "metadata": {
        "id": "QZsF2RPgOZgR"
      },
      "source": [
        "# modelo\n",
        "model = keras.models.Sequential([\n",
        "    keras.layers.Flatten(input_shape=[50, 1]),\n",
        "    keras.layers.Dense(10)\n",
        "])"
      ],
      "execution_count": 42,
      "outputs": []
    },
    {
      "cell_type": "code",
      "metadata": {
        "id": "8Xjoqu0TpR1r",
        "colab": {
          "base_uri": "https://localhost:8080/"
        },
        "outputId": "676ec854-9d13-4236-9966-acdab93baa28"
      },
      "source": [
        "# compilação\n",
        "model.compile(loss='mse', optimizer='adam')\n",
        "\n",
        "# treinamento\n",
        "%time history = model.fit(X_treino, Y_treino, epochs=20, validation_data=(X_valid, Y_valid))"
      ],
      "execution_count": 43,
      "outputs": [
        {
          "output_type": "stream",
          "name": "stdout",
          "text": [
            "Epoch 1/20\n",
            "22/22 [==============================] - 0s 7ms/step - loss: 0.3077 - val_loss: 0.2411\n",
            "Epoch 2/20\n",
            "22/22 [==============================] - 0s 2ms/step - loss: 0.1996 - val_loss: 0.1610\n",
            "Epoch 3/20\n",
            "22/22 [==============================] - 0s 3ms/step - loss: 0.1343 - val_loss: 0.1121\n",
            "Epoch 4/20\n",
            "22/22 [==============================] - 0s 2ms/step - loss: 0.0954 - val_loss: 0.0824\n",
            "Epoch 5/20\n",
            "22/22 [==============================] - 0s 3ms/step - loss: 0.0723 - val_loss: 0.0644\n",
            "Epoch 6/20\n",
            "22/22 [==============================] - 0s 2ms/step - loss: 0.0583 - val_loss: 0.0534\n",
            "Epoch 7/20\n",
            "22/22 [==============================] - 0s 2ms/step - loss: 0.0499 - val_loss: 0.0466\n",
            "Epoch 8/20\n",
            "22/22 [==============================] - 0s 3ms/step - loss: 0.0445 - val_loss: 0.0421\n",
            "Epoch 9/20\n",
            "22/22 [==============================] - 0s 3ms/step - loss: 0.0409 - val_loss: 0.0388\n",
            "Epoch 10/20\n",
            "22/22 [==============================] - 0s 3ms/step - loss: 0.0381 - val_loss: 0.0362\n",
            "Epoch 11/20\n",
            "22/22 [==============================] - 0s 2ms/step - loss: 0.0358 - val_loss: 0.0342\n",
            "Epoch 12/20\n",
            "22/22 [==============================] - 0s 3ms/step - loss: 0.0339 - val_loss: 0.0323\n",
            "Epoch 13/20\n",
            "22/22 [==============================] - 0s 3ms/step - loss: 0.0322 - val_loss: 0.0308\n",
            "Epoch 14/20\n",
            "22/22 [==============================] - 0s 2ms/step - loss: 0.0307 - val_loss: 0.0294\n",
            "Epoch 15/20\n",
            "22/22 [==============================] - 0s 3ms/step - loss: 0.0293 - val_loss: 0.0282\n",
            "Epoch 16/20\n",
            "22/22 [==============================] - 0s 3ms/step - loss: 0.0280 - val_loss: 0.0269\n",
            "Epoch 17/20\n",
            "22/22 [==============================] - 0s 2ms/step - loss: 0.0269 - val_loss: 0.0260\n",
            "Epoch 18/20\n",
            "22/22 [==============================] - 0s 2ms/step - loss: 0.0259 - val_loss: 0.0250\n",
            "Epoch 19/20\n",
            "22/22 [==============================] - 0s 3ms/step - loss: 0.0250 - val_loss: 0.0242\n",
            "Epoch 20/20\n",
            "22/22 [==============================] - 0s 2ms/step - loss: 0.0242 - val_loss: 0.0234\n",
            "CPU times: user 1.51 s, sys: 104 ms, total: 1.61 s\n",
            "Wall time: 2.85 s\n"
          ]
        }
      ]
    },
    {
      "cell_type": "code",
      "metadata": {
        "id": "FReH-a_qpR1r",
        "colab": {
          "base_uri": "https://localhost:8080/"
        },
        "outputId": "9c95a0f3-5c9d-4470-e6e6-e73ae6515569"
      },
      "source": [
        "print('MSE:', model.evaluate(X_teste, Y_teste))"
      ],
      "execution_count": 44,
      "outputs": [
        {
          "output_type": "stream",
          "name": "stdout",
          "text": [
            "4/4 [==============================] - 0s 3ms/step - loss: 0.0203\n",
            "MSE: 0.02029319852590561\n"
          ]
        }
      ]
    },
    {
      "cell_type": "markdown",
      "metadata": {
        "id": "uBOw7Pz_OZgS"
      },
      "source": [
        "## Previsão de vários valores futuros com uma RNN\n",
        "\n",
        "A única mudança é definir 10 saídas para a última camada, do tipo `Dense`."
      ]
    },
    {
      "cell_type": "code",
      "metadata": {
        "id": "Ic1BNcR7OZgT"
      },
      "source": [
        "# comando para 'zerar' a biblioteca Keras\n",
        "keras.backend.clear_session()\n",
        "\n",
        "# definição de sementes aleatórias\n",
        "np.random.seed(42)\n",
        "tf.random.set_seed(42)"
      ],
      "execution_count": 45,
      "outputs": []
    },
    {
      "cell_type": "code",
      "metadata": {
        "id": "3SU3M7NkOZgT"
      },
      "source": [
        "# modelo\n",
        "model = keras.models.Sequential([\n",
        "    keras.layers.SimpleRNN(20, return_sequences=True, input_shape=[None, 1]),\n",
        "    keras.layers.SimpleRNN(20),\n",
        "    keras.layers.Dense(10)\n",
        "])"
      ],
      "execution_count": 46,
      "outputs": []
    },
    {
      "cell_type": "code",
      "metadata": {
        "id": "6HeqPV6lOZgU",
        "colab": {
          "base_uri": "https://localhost:8080/"
        },
        "outputId": "5e740b2d-e030-4b47-ead8-0099445b9eb4"
      },
      "source": [
        "# compilação\n",
        "optimizer = keras.optimizers.Adam(learning_rate=0.01)\n",
        "model.compile(loss='mse', optimizer=optimizer)\n",
        "\n",
        "# treinamento\n",
        "%time history = model.fit(X_treino, Y_treino, epochs=20, validation_data=(X_valid, Y_valid))"
      ],
      "execution_count": 47,
      "outputs": [
        {
          "output_type": "stream",
          "name": "stdout",
          "text": [
            "Epoch 1/20\n",
            "22/22 [==============================] - 2s 31ms/step - loss: 0.0780 - val_loss: 0.0328\n",
            "Epoch 2/20\n",
            "22/22 [==============================] - 0s 18ms/step - loss: 0.0299 - val_loss: 0.0245\n",
            "Epoch 3/20\n",
            "22/22 [==============================] - 0s 19ms/step - loss: 0.0278 - val_loss: 0.0274\n",
            "Epoch 4/20\n",
            "22/22 [==============================] - 0s 18ms/step - loss: 0.0282 - val_loss: 0.0214\n",
            "Epoch 5/20\n",
            "22/22 [==============================] - 0s 18ms/step - loss: 0.0237 - val_loss: 0.0240\n",
            "Epoch 6/20\n",
            "22/22 [==============================] - 0s 18ms/step - loss: 0.0232 - val_loss: 0.0194\n",
            "Epoch 7/20\n",
            "22/22 [==============================] - 0s 19ms/step - loss: 0.0245 - val_loss: 0.0238\n",
            "Epoch 8/20\n",
            "22/22 [==============================] - 0s 19ms/step - loss: 0.0244 - val_loss: 0.0202\n",
            "Epoch 9/20\n",
            "22/22 [==============================] - 0s 18ms/step - loss: 0.0227 - val_loss: 0.0217\n",
            "Epoch 10/20\n",
            "22/22 [==============================] - 0s 19ms/step - loss: 0.0263 - val_loss: 0.0242\n",
            "Epoch 11/20\n",
            "22/22 [==============================] - 0s 18ms/step - loss: 0.0231 - val_loss: 0.0207\n",
            "Epoch 12/20\n",
            "22/22 [==============================] - 0s 18ms/step - loss: 0.0237 - val_loss: 0.0230\n",
            "Epoch 13/20\n",
            "22/22 [==============================] - 0s 19ms/step - loss: 0.0226 - val_loss: 0.0237\n",
            "Epoch 14/20\n",
            "22/22 [==============================] - 0s 19ms/step - loss: 0.0215 - val_loss: 0.0220\n",
            "Epoch 15/20\n",
            "22/22 [==============================] - 0s 19ms/step - loss: 0.0240 - val_loss: 0.0191\n",
            "Epoch 16/20\n",
            "22/22 [==============================] - 0s 18ms/step - loss: 0.0216 - val_loss: 0.0217\n",
            "Epoch 17/20\n",
            "22/22 [==============================] - 0s 19ms/step - loss: 0.0198 - val_loss: 0.0211\n",
            "Epoch 18/20\n",
            "22/22 [==============================] - 0s 18ms/step - loss: 0.0209 - val_loss: 0.0188\n",
            "Epoch 19/20\n",
            "22/22 [==============================] - 0s 18ms/step - loss: 0.0197 - val_loss: 0.0174\n",
            "Epoch 20/20\n",
            "22/22 [==============================] - 0s 19ms/step - loss: 0.0183 - val_loss: 0.0153\n",
            "CPU times: user 14.2 s, sys: 909 ms, total: 15.1 s\n",
            "Wall time: 9.74 s\n"
          ]
        }
      ]
    },
    {
      "cell_type": "code",
      "metadata": {
        "id": "tqqBt_v6OZgU",
        "colab": {
          "base_uri": "https://localhost:8080/",
          "height": 284
        },
        "outputId": "0b9317da-fb1d-4d1b-a86e-b38bea59797a"
      },
      "source": [
        "plot_learning_curves(history.history['loss'], history.history['val_loss'])\n",
        "plt.show()"
      ],
      "execution_count": 48,
      "outputs": [
        {
          "output_type": "display_data",
          "data": {
            "image/png": "[encoded data removed]",
            "text/plain": [
              "<Figure size 432x288 with 1 Axes>"
            ]
          },
          "metadata": {
            "needs_background": "light"
          }
        }
      ]
    },
    {
      "cell_type": "code",
      "metadata": {
        "id": "m8CfNqqaOZgU",
        "colab": {
          "base_uri": "https://localhost:8080/"
        },
        "outputId": "929677d8-f561-491e-b413-9aaaa1fb23a0"
      },
      "source": [
        "print('MSE:', model.evaluate(X_teste, Y_teste))"
      ],
      "execution_count": 49,
      "outputs": [
        {
          "output_type": "stream",
          "name": "stdout",
          "text": [
            "4/4 [==============================] - 0s 7ms/step - loss: 0.0152\n",
            "MSE: 0.01517756562680006\n"
          ]
        }
      ]
    },
    {
      "cell_type": "code",
      "metadata": {
        "id": "pHEL4dmQOZgV",
        "colab": {
          "base_uri": "https://localhost:8080/",
          "height": 289
        },
        "outputId": "32de7df4-e5ed-41b5-b737-f876f6b4e6c8"
      },
      "source": [
        "n_teste = 0\n",
        "Y_pred = model.predict(X_teste)\n",
        "plot_multiple_forecasts(X_teste[n_teste, :, 0], Y_teste[n_teste, :], Y_pred[n_teste, :])\n",
        "plt.show()"
      ],
      "execution_count": 50,
      "outputs": [
        {
          "output_type": "display_data",
          "data": {
            "image/png": "[encoded data removed]",
            "text/plain": [
              "<Figure size 432x288 with 1 Axes>"
            ]
          },
          "metadata": {
            "needs_background": "light"
          }
        }
      ]
    },
    {
      "cell_type": "markdown",
      "metadata": {
        "id": "UNO7EddKOZgV"
      },
      "source": [
        "## Previsão contínua de valores futuros\n",
        "\n",
        "Em vez de treinar o modelo para prever os próximos 10 valores apenas na última etapa de tempo (como acabamos de fazer), podemos treiná-lo para **prever os próximos 10 valores em cada etapa de tempo**. Em outras palavras, podemos fazer que esta RNN produza uma sequência contínua de previsões.\n",
        "\n",
        "No instante de tempo 0, o modelo produzirá um vetor contendo as previsões para os instantes de tempo 1 a 10. Em seguida, no instante 1, o modelo fará a previsão para os instantes 2 a 11, e assim por diante.\n",
        "\n",
        "A vantagem é que, com mais saídas para construir uma sequẽncia de saída, haverá mais pesos internos e consequentemente melhores chances de ajustes durante o treinamento. Em geral isso vai acelerar e estabilizar o treinamento, eventualmente produzindo também previsões mais precisas.\n",
        "\n",
        "Então, cada rótulo deve ser uma sequência do mesmo comprimento da sequência de entrada, contendo um vetor de 10 dimensões em cada etapa. O conjunto de treino precisa ser ajustado de acordo."
      ]
    },
    {
      "cell_type": "code",
      "metadata": {
        "id": "MPErO6XtpR1s"
      },
      "source": [
        "# inicialização de semente dos valores aleatórios\n",
        "np.random.seed(42)\n",
        "\n",
        "# geração de 1000 séries univariadas, cada uma com 50 medidas ao longo do tempo + 10 valores a ser previstos\n",
        "n_steps = 50\n",
        "series = generate_time_series(1000, n_steps + 10)\n",
        "\n",
        "# criação dos conjuntos\n",
        "X_treino = series[:700, :n_steps]\n",
        "X_valid = series[700:900, :n_steps]\n",
        "X_teste = series[900:, :n_steps]\n",
        "\n",
        "# a diferença agora são os rótulos, que representam \"janelas deslizantes\" sobre os valores reais\n",
        "Y = np.empty((1000, n_steps, 10))\n",
        "for step_ahead in range(1, 10 + 1):\n",
        "    Y[..., step_ahead - 1] = series[..., step_ahead:step_ahead + n_steps, 0]\n",
        "Y_treino = Y[:700]\n",
        "Y_valid = Y[700:900]\n",
        "Y_teste = Y[900:]"
      ],
      "execution_count": 51,
      "outputs": []
    },
    {
      "cell_type": "code",
      "metadata": {
        "id": "jEThjIUHOZgW",
        "colab": {
          "base_uri": "https://localhost:8080/"
        },
        "outputId": "51fc172f-c445-4b5b-dbf9-60ab1865e988"
      },
      "source": [
        "print('treino    atributos:', X_treino.shape)\n",
        "print('treino    rótulos:  ', Y_treino.shape)\n",
        "print('validação atributos:', X_valid.shape)\n",
        "print('validação rótulos:  ', Y_valid.shape)\n",
        "print('teste     atributos:', X_teste.shape)\n",
        "print('teste     rótulos:  ', Y_teste.shape)"
      ],
      "execution_count": 52,
      "outputs": [
        {
          "output_type": "stream",
          "name": "stdout",
          "text": [
            "treino    atributos: (700, 50, 1)\n",
            "treino    rótulos:   (700, 50, 10)\n",
            "validação atributos: (200, 50, 1)\n",
            "validação rótulos:   (200, 50, 10)\n",
            "teste     atributos: (100, 50, 1)\n",
            "teste     rótulos:   (100, 50, 10)\n"
          ]
        }
      ]
    },
    {
      "cell_type": "markdown",
      "metadata": {
        "id": "GdhszVFSpR1t"
      },
      "source": [
        "Para criar um modelo que produz uma sequência, devemos definir `return_sequences=True` em todas as camadas recorrentes (mesmo a última) e devemos aplicar a camada `Dense` de saída a cada passo de tempo.\n",
        "\n",
        "Keras oferece uma camada do tipo `TimeDistributed` para este propósito: ela envolve qualquer camada (por exemplo, uma camada `Dense`) e a aplica a cada etapa de tempo de sua sequência de entrada.\n",
        "\n",
        "A implementação faz isso de forma eficiente, remodelando as entradas para que cada etapa de tempo seja tratada como uma instância separada (ou seja, ele remodela as entradas de `[tamanho do lote, etapas de tempo, dimensões de entrada]` para `[tamanho do lote × etapas de tempo, dimensões de entrada]`. No nosso caso o número de dimensões de entrada é 20 porque a camada `SimpleRNN` tem 20 unidades. O Keras então executa a camada densa e, finalmente, remodela as saídas de volta para sequências (ou seja, ele remodela as saídas de `[tamanho do lote × etapas de tempo, dimensões de saída]` para `[tamanho do lote, etapas de tempo, dimensões de saída]`). Aqui o número de dimensões de saída é 10, já que a camada densa tem 10 neurônios."
      ]
    },
    {
      "cell_type": "code",
      "metadata": {
        "id": "0hBdm-U6OZgX"
      },
      "source": [
        "# comando para 'zerar' a biblioteca Keras\n",
        "keras.backend.clear_session()\n",
        "\n",
        "# definição de sementes aleatórias\n",
        "np.random.seed(42)\n",
        "tf.random.set_seed(42)"
      ],
      "execution_count": 53,
      "outputs": []
    },
    {
      "cell_type": "code",
      "metadata": {
        "id": "7o5QrBRcpR1t"
      },
      "source": [
        "# modelo\n",
        "model = keras.models.Sequential([\n",
        "    keras.layers.SimpleRNN(20, return_sequences=True, input_shape=[None, 1]),\n",
        "    keras.layers.SimpleRNN(20, return_sequences=True),\n",
        "    keras.layers.TimeDistributed(keras.layers.Dense(10))\n",
        "])"
      ],
      "execution_count": 54,
      "outputs": []
    },
    {
      "cell_type": "markdown",
      "metadata": {
        "id": "ylRJmYD7OZgY"
      },
      "source": [
        "Todas as saídas são necessárias durante o treinamento, mas apenas a saída da última etapa é útil para previsões e avaliação. Portanto, embora possamos contar com o MSE em todas as saídas para o treinamento, usaremos uma métrica personalizada para avaliação, dada pela função `last_mse`, para calcular apenas o MSE sobre a saída na última etapa de tempo."
      ]
    },
    {
      "cell_type": "code",
      "metadata": {
        "id": "F2p53_8COZgY"
      },
      "source": [
        "# medida específica de desempenho\n",
        "def last_mse(Y_true, Y_pred):\n",
        "    return keras.metrics.mean_squared_error(Y_true[:, -1], Y_pred[:, -1])"
      ],
      "execution_count": 55,
      "outputs": []
    },
    {
      "cell_type": "code",
      "metadata": {
        "id": "WaZ4WPe3OZgY",
        "colab": {
          "base_uri": "https://localhost:8080/"
        },
        "outputId": "b4c00da8-b997-4c17-8673-87840d25f649"
      },
      "source": [
        "# compilação\n",
        "optimizer = keras.optimizers.Adam(learning_rate=0.01)\n",
        "model.compile(loss='mse', optimizer=optimizer, metrics=[last_mse])\n",
        "\n",
        "# treinamento\n",
        "%time history = model.fit(X_treino, Y_treino, epochs=20, validation_data=(X_valid, Y_valid))"
      ],
      "execution_count": 56,
      "outputs": [
        {
          "output_type": "stream",
          "name": "stdout",
          "text": [
            "Epoch 1/20\n",
            "22/22 [==============================] - 2s 33ms/step - loss: 0.0816 - last_mse: 0.0761 - val_loss: 0.0373 - val_last_mse: 0.0292\n",
            "Epoch 2/20\n",
            "22/22 [==============================] - 0s 20ms/step - loss: 0.0351 - last_mse: 0.0266 - val_loss: 0.0313 - val_last_mse: 0.0241\n",
            "Epoch 3/20\n",
            "22/22 [==============================] - 0s 19ms/step - loss: 0.0329 - last_mse: 0.0242 - val_loss: 0.0306 - val_last_mse: 0.0230\n",
            "Epoch 4/20\n",
            "22/22 [==============================] - 0s 19ms/step - loss: 0.0330 - last_mse: 0.0248 - val_loss: 0.0297 - val_last_mse: 0.0216\n",
            "Epoch 5/20\n",
            "22/22 [==============================] - 0s 19ms/step - loss: 0.0318 - last_mse: 0.0236 - val_loss: 0.0300 - val_last_mse: 0.0233\n",
            "Epoch 6/20\n",
            "22/22 [==============================] - 0s 18ms/step - loss: 0.0316 - last_mse: 0.0234 - val_loss: 0.0317 - val_last_mse: 0.0267\n",
            "Epoch 7/20\n",
            "22/22 [==============================] - 0s 19ms/step - loss: 0.0309 - last_mse: 0.0232 - val_loss: 0.0288 - val_last_mse: 0.0217\n",
            "Epoch 8/20\n",
            "22/22 [==============================] - 0s 19ms/step - loss: 0.0300 - last_mse: 0.0213 - val_loss: 0.0278 - val_last_mse: 0.0196\n",
            "Epoch 9/20\n",
            "22/22 [==============================] - 0s 20ms/step - loss: 0.0300 - last_mse: 0.0221 - val_loss: 0.0287 - val_last_mse: 0.0214\n",
            "Epoch 10/20\n",
            "22/22 [==============================] - 0s 19ms/step - loss: 0.0296 - last_mse: 0.0212 - val_loss: 0.0273 - val_last_mse: 0.0187\n",
            "Epoch 11/20\n",
            "22/22 [==============================] - 0s 20ms/step - loss: 0.0291 - last_mse: 0.0202 - val_loss: 0.0271 - val_last_mse: 0.0191\n",
            "Epoch 12/20\n",
            "22/22 [==============================] - 0s 20ms/step - loss: 0.0289 - last_mse: 0.0204 - val_loss: 0.0308 - val_last_mse: 0.0242\n",
            "Epoch 13/20\n",
            "22/22 [==============================] - 0s 19ms/step - loss: 0.0290 - last_mse: 0.0207 - val_loss: 0.0274 - val_last_mse: 0.0199\n",
            "Epoch 14/20\n",
            "22/22 [==============================] - 0s 20ms/step - loss: 0.0280 - last_mse: 0.0190 - val_loss: 0.0253 - val_last_mse: 0.0164\n",
            "Epoch 15/20\n",
            "22/22 [==============================] - 0s 19ms/step - loss: 0.0274 - last_mse: 0.0186 - val_loss: 0.0242 - val_last_mse: 0.0152\n",
            "Epoch 16/20\n",
            "22/22 [==============================] - 0s 20ms/step - loss: 0.0259 - last_mse: 0.0164 - val_loss: 0.0256 - val_last_mse: 0.0171\n",
            "Epoch 17/20\n",
            "22/22 [==============================] - 0s 19ms/step - loss: 0.0238 - last_mse: 0.0135 - val_loss: 0.0223 - val_last_mse: 0.0147\n",
            "Epoch 18/20\n",
            "22/22 [==============================] - 0s 19ms/step - loss: 0.0230 - last_mse: 0.0142 - val_loss: 0.0224 - val_last_mse: 0.0133\n",
            "Epoch 19/20\n",
            "22/22 [==============================] - 0s 19ms/step - loss: 0.0226 - last_mse: 0.0129 - val_loss: 0.0210 - val_last_mse: 0.0121\n",
            "Epoch 20/20\n",
            "22/22 [==============================] - 0s 19ms/step - loss: 0.0221 - last_mse: 0.0129 - val_loss: 0.0197 - val_last_mse: 0.0100\n",
            "CPU times: user 14.9 s, sys: 881 ms, total: 15.7 s\n",
            "Wall time: 10.3 s\n"
          ]
        }
      ]
    },
    {
      "cell_type": "code",
      "metadata": {
        "id": "4tOS751zOZgZ",
        "colab": {
          "base_uri": "https://localhost:8080/",
          "height": 284
        },
        "outputId": "ee3a59bb-03bf-4e3f-88c8-361a32b29361"
      },
      "source": [
        "plot_learning_curves(history.history['last_mse'], history.history['val_last_mse'])\n",
        "plt.show()"
      ],
      "execution_count": 57,
      "outputs": [
        {
          "output_type": "display_data",
          "data": {
            "image/png": "[encoded data removed]",
            "text/plain": [
              "<Figure size 432x288 with 1 Axes>"
            ]
          },
          "metadata": {
            "needs_background": "light"
          }
        }
      ]
    },
    {
      "cell_type": "code",
      "metadata": {
        "id": "OJamxvBGOZga",
        "colab": {
          "base_uri": "https://localhost:8080/"
        },
        "outputId": "83c963ec-89a9-44f8-9dee-aea9a832c304"
      },
      "source": [
        "print('MSE:', model.evaluate(X_teste, Y_teste))"
      ],
      "execution_count": 58,
      "outputs": [
        {
          "output_type": "stream",
          "name": "stdout",
          "text": [
            "4/4 [==============================] - 0s 7ms/step - loss: 0.0212 - last_mse: 0.0096\n",
            "MSE: [0.021209830418229103, 0.009588552638888359]\n"
          ]
        }
      ]
    },
    {
      "cell_type": "code",
      "metadata": {
        "id": "TZgs1DGROZgb",
        "colab": {
          "base_uri": "https://localhost:8080/",
          "height": 289
        },
        "outputId": "fa0bd27a-76a7-419e-acf0-f1f69c52a1a5"
      },
      "source": [
        "n_teste = 0\n",
        "Y_pred = model.predict(X_teste)\n",
        "plot_multiple_forecasts(X_teste[n_teste, :, 0], Y_teste[n_teste, -1, :], Y_pred[n_teste, -1, :])\n",
        "plt.show()"
      ],
      "execution_count": 59,
      "outputs": [
        {
          "output_type": "display_data",
          "data": {
            "image/png": "[encoded data removed]",
            "text/plain": [
              "<Figure size 432x288 with 1 Axes>"
            ]
          },
          "metadata": {
            "needs_background": "light"
          }
        }
      ]
    },
    {
      "cell_type": "markdown",
      "metadata": {
        "id": "_-SUh1BppR1x"
      },
      "source": [
        "## Camada LSTM\n",
        "\n",
        "Modelos que transformam **sequências em sequências** podem ser otimizadas com camadas especializadas, que implementam **células de memória** capazes de lidar com longas sequências.\n",
        "\n",
        "Um caso particular é a LSTM, que funciona como uma caixa-preta. Em relação a configurações mais profundas de camadas recorrentes, LSTMs são mais eficientes e têm melhor desempenho, além de detectar **dependências de longo prazo dentro de sequências**.\n",
        "\n",
        "Usando Keras, você pode simplesmente usar a camada do tipo `LSTM` em vez de uma camada `SimpleRNN`. O código abaixo ilustra o mesmo processo de previsão contínua anterior, agora usando duas camadas LSTM."
      ]
    },
    {
      "cell_type": "code",
      "metadata": {
        "id": "jP6Eh-YaOZgc"
      },
      "source": [
        "# comando para 'zerar' a biblioteca Keras\n",
        "keras.backend.clear_session()\n",
        "\n",
        "# definição de sementes aleatórias\n",
        "np.random.seed(42)\n",
        "tf.random.set_seed(42)"
      ],
      "execution_count": 60,
      "outputs": []
    },
    {
      "cell_type": "code",
      "metadata": {
        "id": "_W7sK30mpR1y",
        "scrolled": true
      },
      "source": [
        "# modelo\n",
        "model = keras.models.Sequential([\n",
        "    keras.layers.LSTM(20, return_sequences=True, input_shape=[None, 1]),\n",
        "    keras.layers.LSTM(20, return_sequences=True),\n",
        "    keras.layers.TimeDistributed(keras.layers.Dense(10))\n",
        "])"
      ],
      "execution_count": 61,
      "outputs": []
    },
    {
      "cell_type": "code",
      "metadata": {
        "id": "T4SV5BrrOZgc",
        "colab": {
          "base_uri": "https://localhost:8080/"
        },
        "outputId": "cf279e26-acbc-4063-83c2-0abd7cbe984b"
      },
      "source": [
        "# compilação\n",
        "optimizer = keras.optimizers.Adam(learning_rate=0.01)\n",
        "model.compile(loss='mse', optimizer=optimizer, metrics=[last_mse])\n",
        "\n",
        "# treinamento\n",
        "%time history = model.fit(X_treino, Y_treino, epochs=20, validation_data=(X_valid, Y_valid))"
      ],
      "execution_count": 62,
      "outputs": [
        {
          "output_type": "stream",
          "name": "stdout",
          "text": [
            "Epoch 1/20\n",
            "22/22 [==============================] - 5s 74ms/step - loss: 0.0724 - last_mse: 0.0598 - val_loss: 0.0494 - val_last_mse: 0.0399\n",
            "Epoch 2/20\n",
            "22/22 [==============================] - 1s 39ms/step - loss: 0.0422 - last_mse: 0.0281 - val_loss: 0.0360 - val_last_mse: 0.0272\n",
            "Epoch 3/20\n",
            "22/22 [==============================] - 1s 39ms/step - loss: 0.0350 - last_mse: 0.0239 - val_loss: 0.0333 - val_last_mse: 0.0250\n",
            "Epoch 4/20\n",
            "22/22 [==============================] - 1s 38ms/step - loss: 0.0308 - last_mse: 0.0208 - val_loss: 0.0268 - val_last_mse: 0.0202\n",
            "Epoch 5/20\n",
            "22/22 [==============================] - 1s 39ms/step - loss: 0.0257 - last_mse: 0.0143 - val_loss: 0.0226 - val_last_mse: 0.0117\n",
            "Epoch 6/20\n",
            "22/22 [==============================] - 1s 39ms/step - loss: 0.0231 - last_mse: 0.0107 - val_loss: 0.0211 - val_last_mse: 0.0094\n",
            "Epoch 7/20\n",
            "22/22 [==============================] - 1s 39ms/step - loss: 0.0219 - last_mse: 0.0100 - val_loss: 0.0199 - val_last_mse: 0.0088\n",
            "Epoch 8/20\n",
            "22/22 [==============================] - 1s 40ms/step - loss: 0.0209 - last_mse: 0.0097 - val_loss: 0.0192 - val_last_mse: 0.0086\n",
            "Epoch 9/20\n",
            "22/22 [==============================] - 1s 39ms/step - loss: 0.0206 - last_mse: 0.0097 - val_loss: 0.0193 - val_last_mse: 0.0085\n",
            "Epoch 10/20\n",
            "22/22 [==============================] - 1s 39ms/step - loss: 0.0200 - last_mse: 0.0086 - val_loss: 0.0189 - val_last_mse: 0.0098\n",
            "Epoch 11/20\n",
            "22/22 [==============================] - 1s 38ms/step - loss: 0.0191 - last_mse: 0.0080 - val_loss: 0.0178 - val_last_mse: 0.0077\n",
            "Epoch 12/20\n",
            "22/22 [==============================] - 1s 38ms/step - loss: 0.0189 - last_mse: 0.0079 - val_loss: 0.0174 - val_last_mse: 0.0074\n",
            "Epoch 13/20\n",
            "22/22 [==============================] - 1s 38ms/step - loss: 0.0188 - last_mse: 0.0081 - val_loss: 0.0170 - val_last_mse: 0.0072\n",
            "Epoch 14/20\n",
            "22/22 [==============================] - 1s 40ms/step - loss: 0.0178 - last_mse: 0.0071 - val_loss: 0.0171 - val_last_mse: 0.0070\n",
            "Epoch 15/20\n",
            "22/22 [==============================] - 1s 39ms/step - loss: 0.0177 - last_mse: 0.0072 - val_loss: 0.0164 - val_last_mse: 0.0067\n",
            "Epoch 16/20\n",
            "22/22 [==============================] - 1s 39ms/step - loss: 0.0173 - last_mse: 0.0068 - val_loss: 0.0157 - val_last_mse: 0.0058\n",
            "Epoch 17/20\n",
            "22/22 [==============================] - 1s 38ms/step - loss: 0.0167 - last_mse: 0.0063 - val_loss: 0.0155 - val_last_mse: 0.0061\n",
            "Epoch 18/20\n",
            "22/22 [==============================] - 1s 39ms/step - loss: 0.0170 - last_mse: 0.0070 - val_loss: 0.0158 - val_last_mse: 0.0065\n",
            "Epoch 19/20\n",
            "22/22 [==============================] - 1s 38ms/step - loss: 0.0166 - last_mse: 0.0068 - val_loss: 0.0150 - val_last_mse: 0.0057\n",
            "Epoch 20/20\n",
            "22/22 [==============================] - 1s 40ms/step - loss: 0.0164 - last_mse: 0.0067 - val_loss: 0.0155 - val_last_mse: 0.0059\n",
            "CPU times: user 30.8 s, sys: 1.55 s, total: 32.3 s\n",
            "Wall time: 23.3 s\n"
          ]
        }
      ]
    },
    {
      "cell_type": "code",
      "metadata": {
        "id": "u0hUHe-BpR1z",
        "colab": {
          "base_uri": "https://localhost:8080/",
          "height": 284
        },
        "outputId": "1b90ea35-d9a5-49dc-ce56-6cfb13b9784f"
      },
      "source": [
        "plot_learning_curves(history.history['last_mse'], history.history['val_last_mse'])\n",
        "plt.show()"
      ],
      "execution_count": 63,
      "outputs": [
        {
          "output_type": "display_data",
          "data": {
            "image/png": "[encoded data removed]",
            "text/plain": [
              "<Figure size 432x288 with 1 Axes>"
            ]
          },
          "metadata": {
            "needs_background": "light"
          }
        }
      ]
    },
    {
      "cell_type": "code",
      "metadata": {
        "id": "RZpn0WFLpR1y",
        "colab": {
          "base_uri": "https://localhost:8080/"
        },
        "outputId": "4fb8ddee-b77c-4059-eeaa-5108e085ae6f"
      },
      "source": [
        "model.evaluate(X_teste, Y_teste)"
      ],
      "execution_count": 64,
      "outputs": [
        {
          "output_type": "stream",
          "name": "stdout",
          "text": [
            "4/4 [==============================] - 0s 10ms/step - loss: 0.0170 - last_mse: 0.0068\n"
          ]
        },
        {
          "output_type": "execute_result",
          "data": {
            "text/plain": [
              "[0.016951818019151688, 0.006819217000156641]"
            ]
          },
          "metadata": {},
          "execution_count": 64
        }
      ]
    },
    {
      "cell_type": "code",
      "metadata": {
        "id": "kRjA4_SmpR1z",
        "colab": {
          "base_uri": "https://localhost:8080/",
          "height": 289
        },
        "outputId": "12919e8e-89d1-442d-bc63-706f30a51b59"
      },
      "source": [
        "n_teste = 0\n",
        "Y_pred = model.predict(X_teste)\n",
        "plot_multiple_forecasts(X_teste[n_teste, :, 0], Y_teste[n_teste, -1, :], Y_pred[n_teste, -1, :])\n",
        "plt.show()"
      ],
      "execution_count": 65,
      "outputs": [
        {
          "output_type": "display_data",
          "data": {
            "image/png": "[encoded data removed]",
            "text/plain": [
              "<Figure size 432x288 with 1 Axes>"
            ]
          },
          "metadata": {
            "needs_background": "light"
          }
        }
      ]
    },
    {
      "cell_type": "markdown",
      "metadata": {
        "id": "u8XW8WfipR10"
      },
      "source": [
        "## Camada GRU\n",
        "\n",
        "Uma camada do tipo `GRU` implementa uma célula de memória semelhante à LSTM. Ainda que mais simples, seu desempenho e capacidade de aprendizado é semelhante à LSTM, e assim pode ser utilizado diretamente como substituição."
      ]
    },
    {
      "cell_type": "code",
      "metadata": {
        "id": "ELXBCn82OZgf"
      },
      "source": [
        "# comando para 'zerar' a biblioteca Keras\n",
        "keras.backend.clear_session()\n",
        "\n",
        "# definição de sementes aleatórias\n",
        "np.random.seed(42)\n",
        "tf.random.set_seed(42)"
      ],
      "execution_count": 66,
      "outputs": []
    },
    {
      "cell_type": "code",
      "metadata": {
        "id": "0s8EbAj3OZgf"
      },
      "source": [
        "# modelo\n",
        "model = keras.models.Sequential([\n",
        "    keras.layers.GRU(20, return_sequences=True, input_shape=[None, 1]),\n",
        "    keras.layers.GRU(20, return_sequences=True),\n",
        "    keras.layers.TimeDistributed(keras.layers.Dense(10))\n",
        "])"
      ],
      "execution_count": 67,
      "outputs": []
    },
    {
      "cell_type": "code",
      "metadata": {
        "id": "Vfu8E9-DpR10",
        "colab": {
          "base_uri": "https://localhost:8080/"
        },
        "outputId": "a670cb39-632e-45e2-f356-e47045df99d1"
      },
      "source": [
        "# compilação\n",
        "optimizer = keras.optimizers.Adam(learning_rate=0.01)\n",
        "model.compile(loss='mse', optimizer=optimizer, metrics=[last_mse])\n",
        "\n",
        "# treinamento\n",
        "%time history = model.fit(X_treino, Y_treino, epochs=20, validation_data=(X_valid, Y_valid))"
      ],
      "execution_count": 68,
      "outputs": [
        {
          "output_type": "stream",
          "name": "stdout",
          "text": [
            "Epoch 1/20\n",
            "22/22 [==============================] - 5s 76ms/step - loss: 0.0696 - last_mse: 0.0633 - val_loss: 0.0419 - val_last_mse: 0.0357\n",
            "Epoch 2/20\n",
            "22/22 [==============================] - 1s 42ms/step - loss: 0.0373 - last_mse: 0.0286 - val_loss: 0.0323 - val_last_mse: 0.0248\n",
            "Epoch 3/20\n",
            "22/22 [==============================] - 1s 42ms/step - loss: 0.0337 - last_mse: 0.0253 - val_loss: 0.0316 - val_last_mse: 0.0232\n",
            "Epoch 4/20\n",
            "22/22 [==============================] - 1s 43ms/step - loss: 0.0322 - last_mse: 0.0243 - val_loss: 0.0295 - val_last_mse: 0.0210\n",
            "Epoch 5/20\n",
            "22/22 [==============================] - 1s 42ms/step - loss: 0.0306 - last_mse: 0.0219 - val_loss: 0.0291 - val_last_mse: 0.0218\n",
            "Epoch 6/20\n",
            "22/22 [==============================] - 1s 44ms/step - loss: 0.0296 - last_mse: 0.0214 - val_loss: 0.0274 - val_last_mse: 0.0191\n",
            "Epoch 7/20\n",
            "22/22 [==============================] - 1s 43ms/step - loss: 0.0283 - last_mse: 0.0199 - val_loss: 0.0255 - val_last_mse: 0.0163\n",
            "Epoch 8/20\n",
            "22/22 [==============================] - 1s 42ms/step - loss: 0.0260 - last_mse: 0.0166 - val_loss: 0.0226 - val_last_mse: 0.0130\n",
            "Epoch 9/20\n",
            "22/22 [==============================] - 1s 42ms/step - loss: 0.0241 - last_mse: 0.0152 - val_loss: 0.0217 - val_last_mse: 0.0123\n",
            "Epoch 10/20\n",
            "22/22 [==============================] - 1s 43ms/step - loss: 0.0228 - last_mse: 0.0132 - val_loss: 0.0210 - val_last_mse: 0.0111\n",
            "Epoch 11/20\n",
            "22/22 [==============================] - 1s 43ms/step - loss: 0.0214 - last_mse: 0.0116 - val_loss: 0.0202 - val_last_mse: 0.0116\n",
            "Epoch 12/20\n",
            "22/22 [==============================] - 1s 43ms/step - loss: 0.0204 - last_mse: 0.0109 - val_loss: 0.0192 - val_last_mse: 0.0100\n",
            "Epoch 13/20\n",
            "22/22 [==============================] - 1s 43ms/step - loss: 0.0199 - last_mse: 0.0104 - val_loss: 0.0187 - val_last_mse: 0.0091\n",
            "Epoch 14/20\n",
            "22/22 [==============================] - 1s 43ms/step - loss: 0.0188 - last_mse: 0.0091 - val_loss: 0.0169 - val_last_mse: 0.0079\n",
            "Epoch 15/20\n",
            "22/22 [==============================] - 1s 43ms/step - loss: 0.0181 - last_mse: 0.0087 - val_loss: 0.0170 - val_last_mse: 0.0083\n",
            "Epoch 16/20\n",
            "22/22 [==============================] - 1s 43ms/step - loss: 0.0180 - last_mse: 0.0089 - val_loss: 0.0162 - val_last_mse: 0.0076\n",
            "Epoch 17/20\n",
            "22/22 [==============================] - 1s 42ms/step - loss: 0.0169 - last_mse: 0.0077 - val_loss: 0.0161 - val_last_mse: 0.0078\n",
            "Epoch 18/20\n",
            "22/22 [==============================] - 1s 42ms/step - loss: 0.0168 - last_mse: 0.0077 - val_loss: 0.0164 - val_last_mse: 0.0091\n",
            "Epoch 19/20\n",
            "22/22 [==============================] - 1s 43ms/step - loss: 0.0164 - last_mse: 0.0074 - val_loss: 0.0153 - val_last_mse: 0.0072\n",
            "Epoch 20/20\n",
            "22/22 [==============================] - 1s 43ms/step - loss: 0.0163 - last_mse: 0.0076 - val_loss: 0.0150 - val_last_mse: 0.0073\n",
            "CPU times: user 33.4 s, sys: 1.74 s, total: 35.1 s\n",
            "Wall time: 23.6 s\n"
          ]
        }
      ]
    },
    {
      "cell_type": "code",
      "metadata": {
        "id": "achlD9mgpR11",
        "colab": {
          "base_uri": "https://localhost:8080/",
          "height": 284
        },
        "outputId": "cde06434-feb5-42f5-8892-7407f8a333e1"
      },
      "source": [
        "plot_learning_curves(history.history['last_mse'], history.history['val_last_mse'])\n",
        "plt.show()"
      ],
      "execution_count": 69,
      "outputs": [
        {
          "output_type": "display_data",
          "data": {
            "image/png": "[encoded data removed]",
            "text/plain": [
              "<Figure size 432x288 with 1 Axes>"
            ]
          },
          "metadata": {
            "needs_background": "light"
          }
        }
      ]
    },
    {
      "cell_type": "code",
      "metadata": {
        "id": "z7NK0K5apR11"
      },
      "source": [
        "model.evaluate(X_teste, Y_teste)"
      ],
      "execution_count": null,
      "outputs": []
    },
    {
      "cell_type": "code",
      "metadata": {
        "id": "M14cvL6ROZgg",
        "colab": {
          "base_uri": "https://localhost:8080/",
          "height": 289
        },
        "outputId": "a7278c59-2ef3-43a8-da55-fdc8225f3369"
      },
      "source": [
        "n_teste = 0\n",
        "Y_pred = model.predict(X_teste)\n",
        "plot_multiple_forecasts(X_teste[n_teste, :, 0], Y_teste[n_teste, -1, :], Y_pred[n_teste, -1, :])\n",
        "plt.show()"
      ],
      "execution_count": 70,
      "outputs": [
        {
          "output_type": "display_data",
          "data": {
            "image/png": "[encoded data removed]",
            "text/plain": [
              "<Figure size 432x288 with 1 Axes>"
            ]
          },
          "metadata": {
            "needs_background": "light"
          }
        }
      ]
    },
    {
      "cell_type": "markdown",
      "metadata": {
        "id": "Q_sXu9lxPQka"
      },
      "source": [
        "# Processamento de Linguagem Natural\n",
        "\n",
        "Uma das aplicações mais importantes de RNNs é processar linguagem humana, justamente tratando as sequências de entrada e saída como representações escritas (ou faladas).\n",
        "\n",
        "Para serem competitivos, as arquiteturas de RNNs focadas em linguagem natural são bem mais complexas que os exemplos vistos até então. E, naturalmente, precisam ser treinadas com enormes conjuntos de textos, por exemplo.\n",
        "\n",
        "Então vamos demonstrar duas aplicações usando modelos pré-treinados e bastante sofisticados."
      ]
    },
    {
      "cell_type": "markdown",
      "metadata": {
        "id": "vAGMfqjrP-di"
      },
      "source": [
        "## Medição de similaridade entre frases em diversas línguas\n",
        "\n",
        "Vamos utilizar um modelo pré-treinado do Google chamado de `universal-sentence-encoder` [página oficial](https://tfhub.dev/google/universal-sentence-encoder-multilingual/3).\n",
        "\n",
        "Este é um exemplo de modelo que implementa **word embedding**, que recebe frases completas e as converte em representações numéricas. Essa representação pode então ser usada para medir a **similaridade semântica** entre frases. No caso específico desse modelo, está embutido o suporte para 16 idiomas diferentes.\n",
        "\n",
        "Então é possível não apenas medir a similaridades entre frases de mesmo sentido em português, mas também compará-las com traduções em outras línguas.\n",
        "\n",
        "Para isso precisamos primeiro instalar o pacote `tensorflow_text`, e depois acessar o modelo usando outro pacote (já disponível no Colaboratory) chamado de `tensorflow_hub`."
      ]
    },
    {
      "cell_type": "code",
      "metadata": {
        "id": "RpM7hJ9tRpMP",
        "colab": {
          "base_uri": "https://localhost:8080/"
        },
        "outputId": "cf0466a3-6e47-4ab3-d65c-b1df1628848e"
      },
      "source": [
        "! pip install tensorflow_text"
      ],
      "execution_count": 71,
      "outputs": [
        {
          "output_type": "stream",
          "name": "stdout",
          "text": [
            "Collecting tensorflow_text\n",
            "  Downloading tensorflow_text-2.6.0-cp37-cp37m-manylinux1_x86_64.whl (4.4 MB)\n",
            "\u001b[K     |████████████████████████████████| 4.4 MB 30.7 MB/s \n",
            "\u001b[?25hRequirement already satisfied: tensorflow<2.7,>=2.6.0 in /usr/local/lib/python3.7/dist-packages (from tensorflow_text) (2.6.0)\n",
            "Requirement already satisfied: tensorflow-hub>=0.8.0 in /usr/local/lib/python3.7/dist-packages (from tensorflow_text) (0.12.0)\n",
            "Requirement already satisfied: termcolor~=1.1.0 in /usr/local/lib/python3.7/dist-packages (from tensorflow<2.7,>=2.6.0->tensorflow_text) (1.1.0)\n",
            "Requirement already satisfied: gast==0.4.0 in /usr/local/lib/python3.7/dist-packages (from tensorflow<2.7,>=2.6.0->tensorflow_text) (0.4.0)\n",
            "Requirement already satisfied: grpcio<2.0,>=1.37.0 in /usr/local/lib/python3.7/dist-packages (from tensorflow<2.7,>=2.6.0->tensorflow_text) (1.40.0)\n",
            "Requirement already satisfied: wheel~=0.35 in /usr/local/lib/python3.7/dist-packages (from tensorflow<2.7,>=2.6.0->tensorflow_text) (0.37.0)\n",
            "Requirement already satisfied: google-pasta~=0.2 in /usr/local/lib/python3.7/dist-packages (from tensorflow<2.7,>=2.6.0->tensorflow_text) (0.2.0)\n",
            "Requirement already satisfied: typing-extensions~=3.7.4 in /usr/local/lib/python3.7/dist-packages (from tensorflow<2.7,>=2.6.0->tensorflow_text) (3.7.4.3)\n",
            "Requirement already satisfied: six~=1.15.0 in /usr/local/lib/python3.7/dist-packages (from tensorflow<2.7,>=2.6.0->tensorflow_text) (1.15.0)\n",
            "Requirement already satisfied: keras~=2.6 in /usr/local/lib/python3.7/dist-packages (from tensorflow<2.7,>=2.6.0->tensorflow_text) (2.6.0)\n",
            "Requirement already satisfied: astunparse~=1.6.3 in /usr/local/lib/python3.7/dist-packages (from tensorflow<2.7,>=2.6.0->tensorflow_text) (1.6.3)\n",
            "Requirement already satisfied: absl-py~=0.10 in /usr/local/lib/python3.7/dist-packages (from tensorflow<2.7,>=2.6.0->tensorflow_text) (0.12.0)\n",
            "Requirement already satisfied: tensorflow-estimator~=2.6 in /usr/local/lib/python3.7/dist-packages (from tensorflow<2.7,>=2.6.0->tensorflow_text) (2.6.0)\n",
            "Requirement already satisfied: clang~=5.0 in /usr/local/lib/python3.7/dist-packages (from tensorflow<2.7,>=2.6.0->tensorflow_text) (5.0)\n",
            "Requirement already satisfied: tensorboard~=2.6 in /usr/local/lib/python3.7/dist-packages (from tensorflow<2.7,>=2.6.0->tensorflow_text) (2.6.0)\n",
            "Requirement already satisfied: h5py~=3.1.0 in /usr/local/lib/python3.7/dist-packages (from tensorflow<2.7,>=2.6.0->tensorflow_text) (3.1.0)\n",
            "Requirement already satisfied: opt-einsum~=3.3.0 in /usr/local/lib/python3.7/dist-packages (from tensorflow<2.7,>=2.6.0->tensorflow_text) (3.3.0)\n",
            "Requirement already satisfied: flatbuffers~=1.12.0 in /usr/local/lib/python3.7/dist-packages (from tensorflow<2.7,>=2.6.0->tensorflow_text) (1.12)\n",
            "Requirement already satisfied: wrapt~=1.12.1 in /usr/local/lib/python3.7/dist-packages (from tensorflow<2.7,>=2.6.0->tensorflow_text) (1.12.1)\n",
            "Requirement already satisfied: numpy~=1.19.2 in /usr/local/lib/python3.7/dist-packages (from tensorflow<2.7,>=2.6.0->tensorflow_text) (1.19.5)\n",
            "Requirement already satisfied: keras-preprocessing~=1.1.2 in /usr/local/lib/python3.7/dist-packages (from tensorflow<2.7,>=2.6.0->tensorflow_text) (1.1.2)\n",
            "Requirement already satisfied: protobuf>=3.9.2 in /usr/local/lib/python3.7/dist-packages (from tensorflow<2.7,>=2.6.0->tensorflow_text) (3.17.3)\n",
            "Requirement already satisfied: cached-property in /usr/local/lib/python3.7/dist-packages (from h5py~=3.1.0->tensorflow<2.7,>=2.6.0->tensorflow_text) (1.5.2)\n",
            "Requirement already satisfied: google-auth<2,>=1.6.3 in /usr/local/lib/python3.7/dist-packages (from tensorboard~=2.6->tensorflow<2.7,>=2.6.0->tensorflow_text) (1.35.0)\n",
            "Requirement already satisfied: google-auth-oauthlib<0.5,>=0.4.1 in /usr/local/lib/python3.7/dist-packages (from tensorboard~=2.6->tensorflow<2.7,>=2.6.0->tensorflow_text) (0.4.6)\n",
            "Requirement already satisfied: markdown>=2.6.8 in /usr/local/lib/python3.7/dist-packages (from tensorboard~=2.6->tensorflow<2.7,>=2.6.0->tensorflow_text) (3.3.4)\n",
            "Requirement already satisfied: setuptools>=41.0.0 in /usr/local/lib/python3.7/dist-packages (from tensorboard~=2.6->tensorflow<2.7,>=2.6.0->tensorflow_text) (57.4.0)\n",
            "Requirement already satisfied: tensorboard-data-server<0.7.0,>=0.6.0 in /usr/local/lib/python3.7/dist-packages (from tensorboard~=2.6->tensorflow<2.7,>=2.6.0->tensorflow_text) (0.6.1)\n",
            "Requirement already satisfied: tensorboard-plugin-wit>=1.6.0 in /usr/local/lib/python3.7/dist-packages (from tensorboard~=2.6->tensorflow<2.7,>=2.6.0->tensorflow_text) (1.8.0)\n",
            "Requirement already satisfied: werkzeug>=0.11.15 in /usr/local/lib/python3.7/dist-packages (from tensorboard~=2.6->tensorflow<2.7,>=2.6.0->tensorflow_text) (1.0.1)\n",
            "Requirement already satisfied: requests<3,>=2.21.0 in /usr/local/lib/python3.7/dist-packages (from tensorboard~=2.6->tensorflow<2.7,>=2.6.0->tensorflow_text) (2.23.0)\n",
            "Requirement already satisfied: cachetools<5.0,>=2.0.0 in /usr/local/lib/python3.7/dist-packages (from google-auth<2,>=1.6.3->tensorboard~=2.6->tensorflow<2.7,>=2.6.0->tensorflow_text) (4.2.2)\n",
            "Requirement already satisfied: rsa<5,>=3.1.4 in /usr/local/lib/python3.7/dist-packages (from google-auth<2,>=1.6.3->tensorboard~=2.6->tensorflow<2.7,>=2.6.0->tensorflow_text) (4.7.2)\n",
            "Requirement already satisfied: pyasn1-modules>=0.2.1 in /usr/local/lib/python3.7/dist-packages (from google-auth<2,>=1.6.3->tensorboard~=2.6->tensorflow<2.7,>=2.6.0->tensorflow_text) (0.2.8)\n",
            "Requirement already satisfied: requests-oauthlib>=0.7.0 in /usr/local/lib/python3.7/dist-packages (from google-auth-oauthlib<0.5,>=0.4.1->tensorboard~=2.6->tensorflow<2.7,>=2.6.0->tensorflow_text) (1.3.0)\n",
            "Requirement already satisfied: importlib-metadata in /usr/local/lib/python3.7/dist-packages (from markdown>=2.6.8->tensorboard~=2.6->tensorflow<2.7,>=2.6.0->tensorflow_text) (4.8.1)\n",
            "Requirement already satisfied: pyasn1<0.5.0,>=0.4.6 in /usr/local/lib/python3.7/dist-packages (from pyasn1-modules>=0.2.1->google-auth<2,>=1.6.3->tensorboard~=2.6->tensorflow<2.7,>=2.6.0->tensorflow_text) (0.4.8)\n",
            "Requirement already satisfied: urllib3!=1.25.0,!=1.25.1,<1.26,>=1.21.1 in /usr/local/lib/python3.7/dist-packages (from requests<3,>=2.21.0->tensorboard~=2.6->tensorflow<2.7,>=2.6.0->tensorflow_text) (1.24.3)\n",
            "Requirement already satisfied: idna<3,>=2.5 in /usr/local/lib/python3.7/dist-packages (from requests<3,>=2.21.0->tensorboard~=2.6->tensorflow<2.7,>=2.6.0->tensorflow_text) (2.10)\n",
            "Requirement already satisfied: certifi>=2017.4.17 in /usr/local/lib/python3.7/dist-packages (from requests<3,>=2.21.0->tensorboard~=2.6->tensorflow<2.7,>=2.6.0->tensorflow_text) (2021.5.30)\n",
            "Requirement already satisfied: chardet<4,>=3.0.2 in /usr/local/lib/python3.7/dist-packages (from requests<3,>=2.21.0->tensorboard~=2.6->tensorflow<2.7,>=2.6.0->tensorflow_text) (3.0.4)\n",
            "Requirement already satisfied: oauthlib>=3.0.0 in /usr/local/lib/python3.7/dist-packages (from requests-oauthlib>=0.7.0->google-auth-oauthlib<0.5,>=0.4.1->tensorboard~=2.6->tensorflow<2.7,>=2.6.0->tensorflow_text) (3.1.1)\n",
            "Requirement already satisfied: zipp>=0.5 in /usr/local/lib/python3.7/dist-packages (from importlib-metadata->markdown>=2.6.8->tensorboard~=2.6->tensorflow<2.7,>=2.6.0->tensorflow_text) (3.5.0)\n",
            "Installing collected packages: tensorflow-text\n",
            "Successfully installed tensorflow-text-2.6.0\n"
          ]
        }
      ]
    },
    {
      "cell_type": "code",
      "metadata": {
        "id": "EdAsoHFkP9ej"
      },
      "source": [
        "import tensorflow_text\n",
        "import tensorflow_hub as hub"
      ],
      "execution_count": 72,
      "outputs": []
    },
    {
      "cell_type": "code",
      "metadata": {
        "id": "qYXYYb5yR682"
      },
      "source": [
        "# download do modelo\n",
        "embed = hub.load('https://tfhub.dev/google/universal-sentence-encoder-multilingual/3')"
      ],
      "execution_count": 73,
      "outputs": []
    },
    {
      "cell_type": "code",
      "metadata": {
        "id": "0LTPvOxwSa7V"
      },
      "source": [
        "# frases semelhantes\n",
        "e1 = embed(['Eu gosto de sorvete.'])\n",
        "e2 = embed(['Eu acho sorvete uma delícia.', 'Sorvete é bom.', 'Sorvete é muito bom.', 'Sorvete não é bom.'])"
      ],
      "execution_count": 74,
      "outputs": []
    },
    {
      "cell_type": "code",
      "metadata": {
        "id": "DqyAR9cJSrSC",
        "colab": {
          "base_uri": "https://localhost:8080/"
        },
        "outputId": "e6c95710-434f-4cb0-bb2f-174a5e4b3b5f"
      },
      "source": [
        "# matrix de similaridade\n",
        "print(np.inner(e1, e2))"
      ],
      "execution_count": 75,
      "outputs": [
        {
          "output_type": "stream",
          "name": "stdout",
          "text": [
            "[[0.87822694 0.66143066 0.6521292  0.5769995 ]]\n"
          ]
        }
      ]
    },
    {
      "cell_type": "code",
      "metadata": {
        "id": "WKNcFg4vSCYV"
      },
      "source": [
        "# traduções\n",
        "e_inglês = embed(['dog', 'Puppies are nice.', 'I enjoy taking long walks along the beach with my dog.'])\n",
        "e_português = embed(['cão', 'Cachorrinhos são legais.', 'Eu gosto de fazer longas caminhadas na praia com o meu cão.'])"
      ],
      "execution_count": 76,
      "outputs": []
    },
    {
      "cell_type": "code",
      "metadata": {
        "id": "4I2jbdMgU4Wp",
        "colab": {
          "base_uri": "https://localhost:8080/"
        },
        "outputId": "dc78ad01-785f-4525-dd7d-8b248860bff0"
      },
      "source": [
        "# matrix de similaridade\n",
        "print(np.inner(e_inglês, e_português))"
      ],
      "execution_count": 77,
      "outputs": [
        {
          "output_type": "stream",
          "name": "stdout",
          "text": [
            "[[0.94220155 0.27447775 0.28095925]\n",
            " [0.40962547 0.60502017 0.26476216]\n",
            " [0.2334198  0.20695932 0.8429813 ]]\n"
          ]
        }
      ]
    },
    {
      "cell_type": "markdown",
      "metadata": {
        "id": "m16cak1ti_DD"
      },
      "source": [
        "## Completar frases\n",
        "\n",
        "O exemplo abaixo usa o pacote `transformers` e um modelo pré-treinado para a Língua Portuguesa chamado [BERTimbau](https://huggingface.co/neuralmind/bert-base-portuguese-cased) para completar palavras faltantes em frases.\n",
        "\n",
        "Este é um exemplo de uso da nova arquitetura de redes neurais chamada de [Transformer](https://en.wikipedia.org/wiki/Transformer_(machine_learning_model)), que generaliza os modelos sequenciais de RNN com o conceito de **mecanismos de atenção**."
      ]
    },
    {
      "cell_type": "code",
      "metadata": {
        "id": "d875pJPsWU1v",
        "colab": {
          "base_uri": "https://localhost:8080/"
        },
        "outputId": "1c463a6d-2f59-45cb-a323-a24ad0ea2d48"
      },
      "source": [
        "! pip install transformers"
      ],
      "execution_count": 78,
      "outputs": [
        {
          "output_type": "stream",
          "name": "stdout",
          "text": [
            "Collecting transformers\n",
            "  Downloading transformers-4.11.2-py3-none-any.whl (2.9 MB)\n",
            "\u001b[K     |████████████████████████████████| 2.9 MB 39.4 MB/s \n",
            "\u001b[?25hRequirement already satisfied: regex!=2019.12.17 in /usr/local/lib/python3.7/dist-packages (from transformers) (2019.12.20)\n",
            "Requirement already satisfied: numpy>=1.17 in /usr/local/lib/python3.7/dist-packages (from transformers) (1.19.5)\n",
            "Collecting sacremoses\n",
            "  Downloading sacremoses-0.0.46-py3-none-any.whl (895 kB)\n",
            "\u001b[K     |████████████████████████████████| 895 kB 35.1 MB/s \n",
            "\u001b[?25hRequirement already satisfied: importlib-metadata in /usr/local/lib/python3.7/dist-packages (from transformers) (4.8.1)\n",
            "Requirement already satisfied: requests in /usr/local/lib/python3.7/dist-packages (from transformers) (2.23.0)\n",
            "Requirement already satisfied: packaging>=20.0 in /usr/local/lib/python3.7/dist-packages (from transformers) (21.0)\n",
            "Collecting tokenizers<0.11,>=0.10.1\n",
            "  Downloading tokenizers-0.10.3-cp37-cp37m-manylinux_2_5_x86_64.manylinux1_x86_64.manylinux_2_12_x86_64.manylinux2010_x86_64.whl (3.3 MB)\n",
            "\u001b[K     |████████████████████████████████| 3.3 MB 28.9 MB/s \n",
            "\u001b[?25hCollecting pyyaml>=5.1\n",
            "  Downloading PyYAML-5.4.1-cp37-cp37m-manylinux1_x86_64.whl (636 kB)\n",
            "\u001b[K     |████████████████████████████████| 636 kB 43.6 MB/s \n",
            "\u001b[?25hRequirement already satisfied: tqdm>=4.27 in /usr/local/lib/python3.7/dist-packages (from transformers) (4.62.3)\n",
            "Requirement already satisfied: filelock in /usr/local/lib/python3.7/dist-packages (from transformers) (3.0.12)\n",
            "Collecting huggingface-hub>=0.0.17\n",
            "  Downloading huggingface_hub-0.0.17-py3-none-any.whl (52 kB)\n",
            "\u001b[K     |████████████████████████████████| 52 kB 1.7 MB/s \n",
            "\u001b[?25hRequirement already satisfied: typing-extensions in /usr/local/lib/python3.7/dist-packages (from huggingface-hub>=0.0.17->transformers) (3.7.4.3)\n",
            "Requirement already satisfied: pyparsing>=2.0.2 in /usr/local/lib/python3.7/dist-packages (from packaging>=20.0->transformers) (2.4.7)\n",
            "Requirement already satisfied: zipp>=0.5 in /usr/local/lib/python3.7/dist-packages (from importlib-metadata->transformers) (3.5.0)\n",
            "Requirement already satisfied: idna<3,>=2.5 in /usr/local/lib/python3.7/dist-packages (from requests->transformers) (2.10)\n",
            "Requirement already satisfied: certifi>=2017.4.17 in /usr/local/lib/python3.7/dist-packages (from requests->transformers) (2021.5.30)\n",
            "Requirement already satisfied: chardet<4,>=3.0.2 in /usr/local/lib/python3.7/dist-packages (from requests->transformers) (3.0.4)\n",
            "Requirement already satisfied: urllib3!=1.25.0,!=1.25.1,<1.26,>=1.21.1 in /usr/local/lib/python3.7/dist-packages (from requests->transformers) (1.24.3)\n",
            "Requirement already satisfied: joblib in /usr/local/lib/python3.7/dist-packages (from sacremoses->transformers) (1.0.1)\n",
            "Requirement already satisfied: six in /usr/local/lib/python3.7/dist-packages (from sacremoses->transformers) (1.15.0)\n",
            "Requirement already satisfied: click in /usr/local/lib/python3.7/dist-packages (from sacremoses->transformers) (7.1.2)\n",
            "Installing collected packages: tokenizers, sacremoses, pyyaml, huggingface-hub, transformers\n",
            "  Attempting uninstall: pyyaml\n",
            "    Found existing installation: PyYAML 3.13\n",
            "    Uninstalling PyYAML-3.13:\n",
            "      Successfully uninstalled PyYAML-3.13\n",
            "Successfully installed huggingface-hub-0.0.17 pyyaml-5.4.1 sacremoses-0.0.46 tokenizers-0.10.3 transformers-4.11.2\n"
          ]
        }
      ]
    },
    {
      "cell_type": "code",
      "metadata": {
        "id": "DtmMD5LfWUvg"
      },
      "source": [
        "from transformers import AutoModelForMaskedLM\n",
        "from transformers import AutoTokenizer"
      ],
      "execution_count": 79,
      "outputs": []
    },
    {
      "cell_type": "code",
      "metadata": {
        "id": "ERo4ClvjWytY",
        "colab": {
          "base_uri": "https://localhost:8080/",
          "height": 281,
          "referenced_widgets": [
            "7120debc4c124fb68410bf5d0004043e",
            "3df13e268620431fae3e24280f79c2e2",
            "4c0eab4df4884a52b657f69e9331622a",
            "6f1ab8594099436684444c20dd8dd834",
            "a88af0c26a634398a5184c4db73c7285",
            "8dabdbc2606c435d8b339078ea26ce93",
            "4b726c1c5738463c9adac43365960907",
            "a60a7c9df84b4ab7873717d4cd4998ce",
            "733d82a969614293a67f938ba32f2d27",
            "e4238eaff9ad4b399e3107a38501d925",
            "6dc9ae85ca394c8bbb0ffb6bd1c93b13",
            "4304acd965164a25b83825cf248111c9",
            "414e63f967594366b578d03ab9ce5953",
            "6a63d32bebb4431f9cf9dd8bd3cb0e74",
            "8123f1d7f7644ca9a499e5c56d4e79cf",
            "b9d43cb489d440929c59aaab30570dfb",
            "43fde4d63dd74aa6add22bddda5b6513",
            "6f5003fcd71046e28a4ba2b5f4ad5347",
            "3970b7bc855e4e2884e948ee9ed88c74",
            "0d8f8f6543fb4c9a9ed16a65dfa598a5",
            "4c7e9f4665f14050ac423b0473b62164",
            "a64af2aacfc8430c9e7090b28e71598e",
            "7fa9fbd768a048df80c45589bc4e57b0",
            "19fb4cf4476b4bae9f383fad35f656ee",
            "fa61af48eb5e4a52ac16158d3328111d",
            "079f2a290f744ee7b26838707bb95775",
            "90b2671a2b544e279de2415220ceb21b",
            "20ac41d31d2140ea9cd4130149ed196b",
            "c9b200898adf4adabe2fad19f9d6ec17",
            "e09db36e180f4f30a33311a0ced8713d",
            "a3dbdb8a8a944a31a1e8c8cd91e2e2f1",
            "d16c87fc52864622a3a5011dc53795c4",
            "9db6634c460f461fad10d3d607fdeaea",
            "f4d1128d45aa4a3fb5f9c835bc7c4536",
            "3969cbdce54f446c89aec9796612943a",
            "971e1f0084c84c008e07ae891d79a8eb",
            "ab2b02dcc75444d7808ec615ec2f7112",
            "4cade444ec4f471dbce1ea361cfdfc99",
            "9b78dd53993d4b619ce598cda3866a21",
            "093e74a00b594da9a95e67c8499d6d72",
            "e27908a55538441ea282f7453210ff01",
            "67d63afb511d47358b9a2fd2be6e854a",
            "c67503261c39403c8275d34d593da4c0",
            "cfd6f2e895584bbe8ea6bdbe8833c0ef",
            "52f89d18f4ab412c994a8c85389a98ae",
            "7635bee170734b41a6514e246de456ca",
            "948a0901e11f4d8ba2c9694495b7118a",
            "a2605227ec264e15aebbc4f1a7d8f82c",
            "8b9c20d8b1824d1babb502e6dfd76f55",
            "edfd617e664e44048a3e422e2914addf",
            "2983417e54064113a224b034f7e8725a",
            "85428f12cc2847799a16ed5fc8d68cfe",
            "18013b004e12400e822d50d9cd155b10",
            "53d2fd8825524b8a8ba4d8da6e369afd",
            "4aeda0c05ce142ea81904a406c561e61",
            "d1f39d1b53ef458a8925b8e778a29ebc",
            "e7b413386aaa40a9a12bf5e903a12d14",
            "45f569ddde87452ba3a966475ea4bae3",
            "f37d797e9f4749a7a50e701b3abb57a9",
            "deef5b6adc044a37b3b8c4f926d5b5e1",
            "4ce1bfd5a2f1470c92001c87502759bc",
            "97097d01c2ed4b3890a5bde9b5d5f685",
            "b11a45e3c92a4145b6a6f5dfa0fc820c",
            "2a5a4f314dcd4d5cb696c17bc5904edb",
            "cb0656466fef437fa77bee4c11b89b98",
            "4b565ab3772a470b8938e7c41ae46d42"
          ]
        },
        "outputId": "b4b1f263-1ff5-4eca-e5ef-9b762319127e"
      },
      "source": [
        "model = AutoModelForMaskedLM.from_pretrained('neuralmind/bert-base-portuguese-cased')\n",
        "tokenizer = AutoTokenizer.from_pretrained('neuralmind/bert-base-portuguese-cased') #, do_lower_case=False)"
      ],
      "execution_count": 80,
      "outputs": [
        {
          "output_type": "display_data",
          "data": {
            "application/vnd.jupyter.widget-view+json": {
              "model_id": "7120debc4c124fb68410bf5d0004043e",
              "version_minor": 0,
              "version_major": 2
            },
            "text/plain": [
              "Downloading:   0%|          | 0.00/647 [00:00<?, ?B/s]"
            ]
          },
          "metadata": {}
        },
        {
          "output_type": "display_data",
          "data": {
            "application/vnd.jupyter.widget-view+json": {
              "model_id": "4304acd965164a25b83825cf248111c9",
              "version_minor": 0,
              "version_major": 2
            },
            "text/plain": [
              "Downloading:   0%|          | 0.00/418M [00:00<?, ?B/s]"
            ]
          },
          "metadata": {}
        },
        {
          "output_type": "stream",
          "name": "stderr",
          "text": [
            "Some weights of the model checkpoint at neuralmind/bert-base-portuguese-cased were not used when initializing BertForMaskedLM: ['cls.seq_relationship.bias', 'cls.seq_relationship.weight']\n",
            "- This IS expected if you are initializing BertForMaskedLM from the checkpoint of a model trained on another task or with another architecture (e.g. initializing a BertForSequenceClassification model from a BertForPreTraining model).\n",
            "- This IS NOT expected if you are initializing BertForMaskedLM from the checkpoint of a model that you expect to be exactly identical (initializing a BertForSequenceClassification model from a BertForSequenceClassification model).\n"
          ]
        },
        {
          "output_type": "display_data",
          "data": {
            "application/vnd.jupyter.widget-view+json": {
              "model_id": "7fa9fbd768a048df80c45589bc4e57b0",
              "version_minor": 0,
              "version_major": 2
            },
            "text/plain": [
              "Downloading:   0%|          | 0.00/43.0 [00:00<?, ?B/s]"
            ]
          },
          "metadata": {}
        },
        {
          "output_type": "display_data",
          "data": {
            "application/vnd.jupyter.widget-view+json": {
              "model_id": "f4d1128d45aa4a3fb5f9c835bc7c4536",
              "version_minor": 0,
              "version_major": 2
            },
            "text/plain": [
              "Downloading:   0%|          | 0.00/205k [00:00<?, ?B/s]"
            ]
          },
          "metadata": {}
        },
        {
          "output_type": "display_data",
          "data": {
            "application/vnd.jupyter.widget-view+json": {
              "model_id": "52f89d18f4ab412c994a8c85389a98ae",
              "version_minor": 0,
              "version_major": 2
            },
            "text/plain": [
              "Downloading:   0%|          | 0.00/2.00 [00:00<?, ?B/s]"
            ]
          },
          "metadata": {}
        },
        {
          "output_type": "display_data",
          "data": {
            "application/vnd.jupyter.widget-view+json": {
              "model_id": "d1f39d1b53ef458a8925b8e778a29ebc",
              "version_minor": 0,
              "version_major": 2
            },
            "text/plain": [
              "Downloading:   0%|          | 0.00/112 [00:00<?, ?B/s]"
            ]
          },
          "metadata": {}
        }
      ]
    },
    {
      "cell_type": "code",
      "metadata": {
        "id": "iMW7efILWWWx"
      },
      "source": [
        "from transformers import pipeline\n",
        "\n",
        "completar = pipeline('fill-mask', model=model, tokenizer=tokenizer)"
      ],
      "execution_count": 81,
      "outputs": []
    },
    {
      "cell_type": "code",
      "metadata": {
        "id": "PnZHCplCc8XV",
        "colab": {
          "base_uri": "https://localhost:8080/"
        },
        "outputId": "eabcc043-f29e-49a0-f638-212f3159cc73"
      },
      "source": [
        "completar('Tinha uma [MASK] no meio do caminho.', top_k=2)"
      ],
      "execution_count": 82,
      "outputs": [
        {
          "output_type": "execute_result",
          "data": {
            "text/plain": [
              "[{'score': 0.14287810027599335,\n",
              "  'sequence': 'Tinha uma pedra no meio do caminho.',\n",
              "  'token': 5028,\n",
              "  'token_str': 'pedra'},\n",
              " {'score': 0.06213385984301567,\n",
              "  'sequence': 'Tinha uma árvore no meio do caminho.',\n",
              "  'token': 7411,\n",
              "  'token_str': 'árvore'}]"
            ]
          },
          "metadata": {},
          "execution_count": 82
        }
      ]
    },
    {
      "cell_type": "code",
      "metadata": {
        "id": "0oVsdObQiHv-",
        "colab": {
          "base_uri": "https://localhost:8080/"
        },
        "outputId": "aed9f529-be81-471a-cbbd-d98370d6b65a"
      },
      "source": [
        "completar('Colocar [MASK] no café.', top_k=5)"
      ],
      "execution_count": 83,
      "outputs": [
        {
          "output_type": "execute_result",
          "data": {
            "text/plain": [
              "[{'score': 0.22539633512496948,\n",
              "  'sequence': 'Colocar água no café.',\n",
              "  'token': 1991,\n",
              "  'token_str': 'água'},\n",
              " {'score': 0.2130902260541916,\n",
              "  'sequence': 'Colocar açúcar no café.',\n",
              "  'token': 11755,\n",
              "  'token_str': 'açúcar'},\n",
              " {'score': 0.15163828432559967,\n",
              "  'sequence': 'Colocar sal no café.',\n",
              "  'token': 1390,\n",
              "  'token_str': 'sal'},\n",
              " {'score': 0.08424992114305496,\n",
              "  'sequence': 'Colocar gelo no café.',\n",
              "  'token': 8096,\n",
              "  'token_str': 'gelo'},\n",
              " {'score': 0.03817732632160187,\n",
              "  'sequence': 'Colocar tudo no café.',\n",
              "  'token': 2745,\n",
              "  'token_str': 'tudo'}]"
            ]
          },
          "metadata": {},
          "execution_count": 83
        }
      ]
    },
    {
      "cell_type": "markdown",
      "metadata": {
        "id": "AYJP3VxzvCe0"
      },
      "source": [
        "## Geração de texto\n",
        "\n",
        "Para finalizar, usando o mesmo modelo e mecanismo de codificação/decodificação de frases, vamos extrapolar as palavras de uma frase, assim como diversos valores futuros poderiam ser previstos em uma série temporal."
      ]
    },
    {
      "cell_type": "code",
      "metadata": {
        "id": "4KMNjnh3issw"
      },
      "source": [
        "from textwrap import wrap"
      ],
      "execution_count": 84,
      "outputs": []
    },
    {
      "cell_type": "code",
      "metadata": {
        "id": "tJc3llybtgoH"
      },
      "source": [
        "# codifica uma frase de Machado de Assis (Memórias Póstumas de Brás Cubas)\n",
        "entrada = tokenizer.encode('Não te irrites se te pagarem mal um benefício: antes cair das nuvens, que de um terceiro andar',\n",
        "                           add_special_tokens=False,\n",
        "                           return_tensors='pt')"
      ],
      "execution_count": 85,
      "outputs": []
    },
    {
      "cell_type": "code",
      "metadata": {
        "id": "BuDXF4BjsxTP"
      },
      "source": [
        "# gera texto com o tamanho especificado\n",
        "saída = model.generate(entrada, \n",
        "                       max_length=50,\n",
        "                       num_beams=5,\n",
        "                       no_repeat_ngram_size=2,\n",
        "                       early_stopping=True)"
      ],
      "execution_count": 86,
      "outputs": []
    },
    {
      "cell_type": "code",
      "metadata": {
        "id": "n3oAmnkwsxQL",
        "colab": {
          "base_uri": "https://localhost:8080/"
        },
        "outputId": "545fc997-dc5c-4b11-a4e1-1ff36a42b79d"
      },
      "source": [
        "# decodifica a saída\n",
        "texto = tokenizer.decode(saída[0], skip_special_tokens=True)\n",
        "for linha in wrap(texto):\n",
        "    print(linha)"
      ],
      "execution_count": 87,
      "outputs": [
        {
          "output_type": "stream",
          "name": "stdout",
          "text": [
            "Não te irrites se te pagarem mal um benefício : antes cair das nuvens,\n",
            "que de um terceiro andar do prédio, ou melhor, antes de ir embora do\n",
            "trabalho do chefe, e ainda mais, depois disso, porque, se tu pagar mal\n"
          ]
        }
      ]
    }
  ]
}