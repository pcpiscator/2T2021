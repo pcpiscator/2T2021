{
  "nbformat": 4,
  "nbformat_minor": 0,
  "metadata": {
    "colab": {
      "name": "Experiências TCE PB - Limpeza e Tratamento da Base",
      "provenance": [],
      "collapsed_sections": [],
      "include_colab_link": true
    },
    "kernelspec": {
      "name": "python3",
      "display_name": "Python 3"
    },
    "language_info": {
      "name": "python"
    }
  },
  "cells": [
    {
      "cell_type": "markdown",
      "metadata": {
        "id": "view-in-github",
        "colab_type": "text"
      },
      "source": [
        "<a href=\"https://colab.research.google.com/github/pcpiscator/2T2021/blob/main/Experi%C3%AAncias_TCE_PB_Limpeza_e_Tratamento_da_Base%20TESTE01.ipynb\" target=\"_parent\"><img src=\"https://colab.research.google.com/assets/colab-badge.svg\" alt=\"Open In Colab\"/></a>"
      ]
    },
    {
      "cell_type": "code",
      "metadata": {
        "id": "2W2TvvOK42kg",
        "colab": {
          "base_uri": "https://localhost:8080/"
        },
        "outputId": "263619fe-0f72-4fec-d22e-3db2a14fd86b"
      },
      "source": [
        "pip install mpl_finance"
      ],
      "execution_count": 1,
      "outputs": [
        {
          "output_type": "stream",
          "name": "stdout",
          "text": [
            "Collecting mpl_finance\n",
            "  Downloading mpl_finance-0.10.1-py3-none-any.whl (8.4 kB)\n",
            "Requirement already satisfied: matplotlib in /usr/local/lib/python3.7/dist-packages (from mpl_finance) (3.2.2)\n",
            "Requirement already satisfied: pyparsing!=2.0.4,!=2.1.2,!=2.1.6,>=2.0.1 in /usr/local/lib/python3.7/dist-packages (from matplotlib->mpl_finance) (3.0.6)\n",
            "Requirement already satisfied: cycler>=0.10 in /usr/local/lib/python3.7/dist-packages (from matplotlib->mpl_finance) (0.11.0)\n",
            "Requirement already satisfied: kiwisolver>=1.0.1 in /usr/local/lib/python3.7/dist-packages (from matplotlib->mpl_finance) (1.3.2)\n",
            "Requirement already satisfied: numpy>=1.11 in /usr/local/lib/python3.7/dist-packages (from matplotlib->mpl_finance) (1.19.5)\n",
            "Requirement already satisfied: python-dateutil>=2.1 in /usr/local/lib/python3.7/dist-packages (from matplotlib->mpl_finance) (2.8.2)\n",
            "Requirement already satisfied: six>=1.5 in /usr/local/lib/python3.7/dist-packages (from python-dateutil>=2.1->matplotlib->mpl_finance) (1.15.0)\n",
            "Installing collected packages: mpl-finance\n",
            "Successfully installed mpl-finance-0.10.1\n"
          ]
        }
      ]
    },
    {
      "cell_type": "code",
      "metadata": {
        "id": "3sO-ERn958je"
      },
      "source": [
        "# bibliotecas para análise de dados\n",
        "import numpy as np\n",
        "import pandas as pd\n",
        "# bibliotecas para gráficos \n",
        "import matplotlib.pyplot as plt\n",
        "import plotly.graph_objs as go\n",
        "import plotly.offline as py\n",
        "pd.options.display.max_columns = None\n",
        "pd.options.display.max_rows = None\n",
        "pd.options.display.float_format = '{:.2f}'.format\n",
        "# bibliotecas para visualização\n",
        "import matplotlib.pyplot as plt\n",
        "import seaborn as sns\n",
        "%matplotlib inline\n",
        "import matplotlib.dates as mpl_dates\n",
        "import sklearn\n",
        "# configuração para ignorar mensagens de advertência (warning). \n",
        "import warnings\n",
        "warnings.filterwarnings('ignore')\n",
        "\n",
        "\n",
        "plt.style.use('ggplot')"
      ],
      "execution_count": 2,
      "outputs": []
    },
    {
      "cell_type": "code",
      "metadata": {
        "id": "iIJRcq-m9fsx"
      },
      "source": [
        "data = pd.read_csv('https://raw.githubusercontent.com/pcpiscator/2T2021/main/tce_pb_L.csv', sep=';', encoding='latin_1', low_memory=False)"
      ],
      "execution_count": 3,
      "outputs": []
    },
    {
      "cell_type": "code",
      "source": [
        "data.head(10)"
      ],
      "metadata": {
        "id": "sQxM8ahBBuRV",
        "outputId": "7e8d2452-0049-42e2-fbce-ae4211ebab92",
        "colab": {
          "base_uri": "https://localhost:8080/",
          "height": 618
        }
      },
      "execution_count": 9,
      "outputs": [
        {
          "output_type": "execute_result",
          "data": {
            "text/html": [
              "\n",
              "  <div id=\"df-4cbbb692-f08f-4c0c-bba3-664f4b0893c8\">\n",
              "    <div class=\"colab-df-container\">\n",
              "      <div>\n",
              "<style scoped>\n",
              "    .dataframe tbody tr th:only-of-type {\n",
              "        vertical-align: middle;\n",
              "    }\n",
              "\n",
              "    .dataframe tbody tr th {\n",
              "        vertical-align: top;\n",
              "    }\n",
              "\n",
              "    .dataframe thead th {\n",
              "        text-align: right;\n",
              "    }\n",
              "</style>\n",
              "<table border=\"1\" class=\"dataframe\">\n",
              "  <thead>\n",
              "    <tr style=\"text-align: right;\">\n",
              "      <th></th>\n",
              "      <th>protocolo</th>\n",
              "      <th>numero_licitacao</th>\n",
              "      <th>modalidade</th>\n",
              "      <th>cd_ugestora</th>\n",
              "      <th>valor_licitado</th>\n",
              "      <th>ano_homologacao</th>\n",
              "      <th>cpf_cnpj_proponente</th>\n",
              "      <th>valor_proposta</th>\n",
              "      <th>situacao_proposta</th>\n",
              "      <th>Unnamed: 9</th>\n",
              "    </tr>\n",
              "  </thead>\n",
              "  <tbody>\n",
              "    <tr>\n",
              "      <th>0</th>\n",
              "      <td>Doc. 00008/19</td>\n",
              "      <td>00002/2019</td>\n",
              "      <td>Pregao Presencial</td>\n",
              "      <td>201134</td>\n",
              "      <td>7.320.000,00</td>\n",
              "      <td>2019</td>\n",
              "      <td>13258973000177</td>\n",
              "      <td>7.800.000,00</td>\n",
              "      <td>Perdedora</td>\n",
              "      <td>nan</td>\n",
              "    </tr>\n",
              "    <tr>\n",
              "      <th>1</th>\n",
              "      <td>Doc. 00008/19</td>\n",
              "      <td>00002/2019</td>\n",
              "      <td>Pregao Presencial</td>\n",
              "      <td>201134</td>\n",
              "      <td>500.000,00</td>\n",
              "      <td>2019</td>\n",
              "      <td>16747441000191</td>\n",
              "      <td>7.320.000,00</td>\n",
              "      <td>Vencedora</td>\n",
              "      <td>nan</td>\n",
              "    </tr>\n",
              "    <tr>\n",
              "      <th>2</th>\n",
              "      <td>Doc. 00008/19</td>\n",
              "      <td>00002/2019</td>\n",
              "      <td>Pregao Presencial</td>\n",
              "      <td>201134</td>\n",
              "      <td>7.320.000,00</td>\n",
              "      <td>2019</td>\n",
              "      <td>21969026000112</td>\n",
              "      <td>7.800.000,00</td>\n",
              "      <td>Perdedora</td>\n",
              "      <td>nan</td>\n",
              "    </tr>\n",
              "    <tr>\n",
              "      <th>3</th>\n",
              "      <td>Doc. 00008/19</td>\n",
              "      <td>00002/2019</td>\n",
              "      <td>Pregao Presencial</td>\n",
              "      <td>201134</td>\n",
              "      <td>7.320.000,00</td>\n",
              "      <td>2019</td>\n",
              "      <td>40945446000103</td>\n",
              "      <td>7.800.000,00</td>\n",
              "      <td>Perdedora</td>\n",
              "      <td>nan</td>\n",
              "    </tr>\n",
              "    <tr>\n",
              "      <th>4</th>\n",
              "      <td>Doc. 00038/19</td>\n",
              "      <td>00003/2019</td>\n",
              "      <td>Pregao Presencial</td>\n",
              "      <td>201134</td>\n",
              "      <td>1.100.000,00</td>\n",
              "      <td>2019</td>\n",
              "      <td>16747441000191</td>\n",
              "      <td>1.680.000,00</td>\n",
              "      <td>Vencedora</td>\n",
              "      <td>nan</td>\n",
              "    </tr>\n",
              "    <tr>\n",
              "      <th>5</th>\n",
              "      <td>Doc. 00134/19</td>\n",
              "      <td>00001/2019</td>\n",
              "      <td>Pregao Presencial</td>\n",
              "      <td>201016</td>\n",
              "      <td>1.072.500,00</td>\n",
              "      <td>2019</td>\n",
              "      <td>3882108000224</td>\n",
              "      <td>55.046.500,00</td>\n",
              "      <td>Vencedora</td>\n",
              "      <td>nan</td>\n",
              "    </tr>\n",
              "    <tr>\n",
              "      <th>6</th>\n",
              "      <td>Doc. 00134/19</td>\n",
              "      <td>00001/2019</td>\n",
              "      <td>Pregao Presencial</td>\n",
              "      <td>201016</td>\n",
              "      <td>2.500.000,00</td>\n",
              "      <td>2019</td>\n",
              "      <td>22410470000166</td>\n",
              "      <td>1.110.000,00</td>\n",
              "      <td>Vencedora</td>\n",
              "      <td>nan</td>\n",
              "    </tr>\n",
              "    <tr>\n",
              "      <th>7</th>\n",
              "      <td>Doc. 00134/19</td>\n",
              "      <td>00001/2019</td>\n",
              "      <td>Pregao Presencial</td>\n",
              "      <td>201016</td>\n",
              "      <td>1.680.000,00</td>\n",
              "      <td>2019</td>\n",
              "      <td>25312692000134</td>\n",
              "      <td>2.096.500,00</td>\n",
              "      <td>Vencedora</td>\n",
              "      <td>nan</td>\n",
              "    </tr>\n",
              "    <tr>\n",
              "      <th>8</th>\n",
              "      <td>Doc. 00135/20</td>\n",
              "      <td>00012/2019</td>\n",
              "      <td>Inexigibilidade</td>\n",
              "      <td>201051</td>\n",
              "      <td>81.511.840,00</td>\n",
              "      <td>2020</td>\n",
              "      <td>19710362000102</td>\n",
              "      <td>6.500.000,00</td>\n",
              "      <td>Vencedora</td>\n",
              "      <td>nan</td>\n",
              "    </tr>\n",
              "    <tr>\n",
              "      <th>9</th>\n",
              "      <td>Doc. 00137/19</td>\n",
              "      <td>10001/2019</td>\n",
              "      <td>Pregao Eletronico</td>\n",
              "      <td>610095</td>\n",
              "      <td>1.072.500,00</td>\n",
              "      <td>2019</td>\n",
              "      <td>5763509000100</td>\n",
              "      <td>6.200.000,00</td>\n",
              "      <td>Vencedora</td>\n",
              "      <td>nan</td>\n",
              "    </tr>\n",
              "  </tbody>\n",
              "</table>\n",
              "</div>\n",
              "      <button class=\"colab-df-convert\" onclick=\"convertToInteractive('df-4cbbb692-f08f-4c0c-bba3-664f4b0893c8')\"\n",
              "              title=\"Convert this dataframe to an interactive table.\"\n",
              "              style=\"display:none;\">\n",
              "        \n",
              "  <svg xmlns=\"http://www.w3.org/2000/svg\" height=\"24px\"viewBox=\"0 0 24 24\"\n",
              "       width=\"24px\">\n",
              "    <path d=\"M0 0h24v24H0V0z\" fill=\"none\"/>\n",
              "    <path d=\"M18.56 5.44l.94 2.06.94-2.06 2.06-.94-2.06-.94-.94-2.06-.94 2.06-2.06.94zm-11 1L8.5 8.5l.94-2.06 2.06-.94-2.06-.94L8.5 2.5l-.94 2.06-2.06.94zm10 10l.94 2.06.94-2.06 2.06-.94-2.06-.94-.94-2.06-.94 2.06-2.06.94z\"/><path d=\"M17.41 7.96l-1.37-1.37c-.4-.4-.92-.59-1.43-.59-.52 0-1.04.2-1.43.59L10.3 9.45l-7.72 7.72c-.78.78-.78 2.05 0 2.83L4 21.41c.39.39.9.59 1.41.59.51 0 1.02-.2 1.41-.59l7.78-7.78 2.81-2.81c.8-.78.8-2.07 0-2.86zM5.41 20L4 18.59l7.72-7.72 1.47 1.35L5.41 20z\"/>\n",
              "  </svg>\n",
              "      </button>\n",
              "      \n",
              "  <style>\n",
              "    .colab-df-container {\n",
              "      display:flex;\n",
              "      flex-wrap:wrap;\n",
              "      gap: 12px;\n",
              "    }\n",
              "\n",
              "    .colab-df-convert {\n",
              "      background-color: #E8F0FE;\n",
              "      border: none;\n",
              "      border-radius: 50%;\n",
              "      cursor: pointer;\n",
              "      display: none;\n",
              "      fill: #1967D2;\n",
              "      height: 32px;\n",
              "      padding: 0 0 0 0;\n",
              "      width: 32px;\n",
              "    }\n",
              "\n",
              "    .colab-df-convert:hover {\n",
              "      background-color: #E2EBFA;\n",
              "      box-shadow: 0px 1px 2px rgba(60, 64, 67, 0.3), 0px 1px 3px 1px rgba(60, 64, 67, 0.15);\n",
              "      fill: #174EA6;\n",
              "    }\n",
              "\n",
              "    [theme=dark] .colab-df-convert {\n",
              "      background-color: #3B4455;\n",
              "      fill: #D2E3FC;\n",
              "    }\n",
              "\n",
              "    [theme=dark] .colab-df-convert:hover {\n",
              "      background-color: #434B5C;\n",
              "      box-shadow: 0px 1px 3px 1px rgba(0, 0, 0, 0.15);\n",
              "      filter: drop-shadow(0px 1px 2px rgba(0, 0, 0, 0.3));\n",
              "      fill: #FFFFFF;\n",
              "    }\n",
              "  </style>\n",
              "\n",
              "      <script>\n",
              "        const buttonEl =\n",
              "          document.querySelector('#df-4cbbb692-f08f-4c0c-bba3-664f4b0893c8 button.colab-df-convert');\n",
              "        buttonEl.style.display =\n",
              "          google.colab.kernel.accessAllowed ? 'block' : 'none';\n",
              "\n",
              "        async function convertToInteractive(key) {\n",
              "          const element = document.querySelector('#df-4cbbb692-f08f-4c0c-bba3-664f4b0893c8');\n",
              "          const dataTable =\n",
              "            await google.colab.kernel.invokeFunction('convertToInteractive',\n",
              "                                                     [key], {});\n",
              "          if (!dataTable) return;\n",
              "\n",
              "          const docLinkHtml = 'Like what you see? Visit the ' +\n",
              "            '<a target=\"_blank\" href=https://colab.research.google.com/notebooks/data_table.ipynb>data table notebook</a>'\n",
              "            + ' to learn more about interactive tables.';\n",
              "          element.innerHTML = '';\n",
              "          dataTable['output_type'] = 'display_data';\n",
              "          await google.colab.output.renderOutput(dataTable, element);\n",
              "          const docLink = document.createElement('div');\n",
              "          docLink.innerHTML = docLinkHtml;\n",
              "          element.appendChild(docLink);\n",
              "        }\n",
              "      </script>\n",
              "    </div>\n",
              "  </div>\n",
              "  "
            ],
            "text/plain": [
              "       protocolo numero_licitacao         modalidade  cd_ugestora  \\\n",
              "0  Doc. 00008/19       00002/2019  Pregao Presencial       201134   \n",
              "1  Doc. 00008/19       00002/2019  Pregao Presencial       201134   \n",
              "2  Doc. 00008/19       00002/2019  Pregao Presencial       201134   \n",
              "3  Doc. 00008/19       00002/2019  Pregao Presencial       201134   \n",
              "4  Doc. 00038/19       00003/2019  Pregao Presencial       201134   \n",
              "5  Doc. 00134/19       00001/2019  Pregao Presencial       201016   \n",
              "6  Doc. 00134/19       00001/2019  Pregao Presencial       201016   \n",
              "7  Doc. 00134/19       00001/2019  Pregao Presencial       201016   \n",
              "8  Doc. 00135/20       00012/2019    Inexigibilidade       201051   \n",
              "9  Doc. 00137/19       10001/2019  Pregao Eletronico       610095   \n",
              "\n",
              "  valor_licitado  ano_homologacao  cpf_cnpj_proponente valor_proposta  \\\n",
              "0   7.320.000,00             2019       13258973000177   7.800.000,00   \n",
              "1     500.000,00             2019       16747441000191   7.320.000,00   \n",
              "2   7.320.000,00             2019       21969026000112   7.800.000,00   \n",
              "3   7.320.000,00             2019       40945446000103   7.800.000,00   \n",
              "4   1.100.000,00             2019       16747441000191   1.680.000,00   \n",
              "5   1.072.500,00             2019        3882108000224  55.046.500,00   \n",
              "6   2.500.000,00             2019       22410470000166   1.110.000,00   \n",
              "7   1.680.000,00             2019       25312692000134   2.096.500,00   \n",
              "8  81.511.840,00             2020       19710362000102   6.500.000,00   \n",
              "9   1.072.500,00             2019        5763509000100   6.200.000,00   \n",
              "\n",
              "  situacao_proposta  Unnamed: 9  \n",
              "0         Perdedora         nan  \n",
              "1         Vencedora         nan  \n",
              "2         Perdedora         nan  \n",
              "3         Perdedora         nan  \n",
              "4         Vencedora         nan  \n",
              "5         Vencedora         nan  \n",
              "6         Vencedora         nan  \n",
              "7         Vencedora         nan  \n",
              "8         Vencedora         nan  \n",
              "9         Vencedora         nan  "
            ]
          },
          "metadata": {},
          "execution_count": 9
        }
      ]
    },
    {
      "cell_type": "code",
      "source": [
        "#Criação de uma base com os dados originais não tratados para eventual necessidade futura\n",
        "base_original = data"
      ],
      "metadata": {
        "id": "cdhaB59nhLW7"
      },
      "execution_count": 6,
      "outputs": []
    },
    {
      "cell_type": "code",
      "source": [
        "data.columns"
      ],
      "metadata": {
        "id": "lPtLa0iVjQQ6",
        "colab": {
          "base_uri": "https://localhost:8080/"
        },
        "outputId": "da8005d2-c9ab-45f3-9f8c-6b38fe93f579"
      },
      "execution_count": 5,
      "outputs": [
        {
          "output_type": "execute_result",
          "data": {
            "text/plain": [
              "Index(['protocolo', 'numero_licitacao', 'modalidade', 'cd_ugestora',\n",
              "       'valor_licitado', 'ano_homologacao', 'cpf_cnpj_proponente',\n",
              "       'valor_proposta', 'situacao_proposta', 'Unnamed: 9'],\n",
              "      dtype='object')"
            ]
          },
          "metadata": {},
          "execution_count": 5
        }
      ]
    },
    {
      "cell_type": "code",
      "source": [
        "#retiramos colunas desnecessárias na análise\n",
        "data2 = data.drop(['Unnamed: 9'],axis=1)\n",
        "\n",
        "\n",
        "\n"
      ],
      "metadata": {
        "id": "1GhPf1NBgTD8"
      },
      "execution_count": 8,
      "outputs": []
    },
    {
      "cell_type": "code",
      "source": [
        "\n",
        "\n",
        "\n",
        "\n",
        "#eliminamos todas as linhas que tenham valores nulos\n",
        "data3 = data2.dropna(subset = ['protocolo', 'numero_licitacao', 'modalidade','cd_ugestora','valor_licitado','ano_homologacao', 'cpf_cnpj_proponente', 'valor_proposta', 'situacao_proposta'])\n",
        "\n",
        "#Eliminamos todas que não forem Convite, Tomada de Preços e Dispensa (8.666)\n",
        "data3['ano_homologacao'] = data3.ano_homologacao.astype(int)\n",
        "data3['valor_licitado'] = data3.valor_licitado.astype(int)\n",
        "data4 =data3.loc[ (data3.modalidade == 'Convite') | (data3.modalidade == 'Tomada de Preços')\n",
        "| (data3.modalidade == 'Art. 24 - Lei 8.666/93') ]\n",
        "\n",
        "\n",
        "#Conversão do tipo do atributo \"valor_proposta\" de str para int\n",
        "data5['valor_proposta'] = data5['valor_proposta'].astype(str).astype(int)\n",
        "\n",
        "#Transformo a informação da coluna \"situacao_proposta\" em valores de 0 e 1\n",
        "data5['situacao_proposta'] = data5['situacao_proposta'].map({'Vencedora': 1, 'Perdedora': 0})\n",
        "\n",
        "#Elimina todos os campos da variávem \"cpf_cnpj_proponente\" com comprimento menor que 12 ou seja, todos os CPF's\n",
        "data6 = data5[data5['cpf_cnpj_proponente'].str.len() > 11]\n",
        "\n",
        "#Renomeia a coluna \"cpf_cnpj_proponente\" para \"cnpj_proponente\"\n",
        "data6.rename(columns={'cpf_cnpj_proponente': 'cnpj_proponente'}, inplace=True)\n",
        "\n",
        "#Conversão do tipo de atributo \"cnpj_proponente\" de str para int\n",
        "data6['cnpj_proponente'] = data6['cnpj_proponente'].astype(str).astype(int)\n",
        "\n",
        "#Cria uma coluna chamada ident_licit, inicialmente vazia e que receberá os valores da coluna protocolo alterados e a coloca na primeira posição\n",
        "data6[\"ident_licit\"] = \"\"\n",
        "data7=data6.reindex(columns=['ident_licit','protocolo', 'numero_licitacao', 'modalidade', 'cd_ugestora','valor_licitado', 'ano_homologacao', 'cnpj_proponente',\n",
        "       'valor_proposta', 'situacao_proposta'])\n"
      ],
      "metadata": {
        "id": "YWvwWzbYDS-J",
        "outputId": "15a40f59-f10c-4fa6-c6a3-63031eaf3b0f",
        "colab": {
          "base_uri": "https://localhost:8080/",
          "height": 415
        }
      },
      "execution_count": 11,
      "outputs": [
        {
          "output_type": "error",
          "ename": "ValueError",
          "evalue": "ignored",
          "traceback": [
            "\u001b[0;31m---------------------------------------------------------------------------\u001b[0m",
            "\u001b[0;31mValueError\u001b[0m                                Traceback (most recent call last)",
            "\u001b[0;32m<ipython-input-11-8b9e7ef99be0>\u001b[0m in \u001b[0;36m<module>\u001b[0;34m()\u001b[0m\n\u001b[1;32m      8\u001b[0m \u001b[0;31m#Eliminamos todas que não forem Convite, Tomada de Preços e Dispensa (8.666)\u001b[0m\u001b[0;34m\u001b[0m\u001b[0;34m\u001b[0m\u001b[0;34m\u001b[0m\u001b[0m\n\u001b[1;32m      9\u001b[0m \u001b[0mdata3\u001b[0m\u001b[0;34m[\u001b[0m\u001b[0;34m'ano_homologacao'\u001b[0m\u001b[0;34m]\u001b[0m \u001b[0;34m=\u001b[0m \u001b[0mdata3\u001b[0m\u001b[0;34m.\u001b[0m\u001b[0mano_homologacao\u001b[0m\u001b[0;34m.\u001b[0m\u001b[0mastype\u001b[0m\u001b[0;34m(\u001b[0m\u001b[0mint\u001b[0m\u001b[0;34m)\u001b[0m\u001b[0;34m\u001b[0m\u001b[0;34m\u001b[0m\u001b[0m\n\u001b[0;32m---> 10\u001b[0;31m \u001b[0mdata3\u001b[0m\u001b[0;34m[\u001b[0m\u001b[0;34m'valor_licitado'\u001b[0m\u001b[0;34m]\u001b[0m \u001b[0;34m=\u001b[0m \u001b[0mdata3\u001b[0m\u001b[0;34m.\u001b[0m\u001b[0mvalor_licitado\u001b[0m\u001b[0;34m.\u001b[0m\u001b[0mastype\u001b[0m\u001b[0;34m(\u001b[0m\u001b[0mint\u001b[0m\u001b[0;34m)\u001b[0m\u001b[0;34m\u001b[0m\u001b[0;34m\u001b[0m\u001b[0m\n\u001b[0m\u001b[1;32m     11\u001b[0m data4 =data3.loc[ (data3.modalidade == 'Convite') | (data3.modalidade == 'Tomada de Preços')\n\u001b[1;32m     12\u001b[0m | (data3.modalidade == 'Art. 24 - Lei 8.666/93') ]\n",
            "\u001b[0;32m/usr/local/lib/python3.7/dist-packages/pandas/core/generic.py\u001b[0m in \u001b[0;36mastype\u001b[0;34m(self, dtype, copy, errors)\u001b[0m\n\u001b[1;32m   5546\u001b[0m         \u001b[0;32melse\u001b[0m\u001b[0;34m:\u001b[0m\u001b[0;34m\u001b[0m\u001b[0;34m\u001b[0m\u001b[0m\n\u001b[1;32m   5547\u001b[0m             \u001b[0;31m# else, only a single dtype is given\u001b[0m\u001b[0;34m\u001b[0m\u001b[0;34m\u001b[0m\u001b[0;34m\u001b[0m\u001b[0m\n\u001b[0;32m-> 5548\u001b[0;31m             \u001b[0mnew_data\u001b[0m \u001b[0;34m=\u001b[0m \u001b[0mself\u001b[0m\u001b[0;34m.\u001b[0m\u001b[0m_mgr\u001b[0m\u001b[0;34m.\u001b[0m\u001b[0mastype\u001b[0m\u001b[0;34m(\u001b[0m\u001b[0mdtype\u001b[0m\u001b[0;34m=\u001b[0m\u001b[0mdtype\u001b[0m\u001b[0;34m,\u001b[0m \u001b[0mcopy\u001b[0m\u001b[0;34m=\u001b[0m\u001b[0mcopy\u001b[0m\u001b[0;34m,\u001b[0m \u001b[0merrors\u001b[0m\u001b[0;34m=\u001b[0m\u001b[0merrors\u001b[0m\u001b[0;34m,\u001b[0m\u001b[0;34m)\u001b[0m\u001b[0;34m\u001b[0m\u001b[0;34m\u001b[0m\u001b[0m\n\u001b[0m\u001b[1;32m   5549\u001b[0m             \u001b[0;32mreturn\u001b[0m \u001b[0mself\u001b[0m\u001b[0;34m.\u001b[0m\u001b[0m_constructor\u001b[0m\u001b[0;34m(\u001b[0m\u001b[0mnew_data\u001b[0m\u001b[0;34m)\u001b[0m\u001b[0;34m.\u001b[0m\u001b[0m__finalize__\u001b[0m\u001b[0;34m(\u001b[0m\u001b[0mself\u001b[0m\u001b[0;34m,\u001b[0m \u001b[0mmethod\u001b[0m\u001b[0;34m=\u001b[0m\u001b[0;34m\"astype\"\u001b[0m\u001b[0;34m)\u001b[0m\u001b[0;34m\u001b[0m\u001b[0;34m\u001b[0m\u001b[0m\n\u001b[1;32m   5550\u001b[0m \u001b[0;34m\u001b[0m\u001b[0m\n",
            "\u001b[0;32m/usr/local/lib/python3.7/dist-packages/pandas/core/internals/managers.py\u001b[0m in \u001b[0;36mastype\u001b[0;34m(self, dtype, copy, errors)\u001b[0m\n\u001b[1;32m    602\u001b[0m         \u001b[0mself\u001b[0m\u001b[0;34m,\u001b[0m \u001b[0mdtype\u001b[0m\u001b[0;34m,\u001b[0m \u001b[0mcopy\u001b[0m\u001b[0;34m:\u001b[0m \u001b[0mbool\u001b[0m \u001b[0;34m=\u001b[0m \u001b[0;32mFalse\u001b[0m\u001b[0;34m,\u001b[0m \u001b[0merrors\u001b[0m\u001b[0;34m:\u001b[0m \u001b[0mstr\u001b[0m \u001b[0;34m=\u001b[0m \u001b[0;34m\"raise\"\u001b[0m\u001b[0;34m\u001b[0m\u001b[0;34m\u001b[0m\u001b[0m\n\u001b[1;32m    603\u001b[0m     ) -> \"BlockManager\":\n\u001b[0;32m--> 604\u001b[0;31m         \u001b[0;32mreturn\u001b[0m \u001b[0mself\u001b[0m\u001b[0;34m.\u001b[0m\u001b[0mapply\u001b[0m\u001b[0;34m(\u001b[0m\u001b[0;34m\"astype\"\u001b[0m\u001b[0;34m,\u001b[0m \u001b[0mdtype\u001b[0m\u001b[0;34m=\u001b[0m\u001b[0mdtype\u001b[0m\u001b[0;34m,\u001b[0m \u001b[0mcopy\u001b[0m\u001b[0;34m=\u001b[0m\u001b[0mcopy\u001b[0m\u001b[0;34m,\u001b[0m \u001b[0merrors\u001b[0m\u001b[0;34m=\u001b[0m\u001b[0merrors\u001b[0m\u001b[0;34m)\u001b[0m\u001b[0;34m\u001b[0m\u001b[0;34m\u001b[0m\u001b[0m\n\u001b[0m\u001b[1;32m    605\u001b[0m \u001b[0;34m\u001b[0m\u001b[0m\n\u001b[1;32m    606\u001b[0m     def convert(\n",
            "\u001b[0;32m/usr/local/lib/python3.7/dist-packages/pandas/core/internals/managers.py\u001b[0m in \u001b[0;36mapply\u001b[0;34m(self, f, align_keys, **kwargs)\u001b[0m\n\u001b[1;32m    407\u001b[0m                 \u001b[0mapplied\u001b[0m \u001b[0;34m=\u001b[0m \u001b[0mb\u001b[0m\u001b[0;34m.\u001b[0m\u001b[0mapply\u001b[0m\u001b[0;34m(\u001b[0m\u001b[0mf\u001b[0m\u001b[0;34m,\u001b[0m \u001b[0;34m**\u001b[0m\u001b[0mkwargs\u001b[0m\u001b[0;34m)\u001b[0m\u001b[0;34m\u001b[0m\u001b[0;34m\u001b[0m\u001b[0m\n\u001b[1;32m    408\u001b[0m             \u001b[0;32melse\u001b[0m\u001b[0;34m:\u001b[0m\u001b[0;34m\u001b[0m\u001b[0;34m\u001b[0m\u001b[0m\n\u001b[0;32m--> 409\u001b[0;31m                 \u001b[0mapplied\u001b[0m \u001b[0;34m=\u001b[0m \u001b[0mgetattr\u001b[0m\u001b[0;34m(\u001b[0m\u001b[0mb\u001b[0m\u001b[0;34m,\u001b[0m \u001b[0mf\u001b[0m\u001b[0;34m)\u001b[0m\u001b[0;34m(\u001b[0m\u001b[0;34m**\u001b[0m\u001b[0mkwargs\u001b[0m\u001b[0;34m)\u001b[0m\u001b[0;34m\u001b[0m\u001b[0;34m\u001b[0m\u001b[0m\n\u001b[0m\u001b[1;32m    410\u001b[0m             \u001b[0mresult_blocks\u001b[0m \u001b[0;34m=\u001b[0m \u001b[0m_extend_blocks\u001b[0m\u001b[0;34m(\u001b[0m\u001b[0mapplied\u001b[0m\u001b[0;34m,\u001b[0m \u001b[0mresult_blocks\u001b[0m\u001b[0;34m)\u001b[0m\u001b[0;34m\u001b[0m\u001b[0;34m\u001b[0m\u001b[0m\n\u001b[1;32m    411\u001b[0m \u001b[0;34m\u001b[0m\u001b[0m\n",
            "\u001b[0;32m/usr/local/lib/python3.7/dist-packages/pandas/core/internals/blocks.py\u001b[0m in \u001b[0;36mastype\u001b[0;34m(self, dtype, copy, errors)\u001b[0m\n\u001b[1;32m    593\u001b[0m             \u001b[0mvals1d\u001b[0m \u001b[0;34m=\u001b[0m \u001b[0mvalues\u001b[0m\u001b[0;34m.\u001b[0m\u001b[0mravel\u001b[0m\u001b[0;34m(\u001b[0m\u001b[0;34m)\u001b[0m\u001b[0;34m\u001b[0m\u001b[0;34m\u001b[0m\u001b[0m\n\u001b[1;32m    594\u001b[0m             \u001b[0;32mtry\u001b[0m\u001b[0;34m:\u001b[0m\u001b[0;34m\u001b[0m\u001b[0;34m\u001b[0m\u001b[0m\n\u001b[0;32m--> 595\u001b[0;31m                 \u001b[0mvalues\u001b[0m \u001b[0;34m=\u001b[0m \u001b[0mastype_nansafe\u001b[0m\u001b[0;34m(\u001b[0m\u001b[0mvals1d\u001b[0m\u001b[0;34m,\u001b[0m \u001b[0mdtype\u001b[0m\u001b[0;34m,\u001b[0m \u001b[0mcopy\u001b[0m\u001b[0;34m=\u001b[0m\u001b[0;32mTrue\u001b[0m\u001b[0;34m)\u001b[0m\u001b[0;34m\u001b[0m\u001b[0;34m\u001b[0m\u001b[0m\n\u001b[0m\u001b[1;32m    596\u001b[0m             \u001b[0;32mexcept\u001b[0m \u001b[0;34m(\u001b[0m\u001b[0mValueError\u001b[0m\u001b[0;34m,\u001b[0m \u001b[0mTypeError\u001b[0m\u001b[0;34m)\u001b[0m\u001b[0;34m:\u001b[0m\u001b[0;34m\u001b[0m\u001b[0;34m\u001b[0m\u001b[0m\n\u001b[1;32m    597\u001b[0m                 \u001b[0;31m# e.g. astype_nansafe can fail on object-dtype of strings\u001b[0m\u001b[0;34m\u001b[0m\u001b[0;34m\u001b[0m\u001b[0;34m\u001b[0m\u001b[0m\n",
            "\u001b[0;32m/usr/local/lib/python3.7/dist-packages/pandas/core/dtypes/cast.py\u001b[0m in \u001b[0;36mastype_nansafe\u001b[0;34m(arr, dtype, copy, skipna)\u001b[0m\n\u001b[1;32m    972\u001b[0m         \u001b[0;31m# work around NumPy brokenness, #1987\u001b[0m\u001b[0;34m\u001b[0m\u001b[0;34m\u001b[0m\u001b[0;34m\u001b[0m\u001b[0m\n\u001b[1;32m    973\u001b[0m         \u001b[0;32mif\u001b[0m \u001b[0mnp\u001b[0m\u001b[0;34m.\u001b[0m\u001b[0missubdtype\u001b[0m\u001b[0;34m(\u001b[0m\u001b[0mdtype\u001b[0m\u001b[0;34m.\u001b[0m\u001b[0mtype\u001b[0m\u001b[0;34m,\u001b[0m \u001b[0mnp\u001b[0m\u001b[0;34m.\u001b[0m\u001b[0minteger\u001b[0m\u001b[0;34m)\u001b[0m\u001b[0;34m:\u001b[0m\u001b[0;34m\u001b[0m\u001b[0;34m\u001b[0m\u001b[0m\n\u001b[0;32m--> 974\u001b[0;31m             \u001b[0;32mreturn\u001b[0m \u001b[0mlib\u001b[0m\u001b[0;34m.\u001b[0m\u001b[0mastype_intsafe\u001b[0m\u001b[0;34m(\u001b[0m\u001b[0marr\u001b[0m\u001b[0;34m.\u001b[0m\u001b[0mravel\u001b[0m\u001b[0;34m(\u001b[0m\u001b[0;34m)\u001b[0m\u001b[0;34m,\u001b[0m \u001b[0mdtype\u001b[0m\u001b[0;34m)\u001b[0m\u001b[0;34m.\u001b[0m\u001b[0mreshape\u001b[0m\u001b[0;34m(\u001b[0m\u001b[0marr\u001b[0m\u001b[0;34m.\u001b[0m\u001b[0mshape\u001b[0m\u001b[0;34m)\u001b[0m\u001b[0;34m\u001b[0m\u001b[0;34m\u001b[0m\u001b[0m\n\u001b[0m\u001b[1;32m    975\u001b[0m \u001b[0;34m\u001b[0m\u001b[0m\n\u001b[1;32m    976\u001b[0m         \u001b[0;31m# if we have a datetime/timedelta array of objects\u001b[0m\u001b[0;34m\u001b[0m\u001b[0;34m\u001b[0m\u001b[0;34m\u001b[0m\u001b[0m\n",
            "\u001b[0;32mpandas/_libs/lib.pyx\u001b[0m in \u001b[0;36mpandas._libs.lib.astype_intsafe\u001b[0;34m()\u001b[0m\n",
            "\u001b[0;31mValueError\u001b[0m: invalid literal for int() with base 10: '7.320.000,00'"
          ]
        }
      ]
    },
    {
      "cell_type": "code",
      "source": [
        "data7.columns"
      ],
      "metadata": {
        "colab": {
          "base_uri": "https://localhost:8080/",
          "height": 165
        },
        "id": "eHEe8TUCw9jD",
        "outputId": "30c99ed9-d564-427c-a538-0ae83c50a12c"
      },
      "execution_count": 10,
      "outputs": [
        {
          "output_type": "error",
          "ename": "NameError",
          "evalue": "ignored",
          "traceback": [
            "\u001b[0;31m---------------------------------------------------------------------------\u001b[0m",
            "\u001b[0;31mNameError\u001b[0m                                 Traceback (most recent call last)",
            "\u001b[0;32m<ipython-input-10-72c1723911c0>\u001b[0m in \u001b[0;36m<module>\u001b[0;34m()\u001b[0m\n\u001b[0;32m----> 1\u001b[0;31m \u001b[0mdata7\u001b[0m\u001b[0;34m.\u001b[0m\u001b[0mcolumns\u001b[0m\u001b[0;34m\u001b[0m\u001b[0;34m\u001b[0m\u001b[0m\n\u001b[0m",
            "\u001b[0;31mNameError\u001b[0m: name 'data7' is not defined"
          ]
        }
      ]
    },
    {
      "cell_type": "code",
      "source": [
        "#Eliminação dos caracteres especiais do atributo \"protocolo\"\n",
        "data7['protocolo']  = data7['protocolo'].str.replace(r'\\W',\"\")\n",
        "\n",
        "#Eliminação das expressões \"Doc. \" e Prot. \" do atributo \"protocolo\"\n",
        "data7['protocolo']  = data7['protocolo'].str.replace(\"Doc\",\"\")\n",
        "data7['protocolo']  = data7['protocolo'].str.replace(\"Proc\",\"\")\n",
        "\n",
        "#A coluna \"ident_licit\" recebe os valores da coluna \"protocolo\" e esta é eliminada juntamente com a coluna \"numero_licitacao\"\n",
        "data7['ident_licit']  = data7['protocolo']\n",
        "data7 = data7.drop(['protocolo','numero_licitacao'], axis = 1)\n",
        "\n",
        "#Conversão do tipo do atributo \"idente_licit\" para inteiro\n",
        "data7['ident_licit'] = data7['ident_licit'].astype(str).astype(int)\n"
      ],
      "metadata": {
        "id": "ueCIcn4lbkTY"
      },
      "execution_count": null,
      "outputs": []
    },
    {
      "cell_type": "code",
      "source": [
        "data7.columns"
      ],
      "metadata": {
        "id": "zUxS9xQbxDMk",
        "outputId": "58eabff9-23d8-4ef9-8ac4-cd6147e0c054",
        "colab": {
          "base_uri": "https://localhost:8080/"
        }
      },
      "execution_count": null,
      "outputs": [
        {
          "output_type": "execute_result",
          "data": {
            "text/plain": [
              "Index(['ident_licit', 'modalidade', 'cd_ugestora', 'valor_licitado',\n",
              "       'ano_homologacao', 'cnpj_proponente', 'valor_proposta',\n",
              "       'situacao_proposta'],\n",
              "      dtype='object')"
            ]
          },
          "metadata": {},
          "execution_count": 10
        }
      ]
    },
    {
      "cell_type": "code",
      "source": [
        "data7.info()"
      ],
      "metadata": {
        "id": "haJGJbPlYreO",
        "colab": {
          "base_uri": "https://localhost:8080/"
        },
        "outputId": "8d40cb3e-b293-49d6-e41f-a7870ec99230"
      },
      "execution_count": null,
      "outputs": [
        {
          "output_type": "stream",
          "name": "stdout",
          "text": [
            "<class 'pandas.core.frame.DataFrame'>\n",
            "Int64Index: 9509 entries, 109563 to 308687\n",
            "Data columns (total 8 columns):\n",
            " #   Column             Non-Null Count  Dtype \n",
            "---  ------             --------------  ----- \n",
            " 0   ident_licit        9509 non-null   int64 \n",
            " 1   modalidade         9509 non-null   object\n",
            " 2   cd_ugestora        9509 non-null   int64 \n",
            " 3   valor_licitado     9509 non-null   int64 \n",
            " 4   ano_homologacao    9509 non-null   int64 \n",
            " 5   cnpj_proponente    9509 non-null   int64 \n",
            " 6   valor_proposta     9509 non-null   int64 \n",
            " 7   situacao_proposta  9509 non-null   int64 \n",
            "dtypes: int64(7), object(1)\n",
            "memory usage: 668.6+ KB\n"
          ]
        }
      ]
    },
    {
      "cell_type": "code",
      "source": [
        "#Criação de uma Matriz de Correlação entre os atributos numéricos\n",
        "correlacao = data7.corr()\n",
        "correlacao.style.background_gradient(cmap='Blues')\n"
      ],
      "metadata": {
        "id": "OMebuEf1D9Bn",
        "colab": {
          "base_uri": "https://localhost:8080/"
        },
        "outputId": "b5c00d18-c253-454b-ce84-718a706e7bf2"
      },
      "execution_count": null,
      "outputs": [
        {
          "output_type": "execute_result",
          "data": {
            "text/html": [
              "<style  type=\"text/css\" >\n",
              "#T_de8b6530_7871_11ec_8e70_0242ac1c0002row0_col0,#T_de8b6530_7871_11ec_8e70_0242ac1c0002row1_col1,#T_de8b6530_7871_11ec_8e70_0242ac1c0002row2_col2,#T_de8b6530_7871_11ec_8e70_0242ac1c0002row3_col3,#T_de8b6530_7871_11ec_8e70_0242ac1c0002row4_col4,#T_de8b6530_7871_11ec_8e70_0242ac1c0002row5_col5,#T_de8b6530_7871_11ec_8e70_0242ac1c0002row6_col6{\n",
              "            background-color:  #08306b;\n",
              "            color:  #f1f1f1;\n",
              "        }#T_de8b6530_7871_11ec_8e70_0242ac1c0002row0_col1,#T_de8b6530_7871_11ec_8e70_0242ac1c0002row1_col3{\n",
              "            background-color:  #f3f8fe;\n",
              "            color:  #000000;\n",
              "        }#T_de8b6530_7871_11ec_8e70_0242ac1c0002row0_col2,#T_de8b6530_7871_11ec_8e70_0242ac1c0002row0_col5,#T_de8b6530_7871_11ec_8e70_0242ac1c0002row2_col0,#T_de8b6530_7871_11ec_8e70_0242ac1c0002row2_col4,#T_de8b6530_7871_11ec_8e70_0242ac1c0002row5_col4,#T_de8b6530_7871_11ec_8e70_0242ac1c0002row5_col6,#T_de8b6530_7871_11ec_8e70_0242ac1c0002row6_col1,#T_de8b6530_7871_11ec_8e70_0242ac1c0002row6_col3{\n",
              "            background-color:  #f7fbff;\n",
              "            color:  #000000;\n",
              "        }#T_de8b6530_7871_11ec_8e70_0242ac1c0002row0_col3,#T_de8b6530_7871_11ec_8e70_0242ac1c0002row1_col6{\n",
              "            background-color:  #e3eef9;\n",
              "            color:  #000000;\n",
              "        }#T_de8b6530_7871_11ec_8e70_0242ac1c0002row0_col4{\n",
              "            background-color:  #d1e2f3;\n",
              "            color:  #000000;\n",
              "        }#T_de8b6530_7871_11ec_8e70_0242ac1c0002row0_col6{\n",
              "            background-color:  #d3e3f3;\n",
              "            color:  #000000;\n",
              "        }#T_de8b6530_7871_11ec_8e70_0242ac1c0002row1_col0{\n",
              "            background-color:  #d9e7f5;\n",
              "            color:  #000000;\n",
              "        }#T_de8b6530_7871_11ec_8e70_0242ac1c0002row1_col2{\n",
              "            background-color:  #a1cbe2;\n",
              "            color:  #000000;\n",
              "        }#T_de8b6530_7871_11ec_8e70_0242ac1c0002row1_col4,#T_de8b6530_7871_11ec_8e70_0242ac1c0002row6_col2{\n",
              "            background-color:  #e7f1fa;\n",
              "            color:  #000000;\n",
              "        }#T_de8b6530_7871_11ec_8e70_0242ac1c0002row1_col5{\n",
              "            background-color:  #a3cce3;\n",
              "            color:  #000000;\n",
              "        }#T_de8b6530_7871_11ec_8e70_0242ac1c0002row2_col1{\n",
              "            background-color:  #c2d9ee;\n",
              "            color:  #000000;\n",
              "        }#T_de8b6530_7871_11ec_8e70_0242ac1c0002row2_col3,#T_de8b6530_7871_11ec_8e70_0242ac1c0002row3_col1,#T_de8b6530_7871_11ec_8e70_0242ac1c0002row5_col3{\n",
              "            background-color:  #eaf3fb;\n",
              "            color:  #000000;\n",
              "        }#T_de8b6530_7871_11ec_8e70_0242ac1c0002row2_col5,#T_de8b6530_7871_11ec_8e70_0242ac1c0002row5_col2{\n",
              "            background-color:  #083674;\n",
              "            color:  #f1f1f1;\n",
              "        }#T_de8b6530_7871_11ec_8e70_0242ac1c0002row2_col6,#T_de8b6530_7871_11ec_8e70_0242ac1c0002row4_col1{\n",
              "            background-color:  #eff6fc;\n",
              "            color:  #000000;\n",
              "        }#T_de8b6530_7871_11ec_8e70_0242ac1c0002row3_col0{\n",
              "            background-color:  #c4daee;\n",
              "            color:  #000000;\n",
              "        }#T_de8b6530_7871_11ec_8e70_0242ac1c0002row3_col2{\n",
              "            background-color:  #cadef0;\n",
              "            color:  #000000;\n",
              "        }#T_de8b6530_7871_11ec_8e70_0242ac1c0002row3_col4{\n",
              "            background-color:  #cee0f2;\n",
              "            color:  #000000;\n",
              "        }#T_de8b6530_7871_11ec_8e70_0242ac1c0002row3_col5{\n",
              "            background-color:  #cddff1;\n",
              "            color:  #000000;\n",
              "        }#T_de8b6530_7871_11ec_8e70_0242ac1c0002row3_col6{\n",
              "            background-color:  #dce9f6;\n",
              "            color:  #000000;\n",
              "        }#T_de8b6530_7871_11ec_8e70_0242ac1c0002row4_col0{\n",
              "            background-color:  #bed8ec;\n",
              "            color:  #000000;\n",
              "        }#T_de8b6530_7871_11ec_8e70_0242ac1c0002row4_col2{\n",
              "            background-color:  #e3eef8;\n",
              "            color:  #000000;\n",
              "        }#T_de8b6530_7871_11ec_8e70_0242ac1c0002row4_col3{\n",
              "            background-color:  #dbe9f6;\n",
              "            color:  #000000;\n",
              "        }#T_de8b6530_7871_11ec_8e70_0242ac1c0002row4_col5{\n",
              "            background-color:  #e5eff9;\n",
              "            color:  #000000;\n",
              "        }#T_de8b6530_7871_11ec_8e70_0242ac1c0002row4_col6{\n",
              "            background-color:  #d5e5f4;\n",
              "            color:  #000000;\n",
              "        }#T_de8b6530_7871_11ec_8e70_0242ac1c0002row5_col0{\n",
              "            background-color:  #f5f9fe;\n",
              "            color:  #000000;\n",
              "        }#T_de8b6530_7871_11ec_8e70_0242ac1c0002row5_col1{\n",
              "            background-color:  #c1d9ed;\n",
              "            color:  #000000;\n",
              "        }#T_de8b6530_7871_11ec_8e70_0242ac1c0002row6_col0{\n",
              "            background-color:  #ccdff1;\n",
              "            color:  #000000;\n",
              "        }#T_de8b6530_7871_11ec_8e70_0242ac1c0002row6_col4{\n",
              "            background-color:  #dfecf7;\n",
              "            color:  #000000;\n",
              "        }#T_de8b6530_7871_11ec_8e70_0242ac1c0002row6_col5{\n",
              "            background-color:  #f2f7fd;\n",
              "            color:  #000000;\n",
              "        }</style><table id=\"T_de8b6530_7871_11ec_8e70_0242ac1c0002\" class=\"dataframe\"><thead>    <tr>        <th class=\"blank level0\" ></th>        <th class=\"col_heading level0 col0\" >ident_licit</th>        <th class=\"col_heading level0 col1\" >cd_ugestora</th>        <th class=\"col_heading level0 col2\" >valor_licitado</th>        <th class=\"col_heading level0 col3\" >ano_homologacao</th>        <th class=\"col_heading level0 col4\" >cnpj_proponente</th>        <th class=\"col_heading level0 col5\" >valor_proposta</th>        <th class=\"col_heading level0 col6\" >situacao_proposta</th>    </tr></thead><tbody>\n",
              "                <tr>\n",
              "                        <th id=\"T_de8b6530_7871_11ec_8e70_0242ac1c0002level0_row0\" class=\"row_heading level0 row0\" >ident_licit</th>\n",
              "                        <td id=\"T_de8b6530_7871_11ec_8e70_0242ac1c0002row0_col0\" class=\"data row0 col0\" >1.000000</td>\n",
              "                        <td id=\"T_de8b6530_7871_11ec_8e70_0242ac1c0002row0_col1\" class=\"data row0 col1\" >-0.069486</td>\n",
              "                        <td id=\"T_de8b6530_7871_11ec_8e70_0242ac1c0002row0_col2\" class=\"data row0 col2\" >-0.266363</td>\n",
              "                        <td id=\"T_de8b6530_7871_11ec_8e70_0242ac1c0002row0_col3\" class=\"data row0 col3\" >0.057333</td>\n",
              "                        <td id=\"T_de8b6530_7871_11ec_8e70_0242ac1c0002row0_col4\" class=\"data row0 col4\" >0.082816</td>\n",
              "                        <td id=\"T_de8b6530_7871_11ec_8e70_0242ac1c0002row0_col5\" class=\"data row0 col5\" >-0.250104</td>\n",
              "                        <td id=\"T_de8b6530_7871_11ec_8e70_0242ac1c0002row0_col6\" class=\"data row0 col6\" >0.011288</td>\n",
              "            </tr>\n",
              "            <tr>\n",
              "                        <th id=\"T_de8b6530_7871_11ec_8e70_0242ac1c0002level0_row1\" class=\"row_heading level0 row1\" >cd_ugestora</th>\n",
              "                        <td id=\"T_de8b6530_7871_11ec_8e70_0242ac1c0002row1_col0\" class=\"data row1 col0\" >-0.069486</td>\n",
              "                        <td id=\"T_de8b6530_7871_11ec_8e70_0242ac1c0002row1_col1\" class=\"data row1 col1\" >1.000000</td>\n",
              "                        <td id=\"T_de8b6530_7871_11ec_8e70_0242ac1c0002row1_col2\" class=\"data row1 col2\" >0.195906</td>\n",
              "                        <td id=\"T_de8b6530_7871_11ec_8e70_0242ac1c0002row1_col3\" class=\"data row1 col3\" >-0.023885</td>\n",
              "                        <td id=\"T_de8b6530_7871_11ec_8e70_0242ac1c0002row1_col4\" class=\"data row1 col4\" >-0.047942</td>\n",
              "                        <td id=\"T_de8b6530_7871_11ec_8e70_0242ac1c0002row1_col5\" class=\"data row1 col5\" >0.202046</td>\n",
              "                        <td id=\"T_de8b6530_7871_11ec_8e70_0242ac1c0002row1_col6\" class=\"data row1 col6\" >-0.092268</td>\n",
              "            </tr>\n",
              "            <tr>\n",
              "                        <th id=\"T_de8b6530_7871_11ec_8e70_0242ac1c0002level0_row2\" class=\"row_heading level0 row2\" >valor_licitado</th>\n",
              "                        <td id=\"T_de8b6530_7871_11ec_8e70_0242ac1c0002row2_col0\" class=\"data row2 col0\" >-0.266363</td>\n",
              "                        <td id=\"T_de8b6530_7871_11ec_8e70_0242ac1c0002row2_col1\" class=\"data row2 col1\" >0.195906</td>\n",
              "                        <td id=\"T_de8b6530_7871_11ec_8e70_0242ac1c0002row2_col2\" class=\"data row2 col2\" >1.000000</td>\n",
              "                        <td id=\"T_de8b6530_7871_11ec_8e70_0242ac1c0002row2_col3\" class=\"data row2 col3\" >0.021372</td>\n",
              "                        <td id=\"T_de8b6530_7871_11ec_8e70_0242ac1c0002row2_col4\" class=\"data row2 col4\" >-0.137515</td>\n",
              "                        <td id=\"T_de8b6530_7871_11ec_8e70_0242ac1c0002row2_col5\" class=\"data row2 col5\" >0.966956</td>\n",
              "                        <td id=\"T_de8b6530_7871_11ec_8e70_0242ac1c0002row2_col6\" class=\"data row2 col6\" >-0.164775</td>\n",
              "            </tr>\n",
              "            <tr>\n",
              "                        <th id=\"T_de8b6530_7871_11ec_8e70_0242ac1c0002level0_row3\" class=\"row_heading level0 row3\" >ano_homologacao</th>\n",
              "                        <td id=\"T_de8b6530_7871_11ec_8e70_0242ac1c0002row3_col0\" class=\"data row3 col0\" >0.057333</td>\n",
              "                        <td id=\"T_de8b6530_7871_11ec_8e70_0242ac1c0002row3_col1\" class=\"data row3 col1\" >-0.023885</td>\n",
              "                        <td id=\"T_de8b6530_7871_11ec_8e70_0242ac1c0002row3_col2\" class=\"data row3 col2\" >0.021372</td>\n",
              "                        <td id=\"T_de8b6530_7871_11ec_8e70_0242ac1c0002row3_col3\" class=\"data row3 col3\" >1.000000</td>\n",
              "                        <td id=\"T_de8b6530_7871_11ec_8e70_0242ac1c0002row3_col4\" class=\"data row3 col4\" >0.100667</td>\n",
              "                        <td id=\"T_de8b6530_7871_11ec_8e70_0242ac1c0002row3_col5\" class=\"data row3 col5\" >0.021895</td>\n",
              "                        <td id=\"T_de8b6530_7871_11ec_8e70_0242ac1c0002row3_col6\" class=\"data row3 col6\" >-0.047264</td>\n",
              "            </tr>\n",
              "            <tr>\n",
              "                        <th id=\"T_de8b6530_7871_11ec_8e70_0242ac1c0002level0_row4\" class=\"row_heading level0 row4\" >cnpj_proponente</th>\n",
              "                        <td id=\"T_de8b6530_7871_11ec_8e70_0242ac1c0002row4_col0\" class=\"data row4 col0\" >0.082816</td>\n",
              "                        <td id=\"T_de8b6530_7871_11ec_8e70_0242ac1c0002row4_col1\" class=\"data row4 col1\" >-0.047942</td>\n",
              "                        <td id=\"T_de8b6530_7871_11ec_8e70_0242ac1c0002row4_col2\" class=\"data row4 col2\" >-0.137515</td>\n",
              "                        <td id=\"T_de8b6530_7871_11ec_8e70_0242ac1c0002row4_col3\" class=\"data row4 col3\" >0.100667</td>\n",
              "                        <td id=\"T_de8b6530_7871_11ec_8e70_0242ac1c0002row4_col4\" class=\"data row4 col4\" >1.000000</td>\n",
              "                        <td id=\"T_de8b6530_7871_11ec_8e70_0242ac1c0002row4_col5\" class=\"data row4 col5\" >-0.136666</td>\n",
              "                        <td id=\"T_de8b6530_7871_11ec_8e70_0242ac1c0002row4_col6\" class=\"data row4 col6\" >-0.003675</td>\n",
              "            </tr>\n",
              "            <tr>\n",
              "                        <th id=\"T_de8b6530_7871_11ec_8e70_0242ac1c0002level0_row5\" class=\"row_heading level0 row5\" >valor_proposta</th>\n",
              "                        <td id=\"T_de8b6530_7871_11ec_8e70_0242ac1c0002row5_col0\" class=\"data row5 col0\" >-0.250104</td>\n",
              "                        <td id=\"T_de8b6530_7871_11ec_8e70_0242ac1c0002row5_col1\" class=\"data row5 col1\" >0.202046</td>\n",
              "                        <td id=\"T_de8b6530_7871_11ec_8e70_0242ac1c0002row5_col2\" class=\"data row5 col2\" >0.966956</td>\n",
              "                        <td id=\"T_de8b6530_7871_11ec_8e70_0242ac1c0002row5_col3\" class=\"data row5 col3\" >0.021895</td>\n",
              "                        <td id=\"T_de8b6530_7871_11ec_8e70_0242ac1c0002row5_col4\" class=\"data row5 col4\" >-0.136666</td>\n",
              "                        <td id=\"T_de8b6530_7871_11ec_8e70_0242ac1c0002row5_col5\" class=\"data row5 col5\" >1.000000</td>\n",
              "                        <td id=\"T_de8b6530_7871_11ec_8e70_0242ac1c0002row5_col6\" class=\"data row5 col6\" >-0.213280</td>\n",
              "            </tr>\n",
              "            <tr>\n",
              "                        <th id=\"T_de8b6530_7871_11ec_8e70_0242ac1c0002level0_row6\" class=\"row_heading level0 row6\" >situacao_proposta</th>\n",
              "                        <td id=\"T_de8b6530_7871_11ec_8e70_0242ac1c0002row6_col0\" class=\"data row6 col0\" >0.011288</td>\n",
              "                        <td id=\"T_de8b6530_7871_11ec_8e70_0242ac1c0002row6_col1\" class=\"data row6 col1\" >-0.092268</td>\n",
              "                        <td id=\"T_de8b6530_7871_11ec_8e70_0242ac1c0002row6_col2\" class=\"data row6 col2\" >-0.164775</td>\n",
              "                        <td id=\"T_de8b6530_7871_11ec_8e70_0242ac1c0002row6_col3\" class=\"data row6 col3\" >-0.047264</td>\n",
              "                        <td id=\"T_de8b6530_7871_11ec_8e70_0242ac1c0002row6_col4\" class=\"data row6 col4\" >-0.003675</td>\n",
              "                        <td id=\"T_de8b6530_7871_11ec_8e70_0242ac1c0002row6_col5\" class=\"data row6 col5\" >-0.213280</td>\n",
              "                        <td id=\"T_de8b6530_7871_11ec_8e70_0242ac1c0002row6_col6\" class=\"data row6 col6\" >1.000000</td>\n",
              "            </tr>\n",
              "    </tbody></table>"
            ],
            "text/plain": [
              "<pandas.io.formats.style.Styler at 0x7ff3e6cf5fd0>"
            ]
          },
          "metadata": {},
          "execution_count": 12
        }
      ]
    },
    {
      "cell_type": "code",
      "source": [
        "#Geração, no GDrive, de um arquivo csv com as alterações efetuadas.\n",
        "data7.to_csv('/content/drive/MyDrive/00 - Pós Ciência de Dados/99 - TCC/PROJETO 00 - TCC Grupo/01 - Bases Candidatas/02 - TCE PB - Experiência com o Colab/data7.CSV', sep=',', encoding='utf-8')"
      ],
      "metadata": {
        "id": "uzscjfO3ty1y"
      },
      "execution_count": null,
      "outputs": []
    },
    {
      "cell_type": "markdown",
      "source": [
        "## ALGUNS CÓDIGOS QUE PODEM VIR A SER ÚTEIS\n"
      ],
      "metadata": {
        "id": "y7C6AlLqXEIa"
      }
    },
    {
      "cell_type": "code",
      "source": [
        ""
      ],
      "metadata": {
        "id": "0bKDSZvPxa0V"
      },
      "execution_count": null,
      "outputs": []
    },
    {
      "cell_type": "code",
      "source": [
        "# mapeia cada valor da variável Embarked em um valor numérico\n",
        "#mapeamento_embarked = {\"S\": 1, \"C\": 2, \"Q\": 3}\n",
        "#treinamento_df['Embarked'] = treinamento_df['Embarked'].map(mapeamento_embarked)\n",
        "#teste_df['Embarked'] = teste_df['Embarked'].map(mapeamento_embarked)"
      ],
      "metadata": {
        "id": "Ir0xrPz3XLHC"
      },
      "execution_count": null,
      "outputs": []
    }
  ]
}