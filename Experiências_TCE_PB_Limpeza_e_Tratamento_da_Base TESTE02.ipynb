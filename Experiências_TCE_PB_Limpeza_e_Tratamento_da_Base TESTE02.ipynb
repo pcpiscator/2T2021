{
  "nbformat": 4,
  "nbformat_minor": 0,
  "metadata": {
    "colab": {
      "name": "Experiências TCE PB - Limpeza e Tratamento da Base",
      "provenance": [],
      "collapsed_sections": [],
      "include_colab_link": true
    },
    "kernelspec": {
      "name": "python3",
      "display_name": "Python 3"
    },
    "language_info": {
      "name": "python"
    }
  },
  "cells": [
    {
      "cell_type": "markdown",
      "metadata": {
        "id": "view-in-github",
        "colab_type": "text"
      },
      "source": [
        "<a href=\"https://colab.research.google.com/github/pcpiscator/2T2021/blob/main/Experi%C3%AAncias_TCE_PB_Limpeza_e_Tratamento_da_Base%20TESTE02.ipynb\" target=\"_parent\"><img src=\"https://colab.research.google.com/assets/colab-badge.svg\" alt=\"Open In Colab\"/></a>"
      ]
    },
    {
      "cell_type": "code",
      "metadata": {
        "id": "2W2TvvOK42kg",
        "colab": {
          "base_uri": "https://localhost:8080/"
        },
        "outputId": "522f62f2-5813-4eb4-8a13-4ae0ecbd9891"
      },
      "source": [
        "pip install mpl_finance"
      ],
      "execution_count": 64,
      "outputs": [
        {
          "output_type": "stream",
          "name": "stdout",
          "text": [
            "Requirement already satisfied: mpl_finance in /usr/local/lib/python3.7/dist-packages (0.10.1)\n",
            "Requirement already satisfied: matplotlib in /usr/local/lib/python3.7/dist-packages (from mpl_finance) (3.2.2)\n",
            "Requirement already satisfied: numpy>=1.11 in /usr/local/lib/python3.7/dist-packages (from matplotlib->mpl_finance) (1.19.5)\n",
            "Requirement already satisfied: python-dateutil>=2.1 in /usr/local/lib/python3.7/dist-packages (from matplotlib->mpl_finance) (2.8.2)\n",
            "Requirement already satisfied: cycler>=0.10 in /usr/local/lib/python3.7/dist-packages (from matplotlib->mpl_finance) (0.11.0)\n",
            "Requirement already satisfied: pyparsing!=2.0.4,!=2.1.2,!=2.1.6,>=2.0.1 in /usr/local/lib/python3.7/dist-packages (from matplotlib->mpl_finance) (3.0.6)\n",
            "Requirement already satisfied: kiwisolver>=1.0.1 in /usr/local/lib/python3.7/dist-packages (from matplotlib->mpl_finance) (1.3.2)\n",
            "Requirement already satisfied: six>=1.5 in /usr/local/lib/python3.7/dist-packages (from python-dateutil>=2.1->matplotlib->mpl_finance) (1.15.0)\n"
          ]
        }
      ]
    },
    {
      "cell_type": "code",
      "metadata": {
        "id": "3sO-ERn958je"
      },
      "source": [
        "# bibliotecas para análise de dados\n",
        "import numpy as np\n",
        "import pandas as pd\n",
        "# bibliotecas para gráficos \n",
        "import matplotlib.pyplot as plt\n",
        "import plotly.graph_objs as go\n",
        "import plotly.offline as py\n",
        "pd.options.display.max_columns = None\n",
        "pd.options.display.max_rows = None\n",
        "pd.options.display.float_format = '{:.2f}'.format\n",
        "# bibliotecas para visualização\n",
        "import matplotlib.pyplot as plt\n",
        "import seaborn as sns\n",
        "%matplotlib inline\n",
        "import matplotlib.dates as mpl_dates\n",
        "import sklearn\n",
        "# configuração para ignorar mensagens de advertência (warning). \n",
        "import warnings\n",
        "warnings.filterwarnings('ignore')\n",
        "\n",
        "\n",
        "plt.style.use('ggplot')"
      ],
      "execution_count": 65,
      "outputs": []
    },
    {
      "cell_type": "code",
      "metadata": {
        "id": "iIJRcq-m9fsx"
      },
      "source": [
        "data = pd.read_csv('https://raw.githubusercontent.com/pcpiscator/2T2021/main/tce_pb_Nova2.csv', sep=';', encoding='latin_1', low_memory=False)"
      ],
      "execution_count": 92,
      "outputs": []
    },
    {
      "cell_type": "code",
      "source": [
        "data.head()"
      ],
      "metadata": {
        "id": "sQxM8ahBBuRV",
        "outputId": "a3175c62-6afe-488d-edde-c66d971bb2a8",
        "colab": {
          "base_uri": "https://localhost:8080/",
          "height": 206
        }
      },
      "execution_count": 76,
      "outputs": [
        {
          "output_type": "execute_result",
          "data": {
            "text/html": [
              "\n",
              "  <div id=\"df-51707673-db5f-4948-91ee-a81ac76fe08c\">\n",
              "    <div class=\"colab-df-container\">\n",
              "      <div>\n",
              "<style scoped>\n",
              "    .dataframe tbody tr th:only-of-type {\n",
              "        vertical-align: middle;\n",
              "    }\n",
              "\n",
              "    .dataframe tbody tr th {\n",
              "        vertical-align: top;\n",
              "    }\n",
              "\n",
              "    .dataframe thead th {\n",
              "        text-align: right;\n",
              "    }\n",
              "</style>\n",
              "<table border=\"1\" class=\"dataframe\">\n",
              "  <thead>\n",
              "    <tr style=\"text-align: right;\">\n",
              "      <th></th>\n",
              "      <th>ident_licit</th>\n",
              "      <th>modalidade</th>\n",
              "      <th>cd_ugestora</th>\n",
              "      <th>valor_licitado</th>\n",
              "      <th>ano_homologacao</th>\n",
              "      <th>cnpj_proponente</th>\n",
              "      <th>valor_proposta</th>\n",
              "      <th>situacao_proposta</th>\n",
              "    </tr>\n",
              "  </thead>\n",
              "  <tbody>\n",
              "    <tr>\n",
              "      <th>0</th>\n",
              "      <td>16320</td>\n",
              "      <td>Pregao Presencial</td>\n",
              "      <td>201165.00</td>\n",
              "      <td>15407200.00</td>\n",
              "      <td>2020.00</td>\n",
              "      <td>1,1501E+13</td>\n",
              "      <td>7140000</td>\n",
              "      <td>1.00</td>\n",
              "    </tr>\n",
              "    <tr>\n",
              "      <th>1</th>\n",
              "      <td>16320</td>\n",
              "      <td>Pregao Presencial</td>\n",
              "      <td>201165.00</td>\n",
              "      <td>5217950.00</td>\n",
              "      <td>2020.00</td>\n",
              "      <td>1,93827E+13</td>\n",
              "      <td>8240000</td>\n",
              "      <td>0.00</td>\n",
              "    </tr>\n",
              "    <tr>\n",
              "      <th>2</th>\n",
              "      <td>16320</td>\n",
              "      <td>Pregao Presencial</td>\n",
              "      <td>201165.00</td>\n",
              "      <td>15407200.00</td>\n",
              "      <td>2020.00</td>\n",
              "      <td>1,99048E+13</td>\n",
              "      <td>8860000</td>\n",
              "      <td>1.00</td>\n",
              "    </tr>\n",
              "    <tr>\n",
              "      <th>3</th>\n",
              "      <td>16619</td>\n",
              "      <td>Pregao Presencial</td>\n",
              "      <td>201051.00</td>\n",
              "      <td>24225387.00</td>\n",
              "      <td>2019.00</td>\n",
              "      <td>1,1015E+13</td>\n",
              "      <td>6166800</td>\n",
              "      <td>1.00</td>\n",
              "    </tr>\n",
              "    <tr>\n",
              "      <th>4</th>\n",
              "      <td>17819</td>\n",
              "      <td>Pregao Presencial</td>\n",
              "      <td>201051.00</td>\n",
              "      <td>24225387.00</td>\n",
              "      <td>2019.00</td>\n",
              "      <td>4,45163E+12</td>\n",
              "      <td>3349904</td>\n",
              "      <td>1.00</td>\n",
              "    </tr>\n",
              "  </tbody>\n",
              "</table>\n",
              "</div>\n",
              "      <button class=\"colab-df-convert\" onclick=\"convertToInteractive('df-51707673-db5f-4948-91ee-a81ac76fe08c')\"\n",
              "              title=\"Convert this dataframe to an interactive table.\"\n",
              "              style=\"display:none;\">\n",
              "        \n",
              "  <svg xmlns=\"http://www.w3.org/2000/svg\" height=\"24px\"viewBox=\"0 0 24 24\"\n",
              "       width=\"24px\">\n",
              "    <path d=\"M0 0h24v24H0V0z\" fill=\"none\"/>\n",
              "    <path d=\"M18.56 5.44l.94 2.06.94-2.06 2.06-.94-2.06-.94-.94-2.06-.94 2.06-2.06.94zm-11 1L8.5 8.5l.94-2.06 2.06-.94-2.06-.94L8.5 2.5l-.94 2.06-2.06.94zm10 10l.94 2.06.94-2.06 2.06-.94-2.06-.94-.94-2.06-.94 2.06-2.06.94z\"/><path d=\"M17.41 7.96l-1.37-1.37c-.4-.4-.92-.59-1.43-.59-.52 0-1.04.2-1.43.59L10.3 9.45l-7.72 7.72c-.78.78-.78 2.05 0 2.83L4 21.41c.39.39.9.59 1.41.59.51 0 1.02-.2 1.41-.59l7.78-7.78 2.81-2.81c.8-.78.8-2.07 0-2.86zM5.41 20L4 18.59l7.72-7.72 1.47 1.35L5.41 20z\"/>\n",
              "  </svg>\n",
              "      </button>\n",
              "      \n",
              "  <style>\n",
              "    .colab-df-container {\n",
              "      display:flex;\n",
              "      flex-wrap:wrap;\n",
              "      gap: 12px;\n",
              "    }\n",
              "\n",
              "    .colab-df-convert {\n",
              "      background-color: #E8F0FE;\n",
              "      border: none;\n",
              "      border-radius: 50%;\n",
              "      cursor: pointer;\n",
              "      display: none;\n",
              "      fill: #1967D2;\n",
              "      height: 32px;\n",
              "      padding: 0 0 0 0;\n",
              "      width: 32px;\n",
              "    }\n",
              "\n",
              "    .colab-df-convert:hover {\n",
              "      background-color: #E2EBFA;\n",
              "      box-shadow: 0px 1px 2px rgba(60, 64, 67, 0.3), 0px 1px 3px 1px rgba(60, 64, 67, 0.15);\n",
              "      fill: #174EA6;\n",
              "    }\n",
              "\n",
              "    [theme=dark] .colab-df-convert {\n",
              "      background-color: #3B4455;\n",
              "      fill: #D2E3FC;\n",
              "    }\n",
              "\n",
              "    [theme=dark] .colab-df-convert:hover {\n",
              "      background-color: #434B5C;\n",
              "      box-shadow: 0px 1px 3px 1px rgba(0, 0, 0, 0.15);\n",
              "      filter: drop-shadow(0px 1px 2px rgba(0, 0, 0, 0.3));\n",
              "      fill: #FFFFFF;\n",
              "    }\n",
              "  </style>\n",
              "\n",
              "      <script>\n",
              "        const buttonEl =\n",
              "          document.querySelector('#df-51707673-db5f-4948-91ee-a81ac76fe08c button.colab-df-convert');\n",
              "        buttonEl.style.display =\n",
              "          google.colab.kernel.accessAllowed ? 'block' : 'none';\n",
              "\n",
              "        async function convertToInteractive(key) {\n",
              "          const element = document.querySelector('#df-51707673-db5f-4948-91ee-a81ac76fe08c');\n",
              "          const dataTable =\n",
              "            await google.colab.kernel.invokeFunction('convertToInteractive',\n",
              "                                                     [key], {});\n",
              "          if (!dataTable) return;\n",
              "\n",
              "          const docLinkHtml = 'Like what you see? Visit the ' +\n",
              "            '<a target=\"_blank\" href=https://colab.research.google.com/notebooks/data_table.ipynb>data table notebook</a>'\n",
              "            + ' to learn more about interactive tables.';\n",
              "          element.innerHTML = '';\n",
              "          dataTable['output_type'] = 'display_data';\n",
              "          await google.colab.output.renderOutput(dataTable, element);\n",
              "          const docLink = document.createElement('div');\n",
              "          docLink.innerHTML = docLinkHtml;\n",
              "          element.appendChild(docLink);\n",
              "        }\n",
              "      </script>\n",
              "    </div>\n",
              "  </div>\n",
              "  "
            ],
            "text/plain": [
              "  ident_licit         modalidade  cd_ugestora  valor_licitado  \\\n",
              "0       16320  Pregao Presencial    201165.00     15407200.00   \n",
              "1       16320  Pregao Presencial    201165.00      5217950.00   \n",
              "2       16320  Pregao Presencial    201165.00     15407200.00   \n",
              "3       16619  Pregao Presencial    201051.00     24225387.00   \n",
              "4       17819  Pregao Presencial    201051.00     24225387.00   \n",
              "\n",
              "   ano_homologacao cnpj_proponente valor_proposta  situacao_proposta  \n",
              "0          2020.00      1,1501E+13        7140000               1.00  \n",
              "1          2020.00     1,93827E+13        8240000               0.00  \n",
              "2          2020.00     1,99048E+13        8860000               1.00  \n",
              "3          2019.00      1,1015E+13        6166800               1.00  \n",
              "4          2019.00     4,45163E+12        3349904               1.00  "
            ]
          },
          "metadata": {},
          "execution_count": 76
        }
      ]
    },
    {
      "cell_type": "code",
      "source": [
        "#Criação de uma base com os dados originais não tratados para eventual necessidade futura\n",
        "base_original = data"
      ],
      "metadata": {
        "id": "cdhaB59nhLW7"
      },
      "execution_count": 77,
      "outputs": []
    },
    {
      "cell_type": "code",
      "source": [
        "data.columns"
      ],
      "metadata": {
        "id": "lPtLa0iVjQQ6",
        "colab": {
          "base_uri": "https://localhost:8080/"
        },
        "outputId": "bb79256e-bb0e-4388-b9c5-63e195b46c23"
      },
      "execution_count": 78,
      "outputs": [
        {
          "output_type": "execute_result",
          "data": {
            "text/plain": [
              "Index(['ident_licit', 'modalidade', 'cd_ugestora', 'valor_licitado',\n",
              "       'ano_homologacao', 'cnpj_proponente', 'valor_proposta',\n",
              "       'situacao_proposta'],\n",
              "      dtype='object')"
            ]
          },
          "metadata": {},
          "execution_count": 78
        }
      ]
    },
    {
      "cell_type": "code",
      "source": [
        "\n",
        "\n",
        "\n",
        "\n",
        "#eliminamos todas as linhas que tenham valores nulos\n",
        "data = data.dropna(subset = ['ident_licit','modalidade','cd_ugestora','valor_licitado','ano_homologacao', 'cnpj_proponente', 'valor_proposta', 'situacao_proposta'])\n",
        "\n",
        "#Eliminamos todas que não forem Convite, Tomada de Preços e Dispensa (8.666)\n",
        "#data3['ano_homologacao'] = data3.ano_homologacao.astype(int)\n",
        "#data3['valor_licitado'] = data3.valor_licitado.astype(int)\n",
        "#data4 =data3.loc[ (data3.modalidade == 'Convite') | (data3.modalidade == 'Tomada de Preços')\n",
        "#| (data3.modalidade == 'Art. 24 - Lei 8.666/93') ]\n",
        "\n",
        "\n",
        "#Conversão do tipo do atributo \"valor_proposta\" de str para int\n",
        "#data['valor_proposta'] = data['valor_proposta'].astype(str).astype(int)\n",
        "\n",
        "#Transformo a informação da coluna \"situacao_proposta\" em valores de 0 e 1\n",
        "#data['situacao_proposta'] = data['situacao_proposta'].map({'Vencedora': 1, 'Perdedora': 0})\n",
        "\n",
        "#Elimina todos os campos da variávem \"cpf_cnpj_proponente\" com comprimento menor que 12 ou seja, todos os CPF's\n",
        "#data6 = data5[data5['cpf_cnpj_proponente'].str.len() > 11]\n",
        "\n",
        "#Renomeia a coluna \"cpf_cnpj_proponente\" para \"cnpj_proponente\"\n",
        "#data.rename(columns={'cpf_cnpj_proponente': 'cnpj_proponente'}, inplace=True)\n",
        "\n",
        "#Conversão do tipo de atributo \"cnpj_proponente\" de str para int\n",
        "#data['cnpj_proponente'] = data['cnpj_proponente'].astype(str).astype(int)\n",
        "\n",
        "#Cria uma coluna chamada ident_licit, inicialmente vazia e que receberá os valores da coluna protocolo alterados e a coloca na primeira posição\n",
        "#data[\"ident_licit\"] = \"\"\n",
        "#data=data.reindex(columns=['ident_licit','protocolo', 'numero_licitacao', 'modalidade', 'cd_ugestora','valor_licitado', 'ano_homologacao', 'cnpj_proponente',\n",
        "#'valor_proposta', 'situacao_proposta'])\n"
      ],
      "metadata": {
        "id": "YWvwWzbYDS-J"
      },
      "execution_count": 82,
      "outputs": []
    },
    {
      "cell_type": "code",
      "source": [
        "data.columns"
      ],
      "metadata": {
        "colab": {
          "base_uri": "https://localhost:8080/"
        },
        "id": "eHEe8TUCw9jD",
        "outputId": "7ae11973-af83-4f29-95b4-04c0bbb99cdd"
      },
      "execution_count": 83,
      "outputs": [
        {
          "output_type": "execute_result",
          "data": {
            "text/plain": [
              "Index(['ident_licit', 'modalidade', 'cd_ugestora', 'valor_licitado',\n",
              "       'ano_homologacao', 'cnpj_proponente', 'valor_proposta',\n",
              "       'situacao_proposta'],\n",
              "      dtype='object')"
            ]
          },
          "metadata": {},
          "execution_count": 83
        }
      ]
    },
    {
      "cell_type": "code",
      "source": [
        "#Eliminação dos caracteres especiais do atributo \"protocolo\"\n",
        "#data['protocolo']  = data['protocolo'].str.replace('r'/,\"\")\n",
        "\n",
        "#Eliminação das expressões \"Doc. \" e Prot. \" do atributo \"protocolo\"\n",
        "##data['protocolo']  = data['protocolo'].str.replace(\"Proc\",\"\")\n",
        "\n",
        "#A coluna \"ident_licit\" recebe os valores da coluna \"protocolo\" e esta é eliminada juntamente com a coluna \"numero_licitacao\"\n",
        "#data['ident_licit']  = data['protocolo']\n",
        "#data = data.drop(['protocolo','numero_licitacao'], axis = 1)\n",
        "\n",
        "#Conversão do tipo do atributo \"ident_licit\" para inteiro\n",
        "#data['ident_licit'] = data['ident_licit'].astype(str).astype(int)\n"
      ],
      "metadata": {
        "id": "ueCIcn4lbkTY"
      },
      "execution_count": 88,
      "outputs": []
    },
    {
      "cell_type": "code",
      "source": [
        "data.columns"
      ],
      "metadata": {
        "id": "zUxS9xQbxDMk",
        "outputId": "882d0cf3-b7c2-4829-ca7e-81dd420d5ca7",
        "colab": {
          "base_uri": "https://localhost:8080/"
        }
      },
      "execution_count": 89,
      "outputs": [
        {
          "output_type": "execute_result",
          "data": {
            "text/plain": [
              "Index(['ident_licit', 'modalidade', 'cd_ugestora', 'valor_licitado',\n",
              "       'ano_homologacao', 'cnpj_proponente', 'valor_proposta',\n",
              "       'situacao_proposta'],\n",
              "      dtype='object')"
            ]
          },
          "metadata": {},
          "execution_count": 89
        }
      ]
    },
    {
      "cell_type": "code",
      "source": [
        "data.info()"
      ],
      "metadata": {
        "id": "haJGJbPlYreO",
        "colab": {
          "base_uri": "https://localhost:8080/"
        },
        "outputId": "86eaf705-84e8-4d2e-e848-ea731ce46462"
      },
      "execution_count": 90,
      "outputs": [
        {
          "output_type": "stream",
          "name": "stdout",
          "text": [
            "<class 'pandas.core.frame.DataFrame'>\n",
            "Int64Index: 29618 entries, 0 to 30361\n",
            "Data columns (total 8 columns):\n",
            " #   Column             Non-Null Count  Dtype  \n",
            "---  ------             --------------  -----  \n",
            " 0   ident_licit        29618 non-null  object \n",
            " 1   modalidade         29618 non-null  object \n",
            " 2   cd_ugestora        29618 non-null  float64\n",
            " 3   valor_licitado     29618 non-null  float64\n",
            " 4   ano_homologacao    29618 non-null  float64\n",
            " 5   cnpj_proponente    29618 non-null  object \n",
            " 6   valor_proposta     29618 non-null  object \n",
            " 7   situacao_proposta  29618 non-null  float64\n",
            "dtypes: float64(4), object(4)\n",
            "memory usage: 2.0+ MB\n"
          ]
        }
      ]
    },
    {
      "cell_type": "code",
      "source": [
        "data.head()"
      ],
      "metadata": {
        "outputId": "1f92d2cd-8039-4383-d0d7-32ff739f14e9",
        "colab": {
          "base_uri": "https://localhost:8080/",
          "height": 206
        },
        "id": "xKlsBE9pxeVf"
      },
      "execution_count": 86,
      "outputs": [
        {
          "output_type": "execute_result",
          "data": {
            "text/html": [
              "\n",
              "  <div id=\"df-52588445-2b72-4195-b97e-7586f23466e7\">\n",
              "    <div class=\"colab-df-container\">\n",
              "      <div>\n",
              "<style scoped>\n",
              "    .dataframe tbody tr th:only-of-type {\n",
              "        vertical-align: middle;\n",
              "    }\n",
              "\n",
              "    .dataframe tbody tr th {\n",
              "        vertical-align: top;\n",
              "    }\n",
              "\n",
              "    .dataframe thead th {\n",
              "        text-align: right;\n",
              "    }\n",
              "</style>\n",
              "<table border=\"1\" class=\"dataframe\">\n",
              "  <thead>\n",
              "    <tr style=\"text-align: right;\">\n",
              "      <th></th>\n",
              "      <th>ident_licit</th>\n",
              "      <th>modalidade</th>\n",
              "      <th>cd_ugestora</th>\n",
              "      <th>valor_licitado</th>\n",
              "      <th>ano_homologacao</th>\n",
              "      <th>cnpj_proponente</th>\n",
              "      <th>valor_proposta</th>\n",
              "      <th>situacao_proposta</th>\n",
              "    </tr>\n",
              "  </thead>\n",
              "  <tbody>\n",
              "    <tr>\n",
              "      <th>0</th>\n",
              "      <td>16320</td>\n",
              "      <td>Pregao Presencial</td>\n",
              "      <td>201165.00</td>\n",
              "      <td>15407200.00</td>\n",
              "      <td>2020.00</td>\n",
              "      <td>1,1501E+13</td>\n",
              "      <td>7140000</td>\n",
              "      <td>1.00</td>\n",
              "    </tr>\n",
              "    <tr>\n",
              "      <th>1</th>\n",
              "      <td>16320</td>\n",
              "      <td>Pregao Presencial</td>\n",
              "      <td>201165.00</td>\n",
              "      <td>5217950.00</td>\n",
              "      <td>2020.00</td>\n",
              "      <td>1,93827E+13</td>\n",
              "      <td>8240000</td>\n",
              "      <td>0.00</td>\n",
              "    </tr>\n",
              "    <tr>\n",
              "      <th>2</th>\n",
              "      <td>16320</td>\n",
              "      <td>Pregao Presencial</td>\n",
              "      <td>201165.00</td>\n",
              "      <td>15407200.00</td>\n",
              "      <td>2020.00</td>\n",
              "      <td>1,99048E+13</td>\n",
              "      <td>8860000</td>\n",
              "      <td>1.00</td>\n",
              "    </tr>\n",
              "    <tr>\n",
              "      <th>3</th>\n",
              "      <td>16619</td>\n",
              "      <td>Pregao Presencial</td>\n",
              "      <td>201051.00</td>\n",
              "      <td>24225387.00</td>\n",
              "      <td>2019.00</td>\n",
              "      <td>1,1015E+13</td>\n",
              "      <td>6166800</td>\n",
              "      <td>1.00</td>\n",
              "    </tr>\n",
              "    <tr>\n",
              "      <th>4</th>\n",
              "      <td>17819</td>\n",
              "      <td>Pregao Presencial</td>\n",
              "      <td>201051.00</td>\n",
              "      <td>24225387.00</td>\n",
              "      <td>2019.00</td>\n",
              "      <td>4,45163E+12</td>\n",
              "      <td>3349904</td>\n",
              "      <td>1.00</td>\n",
              "    </tr>\n",
              "  </tbody>\n",
              "</table>\n",
              "</div>\n",
              "      <button class=\"colab-df-convert\" onclick=\"convertToInteractive('df-52588445-2b72-4195-b97e-7586f23466e7')\"\n",
              "              title=\"Convert this dataframe to an interactive table.\"\n",
              "              style=\"display:none;\">\n",
              "        \n",
              "  <svg xmlns=\"http://www.w3.org/2000/svg\" height=\"24px\"viewBox=\"0 0 24 24\"\n",
              "       width=\"24px\">\n",
              "    <path d=\"M0 0h24v24H0V0z\" fill=\"none\"/>\n",
              "    <path d=\"M18.56 5.44l.94 2.06.94-2.06 2.06-.94-2.06-.94-.94-2.06-.94 2.06-2.06.94zm-11 1L8.5 8.5l.94-2.06 2.06-.94-2.06-.94L8.5 2.5l-.94 2.06-2.06.94zm10 10l.94 2.06.94-2.06 2.06-.94-2.06-.94-.94-2.06-.94 2.06-2.06.94z\"/><path d=\"M17.41 7.96l-1.37-1.37c-.4-.4-.92-.59-1.43-.59-.52 0-1.04.2-1.43.59L10.3 9.45l-7.72 7.72c-.78.78-.78 2.05 0 2.83L4 21.41c.39.39.9.59 1.41.59.51 0 1.02-.2 1.41-.59l7.78-7.78 2.81-2.81c.8-.78.8-2.07 0-2.86zM5.41 20L4 18.59l7.72-7.72 1.47 1.35L5.41 20z\"/>\n",
              "  </svg>\n",
              "      </button>\n",
              "      \n",
              "  <style>\n",
              "    .colab-df-container {\n",
              "      display:flex;\n",
              "      flex-wrap:wrap;\n",
              "      gap: 12px;\n",
              "    }\n",
              "\n",
              "    .colab-df-convert {\n",
              "      background-color: #E8F0FE;\n",
              "      border: none;\n",
              "      border-radius: 50%;\n",
              "      cursor: pointer;\n",
              "      display: none;\n",
              "      fill: #1967D2;\n",
              "      height: 32px;\n",
              "      padding: 0 0 0 0;\n",
              "      width: 32px;\n",
              "    }\n",
              "\n",
              "    .colab-df-convert:hover {\n",
              "      background-color: #E2EBFA;\n",
              "      box-shadow: 0px 1px 2px rgba(60, 64, 67, 0.3), 0px 1px 3px 1px rgba(60, 64, 67, 0.15);\n",
              "      fill: #174EA6;\n",
              "    }\n",
              "\n",
              "    [theme=dark] .colab-df-convert {\n",
              "      background-color: #3B4455;\n",
              "      fill: #D2E3FC;\n",
              "    }\n",
              "\n",
              "    [theme=dark] .colab-df-convert:hover {\n",
              "      background-color: #434B5C;\n",
              "      box-shadow: 0px 1px 3px 1px rgba(0, 0, 0, 0.15);\n",
              "      filter: drop-shadow(0px 1px 2px rgba(0, 0, 0, 0.3));\n",
              "      fill: #FFFFFF;\n",
              "    }\n",
              "  </style>\n",
              "\n",
              "      <script>\n",
              "        const buttonEl =\n",
              "          document.querySelector('#df-52588445-2b72-4195-b97e-7586f23466e7 button.colab-df-convert');\n",
              "        buttonEl.style.display =\n",
              "          google.colab.kernel.accessAllowed ? 'block' : 'none';\n",
              "\n",
              "        async function convertToInteractive(key) {\n",
              "          const element = document.querySelector('#df-52588445-2b72-4195-b97e-7586f23466e7');\n",
              "          const dataTable =\n",
              "            await google.colab.kernel.invokeFunction('convertToInteractive',\n",
              "                                                     [key], {});\n",
              "          if (!dataTable) return;\n",
              "\n",
              "          const docLinkHtml = 'Like what you see? Visit the ' +\n",
              "            '<a target=\"_blank\" href=https://colab.research.google.com/notebooks/data_table.ipynb>data table notebook</a>'\n",
              "            + ' to learn more about interactive tables.';\n",
              "          element.innerHTML = '';\n",
              "          dataTable['output_type'] = 'display_data';\n",
              "          await google.colab.output.renderOutput(dataTable, element);\n",
              "          const docLink = document.createElement('div');\n",
              "          docLink.innerHTML = docLinkHtml;\n",
              "          element.appendChild(docLink);\n",
              "        }\n",
              "      </script>\n",
              "    </div>\n",
              "  </div>\n",
              "  "
            ],
            "text/plain": [
              "  ident_licit         modalidade  cd_ugestora  valor_licitado  \\\n",
              "0       16320  Pregao Presencial    201165.00     15407200.00   \n",
              "1       16320  Pregao Presencial    201165.00      5217950.00   \n",
              "2       16320  Pregao Presencial    201165.00     15407200.00   \n",
              "3       16619  Pregao Presencial    201051.00     24225387.00   \n",
              "4       17819  Pregao Presencial    201051.00     24225387.00   \n",
              "\n",
              "   ano_homologacao cnpj_proponente valor_proposta  situacao_proposta  \n",
              "0          2020.00      1,1501E+13        7140000               1.00  \n",
              "1          2020.00     1,93827E+13        8240000               0.00  \n",
              "2          2020.00     1,99048E+13        8860000               1.00  \n",
              "3          2019.00      1,1015E+13        6166800               1.00  \n",
              "4          2019.00     4,45163E+12        3349904               1.00  "
            ]
          },
          "metadata": {},
          "execution_count": 86
        }
      ]
    },
    {
      "cell_type": "code",
      "source": [
        "#Criação de uma Matriz de Correlação entre os atributos numéricos\n",
        "correlacao = data.corr()\n",
        "correlacao.style.background_gradient(cmap='Blues')\n"
      ],
      "metadata": {
        "id": "OMebuEf1D9Bn",
        "colab": {
          "base_uri": "https://localhost:8080/",
          "height": 175
        },
        "outputId": "5b1fc8ea-d67a-4083-b22a-2c2d0e5b5d7c"
      },
      "execution_count": 94,
      "outputs": [
        {
          "output_type": "execute_result",
          "data": {
            "text/html": [
              "<style  type=\"text/css\" >\n",
              "#T_8d220626_7bbf_11ec_8657_0242ac1c0002row0_col0,#T_8d220626_7bbf_11ec_8657_0242ac1c0002row1_col1,#T_8d220626_7bbf_11ec_8657_0242ac1c0002row2_col2,#T_8d220626_7bbf_11ec_8657_0242ac1c0002row3_col3{\n",
              "            background-color:  #08306b;\n",
              "            color:  #f1f1f1;\n",
              "        }#T_8d220626_7bbf_11ec_8657_0242ac1c0002row0_col1{\n",
              "            background-color:  #f6faff;\n",
              "            color:  #000000;\n",
              "        }#T_8d220626_7bbf_11ec_8657_0242ac1c0002row0_col2,#T_8d220626_7bbf_11ec_8657_0242ac1c0002row2_col0,#T_8d220626_7bbf_11ec_8657_0242ac1c0002row2_col1,#T_8d220626_7bbf_11ec_8657_0242ac1c0002row2_col3{\n",
              "            background-color:  #f7fbff;\n",
              "            color:  #000000;\n",
              "        }#T_8d220626_7bbf_11ec_8657_0242ac1c0002row0_col3{\n",
              "            background-color:  #ebf3fb;\n",
              "            color:  #000000;\n",
              "        }#T_8d220626_7bbf_11ec_8657_0242ac1c0002row1_col0,#T_8d220626_7bbf_11ec_8657_0242ac1c0002row3_col0{\n",
              "            background-color:  #e9f2fa;\n",
              "            color:  #000000;\n",
              "        }#T_8d220626_7bbf_11ec_8657_0242ac1c0002row1_col2{\n",
              "            background-color:  #eaf3fb;\n",
              "            color:  #000000;\n",
              "        }#T_8d220626_7bbf_11ec_8657_0242ac1c0002row1_col3{\n",
              "            background-color:  #ecf4fb;\n",
              "            color:  #000000;\n",
              "        }#T_8d220626_7bbf_11ec_8657_0242ac1c0002row3_col1{\n",
              "            background-color:  #f5fafe;\n",
              "            color:  #000000;\n",
              "        }#T_8d220626_7bbf_11ec_8657_0242ac1c0002row3_col2{\n",
              "            background-color:  #f5f9fe;\n",
              "            color:  #000000;\n",
              "        }</style><table id=\"T_8d220626_7bbf_11ec_8657_0242ac1c0002\" class=\"dataframe\"><thead>    <tr>        <th class=\"blank level0\" ></th>        <th class=\"col_heading level0 col0\" >cd_ugestora</th>        <th class=\"col_heading level0 col1\" >valor_licitado</th>        <th class=\"col_heading level0 col2\" >ano_homologacao</th>        <th class=\"col_heading level0 col3\" >situacao_proposta</th>    </tr></thead><tbody>\n",
              "                <tr>\n",
              "                        <th id=\"T_8d220626_7bbf_11ec_8657_0242ac1c0002level0_row0\" class=\"row_heading level0 row0\" >cd_ugestora</th>\n",
              "                        <td id=\"T_8d220626_7bbf_11ec_8657_0242ac1c0002row0_col0\" class=\"data row0 col0\" >1.000000</td>\n",
              "                        <td id=\"T_8d220626_7bbf_11ec_8657_0242ac1c0002row0_col1\" class=\"data row0 col1\" >0.010181</td>\n",
              "                        <td id=\"T_8d220626_7bbf_11ec_8657_0242ac1c0002row0_col2\" class=\"data row0 col2\" >-0.065694</td>\n",
              "                        <td id=\"T_8d220626_7bbf_11ec_8657_0242ac1c0002row0_col3\" class=\"data row0 col3\" >0.010848</td>\n",
              "            </tr>\n",
              "            <tr>\n",
              "                        <th id=\"T_8d220626_7bbf_11ec_8657_0242ac1c0002level0_row1\" class=\"row_heading level0 row1\" >valor_licitado</th>\n",
              "                        <td id=\"T_8d220626_7bbf_11ec_8657_0242ac1c0002row1_col0\" class=\"data row1 col0\" >0.010181</td>\n",
              "                        <td id=\"T_8d220626_7bbf_11ec_8657_0242ac1c0002row1_col1\" class=\"data row1 col1\" >1.000000</td>\n",
              "                        <td id=\"T_8d220626_7bbf_11ec_8657_0242ac1c0002row1_col2\" class=\"data row1 col2\" >0.002402</td>\n",
              "                        <td id=\"T_8d220626_7bbf_11ec_8657_0242ac1c0002row1_col3\" class=\"data row1 col3\" >0.010715</td>\n",
              "            </tr>\n",
              "            <tr>\n",
              "                        <th id=\"T_8d220626_7bbf_11ec_8657_0242ac1c0002level0_row2\" class=\"row_heading level0 row2\" >ano_homologacao</th>\n",
              "                        <td id=\"T_8d220626_7bbf_11ec_8657_0242ac1c0002row2_col0\" class=\"data row2 col0\" >-0.065694</td>\n",
              "                        <td id=\"T_8d220626_7bbf_11ec_8657_0242ac1c0002row2_col1\" class=\"data row2 col1\" >0.002402</td>\n",
              "                        <td id=\"T_8d220626_7bbf_11ec_8657_0242ac1c0002row2_col2\" class=\"data row2 col2\" >1.000000</td>\n",
              "                        <td id=\"T_8d220626_7bbf_11ec_8657_0242ac1c0002row2_col3\" class=\"data row2 col3\" >-0.050766</td>\n",
              "            </tr>\n",
              "            <tr>\n",
              "                        <th id=\"T_8d220626_7bbf_11ec_8657_0242ac1c0002level0_row3\" class=\"row_heading level0 row3\" >situacao_proposta</th>\n",
              "                        <td id=\"T_8d220626_7bbf_11ec_8657_0242ac1c0002row3_col0\" class=\"data row3 col0\" >0.010848</td>\n",
              "                        <td id=\"T_8d220626_7bbf_11ec_8657_0242ac1c0002row3_col1\" class=\"data row3 col1\" >0.010715</td>\n",
              "                        <td id=\"T_8d220626_7bbf_11ec_8657_0242ac1c0002row3_col2\" class=\"data row3 col2\" >-0.050766</td>\n",
              "                        <td id=\"T_8d220626_7bbf_11ec_8657_0242ac1c0002row3_col3\" class=\"data row3 col3\" >1.000000</td>\n",
              "            </tr>\n",
              "    </tbody></table>"
            ],
            "text/plain": [
              "<pandas.io.formats.style.Styler at 0x7fd94ef34690>"
            ]
          },
          "metadata": {},
          "execution_count": 94
        }
      ]
    },
    {
      "cell_type": "code",
      "source": [
        "#Geração, no GDrive, de um arquivo csv com as alterações efetuadas.\n",
        "#data7.to_csv('/content/drive/MyDrive/00 - Pós Ciência de Dados/99 - TCC/PROJETO 00 - TCC Grupo/01 - Bases Candidatas/02 - TCE PB - Experiência com o Colab/data7.CSV', sep=',', encoding='utf-8')"
      ],
      "metadata": {
        "id": "uzscjfO3ty1y"
      },
      "execution_count": null,
      "outputs": []
    },
    {
      "cell_type": "markdown",
      "source": [
        "## ALGUNS CÓDIGOS QUE PODEM VIR A SER ÚTEIS\n"
      ],
      "metadata": {
        "id": "y7C6AlLqXEIa"
      }
    },
    {
      "cell_type": "code",
      "source": [
        ""
      ],
      "metadata": {
        "id": "0bKDSZvPxa0V"
      },
      "execution_count": null,
      "outputs": []
    },
    {
      "cell_type": "code",
      "source": [
        "# mapeia cada valor da variável Embarked em um valor numérico\n",
        "#mapeamento_embarked = {\"S\": 1, \"C\": 2, \"Q\": 3}\n",
        "#treinamento_df['Embarked'] = treinamento_df['Embarked'].map(mapeamento_embarked)\n",
        "#teste_df['Embarked'] = teste_df['Embarked'].map(mapeamento_embarked)"
      ],
      "metadata": {
        "id": "Ir0xrPz3XLHC"
      },
      "execution_count": null,
      "outputs": []
    }
  ]
}