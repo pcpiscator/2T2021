{
  "nbformat": 4,
  "nbformat_minor": 0,
  "metadata": {
    "colab": {
      "name": "Experiências TCE PB - Limpeza e Tratamento da Base",
      "provenance": [],
      "collapsed_sections": [],
      "include_colab_link": true
    },
    "kernelspec": {
      "name": "python3",
      "display_name": "Python 3"
    },
    "language_info": {
      "name": "python"
    }
  },
  "cells": [
    {
      "cell_type": "markdown",
      "metadata": {
        "id": "view-in-github",
        "colab_type": "text"
      },
      "source": [
        "<a href=\"https://colab.research.google.com/github/pcpiscator/2T2021/blob/main/Experi%C3%AAncias_TCE_PB_Limpeza_e_Tratamento_da_Base(bom).ipynb\" target=\"_parent\"><img src=\"https://colab.research.google.com/assets/colab-badge.svg\" alt=\"Open In Colab\"/></a>"
      ]
    },
    {
      "cell_type": "code",
      "metadata": {
        "id": "2W2TvvOK42kg",
        "colab": {
          "base_uri": "https://localhost:8080/"
        },
        "outputId": "174c8b26-96cb-4dc3-8beb-c73f50ed5816"
      },
      "source": [
        "pip install mpl_finance"
      ],
      "execution_count": null,
      "outputs": [
        {
          "output_type": "stream",
          "name": "stdout",
          "text": [
            "Collecting mpl_finance\n",
            "  Downloading mpl_finance-0.10.1-py3-none-any.whl (8.4 kB)\n",
            "Requirement already satisfied: matplotlib in /usr/local/lib/python3.7/dist-packages (from mpl_finance) (3.2.2)\n",
            "Requirement already satisfied: pyparsing!=2.0.4,!=2.1.2,!=2.1.6,>=2.0.1 in /usr/local/lib/python3.7/dist-packages (from matplotlib->mpl_finance) (3.0.6)\n",
            "Requirement already satisfied: python-dateutil>=2.1 in /usr/local/lib/python3.7/dist-packages (from matplotlib->mpl_finance) (2.8.2)\n",
            "Requirement already satisfied: numpy>=1.11 in /usr/local/lib/python3.7/dist-packages (from matplotlib->mpl_finance) (1.19.5)\n",
            "Requirement already satisfied: cycler>=0.10 in /usr/local/lib/python3.7/dist-packages (from matplotlib->mpl_finance) (0.11.0)\n",
            "Requirement already satisfied: kiwisolver>=1.0.1 in /usr/local/lib/python3.7/dist-packages (from matplotlib->mpl_finance) (1.3.2)\n",
            "Requirement already satisfied: six>=1.5 in /usr/local/lib/python3.7/dist-packages (from python-dateutil>=2.1->matplotlib->mpl_finance) (1.15.0)\n",
            "Installing collected packages: mpl-finance\n",
            "Successfully installed mpl-finance-0.10.1\n"
          ]
        }
      ]
    },
    {
      "cell_type": "code",
      "source": [
        "from google.colab import drive\n",
        "drive.mount('/content/drive')"
      ],
      "metadata": {
        "colab": {
          "base_uri": "https://localhost:8080/"
        },
        "id": "ttgxwUWNhnNj",
        "outputId": "c973011d-dbaa-4fc3-9e27-3e592a95cfe8"
      },
      "execution_count": 1,
      "outputs": [
        {
          "output_type": "stream",
          "name": "stdout",
          "text": [
            "Mounted at /content/drive\n"
          ]
        }
      ]
    },
    {
      "cell_type": "code",
      "metadata": {
        "id": "3sO-ERn958je"
      },
      "source": [
        "# bibliotecas para análise de dados\n",
        "import numpy as np\n",
        "import pandas as pd\n",
        "# bibliotecas para gráficos \n",
        "import matplotlib.pyplot as plt\n",
        "import plotly.graph_objs as go\n",
        "import plotly.offline as py\n",
        "pd.options.display.max_columns = None\n",
        "pd.options.display.max_rows = None\n",
        "pd.options.display.float_format = '{:.2f}'.format\n",
        "# bibliotecas para visualização\n",
        "import matplotlib.pyplot as plt\n",
        "import seaborn as sns\n",
        "%matplotlib inline\n",
        "import matplotlib.dates as mpl_dates\n",
        "import sklearn\n",
        "# configuração para ignorar mensagens de advertência (warning). \n",
        "import warnings\n",
        "warnings.filterwarnings('ignore')\n",
        "\n",
        "\n",
        "plt.style.use('ggplot')"
      ],
      "execution_count": 2,
      "outputs": []
    },
    {
      "cell_type": "code",
      "metadata": {
        "id": "iIJRcq-m9fsx"
      },
      "source": [
        "data = pd.read_csv('/content/drive/MyDrive/Dados/tce_pb_original.CSV', sep=';', encoding='latin_1', low_memory=False)"
      ],
      "execution_count": 4,
      "outputs": []
    },
    {
      "cell_type": "code",
      "source": [
        "#Criação de uma base com os dados originais não tratados para eventual necessidade futura\n",
        "base_original = data"
      ],
      "metadata": {
        "id": "cdhaB59nhLW7"
      },
      "execution_count": null,
      "outputs": []
    },
    {
      "cell_type": "code",
      "source": [
        "data.columns"
      ],
      "metadata": {
        "id": "lPtLa0iVjQQ6",
        "colab": {
          "base_uri": "https://localhost:8080/"
        },
        "outputId": "9bff92c6-d500-4758-8f73-588bea87fa87"
      },
      "execution_count": null,
      "outputs": [
        {
          "output_type": "execute_result",
          "data": {
            "text/plain": [
              "Index(['protocolo_licitacao', 'numero_licitacao', 'nome_modalidade_licitacao',\n",
              "       'nome_municipio', 'cd_ugestora', 'jurisdicionado_id',\n",
              "       'nome_jurisdicionado', 'nome_tipo_jurisdicionado',\n",
              "       'nome_tipo_administracao_jurisdicionado', 'nome_esfera_jurisdicionado',\n",
              "       'objeto_licitacao', 'valor_estimado_licitacao',\n",
              "       'valor_licitado_licitacao', 'data_homologacao_licitacao',\n",
              "       'ano_homologacao_licitacao', 'situacao_fracassada_licitacao',\n",
              "       'nome_proponente', 'cpf_cnpj_proponente', 'valor_proposta',\n",
              "       'situacao_proposta', 'nome_estagio_processual_licitacao',\n",
              "       'nome_setor_atual_licitacao', 'url'],\n",
              "      dtype='object')"
            ]
          },
          "metadata": {},
          "execution_count": 5
        }
      ]
    },
    {
      "cell_type": "code",
      "source": [
        "#retiramos colunas desnecessárias na análise\n",
        "data2 = data.drop(['nome_municipio','jurisdicionado_id','nome_jurisdicionado','nome_tipo_jurisdicionado','nome_tipo_administracao_jurisdicionado',\n",
        "                   'nome_esfera_jurisdicionado','objeto_licitacao','valor_estimado_licitacao','data_homologacao_licitacao','situacao_fracassada_licitacao','nome_proponente','nome_estagio_processual_licitacao',\n",
        "                   'nome_setor_atual_licitacao', 'url'],axis=1)\n",
        "\n",
        "#renomeamos algumas colunas\n",
        "data2.rename(columns={'protocolo_licitacao':'protocolo','nome_modalidade_licitacao': 'modalidade',\n",
        "                      'valor_licitado_licitacao':'valor_licitado','ano_homologacao_licitacao':'ano_homologacao'}, inplace=True)\n",
        "\n",
        "#eliminamos todas as linhas que tenham valores nulos\n",
        "data3 = data2.dropna(subset = ['protocolo', 'numero_licitacao', 'modalidade','cd_ugestora','valor_licitado','ano_homologacao', 'cpf_cnpj_proponente', 'valor_proposta', 'situacao_proposta'])\n",
        "\n",
        "#Eliminamos todas que não forem Convite, Tomada de Preços e Dispensa (8.666)\n",
        "data3['ano_homologacao'] = data3.ano_homologacao.astype(int)\n",
        "data3['valor_licitado'] = data3.valor_licitado.astype(int)\n",
        "data4 =data3.loc[ (data3.modalidade == 'Convite') | (data3.modalidade == 'Tomada de Preços')\n",
        "| (data3.modalidade == 'Art. 24 - Lei 8.666/93') ]\n",
        "\n",
        "#Eliminamos todas as licitações até 2018 (inclusive)\n",
        "data5 =data4.loc[ (data4.ano_homologacao > 2018)]\n",
        "\n",
        "#Conversão do tipo do atributo \"valor_proposta\" de str para int\n",
        "data5['valor_proposta'] = data5['valor_proposta'].astype(str).astype(int)\n",
        "\n",
        "#Transformo a informação da coluna \"situacao_proposta\" em valores de 0 e 1\n",
        "data5['situacao_proposta'] = data5['situacao_proposta'].map({'Vencedora': 1, 'Perdedora': 0})\n",
        "\n",
        "#Elimina todos os campos da variávem \"cpf_cnpj_proponente\" com comprimento menor que 12 ou seja, todos os CPF's\n",
        "data6 = data5[data5['cpf_cnpj_proponente'].str.len() > 11]\n",
        "\n",
        "#Renomeia a coluna \"cpf_cnpj_proponente\" para \"cnpj_proponente\"\n",
        "data6.rename(columns={'cpf_cnpj_proponente': 'cnpj_proponente'}, inplace=True)\n",
        "\n",
        "#Conversão do tipo de atributo \"cnpj_proponente\" de str para int\n",
        "data6['cnpj_proponente'] = data6['cnpj_proponente'].astype(str).astype(int)\n",
        "\n",
        "#Cria uma coluna chamada ident_licit, inicialmente vazia e que receberá os valores da coluna protocolo alterados e a coloca na primeira posição\n",
        "data6[\"ident_licit\"] = \"\"\n",
        "data7=data6.reindex(columns=['ident_licit','protocolo', 'numero_licitacao', 'modalidade', 'cd_ugestora','valor_licitado', 'ano_homologacao', 'cnpj_proponente',\n",
        "       'valor_proposta', 'situacao_proposta'])\n",
        "\n",
        "\n"
      ],
      "metadata": {
        "id": "1GhPf1NBgTD8"
      },
      "execution_count": null,
      "outputs": []
    },
    {
      "cell_type": "code",
      "source": [
        "data7.columns"
      ],
      "metadata": {
        "colab": {
          "base_uri": "https://localhost:8080/"
        },
        "id": "eHEe8TUCw9jD",
        "outputId": "5fa5f523-5d70-4ba9-f959-3e6a500433bd"
      },
      "execution_count": null,
      "outputs": [
        {
          "output_type": "execute_result",
          "data": {
            "text/plain": [
              "Index(['ident_licit', 'protocolo', 'numero_licitacao', 'modalidade',\n",
              "       'cd_ugestora', 'valor_licitado', 'ano_homologacao', 'cnpj_proponente',\n",
              "       'valor_proposta', 'situacao_proposta'],\n",
              "      dtype='object')"
            ]
          },
          "metadata": {},
          "execution_count": 7
        }
      ]
    },
    {
      "cell_type": "code",
      "source": [
        "#Eliminação dos caracteres especiais do atributo \"protocolo\"\n",
        "data7['protocolo']  = data7['protocolo'].str.replace(r'\\W',\"\")\n",
        "\n",
        "#Eliminação das expressões \"Doc. \" e Prot. \" do atributo \"protocolo\"\n",
        "data7['protocolo']  = data7['protocolo'].str.replace(\"Doc\",\"\")\n",
        "data7['protocolo']  = data7['protocolo'].str.replace(\"Proc\",\"\")\n",
        "\n",
        "#A coluna \"ident_licit\" recebe os valores da coluna \"protocolo\" e esta é eliminada juntamente com a coluna \"numero_licitacao\"\n",
        "data7['ident_licit']  = data7['protocolo']\n",
        "data7 = data7.drop(['protocolo','numero_licitacao'], axis = 1)\n",
        "\n",
        "#Conversão do tipo do atributo \"idente_licit\" para inteiro\n",
        "data7['ident_licit'] = data7['ident_licit'].astype(str).astype(int)\n"
      ],
      "metadata": {
        "id": "ueCIcn4lbkTY"
      },
      "execution_count": null,
      "outputs": []
    },
    {
      "cell_type": "code",
      "source": [
        "data7.columns"
      ],
      "metadata": {
        "id": "zUxS9xQbxDMk",
        "outputId": "58eabff9-23d8-4ef9-8ac4-cd6147e0c054",
        "colab": {
          "base_uri": "https://localhost:8080/"
        }
      },
      "execution_count": null,
      "outputs": [
        {
          "output_type": "execute_result",
          "data": {
            "text/plain": [
              "Index(['ident_licit', 'modalidade', 'cd_ugestora', 'valor_licitado',\n",
              "       'ano_homologacao', 'cnpj_proponente', 'valor_proposta',\n",
              "       'situacao_proposta'],\n",
              "      dtype='object')"
            ]
          },
          "metadata": {},
          "execution_count": 10
        }
      ]
    },
    {
      "cell_type": "code",
      "source": [
        "data7.info()"
      ],
      "metadata": {
        "id": "haJGJbPlYreO",
        "colab": {
          "base_uri": "https://localhost:8080/"
        },
        "outputId": "8d40cb3e-b293-49d6-e41f-a7870ec99230"
      },
      "execution_count": null,
      "outputs": [
        {
          "output_type": "stream",
          "name": "stdout",
          "text": [
            "<class 'pandas.core.frame.DataFrame'>\n",
            "Int64Index: 9509 entries, 109563 to 308687\n",
            "Data columns (total 8 columns):\n",
            " #   Column             Non-Null Count  Dtype \n",
            "---  ------             --------------  ----- \n",
            " 0   ident_licit        9509 non-null   int64 \n",
            " 1   modalidade         9509 non-null   object\n",
            " 2   cd_ugestora        9509 non-null   int64 \n",
            " 3   valor_licitado     9509 non-null   int64 \n",
            " 4   ano_homologacao    9509 non-null   int64 \n",
            " 5   cnpj_proponente    9509 non-null   int64 \n",
            " 6   valor_proposta     9509 non-null   int64 \n",
            " 7   situacao_proposta  9509 non-null   int64 \n",
            "dtypes: int64(7), object(1)\n",
            "memory usage: 668.6+ KB\n"
          ]
        }
      ]
    },
    {
      "cell_type": "code",
      "source": [
        "#Criação de uma Matriz de Correlação entre os atributos numéricos\n",
        "correlacao = data7.corr()\n",
        "correlacao.style.background_gradient(cmap='Blues')\n"
      ],
      "metadata": {
        "id": "OMebuEf1D9Bn",
        "colab": {
          "base_uri": "https://localhost:8080/"
        },
        "outputId": "b5c00d18-c253-454b-ce84-718a706e7bf2"
      },
      "execution_count": null,
      "outputs": [
        {
          "output_type": "execute_result",
          "data": {
            "text/html": [
              "<style  type=\"text/css\" >\n",
              "#T_de8b6530_7871_11ec_8e70_0242ac1c0002row0_col0,#T_de8b6530_7871_11ec_8e70_0242ac1c0002row1_col1,#T_de8b6530_7871_11ec_8e70_0242ac1c0002row2_col2,#T_de8b6530_7871_11ec_8e70_0242ac1c0002row3_col3,#T_de8b6530_7871_11ec_8e70_0242ac1c0002row4_col4,#T_de8b6530_7871_11ec_8e70_0242ac1c0002row5_col5,#T_de8b6530_7871_11ec_8e70_0242ac1c0002row6_col6{\n",
              "            background-color:  #08306b;\n",
              "            color:  #f1f1f1;\n",
              "        }#T_de8b6530_7871_11ec_8e70_0242ac1c0002row0_col1,#T_de8b6530_7871_11ec_8e70_0242ac1c0002row1_col3{\n",
              "            background-color:  #f3f8fe;\n",
              "            color:  #000000;\n",
              "        }#T_de8b6530_7871_11ec_8e70_0242ac1c0002row0_col2,#T_de8b6530_7871_11ec_8e70_0242ac1c0002row0_col5,#T_de8b6530_7871_11ec_8e70_0242ac1c0002row2_col0,#T_de8b6530_7871_11ec_8e70_0242ac1c0002row2_col4,#T_de8b6530_7871_11ec_8e70_0242ac1c0002row5_col4,#T_de8b6530_7871_11ec_8e70_0242ac1c0002row5_col6,#T_de8b6530_7871_11ec_8e70_0242ac1c0002row6_col1,#T_de8b6530_7871_11ec_8e70_0242ac1c0002row6_col3{\n",
              "            background-color:  #f7fbff;\n",
              "            color:  #000000;\n",
              "        }#T_de8b6530_7871_11ec_8e70_0242ac1c0002row0_col3,#T_de8b6530_7871_11ec_8e70_0242ac1c0002row1_col6{\n",
              "            background-color:  #e3eef9;\n",
              "            color:  #000000;\n",
              "        }#T_de8b6530_7871_11ec_8e70_0242ac1c0002row0_col4{\n",
              "            background-color:  #d1e2f3;\n",
              "            color:  #000000;\n",
              "        }#T_de8b6530_7871_11ec_8e70_0242ac1c0002row0_col6{\n",
              "            background-color:  #d3e3f3;\n",
              "            color:  #000000;\n",
              "        }#T_de8b6530_7871_11ec_8e70_0242ac1c0002row1_col0{\n",
              "            background-color:  #d9e7f5;\n",
              "            color:  #000000;\n",
              "        }#T_de8b6530_7871_11ec_8e70_0242ac1c0002row1_col2{\n",
              "            background-color:  #a1cbe2;\n",
              "            color:  #000000;\n",
              "        }#T_de8b6530_7871_11ec_8e70_0242ac1c0002row1_col4,#T_de8b6530_7871_11ec_8e70_0242ac1c0002row6_col2{\n",
              "            background-color:  #e7f1fa;\n",
              "            color:  #000000;\n",
              "        }#T_de8b6530_7871_11ec_8e70_0242ac1c0002row1_col5{\n",
              "            background-color:  #a3cce3;\n",
              "            color:  #000000;\n",
              "        }#T_de8b6530_7871_11ec_8e70_0242ac1c0002row2_col1{\n",
              "            background-color:  #c2d9ee;\n",
              "            color:  #000000;\n",
              "        }#T_de8b6530_7871_11ec_8e70_0242ac1c0002row2_col3,#T_de8b6530_7871_11ec_8e70_0242ac1c0002row3_col1,#T_de8b6530_7871_11ec_8e70_0242ac1c0002row5_col3{\n",
              "            background-color:  #eaf3fb;\n",
              "            color:  #000000;\n",
              "        }#T_de8b6530_7871_11ec_8e70_0242ac1c0002row2_col5,#T_de8b6530_7871_11ec_8e70_0242ac1c0002row5_col2{\n",
              "            background-color:  #083674;\n",
              "            color:  #f1f1f1;\n",
              "        }#T_de8b6530_7871_11ec_8e70_0242ac1c0002row2_col6,#T_de8b6530_7871_11ec_8e70_0242ac1c0002row4_col1{\n",
              "            background-color:  #eff6fc;\n",
              "            color:  #000000;\n",
              "        }#T_de8b6530_7871_11ec_8e70_0242ac1c0002row3_col0{\n",
              "            background-color:  #c4daee;\n",
              "            color:  #000000;\n",
              "        }#T_de8b6530_7871_11ec_8e70_0242ac1c0002row3_col2{\n",
              "            background-color:  #cadef0;\n",
              "            color:  #000000;\n",
              "        }#T_de8b6530_7871_11ec_8e70_0242ac1c0002row3_col4{\n",
              "            background-color:  #cee0f2;\n",
              "            color:  #000000;\n",
              "        }#T_de8b6530_7871_11ec_8e70_0242ac1c0002row3_col5{\n",
              "            background-color:  #cddff1;\n",
              "            color:  #000000;\n",
              "        }#T_de8b6530_7871_11ec_8e70_0242ac1c0002row3_col6{\n",
              "            background-color:  #dce9f6;\n",
              "            color:  #000000;\n",
              "        }#T_de8b6530_7871_11ec_8e70_0242ac1c0002row4_col0{\n",
              "            background-color:  #bed8ec;\n",
              "            color:  #000000;\n",
              "        }#T_de8b6530_7871_11ec_8e70_0242ac1c0002row4_col2{\n",
              "            background-color:  #e3eef8;\n",
              "            color:  #000000;\n",
              "        }#T_de8b6530_7871_11ec_8e70_0242ac1c0002row4_col3{\n",
              "            background-color:  #dbe9f6;\n",
              "            color:  #000000;\n",
              "        }#T_de8b6530_7871_11ec_8e70_0242ac1c0002row4_col5{\n",
              "            background-color:  #e5eff9;\n",
              "            color:  #000000;\n",
              "        }#T_de8b6530_7871_11ec_8e70_0242ac1c0002row4_col6{\n",
              "            background-color:  #d5e5f4;\n",
              "            color:  #000000;\n",
              "        }#T_de8b6530_7871_11ec_8e70_0242ac1c0002row5_col0{\n",
              "            background-color:  #f5f9fe;\n",
              "            color:  #000000;\n",
              "        }#T_de8b6530_7871_11ec_8e70_0242ac1c0002row5_col1{\n",
              "            background-color:  #c1d9ed;\n",
              "            color:  #000000;\n",
              "        }#T_de8b6530_7871_11ec_8e70_0242ac1c0002row6_col0{\n",
              "            background-color:  #ccdff1;\n",
              "            color:  #000000;\n",
              "        }#T_de8b6530_7871_11ec_8e70_0242ac1c0002row6_col4{\n",
              "            background-color:  #dfecf7;\n",
              "            color:  #000000;\n",
              "        }#T_de8b6530_7871_11ec_8e70_0242ac1c0002row6_col5{\n",
              "            background-color:  #f2f7fd;\n",
              "            color:  #000000;\n",
              "        }</style><table id=\"T_de8b6530_7871_11ec_8e70_0242ac1c0002\" class=\"dataframe\"><thead>    <tr>        <th class=\"blank level0\" ></th>        <th class=\"col_heading level0 col0\" >ident_licit</th>        <th class=\"col_heading level0 col1\" >cd_ugestora</th>        <th class=\"col_heading level0 col2\" >valor_licitado</th>        <th class=\"col_heading level0 col3\" >ano_homologacao</th>        <th class=\"col_heading level0 col4\" >cnpj_proponente</th>        <th class=\"col_heading level0 col5\" >valor_proposta</th>        <th class=\"col_heading level0 col6\" >situacao_proposta</th>    </tr></thead><tbody>\n",
              "                <tr>\n",
              "                        <th id=\"T_de8b6530_7871_11ec_8e70_0242ac1c0002level0_row0\" class=\"row_heading level0 row0\" >ident_licit</th>\n",
              "                        <td id=\"T_de8b6530_7871_11ec_8e70_0242ac1c0002row0_col0\" class=\"data row0 col0\" >1.000000</td>\n",
              "                        <td id=\"T_de8b6530_7871_11ec_8e70_0242ac1c0002row0_col1\" class=\"data row0 col1\" >-0.069486</td>\n",
              "                        <td id=\"T_de8b6530_7871_11ec_8e70_0242ac1c0002row0_col2\" class=\"data row0 col2\" >-0.266363</td>\n",
              "                        <td id=\"T_de8b6530_7871_11ec_8e70_0242ac1c0002row0_col3\" class=\"data row0 col3\" >0.057333</td>\n",
              "                        <td id=\"T_de8b6530_7871_11ec_8e70_0242ac1c0002row0_col4\" class=\"data row0 col4\" >0.082816</td>\n",
              "                        <td id=\"T_de8b6530_7871_11ec_8e70_0242ac1c0002row0_col5\" class=\"data row0 col5\" >-0.250104</td>\n",
              "                        <td id=\"T_de8b6530_7871_11ec_8e70_0242ac1c0002row0_col6\" class=\"data row0 col6\" >0.011288</td>\n",
              "            </tr>\n",
              "            <tr>\n",
              "                        <th id=\"T_de8b6530_7871_11ec_8e70_0242ac1c0002level0_row1\" class=\"row_heading level0 row1\" >cd_ugestora</th>\n",
              "                        <td id=\"T_de8b6530_7871_11ec_8e70_0242ac1c0002row1_col0\" class=\"data row1 col0\" >-0.069486</td>\n",
              "                        <td id=\"T_de8b6530_7871_11ec_8e70_0242ac1c0002row1_col1\" class=\"data row1 col1\" >1.000000</td>\n",
              "                        <td id=\"T_de8b6530_7871_11ec_8e70_0242ac1c0002row1_col2\" class=\"data row1 col2\" >0.195906</td>\n",
              "                        <td id=\"T_de8b6530_7871_11ec_8e70_0242ac1c0002row1_col3\" class=\"data row1 col3\" >-0.023885</td>\n",
              "                        <td id=\"T_de8b6530_7871_11ec_8e70_0242ac1c0002row1_col4\" class=\"data row1 col4\" >-0.047942</td>\n",
              "                        <td id=\"T_de8b6530_7871_11ec_8e70_0242ac1c0002row1_col5\" class=\"data row1 col5\" >0.202046</td>\n",
              "                        <td id=\"T_de8b6530_7871_11ec_8e70_0242ac1c0002row1_col6\" class=\"data row1 col6\" >-0.092268</td>\n",
              "            </tr>\n",
              "            <tr>\n",
              "                        <th id=\"T_de8b6530_7871_11ec_8e70_0242ac1c0002level0_row2\" class=\"row_heading level0 row2\" >valor_licitado</th>\n",
              "                        <td id=\"T_de8b6530_7871_11ec_8e70_0242ac1c0002row2_col0\" class=\"data row2 col0\" >-0.266363</td>\n",
              "                        <td id=\"T_de8b6530_7871_11ec_8e70_0242ac1c0002row2_col1\" class=\"data row2 col1\" >0.195906</td>\n",
              "                        <td id=\"T_de8b6530_7871_11ec_8e70_0242ac1c0002row2_col2\" class=\"data row2 col2\" >1.000000</td>\n",
              "                        <td id=\"T_de8b6530_7871_11ec_8e70_0242ac1c0002row2_col3\" class=\"data row2 col3\" >0.021372</td>\n",
              "                        <td id=\"T_de8b6530_7871_11ec_8e70_0242ac1c0002row2_col4\" class=\"data row2 col4\" >-0.137515</td>\n",
              "                        <td id=\"T_de8b6530_7871_11ec_8e70_0242ac1c0002row2_col5\" class=\"data row2 col5\" >0.966956</td>\n",
              "                        <td id=\"T_de8b6530_7871_11ec_8e70_0242ac1c0002row2_col6\" class=\"data row2 col6\" >-0.164775</td>\n",
              "            </tr>\n",
              "            <tr>\n",
              "                        <th id=\"T_de8b6530_7871_11ec_8e70_0242ac1c0002level0_row3\" class=\"row_heading level0 row3\" >ano_homologacao</th>\n",
              "                        <td id=\"T_de8b6530_7871_11ec_8e70_0242ac1c0002row3_col0\" class=\"data row3 col0\" >0.057333</td>\n",
              "                        <td id=\"T_de8b6530_7871_11ec_8e70_0242ac1c0002row3_col1\" class=\"data row3 col1\" >-0.023885</td>\n",
              "                        <td id=\"T_de8b6530_7871_11ec_8e70_0242ac1c0002row3_col2\" class=\"data row3 col2\" >0.021372</td>\n",
              "                        <td id=\"T_de8b6530_7871_11ec_8e70_0242ac1c0002row3_col3\" class=\"data row3 col3\" >1.000000</td>\n",
              "                        <td id=\"T_de8b6530_7871_11ec_8e70_0242ac1c0002row3_col4\" class=\"data row3 col4\" >0.100667</td>\n",
              "                        <td id=\"T_de8b6530_7871_11ec_8e70_0242ac1c0002row3_col5\" class=\"data row3 col5\" >0.021895</td>\n",
              "                        <td id=\"T_de8b6530_7871_11ec_8e70_0242ac1c0002row3_col6\" class=\"data row3 col6\" >-0.047264</td>\n",
              "            </tr>\n",
              "            <tr>\n",
              "                        <th id=\"T_de8b6530_7871_11ec_8e70_0242ac1c0002level0_row4\" class=\"row_heading level0 row4\" >cnpj_proponente</th>\n",
              "                        <td id=\"T_de8b6530_7871_11ec_8e70_0242ac1c0002row4_col0\" class=\"data row4 col0\" >0.082816</td>\n",
              "                        <td id=\"T_de8b6530_7871_11ec_8e70_0242ac1c0002row4_col1\" class=\"data row4 col1\" >-0.047942</td>\n",
              "                        <td id=\"T_de8b6530_7871_11ec_8e70_0242ac1c0002row4_col2\" class=\"data row4 col2\" >-0.137515</td>\n",
              "                        <td id=\"T_de8b6530_7871_11ec_8e70_0242ac1c0002row4_col3\" class=\"data row4 col3\" >0.100667</td>\n",
              "                        <td id=\"T_de8b6530_7871_11ec_8e70_0242ac1c0002row4_col4\" class=\"data row4 col4\" >1.000000</td>\n",
              "                        <td id=\"T_de8b6530_7871_11ec_8e70_0242ac1c0002row4_col5\" class=\"data row4 col5\" >-0.136666</td>\n",
              "                        <td id=\"T_de8b6530_7871_11ec_8e70_0242ac1c0002row4_col6\" class=\"data row4 col6\" >-0.003675</td>\n",
              "            </tr>\n",
              "            <tr>\n",
              "                        <th id=\"T_de8b6530_7871_11ec_8e70_0242ac1c0002level0_row5\" class=\"row_heading level0 row5\" >valor_proposta</th>\n",
              "                        <td id=\"T_de8b6530_7871_11ec_8e70_0242ac1c0002row5_col0\" class=\"data row5 col0\" >-0.250104</td>\n",
              "                        <td id=\"T_de8b6530_7871_11ec_8e70_0242ac1c0002row5_col1\" class=\"data row5 col1\" >0.202046</td>\n",
              "                        <td id=\"T_de8b6530_7871_11ec_8e70_0242ac1c0002row5_col2\" class=\"data row5 col2\" >0.966956</td>\n",
              "                        <td id=\"T_de8b6530_7871_11ec_8e70_0242ac1c0002row5_col3\" class=\"data row5 col3\" >0.021895</td>\n",
              "                        <td id=\"T_de8b6530_7871_11ec_8e70_0242ac1c0002row5_col4\" class=\"data row5 col4\" >-0.136666</td>\n",
              "                        <td id=\"T_de8b6530_7871_11ec_8e70_0242ac1c0002row5_col5\" class=\"data row5 col5\" >1.000000</td>\n",
              "                        <td id=\"T_de8b6530_7871_11ec_8e70_0242ac1c0002row5_col6\" class=\"data row5 col6\" >-0.213280</td>\n",
              "            </tr>\n",
              "            <tr>\n",
              "                        <th id=\"T_de8b6530_7871_11ec_8e70_0242ac1c0002level0_row6\" class=\"row_heading level0 row6\" >situacao_proposta</th>\n",
              "                        <td id=\"T_de8b6530_7871_11ec_8e70_0242ac1c0002row6_col0\" class=\"data row6 col0\" >0.011288</td>\n",
              "                        <td id=\"T_de8b6530_7871_11ec_8e70_0242ac1c0002row6_col1\" class=\"data row6 col1\" >-0.092268</td>\n",
              "                        <td id=\"T_de8b6530_7871_11ec_8e70_0242ac1c0002row6_col2\" class=\"data row6 col2\" >-0.164775</td>\n",
              "                        <td id=\"T_de8b6530_7871_11ec_8e70_0242ac1c0002row6_col3\" class=\"data row6 col3\" >-0.047264</td>\n",
              "                        <td id=\"T_de8b6530_7871_11ec_8e70_0242ac1c0002row6_col4\" class=\"data row6 col4\" >-0.003675</td>\n",
              "                        <td id=\"T_de8b6530_7871_11ec_8e70_0242ac1c0002row6_col5\" class=\"data row6 col5\" >-0.213280</td>\n",
              "                        <td id=\"T_de8b6530_7871_11ec_8e70_0242ac1c0002row6_col6\" class=\"data row6 col6\" >1.000000</td>\n",
              "            </tr>\n",
              "    </tbody></table>"
            ],
            "text/plain": [
              "<pandas.io.formats.style.Styler at 0x7ff3e6cf5fd0>"
            ]
          },
          "metadata": {},
          "execution_count": 12
        }
      ]
    },
    {
      "cell_type": "code",
      "source": [
        "#Geração, no GDrive, de um arquivo csv com as alterações efetuadas.\n",
        "data7.to_csv('/content/drive/MyDrive/00 - Pós Ciência de Dados/99 - TCC/PROJETO 00 - TCC Grupo/01 - Bases Candidatas/02 - TCE PB - Experiência com o Colab/data7.CSV', sep=',', encoding='utf-8')"
      ],
      "metadata": {
        "id": "uzscjfO3ty1y"
      },
      "execution_count": null,
      "outputs": []
    },
    {
      "cell_type": "markdown",
      "source": [
        "## ALGUNS CÓDIGOS QUE PODEM VIR A SER ÚTEIS\n"
      ],
      "metadata": {
        "id": "y7C6AlLqXEIa"
      }
    },
    {
      "cell_type": "code",
      "source": [
        ""
      ],
      "metadata": {
        "id": "0bKDSZvPxa0V"
      },
      "execution_count": null,
      "outputs": []
    },
    {
      "cell_type": "code",
      "source": [
        "# mapeia cada valor da variável Embarked em um valor numérico\n",
        "#mapeamento_embarked = {\"S\": 1, \"C\": 2, \"Q\": 3}\n",
        "#treinamento_df['Embarked'] = treinamento_df['Embarked'].map(mapeamento_embarked)\n",
        "#teste_df['Embarked'] = teste_df['Embarked'].map(mapeamento_embarked)"
      ],
      "metadata": {
        "id": "Ir0xrPz3XLHC"
      },
      "execution_count": null,
      "outputs": []
    }
  ]
}