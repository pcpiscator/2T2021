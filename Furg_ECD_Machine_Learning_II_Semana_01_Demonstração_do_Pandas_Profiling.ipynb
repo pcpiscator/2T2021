{
  "nbformat": 4,
  "nbformat_minor": 0,
  "metadata": {
    "colab": {
      "name": "Furg - ECD - Machine Learning II - Semana 01 - Demonstração do Pandas Profiling",
      "provenance": [],
      "collapsed_sections": [],
      "include_colab_link": true
    },
    "kernelspec": {
      "name": "python3",
      "display_name": "Python 3"
    },
    "language_info": {
      "name": "python"
    }
  },
  "cells": [
    {
      "cell_type": "markdown",
      "metadata": {
        "id": "view-in-github",
        "colab_type": "text"
      },
      "source": [
        "<a href=\"https://colab.research.google.com/github/pcpiscator/2T2021/blob/main/Furg_ECD_Machine_Learning_II_Semana_01_Demonstra%C3%A7%C3%A3o_do_Pandas_Profiling.ipynb\" target=\"_parent\"><img src=\"https://colab.research.google.com/assets/colab-badge.svg\" alt=\"Open In Colab\"/></a>"
      ]
    },
    {
      "cell_type": "markdown",
      "metadata": {
        "id": "9b8ef0d8"
      },
      "source": [
        "## Pacote Pandas Profiling\n",
        "\n",
        "Um pacote adicional excelente é o **Pandas Profiling**. Ele permite a geração automatizada de um número muito maior de medidas descritivas, organizadas em painéis independentes.\n",
        "\n",
        "Este pacote precisa ser instalado antes do uso, então as instruções a seguir são separadas para o Colaboratory (na nuvem) e para o Anaconda (instalação local)."
      ]
    },
    {
      "cell_type": "markdown",
      "metadata": {
        "id": "57c66382"
      },
      "source": [
        "### Colaboratory\n",
        "\n",
        "Basta executar o comando abaixo uma única vez no _notebook_, e aguardar o processo de instalação. Se o _notebook_ for fechado, este processo precisa ser repetido novamente."
      ]
    },
    {
      "cell_type": "code",
      "metadata": {
        "id": "00e65fc2"
      },
      "source": [
        "! pip install https://github.com/pandas-profiling/pandas-profiling/archive/master.zip"
      ],
      "execution_count": null,
      "outputs": []
    },
    {
      "cell_type": "markdown",
      "metadata": {
        "id": "mNIn9AK_uaqr"
      },
      "source": [
        "Vamos usar como exemplo o _dataset_ IRIS, colocado em um `DataFrame` chamado `iris`."
      ]
    },
    {
      "cell_type": "code",
      "metadata": {
        "id": "de9zD1_7vuWa"
      },
      "source": [
        "import pandas as pd\n",
        "from sklearn.datasets import load_iris\n",
        "\n",
        "dataset = load_iris()\n",
        "iris = pd.DataFrame(dataset.data, columns=dataset.feature_names)\n",
        "iris['label'] = pd.Series([dataset.target_names[k] for k in dataset.target])"
      ],
      "execution_count": null,
      "outputs": []
    },
    {
      "cell_type": "markdown",
      "metadata": {
        "id": "H-3I5HUnwvkL"
      },
      "source": [
        "Gora vamos gerar um relatório para análise dos dados. Basta criar um relatório passando o _dataset_ `iris`."
      ]
    },
    {
      "cell_type": "code",
      "metadata": {
        "id": "3489ae78"
      },
      "source": [
        "from pandas_profiling import ProfileReport\n",
        "\n",
        "profile = ProfileReport(iris, title='Dataset IRIS')\n",
        "profile.to_notebook_iframe()"
      ],
      "execution_count": null,
      "outputs": []
    },
    {
      "cell_type": "markdown",
      "metadata": {
        "id": "06e8c46b"
      },
      "source": [
        "### Anaconda\n",
        "\n",
        "Para o Anaconda o pacote `pandas-profiling` precisa ser instalado uma única vez, através do instalador de pacotes `conda`. O ideal é fazer isso **antes de abrir o ambiente Jupyter**. O comando a ser dado no terminal é:\n",
        "\n",
        "`conda install -c conda-forge pandas-profiling`\n",
        "\n",
        "Após este momento o pacote sempre estará disponível, e pode ser importado e utilizado diretamente em qualquer _notebook_. Existem diversas opções disponíveis, inclusive criar uma versão interativa do relatorio ou exportar o mesmo com aquivo HTML. Alguns exemplos de chamadas estão a seguir:\n",
        "\n",
        "    from pandas_profiling import ProfileReport\n",
        "    \n",
        "    profile = ProfileReport(iris, title='Dataset IRIS')\n",
        "    # profile = ProfileReport(iris, title='Dataset IRIS', explorative=True)\n",
        "    \n",
        "    profile.to_widgets()\n",
        "    # profile.to_notebook_iframe() # saída integrada no navegador\n",
        "    # profile.to_file('relatorio.html') # saída para um arquivo HTML"
      ]
    }
  ]
}