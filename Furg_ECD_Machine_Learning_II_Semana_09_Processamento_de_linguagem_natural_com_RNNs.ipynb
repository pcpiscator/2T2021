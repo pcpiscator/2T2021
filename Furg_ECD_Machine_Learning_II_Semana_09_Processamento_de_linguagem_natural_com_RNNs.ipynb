{
  "nbformat": 4,
  "nbformat_minor": 0,
  "metadata": {
    "colab": {
      "name": "Furg - ECD - Machine Learning II - Semana 09 - Processamento de linguagem natural com RNNs",
      "provenance": [],
      "collapsed_sections": [],
      "include_colab_link": true
    },
    "kernelspec": {
      "display_name": "Python 3 (ipykernel)",
      "language": "python",
      "name": "python3"
    },
    "language_info": {
      "codemirror_mode": {
        "name": "ipython",
        "version": 3
      },
      "file_extension": ".py",
      "mimetype": "text/x-python",
      "name": "python",
      "nbconvert_exporter": "python",
      "pygments_lexer": "ipython3",
      "version": "3.9.7"
    },
    "nav_menu": {},
    "toc": {
      "navigate_menu": true,
      "number_sections": true,
      "sideBar": true,
      "threshold": 6,
      "toc_cell": false,
      "toc_section_display": "block",
      "toc_window_display": false
    }
  },
  "cells": [
    {
      "cell_type": "markdown",
      "metadata": {
        "id": "view-in-github",
        "colab_type": "text"
      },
      "source": [
        "<a href=\"https://colab.research.google.com/github/pcpiscator/2T2021/blob/main/Furg_ECD_Machine_Learning_II_Semana_09_Processamento_de_linguagem_natural_com_RNNs.ipynb\" target=\"_parent\"><img src=\"https://colab.research.google.com/assets/colab-badge.svg\" alt=\"Open In Colab\"/></a>"
      ]
    },
    {
      "cell_type": "markdown",
      "metadata": {
        "id": "zf7QSPeJpR1H"
      },
      "source": [
        "# Curso de Especialização em Ciência de Dados - FURG\n",
        "## Machine Learning II - Processamento de linguagem natural com RNNs\n",
        "### Prof. Marcelo Malheiros\n",
        "\n",
        "Parte do código adaptada de Aurélien Geron (licença Apache-2.0)\n",
        "\n",
        "---"
      ]
    },
    {
      "cell_type": "markdown",
      "metadata": {
        "id": "2eOQVePeOZft"
      },
      "source": [
        "# Inicialização\n",
        "\n",
        "Aqui importamos as bibliotecas fundamentais de Python para este _notebook_:\n",
        "\n",
        "- NumPy: suporte a vetores, matrizes e operações de Álgebra Linear\n",
        "- Matplotlib: biblioteca de visualização de dados\n",
        "- Scikit-Learn: biblioteca com algoritmos de Machine Learning"
      ]
    },
    {
      "cell_type": "code",
      "metadata": {
        "id": "Kb54VMfeOZfu"
      },
      "source": [
        "%matplotlib inline\n",
        "import numpy as np\n",
        "import matplotlib.pyplot as plt\n",
        "import sklearn"
      ],
      "execution_count": null,
      "outputs": []
    },
    {
      "cell_type": "markdown",
      "metadata": {
        "id": "x3lC5A5COZfx"
      },
      "source": [
        "Este _notebook_, em particular, utiliza a biblioteca Keras para definir e treinar redes neurais. Aqui utilizamos a versão **integrada** de Keras, que já vem como parte da biblioteca mais geral TensorFlow. Ambas já fazem parte do ambiente Colaboratory.\n",
        "\n",
        "Para quem utiliza o ambiente Anaconda, é preciso primeiro instalar o pacote `tensorflow`. Isso pode ser feito com o seguinte comando:\n",
        "\n",
        "    conda install tensorflow"
      ]
    },
    {
      "cell_type": "code",
      "metadata": {
        "id": "m4DPmHiLOZfy"
      },
      "source": [
        "import tensorflow as tf\n",
        "from tensorflow import keras\n",
        "\n",
        "print('tensorflow:      versão', tf.__version__)\n",
        "print('keras integrada: versão', keras.__version__)"
      ],
      "execution_count": null,
      "outputs": []
    },
    {
      "cell_type": "markdown",
      "metadata": {
        "id": "WvDRkF7hOZf0"
      },
      "source": [
        "Este _notebook_ também utiliza a biblioteca `pydot` e a ferramenta Graphviz para visualizar as redes neurais. Ambos já fazem parte do ambiente Colaboratory.\n",
        "\n",
        "Para quem utiliza o ambiente Anaconda, é preciso primeiro instalar os pacotes `pydot` e `graphviz`. Isso pode ser feito com o seguinte comando:\n",
        "\n",
        "    conda install pydot graphviz"
      ]
    },
    {
      "cell_type": "code",
      "metadata": {
        "id": "WqiU75YZOZf1"
      },
      "source": [
        "import pydot"
      ],
      "execution_count": null,
      "outputs": []
    },
    {
      "cell_type": "markdown",
      "metadata": {
        "id": "1QdSe-kQpR1P",
        "outputId": "516c9d64-290d-4145-d6a1-546aed7638d9"
      },
      "source": [
        "# Previsão de uma série temporal\n",
        "\n",
        "Suponha que você esteja estudando o número de usuários ativos por hora em um site, ou a temperatura diária de uma cidade, ou a saúde financeira de uma empresa, medida trimestralmente usando várias métricas. Em todos esses casos, os dados serão uma sequência de um ou mais valores por intervalo de tempo. Isso é chamado de **série temporal**.\n",
        "\n",
        "Nos primeiros dois exemplos, há um único valor por intervalo de tempo, então essas são **séries temporais univariadas**, enquanto no exemplo financeiro existem vários valores por intervalo de tempo (por exemplo, a receita da empresa, dívida, e assim por diante), por isso é uma **série temporal multivariada**.\n",
        "\n",
        "Uma tarefa típica é prever valores futuros, o que é chamado de **previsão**. Outra tarefa comum é preencher espaços em branco, ou seja, completar valores ausentes do passado. Isso é chamado de **imputação**."
      ]
    },
    {
      "cell_type": "markdown",
      "metadata": {
        "id": "Us-KSm2kpR1W"
      },
      "source": [
        "## Criação dos dados\n",
        "\n",
        "Aqui vamos criar algumas séries temporais univariadas, com dados aleatórios. Cada uma terá 50 valores, que correspondem a 50 medidas ao longo do tempo.\n",
        "\n",
        "A função a seguir cria tantas séries temporais quanto solicitadas (por meio do parâmetro `batch_size`), cada uma com comprimento `n_steps`, e há apenas um valor por intervalo de tempo em cada série (todas as séries são univariadas).\n",
        "\n",
        "A função retorna portanto uma matriz NumPy na forma `[tamanho do lote, etapas de tempo, 1]`, onde cada série é a soma de duas ondas senoidais de amplitudes fixas, mas com frequências e fases aleatórias, além da adição de um pouco de ruído.\n",
        "\n",
        "**Nota:** Ao lidar com séries temporais (e outros tipos de sequências, como visto posteriormente), os atributos de entrada são geralmente representados como matrizes 3D na forma `[tamanho do lote, etapas de tempo, dimensionalidade]`, onde dimensionalidade é 1 para séries temporais univariadas e ou maior para séries temporais multivariadas."
      ]
    },
    {
      "cell_type": "code",
      "metadata": {
        "id": "W4kStnCxpR1X"
      },
      "source": [
        "# função para criar séries temporais\n",
        "def generate_time_series(batch_size, n_steps):\n",
        "    freq1, freq2, offsets1, offsets2 = np.random.rand(4, batch_size, 1)\n",
        "    time = np.linspace(0, 1, n_steps)\n",
        "    series = 0.5 * np.sin((time - offsets1) * (freq1 * 10 + 10))  #   onda 1\n",
        "    series += 0.1 * np.sin((time - offsets2) * (freq2 * 20 + 20)) # + onda 2\n",
        "    series += 0.1 * (np.random.rand(batch_size, n_steps) - 0.5)   # + ruído\n",
        "    return series[..., np.newaxis].astype(np.float32)"
      ],
      "execution_count": null,
      "outputs": []
    },
    {
      "cell_type": "code",
      "metadata": {
        "id": "fk_3-z-9pR1Y"
      },
      "source": [
        "# inicialização de semente dos valores aleatórios\n",
        "np.random.seed(42)\n",
        "\n",
        "# geração de 1000 séries univariadas, cada uma com 50 medidas ao longo do tempo + um valor a ser previsto\n",
        "n_steps = 50\n",
        "series = generate_time_series(1000, n_steps + 1)"
      ],
      "execution_count": null,
      "outputs": []
    },
    {
      "cell_type": "markdown",
      "metadata": {
        "id": "XG6WZ_zrpR1Y"
      },
      "source": [
        "Vamos separar estes dados em conjuntos de treino, validação e teste.\n",
        "\n",
        "A matriz `X_treino` contém 700 séries temporais (ou seja, sua forma é `[700, 50, 1]`), enquanto `X_valid` contém 200 (da série temporal 700 até a 899) e `X_teste` contém 100 (da 900 até a 999).\n",
        "\n",
        "Uma vez que queremos prever um único valor para cada série, os rótulos são vetores de coluna (por exemplo, `y_treino` tem formato `[700, 1]`)."
      ]
    },
    {
      "cell_type": "code",
      "metadata": {
        "id": "BJTqu8aBOZf7"
      },
      "source": [
        "# criação dos conjuntos\n",
        "X_treino, y_treino = series[:700, :n_steps], series[:700, -1]\n",
        "X_valid, y_valid = series[700:900, :n_steps], series[700:900, -1]\n",
        "X_teste, y_teste = series[900:, :n_steps], series[900:, -1]"
      ],
      "execution_count": null,
      "outputs": []
    },
    {
      "cell_type": "code",
      "metadata": {
        "id": "-lHGjyeWpR1Y"
      },
      "source": [
        "print('treino    atributos:', X_treino.shape)\n",
        "print('treino    rótulos:  ', y_treino.shape)\n",
        "print('validação atributos:', X_valid.shape)\n",
        "print('validação rótulos:  ', y_valid.shape)\n",
        "print('teste     atributos:', X_teste.shape)\n",
        "print('teste     rótulos:  ', y_teste.shape)"
      ],
      "execution_count": null,
      "outputs": []
    },
    {
      "cell_type": "code",
      "metadata": {
        "id": "-y-GznQIpR1a"
      },
      "source": [
        "# função auxiliar para exibir uma série temporal\n",
        "def plot_series(series, y=None, y_pred=None, x_label='$t$', y_label='$x(t)$'):\n",
        "    plt.plot(series, '.-')\n",
        "    if y is not None:\n",
        "        plt.plot(n_steps, y, 'go')\n",
        "    if y_pred is not None:\n",
        "        plt.plot(n_steps, y_pred, 'rx', markersize=10)\n",
        "    plt.grid(True)\n",
        "    if x_label:\n",
        "        plt.xlabel(x_label, fontsize=16)\n",
        "    if y_label:\n",
        "        plt.ylabel(y_label, fontsize=16, rotation=0)\n",
        "    plt.hlines(0, 0, 100, linewidth=1)\n",
        "    plt.axis([0, n_steps + 1, -1, 1])"
      ],
      "execution_count": null,
      "outputs": []
    },
    {
      "cell_type": "markdown",
      "metadata": {
        "id": "DcA-w6qCOZf9"
      },
      "source": [
        "O objetivo é **prever** o valor final de cada série, indicado como um X vermelho. O valor real, omitido dos dados de entrada mas usado como valor real para efeito de validação, é mostrado como um ponto verde."
      ]
    },
    {
      "cell_type": "code",
      "metadata": {
        "id": "v10hCpAPOZf-"
      },
      "source": [
        "fig, axes = plt.subplots(nrows=1, ncols=3, sharey=True, figsize=(12, 4))\n",
        "for col in range(3):\n",
        "    plt.sca(axes[col])\n",
        "    plot_series(X_valid[col, :, 0], y_valid[col, 0],\n",
        "                y_label=('$x(t)$' if col==0 else None))\n",
        "plt.show()"
      ],
      "execution_count": null,
      "outputs": []
    },
    {
      "cell_type": "markdown",
      "metadata": {
        "id": "2ZyNq-nHpR1b"
      },
      "source": [
        "## Comparativo: previsão ingênua\n",
        "\n",
        "É importante fazer outras estimativas para o valor futuro como **baseline**, ou seja, como ponto de comparação para a qualidade de previsão.\n",
        "\n",
        "A abordagem mais simples é prever o último valor de cada série simplesmente repetindo o penúltimo valor. Isso é chamado de **previsão ingênua** (_naive prediction_) e mesmo assim pode ser útil.\n",
        "\n",
        "Calculamos então o erro através da função MSE entre o previsto e o real (para todas as séries), usando o conjunto de teste."
      ]
    },
    {
      "cell_type": "code",
      "metadata": {
        "id": "InrO_QKApR1d"
      },
      "source": [
        "y_pred = X_teste[:, -1]\n",
        "print('MSE:', np.mean(keras.losses.mean_squared_error(y_teste, y_pred)))"
      ],
      "execution_count": null,
      "outputs": []
    },
    {
      "cell_type": "code",
      "metadata": {
        "id": "12LeymmcpR1d"
      },
      "source": [
        "plot_series(X_teste[0, :, 0], y_teste[0, 0], y_pred[0, 0])\n",
        "plt.show()"
      ],
      "execution_count": null,
      "outputs": []
    },
    {
      "cell_type": "markdown",
      "metadata": {
        "id": "ogYmvaaHpR1e"
      },
      "source": [
        "## Comparativo: rede neural densa\n",
        "\n",
        "Outra abordagem simples é usar uma **rede neural densa**, ou seja uma rede neural com uma camada completamente conectada.\n",
        "\n",
        "Como redes tradicionais esperam como entrada um conjunto simples de dados, precisamos adicionar no início uma camada do tipo `Flatten`.\n",
        "\n",
        "O efeito de treinar uma rede com uma única camada do tipo `Dense` é equivalente a um ajuste linear de curvas, como em um modelo de regressão linear. De fato, cada previsão será apenas uma combinação linear dos valores de sua respectiva série temporal."
      ]
    },
    {
      "cell_type": "code",
      "metadata": {
        "id": "9TvQoDtupR1f"
      },
      "source": [
        "# comando para 'zerar' a biblioteca Keras\n",
        "keras.backend.clear_session()\n",
        "\n",
        "# definição de sementes aleatórias\n",
        "np.random.seed(42)\n",
        "tf.random.set_seed(42)"
      ],
      "execution_count": null,
      "outputs": []
    },
    {
      "cell_type": "code",
      "metadata": {
        "id": "mOzAon3GOZgC"
      },
      "source": [
        "# modelo\n",
        "model = keras.models.Sequential([\n",
        "    keras.layers.Flatten(input_shape=[50, 1]),\n",
        "    keras.layers.Dense(1)\n",
        "])"
      ],
      "execution_count": null,
      "outputs": []
    },
    {
      "cell_type": "markdown",
      "metadata": {
        "id": "xC6yfXFpOZgC"
      },
      "source": [
        "Vamos compilar este modelo usando a função MSE como medida de desempenho (perda ou _loss_). Também vamos usar o otimizador Adam padrão como estratégia de treinamento."
      ]
    },
    {
      "cell_type": "code",
      "metadata": {
        "id": "yjTTwJEBpR1f"
      },
      "source": [
        "# compilação\n",
        "model.compile(loss='mse', optimizer='adam')\n",
        "\n",
        "# treinamento\n",
        "%time history = model.fit(X_treino, y_treino, epochs=20, validation_data=(X_valid, y_valid))"
      ],
      "execution_count": null,
      "outputs": []
    },
    {
      "cell_type": "code",
      "metadata": {
        "id": "-u2dUcMCpR1h"
      },
      "source": [
        "# função auxiliar para exibição da curva de aprendizado\n",
        "def plot_learning_curves(loss, val_loss):\n",
        "    plt.plot(np.arange(len(loss)) + 0.5, loss, 'b.-', label='erro de treinamento')\n",
        "    plt.plot(np.arange(len(val_loss)) + 1, val_loss, 'r.-', label='erro de validação')\n",
        "    plt.axis([1, 20, 0, 0.1])\n",
        "    plt.legend(fontsize=14)\n",
        "    plt.xlabel('épocas')\n",
        "    plt.ylabel('erro')\n",
        "    plt.grid(True)\n",
        "    plt.show()"
      ],
      "execution_count": null,
      "outputs": []
    },
    {
      "cell_type": "markdown",
      "metadata": {
        "id": "W3-pkjikOZgE"
      },
      "source": [
        "Vamos exibir agora as curvas de aprendizado."
      ]
    },
    {
      "cell_type": "code",
      "metadata": {
        "id": "WWK4SCGuOZgE"
      },
      "source": [
        "plot_learning_curves(history.history['loss'], history.history['val_loss'])"
      ],
      "execution_count": null,
      "outputs": []
    },
    {
      "cell_type": "markdown",
      "metadata": {
        "id": "9HULV2HVOZgF"
      },
      "source": [
        "Agora podemos avaliar o modelo linear sobre o conjunto de teste."
      ]
    },
    {
      "cell_type": "code",
      "metadata": {
        "id": "neIN2OqIpR1g"
      },
      "source": [
        "print('MSE:', model.evaluate(X_teste, y_teste))"
      ],
      "execution_count": null,
      "outputs": []
    },
    {
      "cell_type": "code",
      "metadata": {
        "id": "EwwRejJHpR1i"
      },
      "source": [
        "n_teste = 0\n",
        "y_pred = model.predict(X_teste)\n",
        "plot_series(X_teste[n_teste, :, 0], y_teste[n_teste, 0], y_pred[n_teste, 0])\n",
        "plt.show()"
      ],
      "execution_count": null,
      "outputs": []
    },
    {
      "cell_type": "markdown",
      "metadata": {
        "id": "_r7jN1QopR1i"
      },
      "source": [
        "## Criando uma RNN simples\n",
        "\n",
        "Vamos construir a RNN mais simples possível, com uma única camada e com um único neurônio.\n",
        "\n",
        "Lembrando, não precisamos especificar o comprimento das sequências de entrada (ao contrário do modelo anterior, tradicional), pois uma rede neural recorrente pode processar qualquer número de etapas de tempo. É por isso que definimos a primeira dimensão de entrada como `None`.\n",
        "\n",
        "Por padrão, uma camada do tipo `SimpleRNN` usa como função de ativação a tangente hiperbólica.\n",
        "\n",
        "Esta rede funciona assim: o estado inicial $h_{-1}$ é definido como 0 e passado para um único neurônio recorrente, junto com o valor da primeira etapa de tempo, $x_0$. O neurônio calcula uma soma ponderada desses valores e aplica a função de ativação tangente hiperbólica ao resultado, obtendo a primeira saída, $y_0$. Em um RNN simples, essa saída também é o novo estado $h_0$, que é passado para o mesmo neurônio recorrente junto com o próximo valor de entrada, $x_1$. Este processo é repetido até a última etapa de tempo. Em seguida, a camada recorrente produz como saída apenas o último valor $y_{49}$.\n",
        "\n",
        "Este processo é realizado simultaneamente, e de forma transparente, para todas as demais séries temporais."
      ]
    },
    {
      "cell_type": "code",
      "metadata": {
        "id": "f45srLJZOZgH"
      },
      "source": [
        "# comando para 'zerar' a biblioteca Keras\n",
        "keras.backend.clear_session()\n",
        "\n",
        "# definição de sementes aleatórias\n",
        "np.random.seed(42)\n",
        "tf.random.set_seed(42)"
      ],
      "execution_count": null,
      "outputs": []
    },
    {
      "cell_type": "code",
      "metadata": {
        "id": "3VgCnzjMpR1j"
      },
      "source": [
        "# modelo\n",
        "model = keras.models.Sequential([\n",
        "    keras.layers.SimpleRNN(1, input_shape=(None, 1))\n",
        "])"
      ],
      "execution_count": null,
      "outputs": []
    },
    {
      "cell_type": "code",
      "metadata": {
        "id": "djW1u94JpR1j"
      },
      "source": [
        "# compilação\n",
        "optimizer = keras.optimizers.Adam(learning_rate=0.01)\n",
        "model.compile(loss='mse', optimizer=optimizer)\n",
        "\n",
        "# treinamento\n",
        "%time history = model.fit(X_treino, y_treino, epochs=20, validation_data=(X_valid, y_valid))"
      ],
      "execution_count": null,
      "outputs": []
    },
    {
      "cell_type": "code",
      "metadata": {
        "id": "jDr6VRCBpR1k"
      },
      "source": [
        "plot_learning_curves(history.history['loss'], history.history['val_loss'])\n",
        "plt.show()"
      ],
      "execution_count": null,
      "outputs": []
    },
    {
      "cell_type": "code",
      "metadata": {
        "id": "xkHr9YZgpR1k"
      },
      "source": [
        "print('MSE:', model.evaluate(X_teste, y_teste))"
      ],
      "execution_count": null,
      "outputs": []
    },
    {
      "cell_type": "code",
      "metadata": {
        "id": "YH9x4UdJpR1l"
      },
      "source": [
        "n_teste = 0\n",
        "y_pred = model.predict(X_teste)\n",
        "plot_series(X_teste[n_teste, :, 0], y_teste[n_teste, 0], y_pred[n_teste, 0])\n",
        "plt.show()"
      ],
      "execution_count": null,
      "outputs": []
    },
    {
      "cell_type": "markdown",
      "metadata": {
        "id": "Tw1wt5JppR1m"
      },
      "source": [
        "## Criando uma RNN complexa\n",
        "\n",
        "Implementar uma RNN mais complexa com Keras é simples: basta empilhar outras camadas recorrentes.\n",
        "\n",
        "A seguir usaremos duas camadas `SimpleRNN`. Certifique-se de definir `return_sequences=True` para todas as camadas recorrentes (exceto a última, se você se preocupa apenas com a última saída). Do contrário, eles produzirão uma matriz 2D (contendo apenas a saída da última etapa de tempo) em vez de uma matriz 3D (contendo saídas para todas as etapas de tempo), e a próxima camada recorrente reclamará que você não a está alimentando sequências no formato 3D esperado.\n",
        "\n",
        "Vamos também fazer com que a camada de saída seja `Dense`: ela permite escolher qualquer função de ativação de saída que desejarmos."
      ]
    },
    {
      "cell_type": "code",
      "metadata": {
        "id": "aIwLcA8qOZgK"
      },
      "source": [
        "# comando para 'zerar' a biblioteca Keras\n",
        "keras.backend.clear_session()\n",
        "\n",
        "# definição de sementes aleatórias\n",
        "np.random.seed(42)\n",
        "tf.random.set_seed(42)"
      ],
      "execution_count": null,
      "outputs": []
    },
    {
      "cell_type": "code",
      "metadata": {
        "id": "i5VYhC1epR1n"
      },
      "source": [
        "# modelo\n",
        "model = keras.models.Sequential([\n",
        "    keras.layers.SimpleRNN(20, return_sequences=True, input_shape=[None, 1]),\n",
        "    keras.layers.SimpleRNN(20),\n",
        "    keras.layers.Dense(1)\n",
        "])"
      ],
      "execution_count": null,
      "outputs": []
    },
    {
      "cell_type": "code",
      "metadata": {
        "id": "z64QbrapOZgK"
      },
      "source": [
        "# compilação\n",
        "optimizer = keras.optimizers.Adam(learning_rate=0.01)\n",
        "model.compile(loss='mse', optimizer=optimizer)\n",
        "\n",
        "# treinamento\n",
        "%time history = model.fit(X_treino, y_treino, epochs=20, validation_data=(X_valid, y_valid))"
      ],
      "execution_count": null,
      "outputs": []
    },
    {
      "cell_type": "code",
      "metadata": {
        "id": "oHQdRQLxpR1o"
      },
      "source": [
        "plot_learning_curves(history.history['loss'], history.history['val_loss'])\n",
        "plt.show()"
      ],
      "execution_count": null,
      "outputs": []
    },
    {
      "cell_type": "code",
      "metadata": {
        "id": "xuQDY5C6pR1n"
      },
      "source": [
        "print('MSE:', model.evaluate(X_teste, y_teste))"
      ],
      "execution_count": null,
      "outputs": []
    },
    {
      "cell_type": "code",
      "metadata": {
        "id": "4I_a5iaUpR1o"
      },
      "source": [
        "n_teste = 0\n",
        "y_pred = model.predict(X_teste)\n",
        "plot_series(X_teste[n_teste, :, 0], y_teste[n_teste, 0], y_pred[n_teste, 0])\n",
        "plt.show()"
      ],
      "execution_count": null,
      "outputs": []
    },
    {
      "cell_type": "code",
      "metadata": {
        "id": "sCrnlNhSOZgN"
      },
      "source": [
        "# resumo legível da arquitetura deste modelo\n",
        "model.summary()"
      ],
      "execution_count": null,
      "outputs": []
    },
    {
      "cell_type": "code",
      "metadata": {
        "id": "N5POcApAOZgN"
      },
      "source": [
        "# figura da arquitetura deste modelo\n",
        "keras.utils.plot_model(model, 'model.png', show_shapes=True)"
      ],
      "execution_count": null,
      "outputs": []
    },
    {
      "cell_type": "markdown",
      "metadata": {
        "id": "e-OtfNB3pR1p"
      },
      "source": [
        "# Previsão de vários valores futuros\n",
        "\n",
        "Agora vamos criar modelos para prever os próximos 10 valores.\n",
        "\n",
        "Primeiro, precisamos regenerar as séries temporais para incluir mais 9 etapas de tempo como rótulos."
      ]
    },
    {
      "cell_type": "code",
      "metadata": {
        "id": "3PVLLycrOZgN"
      },
      "source": [
        "# apagar os rótulos antigos (univariados) para evitar confusão\n",
        "for v in ['y_treino', 'y_valid', 'y_teste', 'y_pred']:\n",
        "    globals().pop(v, None)"
      ],
      "execution_count": null,
      "outputs": []
    },
    {
      "cell_type": "code",
      "metadata": {
        "id": "KVRVoIqkpR1q"
      },
      "source": [
        "# inicialização de semente dos valores aleatórios\n",
        "np.random.seed(42)\n",
        "\n",
        "# geração de 1000 séries univariadas, cada uma com 50 medidas ao longo do tempo + 10 valores a ser previstos\n",
        "n_steps = 50\n",
        "series = generate_time_series(1000, n_steps + 10)\n",
        "\n",
        "# criação dos conjuntos\n",
        "X_treino, Y_treino = series[:700, :n_steps], series[:700, -10:, 0]\n",
        "X_valid, Y_valid = series[700:900, :n_steps], series[700:900, -10:, 0]\n",
        "X_teste, Y_teste = series[900:, :n_steps], series[900:, -10:, 0]"
      ],
      "execution_count": null,
      "outputs": []
    },
    {
      "cell_type": "code",
      "metadata": {
        "id": "2PCT964QOZgO"
      },
      "source": [
        "print('treino    atributos:', X_treino.shape)\n",
        "print('treino    rótulos:  ', Y_treino.shape)\n",
        "print('validação atributos:', X_valid.shape)\n",
        "print('validação rótulos:  ', Y_valid.shape)\n",
        "print('teste     atributos:', X_teste.shape)\n",
        "print('teste     rótulos:  ', Y_teste.shape)"
      ],
      "execution_count": null,
      "outputs": []
    },
    {
      "cell_type": "code",
      "metadata": {
        "id": "HZAJYVGvpR1p"
      },
      "source": [
        "# função auxiliar para exibir uma série temporal, com múltiplas previsões\n",
        "def plot_multiple_forecasts(X, Y, Y_pred):\n",
        "    n_steps = X.shape[0]\n",
        "    ahead = Y.shape[0]\n",
        "    plot_series(X)\n",
        "    plt.plot(np.arange(n_steps, n_steps + ahead), Y, 'go-', label='real')\n",
        "    plt.plot(np.arange(n_steps, n_steps + ahead), Y_pred, 'rx-', label='previsto', markersize=10)\n",
        "    plt.axis([0, n_steps + ahead, -1, 1])\n",
        "    plt.legend(fontsize=14)"
      ],
      "execution_count": null,
      "outputs": []
    },
    {
      "cell_type": "markdown",
      "metadata": {
        "id": "hDSqJFzbOZgP"
      },
      "source": [
        "## Comparativo: previsão ingênua\n",
        "\n",
        "Agora nossa previsão ingênua é supor que o último valor se repete 10 vezes no futuro.\n",
        "\n",
        "Como antes, vamos calcular o erro através da função MSE entre o previsto e o real (para todas as séries), usando o conjunto de teste."
      ]
    },
    {
      "cell_type": "code",
      "metadata": {
        "id": "jPbw2BkJpR1q"
      },
      "source": [
        "# pegue o último valor e repita dez vezes\n",
        "Y_pred = np.tile(X_teste[:, -1], 10)\n",
        "\n",
        "print('MSE:', np.mean(keras.losses.mean_squared_error(Y_teste, Y_pred)))"
      ],
      "execution_count": null,
      "outputs": []
    },
    {
      "cell_type": "markdown",
      "metadata": {
        "id": "o697fClzOZgQ"
      },
      "source": [
        "## Comparativo: rede neural densa\n",
        "\n",
        "Novamente vamos definir outro _baseline_, usando uma rede neural densa, que corresponde a um modelo de ajuste linear dos dados."
      ]
    },
    {
      "cell_type": "code",
      "metadata": {
        "id": "8CJOtBkiOZgQ"
      },
      "source": [
        "# comando para 'zerar' a biblioteca Keras\n",
        "keras.backend.clear_session()\n",
        "\n",
        "# definição de sementes aleatórias\n",
        "np.random.seed(42)\n",
        "tf.random.set_seed(42)"
      ],
      "execution_count": null,
      "outputs": []
    },
    {
      "cell_type": "code",
      "metadata": {
        "id": "QZsF2RPgOZgR"
      },
      "source": [
        "# modelo\n",
        "model = keras.models.Sequential([\n",
        "    keras.layers.Flatten(input_shape=[50, 1]),\n",
        "    keras.layers.Dense(10)\n",
        "])"
      ],
      "execution_count": null,
      "outputs": []
    },
    {
      "cell_type": "code",
      "metadata": {
        "id": "8Xjoqu0TpR1r"
      },
      "source": [
        "# compilação\n",
        "model.compile(loss='mse', optimizer='adam')\n",
        "\n",
        "# treinamento\n",
        "%time history = model.fit(X_treino, Y_treino, epochs=20, validation_data=(X_valid, Y_valid))"
      ],
      "execution_count": null,
      "outputs": []
    },
    {
      "cell_type": "code",
      "metadata": {
        "id": "FReH-a_qpR1r"
      },
      "source": [
        "print('MSE:', model.evaluate(X_teste, Y_teste))"
      ],
      "execution_count": null,
      "outputs": []
    },
    {
      "cell_type": "markdown",
      "metadata": {
        "id": "uBOw7Pz_OZgS"
      },
      "source": [
        "## Previsão de vários valores futuros com uma RNN\n",
        "\n",
        "A única mudança é definir 10 saídas para a última camada, do tipo `Dense`."
      ]
    },
    {
      "cell_type": "code",
      "metadata": {
        "id": "Ic1BNcR7OZgT"
      },
      "source": [
        "# comando para 'zerar' a biblioteca Keras\n",
        "keras.backend.clear_session()\n",
        "\n",
        "# definição de sementes aleatórias\n",
        "np.random.seed(42)\n",
        "tf.random.set_seed(42)"
      ],
      "execution_count": null,
      "outputs": []
    },
    {
      "cell_type": "code",
      "metadata": {
        "id": "3SU3M7NkOZgT"
      },
      "source": [
        "# modelo\n",
        "model = keras.models.Sequential([\n",
        "    keras.layers.SimpleRNN(20, return_sequences=True, input_shape=[None, 1]),\n",
        "    keras.layers.SimpleRNN(20),\n",
        "    keras.layers.Dense(10)\n",
        "])"
      ],
      "execution_count": null,
      "outputs": []
    },
    {
      "cell_type": "code",
      "metadata": {
        "id": "6HeqPV6lOZgU"
      },
      "source": [
        "# compilação\n",
        "optimizer = keras.optimizers.Adam(learning_rate=0.01)\n",
        "model.compile(loss='mse', optimizer=optimizer)\n",
        "\n",
        "# treinamento\n",
        "%time history = model.fit(X_treino, Y_treino, epochs=20, validation_data=(X_valid, Y_valid))"
      ],
      "execution_count": null,
      "outputs": []
    },
    {
      "cell_type": "code",
      "metadata": {
        "id": "tqqBt_v6OZgU"
      },
      "source": [
        "plot_learning_curves(history.history['loss'], history.history['val_loss'])\n",
        "plt.show()"
      ],
      "execution_count": null,
      "outputs": []
    },
    {
      "cell_type": "code",
      "metadata": {
        "id": "m8CfNqqaOZgU"
      },
      "source": [
        "print('MSE:', model.evaluate(X_teste, Y_teste))"
      ],
      "execution_count": null,
      "outputs": []
    },
    {
      "cell_type": "code",
      "metadata": {
        "id": "pHEL4dmQOZgV"
      },
      "source": [
        "n_teste = 0\n",
        "Y_pred = model.predict(X_teste)\n",
        "plot_multiple_forecasts(X_teste[n_teste, :, 0], Y_teste[n_teste, :], Y_pred[n_teste, :])\n",
        "plt.show()"
      ],
      "execution_count": null,
      "outputs": []
    },
    {
      "cell_type": "markdown",
      "metadata": {
        "id": "UNO7EddKOZgV"
      },
      "source": [
        "## Previsão contínua de valores futuros\n",
        "\n",
        "Em vez de treinar o modelo para prever os próximos 10 valores apenas na última etapa de tempo (como acabamos de fazer), podemos treiná-lo para **prever os próximos 10 valores em cada etapa de tempo**. Em outras palavras, podemos fazer que esta RNN produza uma sequência contínua de previsões.\n",
        "\n",
        "No instante de tempo 0, o modelo produzirá um vetor contendo as previsões para os instantes de tempo 1 a 10. Em seguida, no instante 1, o modelo fará a previsão para os instantes 2 a 11, e assim por diante.\n",
        "\n",
        "A vantagem é que, com mais saídas para construir uma sequẽncia de saída, haverá mais pesos internos e consequentemente melhores chances de ajustes durante o treinamento. Em geral isso vai acelerar e estabilizar o treinamento, eventualmente produzindo também previsões mais precisas.\n",
        "\n",
        "Então, cada rótulo deve ser uma sequência do mesmo comprimento da sequência de entrada, contendo um vetor de 10 dimensões em cada etapa. O conjunto de treino precisa ser ajustado de acordo."
      ]
    },
    {
      "cell_type": "code",
      "metadata": {
        "id": "MPErO6XtpR1s"
      },
      "source": [
        "# inicialização de semente dos valores aleatórios\n",
        "np.random.seed(42)\n",
        "\n",
        "# geração de 1000 séries univariadas, cada uma com 50 medidas ao longo do tempo + 10 valores a ser previstos\n",
        "n_steps = 50\n",
        "series = generate_time_series(1000, n_steps + 10)\n",
        "\n",
        "# criação dos conjuntos\n",
        "X_treino = series[:700, :n_steps]\n",
        "X_valid = series[700:900, :n_steps]\n",
        "X_teste = series[900:, :n_steps]\n",
        "\n",
        "# a diferença agora são os rótulos, que representam \"janelas deslizantes\" sobre os valores reais\n",
        "Y = np.empty((1000, n_steps, 10))\n",
        "for step_ahead in range(1, 10 + 1):\n",
        "    Y[..., step_ahead - 1] = series[..., step_ahead:step_ahead + n_steps, 0]\n",
        "Y_treino = Y[:700]\n",
        "Y_valid = Y[700:900]\n",
        "Y_teste = Y[900:]"
      ],
      "execution_count": null,
      "outputs": []
    },
    {
      "cell_type": "code",
      "metadata": {
        "id": "jEThjIUHOZgW"
      },
      "source": [
        "print('treino    atributos:', X_treino.shape)\n",
        "print('treino    rótulos:  ', Y_treino.shape)\n",
        "print('validação atributos:', X_valid.shape)\n",
        "print('validação rótulos:  ', Y_valid.shape)\n",
        "print('teste     atributos:', X_teste.shape)\n",
        "print('teste     rótulos:  ', Y_teste.shape)"
      ],
      "execution_count": null,
      "outputs": []
    },
    {
      "cell_type": "markdown",
      "metadata": {
        "id": "GdhszVFSpR1t"
      },
      "source": [
        "Para criar um modelo que produz uma sequência, devemos definir `return_sequences=True` em todas as camadas recorrentes (mesmo a última) e devemos aplicar a camada `Dense` de saída a cada passo de tempo.\n",
        "\n",
        "Keras oferece uma camada do tipo `TimeDistributed` para este propósito: ela envolve qualquer camada (por exemplo, uma camada `Dense`) e a aplica a cada etapa de tempo de sua sequência de entrada.\n",
        "\n",
        "A implementação faz isso de forma eficiente, remodelando as entradas para que cada etapa de tempo seja tratada como uma instância separada (ou seja, ele remodela as entradas de `[tamanho do lote, etapas de tempo, dimensões de entrada]` para `[tamanho do lote × etapas de tempo, dimensões de entrada]`. No nosso caso o número de dimensões de entrada é 20 porque a camada `SimpleRNN` tem 20 unidades. O Keras então executa a camada densa e, finalmente, remodela as saídas de volta para sequências (ou seja, ele remodela as saídas de `[tamanho do lote × etapas de tempo, dimensões de saída]` para `[tamanho do lote, etapas de tempo, dimensões de saída]`). Aqui o número de dimensões de saída é 10, já que a camada densa tem 10 neurônios."
      ]
    },
    {
      "cell_type": "code",
      "metadata": {
        "id": "0hBdm-U6OZgX"
      },
      "source": [
        "# comando para 'zerar' a biblioteca Keras\n",
        "keras.backend.clear_session()\n",
        "\n",
        "# definição de sementes aleatórias\n",
        "np.random.seed(42)\n",
        "tf.random.set_seed(42)"
      ],
      "execution_count": null,
      "outputs": []
    },
    {
      "cell_type": "code",
      "metadata": {
        "id": "7o5QrBRcpR1t"
      },
      "source": [
        "# modelo\n",
        "model = keras.models.Sequential([\n",
        "    keras.layers.SimpleRNN(20, return_sequences=True, input_shape=[None, 1]),\n",
        "    keras.layers.SimpleRNN(20, return_sequences=True),\n",
        "    keras.layers.TimeDistributed(keras.layers.Dense(10))\n",
        "])"
      ],
      "execution_count": null,
      "outputs": []
    },
    {
      "cell_type": "markdown",
      "metadata": {
        "id": "ylRJmYD7OZgY"
      },
      "source": [
        "Todas as saídas são necessárias durante o treinamento, mas apenas a saída da última etapa é útil para previsões e avaliação. Portanto, embora possamos contar com o MSE em todas as saídas para o treinamento, usaremos uma métrica personalizada para avaliação, dada pela função `last_mse`, para calcular apenas o MSE sobre a saída na última etapa de tempo."
      ]
    },
    {
      "cell_type": "code",
      "metadata": {
        "id": "F2p53_8COZgY"
      },
      "source": [
        "# medida específica de desempenho\n",
        "def last_mse(Y_true, Y_pred):\n",
        "    return keras.metrics.mean_squared_error(Y_true[:, -1], Y_pred[:, -1])"
      ],
      "execution_count": null,
      "outputs": []
    },
    {
      "cell_type": "code",
      "metadata": {
        "id": "WaZ4WPe3OZgY"
      },
      "source": [
        "# compilação\n",
        "optimizer = keras.optimizers.Adam(learning_rate=0.01)\n",
        "model.compile(loss='mse', optimizer=optimizer, metrics=[last_mse])\n",
        "\n",
        "# treinamento\n",
        "%time history = model.fit(X_treino, Y_treino, epochs=20, validation_data=(X_valid, Y_valid))"
      ],
      "execution_count": null,
      "outputs": []
    },
    {
      "cell_type": "code",
      "metadata": {
        "id": "4tOS751zOZgZ"
      },
      "source": [
        "plot_learning_curves(history.history['last_mse'], history.history['val_last_mse'])\n",
        "plt.show()"
      ],
      "execution_count": null,
      "outputs": []
    },
    {
      "cell_type": "code",
      "metadata": {
        "id": "OJamxvBGOZga"
      },
      "source": [
        "print('MSE:', model.evaluate(X_teste, Y_teste))"
      ],
      "execution_count": null,
      "outputs": []
    },
    {
      "cell_type": "code",
      "metadata": {
        "id": "TZgs1DGROZgb"
      },
      "source": [
        "n_teste = 0\n",
        "Y_pred = model.predict(X_teste)\n",
        "plot_multiple_forecasts(X_teste[n_teste, :, 0], Y_teste[n_teste, -1, :], Y_pred[n_teste, -1, :])\n",
        "plt.show()"
      ],
      "execution_count": null,
      "outputs": []
    },
    {
      "cell_type": "markdown",
      "metadata": {
        "id": "_-SUh1BppR1x"
      },
      "source": [
        "## Camada LSTM\n",
        "\n",
        "Modelos que transformam **sequências em sequências** podem ser otimizadas com camadas especializadas, que implementam **células de memória** capazes de lidar com longas sequências.\n",
        "\n",
        "Um caso particular é a LSTM, que funciona como uma caixa-preta. Em relação a configurações mais profundas de camadas recorrentes, LSTMs são mais eficientes e têm melhor desempenho, além de detectar **dependências de longo prazo dentro de sequências**.\n",
        "\n",
        "Usando Keras, você pode simplesmente usar a camada do tipo `LSTM` em vez de uma camada `SimpleRNN`. O código abaixo ilustra o mesmo processo de previsão contínua anterior, agora usando duas camadas LSTM."
      ]
    },
    {
      "cell_type": "code",
      "metadata": {
        "id": "jP6Eh-YaOZgc"
      },
      "source": [
        "# comando para 'zerar' a biblioteca Keras\n",
        "keras.backend.clear_session()\n",
        "\n",
        "# definição de sementes aleatórias\n",
        "np.random.seed(42)\n",
        "tf.random.set_seed(42)"
      ],
      "execution_count": null,
      "outputs": []
    },
    {
      "cell_type": "code",
      "metadata": {
        "id": "_W7sK30mpR1y",
        "scrolled": true
      },
      "source": [
        "# modelo\n",
        "model = keras.models.Sequential([\n",
        "    keras.layers.LSTM(20, return_sequences=True, input_shape=[None, 1]),\n",
        "    keras.layers.LSTM(20, return_sequences=True),\n",
        "    keras.layers.TimeDistributed(keras.layers.Dense(10))\n",
        "])"
      ],
      "execution_count": null,
      "outputs": []
    },
    {
      "cell_type": "code",
      "metadata": {
        "id": "T4SV5BrrOZgc"
      },
      "source": [
        "# compilação\n",
        "optimizer = keras.optimizers.Adam(learning_rate=0.01)\n",
        "model.compile(loss='mse', optimizer=optimizer, metrics=[last_mse])\n",
        "\n",
        "# treinamento\n",
        "%time history = model.fit(X_treino, Y_treino, epochs=20, validation_data=(X_valid, Y_valid))"
      ],
      "execution_count": null,
      "outputs": []
    },
    {
      "cell_type": "code",
      "metadata": {
        "id": "u0hUHe-BpR1z"
      },
      "source": [
        "plot_learning_curves(history.history['last_mse'], history.history['val_last_mse'])\n",
        "plt.show()"
      ],
      "execution_count": null,
      "outputs": []
    },
    {
      "cell_type": "code",
      "metadata": {
        "id": "RZpn0WFLpR1y"
      },
      "source": [
        "model.evaluate(X_teste, Y_teste)"
      ],
      "execution_count": null,
      "outputs": []
    },
    {
      "cell_type": "code",
      "metadata": {
        "id": "kRjA4_SmpR1z"
      },
      "source": [
        "n_teste = 0\n",
        "Y_pred = model.predict(X_teste)\n",
        "plot_multiple_forecasts(X_teste[n_teste, :, 0], Y_teste[n_teste, -1, :], Y_pred[n_teste, -1, :])\n",
        "plt.show()"
      ],
      "execution_count": null,
      "outputs": []
    },
    {
      "cell_type": "markdown",
      "metadata": {
        "id": "u8XW8WfipR10"
      },
      "source": [
        "## Camada GRU\n",
        "\n",
        "Uma camada do tipo `GRU` implementa uma célula de memória semelhante à LSTM. Ainda que mais simples, seu desempenho e capacidade de aprendizado é semelhante à LSTM, e assim pode ser utilizado diretamente como substituição."
      ]
    },
    {
      "cell_type": "code",
      "metadata": {
        "id": "ELXBCn82OZgf"
      },
      "source": [
        "# comando para 'zerar' a biblioteca Keras\n",
        "keras.backend.clear_session()\n",
        "\n",
        "# definição de sementes aleatórias\n",
        "np.random.seed(42)\n",
        "tf.random.set_seed(42)"
      ],
      "execution_count": null,
      "outputs": []
    },
    {
      "cell_type": "code",
      "metadata": {
        "id": "0s8EbAj3OZgf"
      },
      "source": [
        "# modelo\n",
        "model = keras.models.Sequential([\n",
        "    keras.layers.GRU(20, return_sequences=True, input_shape=[None, 1]),\n",
        "    keras.layers.GRU(20, return_sequences=True),\n",
        "    keras.layers.TimeDistributed(keras.layers.Dense(10))\n",
        "])"
      ],
      "execution_count": null,
      "outputs": []
    },
    {
      "cell_type": "code",
      "metadata": {
        "id": "Vfu8E9-DpR10"
      },
      "source": [
        "# compilação\n",
        "optimizer = keras.optimizers.Adam(learning_rate=0.01)\n",
        "model.compile(loss='mse', optimizer=optimizer, metrics=[last_mse])\n",
        "\n",
        "# treinamento\n",
        "%time history = model.fit(X_treino, Y_treino, epochs=20, validation_data=(X_valid, Y_valid))"
      ],
      "execution_count": null,
      "outputs": []
    },
    {
      "cell_type": "code",
      "metadata": {
        "id": "achlD9mgpR11"
      },
      "source": [
        "plot_learning_curves(history.history['last_mse'], history.history['val_last_mse'])\n",
        "plt.show()"
      ],
      "execution_count": null,
      "outputs": []
    },
    {
      "cell_type": "code",
      "metadata": {
        "id": "z7NK0K5apR11"
      },
      "source": [
        "model.evaluate(X_teste, Y_teste)"
      ],
      "execution_count": null,
      "outputs": []
    },
    {
      "cell_type": "code",
      "metadata": {
        "id": "M14cvL6ROZgg"
      },
      "source": [
        "n_teste = 0\n",
        "Y_pred = model.predict(X_teste)\n",
        "plot_multiple_forecasts(X_teste[n_teste, :, 0], Y_teste[n_teste, -1, :], Y_pred[n_teste, -1, :])\n",
        "plt.show()"
      ],
      "execution_count": null,
      "outputs": []
    },
    {
      "cell_type": "markdown",
      "metadata": {
        "id": "Q_sXu9lxPQka"
      },
      "source": [
        "# Processamento de Linguagem Natural\n",
        "\n",
        "Uma das aplicações mais importantes de RNNs é processar linguagem humana, justamente tratando as sequências de entrada e saída como representações escritas (ou faladas).\n",
        "\n",
        "Para serem competitivos, as arquiteturas de RNNs focadas em linguagem natural são bem mais complexas que os exemplos vistos até então. E, naturalmente, precisam ser treinadas com enormes conjuntos de textos, por exemplo.\n",
        "\n",
        "Então vamos demonstrar duas aplicações usando modelos pré-treinados e bastante sofisticados."
      ]
    },
    {
      "cell_type": "markdown",
      "metadata": {
        "id": "vAGMfqjrP-di"
      },
      "source": [
        "## Medição de similaridade entre frases em diversas línguas\n",
        "\n",
        "Vamos utilizar um modelo pré-treinado do Google chamado de `universal-sentence-encoder` [página oficial](https://tfhub.dev/google/universal-sentence-encoder-multilingual/3).\n",
        "\n",
        "Este é um exemplo de modelo que implementa **word embedding**, que recebe frases completas e as converte em representações numéricas. Essa representação pode então ser usada para medir a **similaridade semântica** entre frases. No caso específico desse modelo, está embutido o suporte para 16 idiomas diferentes.\n",
        "\n",
        "Então é possível não apenas medir a similaridades entre frases de mesmo sentido em português, mas também compará-las com traduções em outras línguas.\n",
        "\n",
        "Para isso precisamos primeiro instalar o pacote `tensorflow_text`, e depois acessar o modelo usando outro pacote (já disponível no Colaboratory) chamado de `tensorflow_hub`."
      ]
    },
    {
      "cell_type": "code",
      "metadata": {
        "id": "RpM7hJ9tRpMP"
      },
      "source": [
        "! pip install tensorflow_text"
      ],
      "execution_count": null,
      "outputs": []
    },
    {
      "cell_type": "code",
      "metadata": {
        "id": "EdAsoHFkP9ej"
      },
      "source": [
        "import tensorflow_text\n",
        "import tensorflow_hub as hub"
      ],
      "execution_count": null,
      "outputs": []
    },
    {
      "cell_type": "code",
      "metadata": {
        "id": "qYXYYb5yR682"
      },
      "source": [
        "# download do modelo\n",
        "embed = hub.load('https://tfhub.dev/google/universal-sentence-encoder-multilingual/3')"
      ],
      "execution_count": null,
      "outputs": []
    },
    {
      "cell_type": "code",
      "metadata": {
        "id": "0LTPvOxwSa7V"
      },
      "source": [
        "# frases semelhantes\n",
        "e1 = embed(['Eu gosto de sorvete.'])\n",
        "e2 = embed(['Eu acho sorvete uma delícia.', 'Sorvete é bom.', 'Sorvete é muito bom.', 'Sorvete não é bom.'])"
      ],
      "execution_count": null,
      "outputs": []
    },
    {
      "cell_type": "code",
      "metadata": {
        "id": "DqyAR9cJSrSC"
      },
      "source": [
        "# matrix de similaridade\n",
        "print(np.inner(e1, e2))"
      ],
      "execution_count": null,
      "outputs": []
    },
    {
      "cell_type": "code",
      "metadata": {
        "id": "WKNcFg4vSCYV"
      },
      "source": [
        "# traduções\n",
        "e_inglês = embed(['dog', 'Puppies are nice.', 'I enjoy taking long walks along the beach with my dog.'])\n",
        "e_português = embed(['cão', 'Cachorrinhos são legais.', 'Eu gosto de fazer longas caminhadas na praia com o meu cão.'])"
      ],
      "execution_count": null,
      "outputs": []
    },
    {
      "cell_type": "code",
      "metadata": {
        "id": "4I2jbdMgU4Wp"
      },
      "source": [
        "# matrix de similaridade\n",
        "print(np.inner(e_inglês, e_português))"
      ],
      "execution_count": null,
      "outputs": []
    },
    {
      "cell_type": "markdown",
      "metadata": {
        "id": "m16cak1ti_DD"
      },
      "source": [
        "## Completar frases\n",
        "\n",
        "O exemplo abaixo usa o pacote `transformers` e um modelo pré-treinado para a Língua Portuguesa chamado [BERTimbau](https://huggingface.co/neuralmind/bert-base-portuguese-cased) para completar palavras faltantes em frases.\n",
        "\n",
        "Este é um exemplo de uso da nova arquitetura de redes neurais chamada de [Transformer](https://en.wikipedia.org/wiki/Transformer_(machine_learning_model)), que generaliza os modelos sequenciais de RNN com o conceito de **mecanismos de atenção**."
      ]
    },
    {
      "cell_type": "code",
      "metadata": {
        "id": "d875pJPsWU1v"
      },
      "source": [
        "! pip install transformers"
      ],
      "execution_count": null,
      "outputs": []
    },
    {
      "cell_type": "code",
      "metadata": {
        "id": "DtmMD5LfWUvg"
      },
      "source": [
        "from transformers import AutoModelForMaskedLM\n",
        "from transformers import AutoTokenizer"
      ],
      "execution_count": null,
      "outputs": []
    },
    {
      "cell_type": "code",
      "metadata": {
        "id": "ERo4ClvjWytY"
      },
      "source": [
        "model = AutoModelForMaskedLM.from_pretrained('neuralmind/bert-base-portuguese-cased')\n",
        "tokenizer = AutoTokenizer.from_pretrained('neuralmind/bert-base-portuguese-cased') #, do_lower_case=False)"
      ],
      "execution_count": null,
      "outputs": []
    },
    {
      "cell_type": "code",
      "metadata": {
        "id": "iMW7efILWWWx"
      },
      "source": [
        "from transformers import pipeline\n",
        "\n",
        "completar = pipeline('fill-mask', model=model, tokenizer=tokenizer)"
      ],
      "execution_count": null,
      "outputs": []
    },
    {
      "cell_type": "code",
      "metadata": {
        "id": "PnZHCplCc8XV"
      },
      "source": [
        "completar('Tinha uma [MASK] no meio do caminho.', top_k=2)"
      ],
      "execution_count": null,
      "outputs": []
    },
    {
      "cell_type": "code",
      "metadata": {
        "id": "0oVsdObQiHv-"
      },
      "source": [
        "completar('Colocar [MASK] no café.', top_k=5)"
      ],
      "execution_count": null,
      "outputs": []
    },
    {
      "cell_type": "markdown",
      "metadata": {
        "id": "AYJP3VxzvCe0"
      },
      "source": [
        "## Geração de texto\n",
        "\n",
        "Para finalizar, usando o mesmo modelo e mecanismo de codificação/decodificação de frases, vamos extrapolar as palavras de uma frase, assim como diversos valores futuros poderiam ser previstos em uma série temporal."
      ]
    },
    {
      "cell_type": "code",
      "metadata": {
        "id": "4KMNjnh3issw"
      },
      "source": [
        "from textwrap import wrap"
      ],
      "execution_count": null,
      "outputs": []
    },
    {
      "cell_type": "code",
      "metadata": {
        "id": "tJc3llybtgoH"
      },
      "source": [
        "# codifica uma frase de Machado de Assis (Memórias Póstumas de Brás Cubas)\n",
        "entrada = tokenizer.encode('Não te irrites se te pagarem mal um benefício: antes cair das nuvens, que de um terceiro andar',\n",
        "                           add_special_tokens=False,\n",
        "                           return_tensors='pt')"
      ],
      "execution_count": null,
      "outputs": []
    },
    {
      "cell_type": "code",
      "metadata": {
        "id": "BuDXF4BjsxTP"
      },
      "source": [
        "# gera texto com o tamanho especificado\n",
        "saída = model.generate(entrada, \n",
        "                       max_length=50,\n",
        "                       num_beams=5,\n",
        "                       no_repeat_ngram_size=2,\n",
        "                       early_stopping=True)"
      ],
      "execution_count": null,
      "outputs": []
    },
    {
      "cell_type": "code",
      "metadata": {
        "id": "n3oAmnkwsxQL"
      },
      "source": [
        "# decodifica a saída\n",
        "texto = tokenizer.decode(saída[0], skip_special_tokens=True)\n",
        "for linha in wrap(texto):\n",
        "    print(linha)"
      ],
      "execution_count": null,
      "outputs": []
    }
  ]
}