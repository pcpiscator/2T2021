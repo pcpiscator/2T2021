{
  "nbformat": 4,
  "nbformat_minor": 0,
  "metadata": {
    "colab": {
      "name": " PlanTrab _TCE_PB_Tratado v.02.ipynb",
      "provenance": [],
      "collapsed_sections": [],
      "include_colab_link": true
    },
    "kernelspec": {
      "name": "python3",
      "display_name": "Python 3"
    },
    "language_info": {
      "name": "python"
    }
  },
  "cells": [
    {
      "cell_type": "markdown",
      "metadata": {
        "id": "view-in-github",
        "colab_type": "text"
      },
      "source": [
        "<a href=\"https://colab.research.google.com/github/pcpiscator/2T2021/blob/main/PlanTrab__TCE_PB_Tratado_v_02.ipynb\" target=\"_parent\"><img src=\"https://colab.research.google.com/assets/colab-badge.svg\" alt=\"Open In Colab\"/></a>"
      ]
    },
    {
      "cell_type": "code",
      "metadata": {
        "id": "2W2TvvOK42kg",
        "colab": {
          "base_uri": "https://localhost:8080/"
        },
        "outputId": "007c5e66-9eb4-4250-ee64-9cfc482a6d85"
      },
      "source": [
        "pip install mpl_finance"
      ],
      "execution_count": null,
      "outputs": [
        {
          "output_type": "stream",
          "name": "stdout",
          "text": [
            "Collecting mpl_finance\n",
            "  Downloading mpl_finance-0.10.1-py3-none-any.whl (8.4 kB)\n",
            "Requirement already satisfied: matplotlib in /usr/local/lib/python3.7/dist-packages (from mpl_finance) (3.2.2)\n",
            "Requirement already satisfied: python-dateutil>=2.1 in /usr/local/lib/python3.7/dist-packages (from matplotlib->mpl_finance) (2.8.2)\n",
            "Requirement already satisfied: kiwisolver>=1.0.1 in /usr/local/lib/python3.7/dist-packages (from matplotlib->mpl_finance) (1.3.2)\n",
            "Requirement already satisfied: pyparsing!=2.0.4,!=2.1.2,!=2.1.6,>=2.0.1 in /usr/local/lib/python3.7/dist-packages (from matplotlib->mpl_finance) (3.0.7)\n",
            "Requirement already satisfied: cycler>=0.10 in /usr/local/lib/python3.7/dist-packages (from matplotlib->mpl_finance) (0.11.0)\n",
            "Requirement already satisfied: numpy>=1.11 in /usr/local/lib/python3.7/dist-packages (from matplotlib->mpl_finance) (1.19.5)\n",
            "Requirement already satisfied: six>=1.5 in /usr/local/lib/python3.7/dist-packages (from python-dateutil>=2.1->matplotlib->mpl_finance) (1.15.0)\n",
            "Installing collected packages: mpl-finance\n",
            "Successfully installed mpl-finance-0.10.1\n"
          ]
        }
      ]
    },
    {
      "cell_type": "code",
      "metadata": {
        "id": "3sO-ERn958je"
      },
      "source": [
        "# bibliotecas para análise de dados\n",
        "import numpy as np\n",
        "import pandas as pd\n",
        "# bibliotecas para gráficos \n",
        "import matplotlib.pyplot as plt\n",
        "import plotly.graph_objs as go\n",
        "import plotly.offline as py\n",
        "pd.options.display.max_columns = None\n",
        "pd.options.display.max_rows = None\n",
        "pd.options.display.float_format = '{:.2f}'.format\n",
        "# bibliotecas para visualização\n",
        "import matplotlib.pyplot as plt\n",
        "import seaborn as sns\n",
        "%matplotlib inline\n",
        "import matplotlib.dates as mpl_dates\n",
        "import sklearn\n",
        "# configuração para ignorar mensagens de advertência (warning). \n",
        "import warnings\n",
        "warnings.filterwarnings('ignore')\n",
        "\n",
        "\n",
        "plt.style.use('ggplot')"
      ],
      "execution_count": 1,
      "outputs": []
    },
    {
      "cell_type": "code",
      "metadata": {
        "id": "iIJRcq-m9fsx"
      },
      "source": [
        "data = pd.read_csv('/content/PlanTrab v.02.csv', sep=';', encoding='latin_1', low_memory=False)"
      ],
      "execution_count": 2,
      "outputs": []
    },
    {
      "cell_type": "code",
      "source": [
        "data.columns"
      ],
      "metadata": {
        "id": "lPtLa0iVjQQ6",
        "colab": {
          "base_uri": "https://localhost:8080/"
        },
        "outputId": "c86dbc18-984d-462e-cead-fac4042cbaed"
      },
      "execution_count": 3,
      "outputs": [
        {
          "output_type": "execute_result",
          "data": {
            "text/plain": [
              "Index(['protocolo', 'cd_ugestora', 'valor_licitado', 'ano_homologacao',\n",
              "       'cnpj_proponente', 'valor_proposta', 'situacao_proposta'],\n",
              "      dtype='object')"
            ]
          },
          "metadata": {},
          "execution_count": 3
        }
      ]
    },
    {
      "cell_type": "code",
      "source": [
        "data.head(5)"
      ],
      "metadata": {
        "id": "THmQbNIMq6JV",
        "outputId": "1d269f8c-ad67-46b2-cfad-d4aa86e53f17",
        "colab": {
          "base_uri": "https://localhost:8080/",
          "height": 206
        }
      },
      "execution_count": 4,
      "outputs": [
        {
          "output_type": "execute_result",
          "data": {
            "text/html": [
              "\n",
              "  <div id=\"df-3af1e888-f5a0-460e-9216-565f0db1cdc3\">\n",
              "    <div class=\"colab-df-container\">\n",
              "      <div>\n",
              "<style scoped>\n",
              "    .dataframe tbody tr th:only-of-type {\n",
              "        vertical-align: middle;\n",
              "    }\n",
              "\n",
              "    .dataframe tbody tr th {\n",
              "        vertical-align: top;\n",
              "    }\n",
              "\n",
              "    .dataframe thead th {\n",
              "        text-align: right;\n",
              "    }\n",
              "</style>\n",
              "<table border=\"1\" class=\"dataframe\">\n",
              "  <thead>\n",
              "    <tr style=\"text-align: right;\">\n",
              "      <th></th>\n",
              "      <th>protocolo</th>\n",
              "      <th>cd_ugestora</th>\n",
              "      <th>valor_licitado</th>\n",
              "      <th>ano_homologacao</th>\n",
              "      <th>cnpj_proponente</th>\n",
              "      <th>valor_proposta</th>\n",
              "      <th>situacao_proposta</th>\n",
              "    </tr>\n",
              "  </thead>\n",
              "  <tbody>\n",
              "    <tr>\n",
              "      <th>0</th>\n",
              "      <td>973914</td>\n",
              "      <td>201114</td>\n",
              "      <td>14627450</td>\n",
              "      <td>2014</td>\n",
              "      <td>2020085000103</td>\n",
              "      <td>14777359</td>\n",
              "      <td>0</td>\n",
              "    </tr>\n",
              "    <tr>\n",
              "      <th>1</th>\n",
              "      <td>973914</td>\n",
              "      <td>201114</td>\n",
              "      <td>14627450</td>\n",
              "      <td>2014</td>\n",
              "      <td>12068129000110</td>\n",
              "      <td>14777359</td>\n",
              "      <td>0</td>\n",
              "    </tr>\n",
              "    <tr>\n",
              "      <th>2</th>\n",
              "      <td>973914</td>\n",
              "      <td>201114</td>\n",
              "      <td>14627450</td>\n",
              "      <td>2014</td>\n",
              "      <td>11268357000171</td>\n",
              "      <td>14627450</td>\n",
              "      <td>1</td>\n",
              "    </tr>\n",
              "    <tr>\n",
              "      <th>3</th>\n",
              "      <td>974114</td>\n",
              "      <td>201114</td>\n",
              "      <td>2250010</td>\n",
              "      <td>2014</td>\n",
              "      <td>41577669000128</td>\n",
              "      <td>2291900</td>\n",
              "      <td>0</td>\n",
              "    </tr>\n",
              "    <tr>\n",
              "      <th>4</th>\n",
              "      <td>974114</td>\n",
              "      <td>201114</td>\n",
              "      <td>2250010</td>\n",
              "      <td>2014</td>\n",
              "      <td>2020085000103</td>\n",
              "      <td>2257576</td>\n",
              "      <td>0</td>\n",
              "    </tr>\n",
              "  </tbody>\n",
              "</table>\n",
              "</div>\n",
              "      <button class=\"colab-df-convert\" onclick=\"convertToInteractive('df-3af1e888-f5a0-460e-9216-565f0db1cdc3')\"\n",
              "              title=\"Convert this dataframe to an interactive table.\"\n",
              "              style=\"display:none;\">\n",
              "        \n",
              "  <svg xmlns=\"http://www.w3.org/2000/svg\" height=\"24px\"viewBox=\"0 0 24 24\"\n",
              "       width=\"24px\">\n",
              "    <path d=\"M0 0h24v24H0V0z\" fill=\"none\"/>\n",
              "    <path d=\"M18.56 5.44l.94 2.06.94-2.06 2.06-.94-2.06-.94-.94-2.06-.94 2.06-2.06.94zm-11 1L8.5 8.5l.94-2.06 2.06-.94-2.06-.94L8.5 2.5l-.94 2.06-2.06.94zm10 10l.94 2.06.94-2.06 2.06-.94-2.06-.94-.94-2.06-.94 2.06-2.06.94z\"/><path d=\"M17.41 7.96l-1.37-1.37c-.4-.4-.92-.59-1.43-.59-.52 0-1.04.2-1.43.59L10.3 9.45l-7.72 7.72c-.78.78-.78 2.05 0 2.83L4 21.41c.39.39.9.59 1.41.59.51 0 1.02-.2 1.41-.59l7.78-7.78 2.81-2.81c.8-.78.8-2.07 0-2.86zM5.41 20L4 18.59l7.72-7.72 1.47 1.35L5.41 20z\"/>\n",
              "  </svg>\n",
              "      </button>\n",
              "      \n",
              "  <style>\n",
              "    .colab-df-container {\n",
              "      display:flex;\n",
              "      flex-wrap:wrap;\n",
              "      gap: 12px;\n",
              "    }\n",
              "\n",
              "    .colab-df-convert {\n",
              "      background-color: #E8F0FE;\n",
              "      border: none;\n",
              "      border-radius: 50%;\n",
              "      cursor: pointer;\n",
              "      display: none;\n",
              "      fill: #1967D2;\n",
              "      height: 32px;\n",
              "      padding: 0 0 0 0;\n",
              "      width: 32px;\n",
              "    }\n",
              "\n",
              "    .colab-df-convert:hover {\n",
              "      background-color: #E2EBFA;\n",
              "      box-shadow: 0px 1px 2px rgba(60, 64, 67, 0.3), 0px 1px 3px 1px rgba(60, 64, 67, 0.15);\n",
              "      fill: #174EA6;\n",
              "    }\n",
              "\n",
              "    [theme=dark] .colab-df-convert {\n",
              "      background-color: #3B4455;\n",
              "      fill: #D2E3FC;\n",
              "    }\n",
              "\n",
              "    [theme=dark] .colab-df-convert:hover {\n",
              "      background-color: #434B5C;\n",
              "      box-shadow: 0px 1px 3px 1px rgba(0, 0, 0, 0.15);\n",
              "      filter: drop-shadow(0px 1px 2px rgba(0, 0, 0, 0.3));\n",
              "      fill: #FFFFFF;\n",
              "    }\n",
              "  </style>\n",
              "\n",
              "      <script>\n",
              "        const buttonEl =\n",
              "          document.querySelector('#df-3af1e888-f5a0-460e-9216-565f0db1cdc3 button.colab-df-convert');\n",
              "        buttonEl.style.display =\n",
              "          google.colab.kernel.accessAllowed ? 'block' : 'none';\n",
              "\n",
              "        async function convertToInteractive(key) {\n",
              "          const element = document.querySelector('#df-3af1e888-f5a0-460e-9216-565f0db1cdc3');\n",
              "          const dataTable =\n",
              "            await google.colab.kernel.invokeFunction('convertToInteractive',\n",
              "                                                     [key], {});\n",
              "          if (!dataTable) return;\n",
              "\n",
              "          const docLinkHtml = 'Like what you see? Visit the ' +\n",
              "            '<a target=\"_blank\" href=https://colab.research.google.com/notebooks/data_table.ipynb>data table notebook</a>'\n",
              "            + ' to learn more about interactive tables.';\n",
              "          element.innerHTML = '';\n",
              "          dataTable['output_type'] = 'display_data';\n",
              "          await google.colab.output.renderOutput(dataTable, element);\n",
              "          const docLink = document.createElement('div');\n",
              "          docLink.innerHTML = docLinkHtml;\n",
              "          element.appendChild(docLink);\n",
              "        }\n",
              "      </script>\n",
              "    </div>\n",
              "  </div>\n",
              "  "
            ],
            "text/plain": [
              "   protocolo  cd_ugestora  valor_licitado  ano_homologacao  cnpj_proponente  \\\n",
              "0     973914       201114        14627450             2014    2020085000103   \n",
              "1     973914       201114        14627450             2014   12068129000110   \n",
              "2     973914       201114        14627450             2014   11268357000171   \n",
              "3     974114       201114         2250010             2014   41577669000128   \n",
              "4     974114       201114         2250010             2014    2020085000103   \n",
              "\n",
              "   valor_proposta  situacao_proposta  \n",
              "0        14777359                  0  \n",
              "1        14777359                  0  \n",
              "2        14627450                  1  \n",
              "3         2291900                  0  \n",
              "4         2257576                  0  "
            ]
          },
          "metadata": {},
          "execution_count": 4
        }
      ]
    },
    {
      "cell_type": "code",
      "source": [
        "data.columns"
      ],
      "metadata": {
        "id": "zUxS9xQbxDMk",
        "outputId": "ad6fe39e-88c9-4839-d138-a32d0e3e55e3",
        "colab": {
          "base_uri": "https://localhost:8080/"
        }
      },
      "execution_count": 5,
      "outputs": [
        {
          "output_type": "execute_result",
          "data": {
            "text/plain": [
              "Index(['protocolo', 'cd_ugestora', 'valor_licitado', 'ano_homologacao',\n",
              "       'cnpj_proponente', 'valor_proposta', 'situacao_proposta'],\n",
              "      dtype='object')"
            ]
          },
          "metadata": {},
          "execution_count": 5
        }
      ]
    },
    {
      "cell_type": "code",
      "source": [
        "data.info()"
      ],
      "metadata": {
        "id": "haJGJbPlYreO",
        "colab": {
          "base_uri": "https://localhost:8080/"
        },
        "outputId": "c789575c-37da-4d6e-9b8d-dc52e9ab8e89"
      },
      "execution_count": 6,
      "outputs": [
        {
          "output_type": "stream",
          "name": "stdout",
          "text": [
            "<class 'pandas.core.frame.DataFrame'>\n",
            "RangeIndex: 4008 entries, 0 to 4007\n",
            "Data columns (total 7 columns):\n",
            " #   Column             Non-Null Count  Dtype\n",
            "---  ------             --------------  -----\n",
            " 0   protocolo          4008 non-null   int64\n",
            " 1   cd_ugestora        4008 non-null   int64\n",
            " 2   valor_licitado     4008 non-null   int64\n",
            " 3   ano_homologacao    4008 non-null   int64\n",
            " 4   cnpj_proponente    4008 non-null   int64\n",
            " 5   valor_proposta     4008 non-null   int64\n",
            " 6   situacao_proposta  4008 non-null   int64\n",
            "dtypes: int64(7)\n",
            "memory usage: 219.3 KB\n"
          ]
        }
      ]
    },
    {
      "cell_type": "code",
      "source": [
        "#Conversão do tipo do atributo \"valor_proposta\" de str para int\n",
        "#data['valor_proposta'] = data['valor_proposta'].astype(str).astype(int)"
      ],
      "metadata": {
        "id": "2AFK2Q0ctlEf"
      },
      "execution_count": 14,
      "outputs": []
    },
    {
      "cell_type": "code",
      "source": [
        "#Criação de uma Matriz de Correlação entre os atributos numéricos\n",
        "correlacao = data.corr()\n",
        "correlacao.style.background_gradient(cmap='Blues')\n"
      ],
      "metadata": {
        "id": "OMebuEf1D9Bn",
        "colab": {
          "base_uri": "https://localhost:8080/",
          "height": 269
        },
        "outputId": "6d8a1635-042b-41b2-fc9b-177c40fb08fd"
      },
      "execution_count": 15,
      "outputs": [
        {
          "output_type": "execute_result",
          "data": {
            "text/html": [
              "<style type=\"text/css\">\n",
              "#T_85976_row0_col0, #T_85976_row1_col1, #T_85976_row2_col2, #T_85976_row3_col3, #T_85976_row4_col4, #T_85976_row5_col5, #T_85976_row6_col6 {\n",
              "  background-color: #08306b;\n",
              "  color: #f1f1f1;\n",
              "}\n",
              "#T_85976_row0_col1 {\n",
              "  background-color: #e6f0f9;\n",
              "  color: #000000;\n",
              "}\n",
              "#T_85976_row0_col2, #T_85976_row0_col5, #T_85976_row2_col0, #T_85976_row2_col1, #T_85976_row2_col3, #T_85976_row2_col4, #T_85976_row5_col1, #T_85976_row5_col4, #T_85976_row5_col6 {\n",
              "  background-color: #f7fbff;\n",
              "  color: #000000;\n",
              "}\n",
              "#T_85976_row0_col3, #T_85976_row3_col1, #T_85976_row4_col5 {\n",
              "  background-color: #dfebf7;\n",
              "  color: #000000;\n",
              "}\n",
              "#T_85976_row0_col4, #T_85976_row4_col6 {\n",
              "  background-color: #e5eff9;\n",
              "  color: #000000;\n",
              "}\n",
              "#T_85976_row0_col6 {\n",
              "  background-color: #e7f1fa;\n",
              "  color: #000000;\n",
              "}\n",
              "#T_85976_row1_col0 {\n",
              "  background-color: #cee0f2;\n",
              "  color: #000000;\n",
              "}\n",
              "#T_85976_row1_col2 {\n",
              "  background-color: #ddeaf7;\n",
              "  color: #000000;\n",
              "}\n",
              "#T_85976_row1_col3, #T_85976_row6_col3 {\n",
              "  background-color: #dce9f6;\n",
              "  color: #000000;\n",
              "}\n",
              "#T_85976_row1_col4 {\n",
              "  background-color: #f4f9fe;\n",
              "  color: #000000;\n",
              "}\n",
              "#T_85976_row1_col5 {\n",
              "  background-color: #e3eef8;\n",
              "  color: #000000;\n",
              "}\n",
              "#T_85976_row1_col6, #T_85976_row3_col2, #T_85976_row4_col3 {\n",
              "  background-color: #e0ecf8;\n",
              "  color: #000000;\n",
              "}\n",
              "#T_85976_row2_col5 {\n",
              "  background-color: #08488e;\n",
              "  color: #f1f1f1;\n",
              "}\n",
              "#T_85976_row2_col6, #T_85976_row4_col1 {\n",
              "  background-color: #f1f7fd;\n",
              "  color: #000000;\n",
              "}\n",
              "#T_85976_row3_col0, #T_85976_row4_col0 {\n",
              "  background-color: #cbdef1;\n",
              "  color: #000000;\n",
              "}\n",
              "#T_85976_row3_col4 {\n",
              "  background-color: #e7f0fa;\n",
              "  color: #000000;\n",
              "}\n",
              "#T_85976_row3_col5 {\n",
              "  background-color: #e4eff9;\n",
              "  color: #000000;\n",
              "}\n",
              "#T_85976_row3_col6 {\n",
              "  background-color: #d3e4f3;\n",
              "  color: #000000;\n",
              "}\n",
              "#T_85976_row4_col2, #T_85976_row6_col0 {\n",
              "  background-color: #dae8f6;\n",
              "  color: #000000;\n",
              "}\n",
              "#T_85976_row5_col0 {\n",
              "  background-color: #f2f7fd;\n",
              "  color: #000000;\n",
              "}\n",
              "#T_85976_row5_col2 {\n",
              "  background-color: #08478d;\n",
              "  color: #f1f1f1;\n",
              "}\n",
              "#T_85976_row5_col3 {\n",
              "  background-color: #f6faff;\n",
              "  color: #000000;\n",
              "}\n",
              "#T_85976_row6_col1 {\n",
              "  background-color: #edf4fc;\n",
              "  color: #000000;\n",
              "}\n",
              "#T_85976_row6_col2 {\n",
              "  background-color: #e3eef9;\n",
              "  color: #000000;\n",
              "}\n",
              "#T_85976_row6_col4 {\n",
              "  background-color: #f5fafe;\n",
              "  color: #000000;\n",
              "}\n",
              "#T_85976_row6_col5 {\n",
              "  background-color: #eff6fc;\n",
              "  color: #000000;\n",
              "}\n",
              "</style>\n",
              "<table id=\"T_85976_\" class=\"dataframe\">\n",
              "  <thead>\n",
              "    <tr>\n",
              "      <th class=\"blank level0\" >&nbsp;</th>\n",
              "      <th class=\"col_heading level0 col0\" >protocolo</th>\n",
              "      <th class=\"col_heading level0 col1\" >cd_ugestora</th>\n",
              "      <th class=\"col_heading level0 col2\" >valor_licitado</th>\n",
              "      <th class=\"col_heading level0 col3\" >ano_homologacao</th>\n",
              "      <th class=\"col_heading level0 col4\" >cnpj_proponente</th>\n",
              "      <th class=\"col_heading level0 col5\" >valor_proposta</th>\n",
              "      <th class=\"col_heading level0 col6\" >situacao_proposta</th>\n",
              "    </tr>\n",
              "  </thead>\n",
              "  <tbody>\n",
              "    <tr>\n",
              "      <th id=\"T_85976_level0_row0\" class=\"row_heading level0 row0\" >protocolo</th>\n",
              "      <td id=\"T_85976_row0_col0\" class=\"data row0 col0\" >1.000000</td>\n",
              "      <td id=\"T_85976_row0_col1\" class=\"data row0 col1\" >0.030772</td>\n",
              "      <td id=\"T_85976_row0_col2\" class=\"data row0 col2\" >-0.223319</td>\n",
              "      <td id=\"T_85976_row0_col3\" class=\"data row0 col3\" >0.050971</td>\n",
              "      <td id=\"T_85976_row0_col4\" class=\"data row0 col4\" >0.053186</td>\n",
              "      <td id=\"T_85976_row0_col5\" class=\"data row0 col5\" >-0.188138</td>\n",
              "      <td id=\"T_85976_row0_col6\" class=\"data row0 col6\" >-0.045312</td>\n",
              "    </tr>\n",
              "    <tr>\n",
              "      <th id=\"T_85976_level0_row1\" class=\"row_heading level0 row1\" >cd_ugestora</th>\n",
              "      <td id=\"T_85976_row1_col0\" class=\"data row1 col0\" >0.030772</td>\n",
              "      <td id=\"T_85976_row1_col1\" class=\"data row1 col1\" >1.000000</td>\n",
              "      <td id=\"T_85976_row1_col2\" class=\"data row1 col2\" >-0.063717</td>\n",
              "      <td id=\"T_85976_row1_col3\" class=\"data row1 col3\" >0.068544</td>\n",
              "      <td id=\"T_85976_row1_col4\" class=\"data row1 col4\" >-0.026788</td>\n",
              "      <td id=\"T_85976_row1_col5\" class=\"data row1 col5\" >-0.063547</td>\n",
              "      <td id=\"T_85976_row1_col6\" class=\"data row1 col6\" >-0.007660</td>\n",
              "    </tr>\n",
              "    <tr>\n",
              "      <th id=\"T_85976_level0_row2\" class=\"row_heading level0 row2\" >valor_licitado</th>\n",
              "      <td id=\"T_85976_row2_col0\" class=\"data row2 col0\" >-0.223319</td>\n",
              "      <td id=\"T_85976_row2_col1\" class=\"data row2 col1\" >-0.063717</td>\n",
              "      <td id=\"T_85976_row2_col2\" class=\"data row2 col2\" >1.000000</td>\n",
              "      <td id=\"T_85976_row2_col3\" class=\"data row2 col3\" >-0.080353</td>\n",
              "      <td id=\"T_85976_row2_col4\" class=\"data row2 col4\" >-0.044003</td>\n",
              "      <td id=\"T_85976_row2_col5\" class=\"data row2 col5\" >0.891698</td>\n",
              "      <td id=\"T_85976_row2_col6\" class=\"data row2 col6\" >-0.100492</td>\n",
              "    </tr>\n",
              "    <tr>\n",
              "      <th id=\"T_85976_level0_row3\" class=\"row_heading level0 row3\" >ano_homologacao</th>\n",
              "      <td id=\"T_85976_row3_col0\" class=\"data row3 col0\" >0.050971</td>\n",
              "      <td id=\"T_85976_row3_col1\" class=\"data row3 col1\" >0.068544</td>\n",
              "      <td id=\"T_85976_row3_col2\" class=\"data row3 col2\" >-0.080353</td>\n",
              "      <td id=\"T_85976_row3_col3\" class=\"data row3 col3\" >1.000000</td>\n",
              "      <td id=\"T_85976_row3_col4\" class=\"data row3 col4\" >0.043550</td>\n",
              "      <td id=\"T_85976_row3_col5\" class=\"data row3 col5\" >-0.073486</td>\n",
              "      <td id=\"T_85976_row3_col6\" class=\"data row3 col6\" >0.068982</td>\n",
              "    </tr>\n",
              "    <tr>\n",
              "      <th id=\"T_85976_level0_row4\" class=\"row_heading level0 row4\" >cnpj_proponente</th>\n",
              "      <td id=\"T_85976_row4_col0\" class=\"data row4 col0\" >0.053186</td>\n",
              "      <td id=\"T_85976_row4_col1\" class=\"data row4 col1\" >-0.026788</td>\n",
              "      <td id=\"T_85976_row4_col2\" class=\"data row4 col2\" >-0.044003</td>\n",
              "      <td id=\"T_85976_row4_col3\" class=\"data row4 col3\" >0.043550</td>\n",
              "      <td id=\"T_85976_row4_col4\" class=\"data row4 col4\" >1.000000</td>\n",
              "      <td id=\"T_85976_row4_col5\" class=\"data row4 col5\" >-0.040206</td>\n",
              "      <td id=\"T_85976_row4_col6\" class=\"data row4 col6\" >-0.033609</td>\n",
              "    </tr>\n",
              "    <tr>\n",
              "      <th id=\"T_85976_level0_row5\" class=\"row_heading level0 row5\" >valor_proposta</th>\n",
              "      <td id=\"T_85976_row5_col0\" class=\"data row5 col0\" >-0.188138</td>\n",
              "      <td id=\"T_85976_row5_col1\" class=\"data row5 col1\" >-0.063547</td>\n",
              "      <td id=\"T_85976_row5_col2\" class=\"data row5 col2\" >0.891698</td>\n",
              "      <td id=\"T_85976_row5_col3\" class=\"data row5 col3\" >-0.073486</td>\n",
              "      <td id=\"T_85976_row5_col4\" class=\"data row5 col4\" >-0.040206</td>\n",
              "      <td id=\"T_85976_row5_col5\" class=\"data row5 col5\" >1.000000</td>\n",
              "      <td id=\"T_85976_row5_col6\" class=\"data row5 col6\" >-0.138691</td>\n",
              "    </tr>\n",
              "    <tr>\n",
              "      <th id=\"T_85976_level0_row6\" class=\"row_heading level0 row6\" >situacao_proposta</th>\n",
              "      <td id=\"T_85976_row6_col0\" class=\"data row6 col0\" >-0.045312</td>\n",
              "      <td id=\"T_85976_row6_col1\" class=\"data row6 col1\" >-0.007660</td>\n",
              "      <td id=\"T_85976_row6_col2\" class=\"data row6 col2\" >-0.100492</td>\n",
              "      <td id=\"T_85976_row6_col3\" class=\"data row6 col3\" >0.068982</td>\n",
              "      <td id=\"T_85976_row6_col4\" class=\"data row6 col4\" >-0.033609</td>\n",
              "      <td id=\"T_85976_row6_col5\" class=\"data row6 col5\" >-0.138691</td>\n",
              "      <td id=\"T_85976_row6_col6\" class=\"data row6 col6\" >1.000000</td>\n",
              "    </tr>\n",
              "  </tbody>\n",
              "</table>\n"
            ],
            "text/plain": [
              "<pandas.io.formats.style.Styler at 0x7f61b600d7d0>"
            ]
          },
          "metadata": {},
          "execution_count": 15
        }
      ]
    },
    {
      "cell_type": "code",
      "source": [
        ""
      ],
      "metadata": {
        "id": "sEglAtXhiTDu"
      },
      "execution_count": null,
      "outputs": []
    },
    {
      "cell_type": "code",
      "source": [
        ""
      ],
      "metadata": {
        "id": "rcFgO_NRiVc1"
      },
      "execution_count": null,
      "outputs": []
    },
    {
      "cell_type": "code",
      "source": [
        ""
      ],
      "metadata": {
        "id": "_cjjlIVxiU82"
      },
      "execution_count": null,
      "outputs": []
    },
    {
      "cell_type": "code",
      "source": [
        ""
      ],
      "metadata": {
        "id": "Kv9HtaBkiUh1"
      },
      "execution_count": null,
      "outputs": []
    },
    {
      "cell_type": "markdown",
      "source": [
        "## ALGUNS CÓDIGOS QUE PODEM VIR A SER ÚTEIS\n"
      ],
      "metadata": {
        "id": "y7C6AlLqXEIa"
      }
    },
    {
      "cell_type": "code",
      "source": [
        ""
      ],
      "metadata": {
        "id": "0bKDSZvPxa0V"
      },
      "execution_count": null,
      "outputs": []
    },
    {
      "cell_type": "code",
      "source": [
        "# mapeia cada valor da variável Embarked em um valor numérico\n",
        "#mapeamento_embarked = {\"S\": 1, \"C\": 2, \"Q\": 3}\n",
        "#treinamento_df['Embarked'] = treinamento_df['Embarked'].map(mapeamento_embarked)\n",
        "#teste_df['Embarked'] = teste_df['Embarked'].map(mapeamento_embarked)"
      ],
      "metadata": {
        "id": "Ir0xrPz3XLHC"
      },
      "execution_count": null,
      "outputs": []
    }
  ]
}