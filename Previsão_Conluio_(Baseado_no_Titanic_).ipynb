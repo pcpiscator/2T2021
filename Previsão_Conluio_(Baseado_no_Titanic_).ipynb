{
  "nbformat": 4,
  "nbformat_minor": 0,
  "metadata": {
    "kernelspec": {
      "display_name": "Python 3",
      "language": "python",
      "name": "python3"
    },
    "language_info": {
      "name": "python",
      "version": "3.6.6",
      "mimetype": "text/x-python",
      "codemirror_mode": {
        "name": "ipython",
        "version": 3
      },
      "pygments_lexer": "ipython3",
      "nbconvert_exporter": "python",
      "file_extension": ".py"
    },
    "colab": {
      "name": " Previsão Conluio (Baseado no Titanic )",
      "provenance": [],
      "include_colab_link": true
    }
  },
  "cells": [
    {
      "cell_type": "markdown",
      "metadata": {
        "id": "view-in-github",
        "colab_type": "text"
      },
      "source": [
        "<a href=\"https://colab.research.google.com/github/pcpiscator/2T2021/blob/main/Previs%C3%A3o_Conluio_(Baseado_no_Titanic_).ipynb\" target=\"_parent\"><img src=\"https://colab.research.google.com/assets/colab-badge.svg\" alt=\"Open In Colab\"/></a>"
      ]
    },
    {
      "cell_type": "markdown",
      "metadata": {
        "id": "jI1jk3W6GOFs"
      },
      "source": [
        "# Laboratório: Previsão Conluio (base Titanic )\n",
        "Tentativa de Previsão de Conluio entre empresas em licitações."
      ]
    },
    {
      "cell_type": "markdown",
      "metadata": {
        "_uuid": "dd7eb0082ace007f5c0c63c924769b271976e511",
        "_cell_guid": "730aa0c8-dff2-4f89-8fef-349350d33935",
        "id": "_xGJ7yQgCBAY"
      },
      "source": [
        "# Previsão de Conluio entre empresas em licitações.\n",
        "\n",
        "### Conteúdo Abordado:\n",
        "1. Importar Bibliotecas Necessárias\n",
        "2. Carregar e Explorar os Dados\n",
        "3. Análise Exploratória\n",
        "4. Visualização dos Dados\n",
        "5. Limpeza dos Dados\n",
        "6. Escolha do Melhor Modelo\n"
      ]
    },
    {
      "cell_type": "markdown",
      "metadata": {
        "_uuid": "16f8521e8886e34460820e853d5de539451a82f7",
        "_cell_guid": "f20a268f-e8ab-4c51-a1e5-00a5fef70824",
        "id": "0LkR8rWjCBAY"
      },
      "source": [
        "## 1) Importar Bibliotecas Necessárias\n",
        "Primeiramente, como sempre, importaremos bibliotecas Python como pandas, numpy, matplotlib e seaborn. Esta última biblioteca permite plotar uns gráficos diferentes, e mais bonitos se compararmos com a biblioteca matplotlib."
      ]
    },
    {
      "cell_type": "code",
      "metadata": {
        "_uuid": "1ec634790f3cfdd372c20f8ba3d66c7b410e993f",
        "_cell_guid": "8b547494-0ee2-4596-bd96-fe0c1654c626",
        "trusted": true,
        "id": "23yLBM9aCBAY"
      },
      "source": [
        "# bibliotecas para análise de dados\n",
        "import numpy as np\n",
        "import pandas as pd\n",
        "\n",
        "# bibliotecas para visualização\n",
        "import matplotlib.pyplot as plt\n",
        "import seaborn as sns\n",
        "%matplotlib inline\n",
        "\n",
        "# configuração para ignorar mensagens de advertência (warning). \n",
        "# Muitas vezes estas mensagens atrapalham, pois pode trazer a informação de \n",
        "# algo está muito errado com nosso código quando na verdade temos apenas uma situação de advertência. \n",
        "import warnings\n",
        "warnings.filterwarnings('ignore')"
      ],
      "execution_count": 16,
      "outputs": []
    },
    {
      "cell_type": "markdown",
      "metadata": {
        "_uuid": "dc2d74e13fbcabaa244ca108a1669e2812e98075",
        "_cell_guid": "2c18255f-e77f-4edf-817a-b76d2330ca70",
        "id": "Rl19s8_1CBAY"
      },
      "source": [
        "##2) Carregar e Explorar os Dados\n",
        "Cabe lembrar que a pergunta que devemos responder para este desafio é a seguinte: **Quais grupos de empresas tiveram mais chances de participar de conluio em licitações? Para tanto,  deve-se explorar os dados das empresas (ex. CNPJ, Cód. da Licitação, Situação(vencedora ou perdedora etc.).** \n",
        "\n",
        "O *dataset* de licitações foi particionado em outros dois *datasets*: dados de treinamento e dados de teste. \n",
        "O *dataset* de treinamento contém os dados que serão utilizados para criar o nosso modelo preditivo, ou seja, os dados utilizados para **treinar o nosso modelo**. Por outro lado, o *dataset* de teste contém os dados que serão utilizados para testar e validar o desempenho do modelo com análise de sua acurácia e outras métricas. \n",
        "\n",
        "Neste passo você carregará os dois conjuntos de dados: treinamento e teste. Carregar neste contexto significa \"importar\" os dados dentro do nosso *notebook* utilizando o método `pd.read_csv`. Uma primeira olhada nos dados pode ser feita usando o método `describe()`."
      ]
    },
    {
      "cell_type": "code",
      "metadata": {
        "_uuid": "31e1c08d3f6633be24186295ceb5ef7305205c87",
        "_cell_guid": "b8200d17-9f26-4507-9161-2e3dd1ef154d",
        "trusted": true,
        "id": "7lq2yDhoCBAY",
        "colab": {
          "base_uri": "https://localhost:8080/",
          "height": 300
        },
        "outputId": "2ac9a1f1-bf25-4d2a-9c63-45eb73040fa8"
      },
      "source": [
        "# importar arquivos CSV: treinamento e teste. Note que os arquivos estão no Google Drive, e com isto, temos que acessá-los \n",
        "# através de um endereço web (URL) com caracteres 'estranhos' (chamados de 'hash'). Se os arquivos estivessem em seu computador,\n",
        "# o acesso seria utilizando os nomes dos arquivos CSV treinamento.csv e teste.csv\n",
        "#url_arquivo_treinamento_csv='https://drive.google.com/uc?export=view&id=1dJWrDlgp43l9qcZtSJ8ArZSWvxKWaQCx'\n",
        "#url_arquivo_teste_csv='https://drive.google.com/uc?export=view&id=1wrYVj6EThqc1qX3QO_RWONGEQOf7tnJF'\n",
        "\n",
        "treino = pd.read_csv('https://raw.githubusercontent.com/pcpiscator/2T2021/main/BaseLimpaTr.txt')\n",
        "teste= pd.read_csv('https://raw.githubusercontent.com/pcpiscator/2T2021/main/BaseLimpaTs.txt')\n",
        "\n",
        "# Dê uma olhada nos dados com o método describe. Passamos como parâmetro include=all para que todas as colunas do dataframe treinamento sejam apresentadas. \n",
        "treino.describe(include='all')\n",
        "#teste.describe(include='all')"
      ],
      "execution_count": 18,
      "outputs": [
        {
          "output_type": "execute_result",
          "data": {
            "text/html": [
              "\n",
              "  <div id=\"df-83c8cac2-8c24-46e4-98f8-2efb3e44d4e7\">\n",
              "    <div class=\"colab-df-container\">\n",
              "      <div>\n",
              "<style scoped>\n",
              "    .dataframe tbody tr th:only-of-type {\n",
              "        vertical-align: middle;\n",
              "    }\n",
              "\n",
              "    .dataframe tbody tr th {\n",
              "        vertical-align: top;\n",
              "    }\n",
              "\n",
              "    .dataframe thead th {\n",
              "        text-align: right;\n",
              "    }\n",
              "</style>\n",
              "<table border=\"1\" class=\"dataframe\">\n",
              "  <thead>\n",
              "    <tr style=\"text-align: right;\">\n",
              "      <th></th>\n",
              "      <th>licitacao</th>\n",
              "      <th>proponente</th>\n",
              "      <th>situacao</th>\n",
              "    </tr>\n",
              "  </thead>\n",
              "  <tbody>\n",
              "    <tr>\n",
              "      <th>count</th>\n",
              "      <td>4.505600e+04</td>\n",
              "      <td>4.505600e+04</td>\n",
              "      <td>45055.000000</td>\n",
              "    </tr>\n",
              "    <tr>\n",
              "      <th>mean</th>\n",
              "      <td>2.923675e+06</td>\n",
              "      <td>1.940806e+13</td>\n",
              "      <td>0.700810</td>\n",
              "    </tr>\n",
              "    <tr>\n",
              "      <th>std</th>\n",
              "      <td>2.281637e+06</td>\n",
              "      <td>1.286377e+13</td>\n",
              "      <td>0.457908</td>\n",
              "    </tr>\n",
              "    <tr>\n",
              "      <th>min</th>\n",
              "      <td>8.190000e+02</td>\n",
              "      <td>2.937200e+10</td>\n",
              "      <td>0.000000</td>\n",
              "    </tr>\n",
              "    <tr>\n",
              "      <th>25%</th>\n",
              "      <td>1.014919e+06</td>\n",
              "      <td>8.923815e+12</td>\n",
              "      <td>0.000000</td>\n",
              "    </tr>\n",
              "    <tr>\n",
              "      <th>50%</th>\n",
              "      <td>2.308719e+06</td>\n",
              "      <td>1.810027e+13</td>\n",
              "      <td>1.000000</td>\n",
              "    </tr>\n",
              "    <tr>\n",
              "      <th>75%</th>\n",
              "      <td>4.448621e+06</td>\n",
              "      <td>2.774166e+13</td>\n",
              "      <td>1.000000</td>\n",
              "    </tr>\n",
              "    <tr>\n",
              "      <th>max</th>\n",
              "      <td>1.011352e+07</td>\n",
              "      <td>9.754595e+13</td>\n",
              "      <td>1.000000</td>\n",
              "    </tr>\n",
              "  </tbody>\n",
              "</table>\n",
              "</div>\n",
              "      <button class=\"colab-df-convert\" onclick=\"convertToInteractive('df-83c8cac2-8c24-46e4-98f8-2efb3e44d4e7')\"\n",
              "              title=\"Convert this dataframe to an interactive table.\"\n",
              "              style=\"display:none;\">\n",
              "        \n",
              "  <svg xmlns=\"http://www.w3.org/2000/svg\" height=\"24px\"viewBox=\"0 0 24 24\"\n",
              "       width=\"24px\">\n",
              "    <path d=\"M0 0h24v24H0V0z\" fill=\"none\"/>\n",
              "    <path d=\"M18.56 5.44l.94 2.06.94-2.06 2.06-.94-2.06-.94-.94-2.06-.94 2.06-2.06.94zm-11 1L8.5 8.5l.94-2.06 2.06-.94-2.06-.94L8.5 2.5l-.94 2.06-2.06.94zm10 10l.94 2.06.94-2.06 2.06-.94-2.06-.94-.94-2.06-.94 2.06-2.06.94z\"/><path d=\"M17.41 7.96l-1.37-1.37c-.4-.4-.92-.59-1.43-.59-.52 0-1.04.2-1.43.59L10.3 9.45l-7.72 7.72c-.78.78-.78 2.05 0 2.83L4 21.41c.39.39.9.59 1.41.59.51 0 1.02-.2 1.41-.59l7.78-7.78 2.81-2.81c.8-.78.8-2.07 0-2.86zM5.41 20L4 18.59l7.72-7.72 1.47 1.35L5.41 20z\"/>\n",
              "  </svg>\n",
              "      </button>\n",
              "      \n",
              "  <style>\n",
              "    .colab-df-container {\n",
              "      display:flex;\n",
              "      flex-wrap:wrap;\n",
              "      gap: 12px;\n",
              "    }\n",
              "\n",
              "    .colab-df-convert {\n",
              "      background-color: #E8F0FE;\n",
              "      border: none;\n",
              "      border-radius: 50%;\n",
              "      cursor: pointer;\n",
              "      display: none;\n",
              "      fill: #1967D2;\n",
              "      height: 32px;\n",
              "      padding: 0 0 0 0;\n",
              "      width: 32px;\n",
              "    }\n",
              "\n",
              "    .colab-df-convert:hover {\n",
              "      background-color: #E2EBFA;\n",
              "      box-shadow: 0px 1px 2px rgba(60, 64, 67, 0.3), 0px 1px 3px 1px rgba(60, 64, 67, 0.15);\n",
              "      fill: #174EA6;\n",
              "    }\n",
              "\n",
              "    [theme=dark] .colab-df-convert {\n",
              "      background-color: #3B4455;\n",
              "      fill: #D2E3FC;\n",
              "    }\n",
              "\n",
              "    [theme=dark] .colab-df-convert:hover {\n",
              "      background-color: #434B5C;\n",
              "      box-shadow: 0px 1px 3px 1px rgba(0, 0, 0, 0.15);\n",
              "      filter: drop-shadow(0px 1px 2px rgba(0, 0, 0, 0.3));\n",
              "      fill: #FFFFFF;\n",
              "    }\n",
              "  </style>\n",
              "\n",
              "      <script>\n",
              "        const buttonEl =\n",
              "          document.querySelector('#df-83c8cac2-8c24-46e4-98f8-2efb3e44d4e7 button.colab-df-convert');\n",
              "        buttonEl.style.display =\n",
              "          google.colab.kernel.accessAllowed ? 'block' : 'none';\n",
              "\n",
              "        async function convertToInteractive(key) {\n",
              "          const element = document.querySelector('#df-83c8cac2-8c24-46e4-98f8-2efb3e44d4e7');\n",
              "          const dataTable =\n",
              "            await google.colab.kernel.invokeFunction('convertToInteractive',\n",
              "                                                     [key], {});\n",
              "          if (!dataTable) return;\n",
              "\n",
              "          const docLinkHtml = 'Like what you see? Visit the ' +\n",
              "            '<a target=\"_blank\" href=https://colab.research.google.com/notebooks/data_table.ipynb>data table notebook</a>'\n",
              "            + ' to learn more about interactive tables.';\n",
              "          element.innerHTML = '';\n",
              "          dataTable['output_type'] = 'display_data';\n",
              "          await google.colab.output.renderOutput(dataTable, element);\n",
              "          const docLink = document.createElement('div');\n",
              "          docLink.innerHTML = docLinkHtml;\n",
              "          element.appendChild(docLink);\n",
              "        }\n",
              "      </script>\n",
              "    </div>\n",
              "  </div>\n",
              "  "
            ],
            "text/plain": [
              "          licitacao    proponente      situacao\n",
              "count  4.505600e+04  4.505600e+04  45055.000000\n",
              "mean   2.923675e+06  1.940806e+13      0.700810\n",
              "std    2.281637e+06  1.286377e+13      0.457908\n",
              "min    8.190000e+02  2.937200e+10      0.000000\n",
              "25%    1.014919e+06  8.923815e+12      0.000000\n",
              "50%    2.308719e+06  1.810027e+13      1.000000\n",
              "75%    4.448621e+06  2.774166e+13      1.000000\n",
              "max    1.011352e+07  9.754595e+13      1.000000"
            ]
          },
          "metadata": {},
          "execution_count": 18
        }
      ]
    },
    {
      "cell_type": "markdown",
      "metadata": {
        "_uuid": "76d0ea2d3a1259aa2b8ccf33dbe794c432d20f70",
        "_cell_guid": "01f965ef-bd23-48c0-b6fc-44b7766c2ad8",
        "id": "c1EsE8n8CBAY"
      },
      "source": [
        "## 3) Análise Exploratória\n",
        "Agora, vamos analisar as variáveis (colunas) do *dataset* para verificar o tipo de dado, se dado faltante, se tem algum outro tipo de problema. Aqui resgatamos alguns dos conceitos de preparação de dados explorados nas semanas anteriores.\n",
        "**Importante:** as variáveis (ou colunas) que utilizamos na criação da nossa solução, na forma de um modelo preditivo capaz de responder à nossa pergunta, recebem um nome especial em inglês, chamado de **features**. Uma feature é então uma variável que será utilizada como entrada na criação de um modelo preditivo.  "
      ]
    },
    {
      "cell_type": "code",
      "metadata": {
        "_uuid": "20ad8f96b508e388aa060cd9dd6cb4d03bc1e9bf",
        "_cell_guid": "a6ee4c59-0af2-4f83-8698-e5a273bf4fbe",
        "trusted": true,
        "id": "pLhHVCqsCBAY",
        "colab": {
          "base_uri": "https://localhost:8080/"
        },
        "outputId": "ad414b8b-1ead-4107-b9e5-28c249a71fa5"
      },
      "source": [
        "# mostra a lista de features (colunas) do dataframe 'treinamento'\n",
        "print(treino.columns)"
      ],
      "execution_count": 19,
      "outputs": [
        {
          "output_type": "stream",
          "name": "stdout",
          "text": [
            "Index(['licitacao', 'proponente', ' situacao'], dtype='object')\n"
          ]
        }
      ]
    },
    {
      "cell_type": "code",
      "metadata": {
        "_uuid": "0b4b77818ea8e573f25b44841c5235ee8d2a2af3",
        "_cell_guid": "31308e14-a2cf-41fd-b60d-a2a764431e7f",
        "trusted": true,
        "id": "k-R22fSdCBAY",
        "colab": {
          "base_uri": "https://localhost:8080/",
          "height": 206
        },
        "outputId": "1fe8d4f4-be73-40c5-aa42-fbf084306242"
      },
      "source": [
        "# mostramos uma amostra do dataframe para termos uma idéia das variáveis. \n",
        "# o método 'sample' nos permite pegar neste caso uma amostra com 5 linhas\n",
        "treino.sample(5)"
      ],
      "execution_count": 20,
      "outputs": [
        {
          "output_type": "execute_result",
          "data": {
            "text/html": [
              "\n",
              "  <div id=\"df-b19602e8-badf-4eb8-8ec8-1f1c68e36332\">\n",
              "    <div class=\"colab-df-container\">\n",
              "      <div>\n",
              "<style scoped>\n",
              "    .dataframe tbody tr th:only-of-type {\n",
              "        vertical-align: middle;\n",
              "    }\n",
              "\n",
              "    .dataframe tbody tr th {\n",
              "        vertical-align: top;\n",
              "    }\n",
              "\n",
              "    .dataframe thead th {\n",
              "        text-align: right;\n",
              "    }\n",
              "</style>\n",
              "<table border=\"1\" class=\"dataframe\">\n",
              "  <thead>\n",
              "    <tr style=\"text-align: right;\">\n",
              "      <th></th>\n",
              "      <th>licitacao</th>\n",
              "      <th>proponente</th>\n",
              "      <th>situacao</th>\n",
              "    </tr>\n",
              "  </thead>\n",
              "  <tbody>\n",
              "    <tr>\n",
              "      <th>33086</th>\n",
              "      <td>2152021</td>\n",
              "      <td>2620622000148</td>\n",
              "      <td>1.0</td>\n",
              "    </tr>\n",
              "    <tr>\n",
              "      <th>44937</th>\n",
              "      <td>9226121</td>\n",
              "      <td>12673901000123</td>\n",
              "      <td>1.0</td>\n",
              "    </tr>\n",
              "    <tr>\n",
              "      <th>2058</th>\n",
              "      <td>125119</td>\n",
              "      <td>17392053000106</td>\n",
              "      <td>0.0</td>\n",
              "    </tr>\n",
              "    <tr>\n",
              "      <th>1508</th>\n",
              "      <td>333519</td>\n",
              "      <td>29972807000178</td>\n",
              "      <td>1.0</td>\n",
              "    </tr>\n",
              "    <tr>\n",
              "      <th>24494</th>\n",
              "      <td>5223920</td>\n",
              "      <td>15114641000144</td>\n",
              "      <td>0.0</td>\n",
              "    </tr>\n",
              "  </tbody>\n",
              "</table>\n",
              "</div>\n",
              "      <button class=\"colab-df-convert\" onclick=\"convertToInteractive('df-b19602e8-badf-4eb8-8ec8-1f1c68e36332')\"\n",
              "              title=\"Convert this dataframe to an interactive table.\"\n",
              "              style=\"display:none;\">\n",
              "        \n",
              "  <svg xmlns=\"http://www.w3.org/2000/svg\" height=\"24px\"viewBox=\"0 0 24 24\"\n",
              "       width=\"24px\">\n",
              "    <path d=\"M0 0h24v24H0V0z\" fill=\"none\"/>\n",
              "    <path d=\"M18.56 5.44l.94 2.06.94-2.06 2.06-.94-2.06-.94-.94-2.06-.94 2.06-2.06.94zm-11 1L8.5 8.5l.94-2.06 2.06-.94-2.06-.94L8.5 2.5l-.94 2.06-2.06.94zm10 10l.94 2.06.94-2.06 2.06-.94-2.06-.94-.94-2.06-.94 2.06-2.06.94z\"/><path d=\"M17.41 7.96l-1.37-1.37c-.4-.4-.92-.59-1.43-.59-.52 0-1.04.2-1.43.59L10.3 9.45l-7.72 7.72c-.78.78-.78 2.05 0 2.83L4 21.41c.39.39.9.59 1.41.59.51 0 1.02-.2 1.41-.59l7.78-7.78 2.81-2.81c.8-.78.8-2.07 0-2.86zM5.41 20L4 18.59l7.72-7.72 1.47 1.35L5.41 20z\"/>\n",
              "  </svg>\n",
              "      </button>\n",
              "      \n",
              "  <style>\n",
              "    .colab-df-container {\n",
              "      display:flex;\n",
              "      flex-wrap:wrap;\n",
              "      gap: 12px;\n",
              "    }\n",
              "\n",
              "    .colab-df-convert {\n",
              "      background-color: #E8F0FE;\n",
              "      border: none;\n",
              "      border-radius: 50%;\n",
              "      cursor: pointer;\n",
              "      display: none;\n",
              "      fill: #1967D2;\n",
              "      height: 32px;\n",
              "      padding: 0 0 0 0;\n",
              "      width: 32px;\n",
              "    }\n",
              "\n",
              "    .colab-df-convert:hover {\n",
              "      background-color: #E2EBFA;\n",
              "      box-shadow: 0px 1px 2px rgba(60, 64, 67, 0.3), 0px 1px 3px 1px rgba(60, 64, 67, 0.15);\n",
              "      fill: #174EA6;\n",
              "    }\n",
              "\n",
              "    [theme=dark] .colab-df-convert {\n",
              "      background-color: #3B4455;\n",
              "      fill: #D2E3FC;\n",
              "    }\n",
              "\n",
              "    [theme=dark] .colab-df-convert:hover {\n",
              "      background-color: #434B5C;\n",
              "      box-shadow: 0px 1px 3px 1px rgba(0, 0, 0, 0.15);\n",
              "      filter: drop-shadow(0px 1px 2px rgba(0, 0, 0, 0.3));\n",
              "      fill: #FFFFFF;\n",
              "    }\n",
              "  </style>\n",
              "\n",
              "      <script>\n",
              "        const buttonEl =\n",
              "          document.querySelector('#df-b19602e8-badf-4eb8-8ec8-1f1c68e36332 button.colab-df-convert');\n",
              "        buttonEl.style.display =\n",
              "          google.colab.kernel.accessAllowed ? 'block' : 'none';\n",
              "\n",
              "        async function convertToInteractive(key) {\n",
              "          const element = document.querySelector('#df-b19602e8-badf-4eb8-8ec8-1f1c68e36332');\n",
              "          const dataTable =\n",
              "            await google.colab.kernel.invokeFunction('convertToInteractive',\n",
              "                                                     [key], {});\n",
              "          if (!dataTable) return;\n",
              "\n",
              "          const docLinkHtml = 'Like what you see? Visit the ' +\n",
              "            '<a target=\"_blank\" href=https://colab.research.google.com/notebooks/data_table.ipynb>data table notebook</a>'\n",
              "            + ' to learn more about interactive tables.';\n",
              "          element.innerHTML = '';\n",
              "          dataTable['output_type'] = 'display_data';\n",
              "          await google.colab.output.renderOutput(dataTable, element);\n",
              "          const docLink = document.createElement('div');\n",
              "          docLink.innerHTML = docLinkHtml;\n",
              "          element.appendChild(docLink);\n",
              "        }\n",
              "      </script>\n",
              "    </div>\n",
              "  </div>\n",
              "  "
            ],
            "text/plain": [
              "       licitacao      proponente   situacao\n",
              "33086    2152021   2620622000148        1.0\n",
              "44937    9226121  12673901000123        1.0\n",
              "2058      125119  17392053000106        0.0\n",
              "1508      333519  29972807000178        1.0\n",
              "24494    5223920  15114641000144        0.0"
            ]
          },
          "metadata": {},
          "execution_count": 20
        }
      ]
    },
    {
      "cell_type": "code",
      "source": [
        "treino.head(5)"
      ],
      "metadata": {
        "id": "bFP82RNNlsWr",
        "outputId": "567de0e2-e658-46bc-ace3-5a9557e72392",
        "colab": {
          "base_uri": "https://localhost:8080/",
          "height": 206
        }
      },
      "execution_count": 21,
      "outputs": [
        {
          "output_type": "execute_result",
          "data": {
            "text/html": [
              "\n",
              "  <div id=\"df-85071e28-d9af-46d3-8fb9-297b4e08bfd2\">\n",
              "    <div class=\"colab-df-container\">\n",
              "      <div>\n",
              "<style scoped>\n",
              "    .dataframe tbody tr th:only-of-type {\n",
              "        vertical-align: middle;\n",
              "    }\n",
              "\n",
              "    .dataframe tbody tr th {\n",
              "        vertical-align: top;\n",
              "    }\n",
              "\n",
              "    .dataframe thead th {\n",
              "        text-align: right;\n",
              "    }\n",
              "</style>\n",
              "<table border=\"1\" class=\"dataframe\">\n",
              "  <thead>\n",
              "    <tr style=\"text-align: right;\">\n",
              "      <th></th>\n",
              "      <th>licitacao</th>\n",
              "      <th>proponente</th>\n",
              "      <th>situacao</th>\n",
              "    </tr>\n",
              "  </thead>\n",
              "  <tbody>\n",
              "    <tr>\n",
              "      <th>0</th>\n",
              "      <td>1527917</td>\n",
              "      <td>17886274000122</td>\n",
              "      <td>0.0</td>\n",
              "    </tr>\n",
              "    <tr>\n",
              "      <th>1</th>\n",
              "      <td>588618</td>\n",
              "      <td>5453608000276</td>\n",
              "      <td>1.0</td>\n",
              "    </tr>\n",
              "    <tr>\n",
              "      <th>2</th>\n",
              "      <td>2545418</td>\n",
              "      <td>198693000179</td>\n",
              "      <td>1.0</td>\n",
              "    </tr>\n",
              "    <tr>\n",
              "      <th>3</th>\n",
              "      <td>3612118</td>\n",
              "      <td>19786958000188</td>\n",
              "      <td>1.0</td>\n",
              "    </tr>\n",
              "    <tr>\n",
              "      <th>4</th>\n",
              "      <td>3612118</td>\n",
              "      <td>10642423000169</td>\n",
              "      <td>1.0</td>\n",
              "    </tr>\n",
              "  </tbody>\n",
              "</table>\n",
              "</div>\n",
              "      <button class=\"colab-df-convert\" onclick=\"convertToInteractive('df-85071e28-d9af-46d3-8fb9-297b4e08bfd2')\"\n",
              "              title=\"Convert this dataframe to an interactive table.\"\n",
              "              style=\"display:none;\">\n",
              "        \n",
              "  <svg xmlns=\"http://www.w3.org/2000/svg\" height=\"24px\"viewBox=\"0 0 24 24\"\n",
              "       width=\"24px\">\n",
              "    <path d=\"M0 0h24v24H0V0z\" fill=\"none\"/>\n",
              "    <path d=\"M18.56 5.44l.94 2.06.94-2.06 2.06-.94-2.06-.94-.94-2.06-.94 2.06-2.06.94zm-11 1L8.5 8.5l.94-2.06 2.06-.94-2.06-.94L8.5 2.5l-.94 2.06-2.06.94zm10 10l.94 2.06.94-2.06 2.06-.94-2.06-.94-.94-2.06-.94 2.06-2.06.94z\"/><path d=\"M17.41 7.96l-1.37-1.37c-.4-.4-.92-.59-1.43-.59-.52 0-1.04.2-1.43.59L10.3 9.45l-7.72 7.72c-.78.78-.78 2.05 0 2.83L4 21.41c.39.39.9.59 1.41.59.51 0 1.02-.2 1.41-.59l7.78-7.78 2.81-2.81c.8-.78.8-2.07 0-2.86zM5.41 20L4 18.59l7.72-7.72 1.47 1.35L5.41 20z\"/>\n",
              "  </svg>\n",
              "      </button>\n",
              "      \n",
              "  <style>\n",
              "    .colab-df-container {\n",
              "      display:flex;\n",
              "      flex-wrap:wrap;\n",
              "      gap: 12px;\n",
              "    }\n",
              "\n",
              "    .colab-df-convert {\n",
              "      background-color: #E8F0FE;\n",
              "      border: none;\n",
              "      border-radius: 50%;\n",
              "      cursor: pointer;\n",
              "      display: none;\n",
              "      fill: #1967D2;\n",
              "      height: 32px;\n",
              "      padding: 0 0 0 0;\n",
              "      width: 32px;\n",
              "    }\n",
              "\n",
              "    .colab-df-convert:hover {\n",
              "      background-color: #E2EBFA;\n",
              "      box-shadow: 0px 1px 2px rgba(60, 64, 67, 0.3), 0px 1px 3px 1px rgba(60, 64, 67, 0.15);\n",
              "      fill: #174EA6;\n",
              "    }\n",
              "\n",
              "    [theme=dark] .colab-df-convert {\n",
              "      background-color: #3B4455;\n",
              "      fill: #D2E3FC;\n",
              "    }\n",
              "\n",
              "    [theme=dark] .colab-df-convert:hover {\n",
              "      background-color: #434B5C;\n",
              "      box-shadow: 0px 1px 3px 1px rgba(0, 0, 0, 0.15);\n",
              "      filter: drop-shadow(0px 1px 2px rgba(0, 0, 0, 0.3));\n",
              "      fill: #FFFFFF;\n",
              "    }\n",
              "  </style>\n",
              "\n",
              "      <script>\n",
              "        const buttonEl =\n",
              "          document.querySelector('#df-85071e28-d9af-46d3-8fb9-297b4e08bfd2 button.colab-df-convert');\n",
              "        buttonEl.style.display =\n",
              "          google.colab.kernel.accessAllowed ? 'block' : 'none';\n",
              "\n",
              "        async function convertToInteractive(key) {\n",
              "          const element = document.querySelector('#df-85071e28-d9af-46d3-8fb9-297b4e08bfd2');\n",
              "          const dataTable =\n",
              "            await google.colab.kernel.invokeFunction('convertToInteractive',\n",
              "                                                     [key], {});\n",
              "          if (!dataTable) return;\n",
              "\n",
              "          const docLinkHtml = 'Like what you see? Visit the ' +\n",
              "            '<a target=\"_blank\" href=https://colab.research.google.com/notebooks/data_table.ipynb>data table notebook</a>'\n",
              "            + ' to learn more about interactive tables.';\n",
              "          element.innerHTML = '';\n",
              "          dataTable['output_type'] = 'display_data';\n",
              "          await google.colab.output.renderOutput(dataTable, element);\n",
              "          const docLink = document.createElement('div');\n",
              "          docLink.innerHTML = docLinkHtml;\n",
              "          element.appendChild(docLink);\n",
              "        }\n",
              "      </script>\n",
              "    </div>\n",
              "  </div>\n",
              "  "
            ],
            "text/plain": [
              "   licitacao      proponente   situacao\n",
              "0    1527917  17886274000122        0.0\n",
              "1     588618   5453608000276        1.0\n",
              "2    2545418    198693000179        1.0\n",
              "3    3612118  19786958000188        1.0\n",
              "4    3612118  10642423000169        1.0"
            ]
          },
          "metadata": {},
          "execution_count": 21
        }
      ]
    },
    {
      "cell_type": "markdown",
      "metadata": {
        "id": "KYa-CGelw3CW"
      },
      "source": [
        "Podemos ter uma idéia inicial sobre os dados de passageiros. PassengerId é a identificação do passageiro a bordo. Temos o nome, masculino/feminino, idade, etc. Temos também o valor do ticket (Fare) em libra esterlina, a classe de cabine, a situação de embarque. \n",
        "Cabe observar que os nomes dos passageiros iniciam pelo sobrenome seguido de vírgula e o primeiro nome. A variável *Survived* é de muita importância para a nossa solução. Ele informa se um dado passageiro, com tais características, sobreviveu ou não ao naufrágio. Este variável é chamada de *variável-alvo* pois relaciona-se com a nossa pergunta chave: Quais grupos de pessoas tiveram mais chances de sobreviver neste desastre?"
      ]
    },
    {
      "cell_type": "markdown",
      "metadata": {
        "id": "UqwKZKp0zTk8"
      },
      "source": [
        "Abaixo colocamos uma tabela que pode vir ou não junto a um *dataset*. Esta tabela é chamada de *Dicionário de Dados*, e serve para descrever melhor cada variável. Se o dicionário de dados não for fornecido, cabe ao cientista de dados investigar junto ao cliente o significado de cada variável do conjunto de dados, por mais óbvia que o nome da variável possa parecer. \n",
        "\n",
        "\n",
        "<table> \n",
        "\n",
        "<td><b>Variável</b></td> <td> <b>Definição</b> </td> <td><b> Observação</b> </td><tr>\n",
        "<td> survival\t</td> <td> Sobrevivente\t</td><td>0 = Não, 1 = Sim</td><tr>\n",
        "<td>pclass</td>\t<td>Classe do ticket</td>\t<td>1 = Primeira, 2 = Segunda, 3 = Terceira</td><tr>\n",
        "<td>sex</td>\t<td>Sexo</td>\t<td></td><tr>\n",
        "<td>Age\t</td><td>Idade em anos</td><td>\t</td><tr>\n",
        "<td>sibsp\t</td><td>nro de irmãos/irmãs E esposa/esposo a bordo do Titanic</td><td>\t</td><tr>\n",
        "<td>parch\t</td><td>nro de pais e filhos a bordo do Titanic </td><td>\t<tr>\n",
        "<td>ticket</td>\t<td>Número do Ticket\t</td> <td></td><tr>\n",
        "<td>fare</td>\t<td>Valor da passagem\t</td> <td> </td><tr>\n",
        "<td>cabin</td>\t<td>nro da cabine</td><td></td>\t<tr>\n",
        "<td>embarked</td>\t<td>Porto de Embarque</td>\t<td>C = Cherbourg, Q = Queenstown, S = Southampton</td><tr>\n",
        "</b>\n",
        "\n",
        "</table>\n",
        "\n",
        "\n",
        "Notas sobre as variáveis:\n",
        "pclass: um indicador do status sócio-econômico do passageiro\n",
        "1st = Upper (classe alta)\n",
        "2nd = Middle (classe média)\n",
        "3rd = Lower (classe baixa)\n",
        "\n",
        "age: a idade é uma fração se o valor for menor que 1.  Se a idade é estimada, esta encontra-se no formato xx.5\n",
        "\n",
        "sibsp: o dataset define relações familiares desta forma:\n",
        "Sibling = irmão, irmã, \"meio irmão\", \"meia irmã\"\n",
        "Spouse = esposa, esposo (namoradas e noivas foram ignoradas nos dados)\n",
        "\n",
        "parch: o dataset define relações familiares desta forma...\n",
        "Parent = mãe, pai\n",
        "Child = filha, filho, enteada, enteado\n",
        "Algumas crianças viajaram com suas babás, e com isto parch=0 nestes casos. \n",
        "\n",
        "\n",
        "\n",
        "\n",
        "\n",
        "\n"
      ]
    },
    {
      "cell_type": "markdown",
      "source": [
        "#                          **Dicionário de Dados**\n",
        "Abaixo colocamos uma tabela que pode vir ou não junto a um *dataset*. Esta tabela é chamada de *Dicionário de Dados*, e serve para descrever melhor cada variável. Se o dicionário de dados não for fornecido, cabe ao cientista de dados investigar junto ao cliente o significado de cada variável do conjunto de dados, por mais óbvia que o nome da variável possa parecer. \n",
        "\n",
        "\n",
        "<table> \n",
        "\n",
        "<td><b>Variável</b></td>  <td><b> Observação</b> </td><tr>\n",
        "<td> licitacao-identificação da licitação\t</td>\n",
        "<tr><td> proponente - participante da licitação CNPJ\t</td>\n",
        "<tr><td>situacao</td>\t<td>0 = perdedora, 1 = vencedora</td><tr>\n",
        "</b>\n",
        "</table>\n",
        "\n",
        "\n"
      ],
      "metadata": {
        "id": "t4quTo9XpNoE"
      }
    },
    {
      "cell_type": "markdown",
      "metadata": {
        "_uuid": "2af87b84cf76320f0b4ab6cc104eff78279f03cb",
        "_cell_guid": "eab5b420-e1e1-4bcd-a0f5-bc7509e97956",
        "id": "oKyWMbtrCBAZ"
      },
      "source": [
        "* **Features Numéricas:** Age, Fare, SibSp, Parch\n",
        "* **Features Categóricas:** Survived, Sex, Embarked, Pclass\n",
        "* **Features Alfanuméricas (texto):** Ticket, Cabin\n",
        "\n",
        "#### Quais são os tipos de dados para cada feature?\n",
        "* Survived: int\n",
        "* Pclass: int\n",
        "* Name: string\n",
        "* Sex: string\n",
        "* Age: float\n",
        "* SibSp: int\n",
        "* Parch: int\n",
        "* Ticket: string\n",
        "* Fare: float\n",
        "* Cabin: string\n",
        "* Embarked: string\n",
        "\n",
        "As *features* escolhidas devem ter propriedades que possam distinguir grupos de pessoas. Ou seja, variáveis muito específicas como por exemplo o nome do passageiro não servem neste nosso caso como uma *feature*. \n"
      ]
    },
    {
      "cell_type": "code",
      "metadata": {
        "_uuid": "f1a6b393e85252e9e85ef9b8e0aeb7dd99fe510d",
        "_cell_guid": "02b24c5c-2c30-4b9e-ab81-9417fc2ca244",
        "trusted": true,
        "id": "6OxO8oabCBAZ",
        "outputId": "abfccba8-f4f8-42c7-b776-f21dcd9b7224",
        "colab": {
          "base_uri": "https://localhost:8080/",
          "height": 300
        }
      },
      "source": [
        "# visualizar um sumário do dataset de treinamento\n",
        "treino.describe(include = \"all\")"
      ],
      "execution_count": 22,
      "outputs": [
        {
          "output_type": "execute_result",
          "data": {
            "text/html": [
              "\n",
              "  <div id=\"df-ac91dea6-66e6-47fc-b8e1-94448d9d36ed\">\n",
              "    <div class=\"colab-df-container\">\n",
              "      <div>\n",
              "<style scoped>\n",
              "    .dataframe tbody tr th:only-of-type {\n",
              "        vertical-align: middle;\n",
              "    }\n",
              "\n",
              "    .dataframe tbody tr th {\n",
              "        vertical-align: top;\n",
              "    }\n",
              "\n",
              "    .dataframe thead th {\n",
              "        text-align: right;\n",
              "    }\n",
              "</style>\n",
              "<table border=\"1\" class=\"dataframe\">\n",
              "  <thead>\n",
              "    <tr style=\"text-align: right;\">\n",
              "      <th></th>\n",
              "      <th>licitacao</th>\n",
              "      <th>proponente</th>\n",
              "      <th>situacao</th>\n",
              "    </tr>\n",
              "  </thead>\n",
              "  <tbody>\n",
              "    <tr>\n",
              "      <th>count</th>\n",
              "      <td>4.505600e+04</td>\n",
              "      <td>4.505600e+04</td>\n",
              "      <td>45055.000000</td>\n",
              "    </tr>\n",
              "    <tr>\n",
              "      <th>mean</th>\n",
              "      <td>2.923675e+06</td>\n",
              "      <td>1.940806e+13</td>\n",
              "      <td>0.700810</td>\n",
              "    </tr>\n",
              "    <tr>\n",
              "      <th>std</th>\n",
              "      <td>2.281637e+06</td>\n",
              "      <td>1.286377e+13</td>\n",
              "      <td>0.457908</td>\n",
              "    </tr>\n",
              "    <tr>\n",
              "      <th>min</th>\n",
              "      <td>8.190000e+02</td>\n",
              "      <td>2.937200e+10</td>\n",
              "      <td>0.000000</td>\n",
              "    </tr>\n",
              "    <tr>\n",
              "      <th>25%</th>\n",
              "      <td>1.014919e+06</td>\n",
              "      <td>8.923815e+12</td>\n",
              "      <td>0.000000</td>\n",
              "    </tr>\n",
              "    <tr>\n",
              "      <th>50%</th>\n",
              "      <td>2.308719e+06</td>\n",
              "      <td>1.810027e+13</td>\n",
              "      <td>1.000000</td>\n",
              "    </tr>\n",
              "    <tr>\n",
              "      <th>75%</th>\n",
              "      <td>4.448621e+06</td>\n",
              "      <td>2.774166e+13</td>\n",
              "      <td>1.000000</td>\n",
              "    </tr>\n",
              "    <tr>\n",
              "      <th>max</th>\n",
              "      <td>1.011352e+07</td>\n",
              "      <td>9.754595e+13</td>\n",
              "      <td>1.000000</td>\n",
              "    </tr>\n",
              "  </tbody>\n",
              "</table>\n",
              "</div>\n",
              "      <button class=\"colab-df-convert\" onclick=\"convertToInteractive('df-ac91dea6-66e6-47fc-b8e1-94448d9d36ed')\"\n",
              "              title=\"Convert this dataframe to an interactive table.\"\n",
              "              style=\"display:none;\">\n",
              "        \n",
              "  <svg xmlns=\"http://www.w3.org/2000/svg\" height=\"24px\"viewBox=\"0 0 24 24\"\n",
              "       width=\"24px\">\n",
              "    <path d=\"M0 0h24v24H0V0z\" fill=\"none\"/>\n",
              "    <path d=\"M18.56 5.44l.94 2.06.94-2.06 2.06-.94-2.06-.94-.94-2.06-.94 2.06-2.06.94zm-11 1L8.5 8.5l.94-2.06 2.06-.94-2.06-.94L8.5 2.5l-.94 2.06-2.06.94zm10 10l.94 2.06.94-2.06 2.06-.94-2.06-.94-.94-2.06-.94 2.06-2.06.94z\"/><path d=\"M17.41 7.96l-1.37-1.37c-.4-.4-.92-.59-1.43-.59-.52 0-1.04.2-1.43.59L10.3 9.45l-7.72 7.72c-.78.78-.78 2.05 0 2.83L4 21.41c.39.39.9.59 1.41.59.51 0 1.02-.2 1.41-.59l7.78-7.78 2.81-2.81c.8-.78.8-2.07 0-2.86zM5.41 20L4 18.59l7.72-7.72 1.47 1.35L5.41 20z\"/>\n",
              "  </svg>\n",
              "      </button>\n",
              "      \n",
              "  <style>\n",
              "    .colab-df-container {\n",
              "      display:flex;\n",
              "      flex-wrap:wrap;\n",
              "      gap: 12px;\n",
              "    }\n",
              "\n",
              "    .colab-df-convert {\n",
              "      background-color: #E8F0FE;\n",
              "      border: none;\n",
              "      border-radius: 50%;\n",
              "      cursor: pointer;\n",
              "      display: none;\n",
              "      fill: #1967D2;\n",
              "      height: 32px;\n",
              "      padding: 0 0 0 0;\n",
              "      width: 32px;\n",
              "    }\n",
              "\n",
              "    .colab-df-convert:hover {\n",
              "      background-color: #E2EBFA;\n",
              "      box-shadow: 0px 1px 2px rgba(60, 64, 67, 0.3), 0px 1px 3px 1px rgba(60, 64, 67, 0.15);\n",
              "      fill: #174EA6;\n",
              "    }\n",
              "\n",
              "    [theme=dark] .colab-df-convert {\n",
              "      background-color: #3B4455;\n",
              "      fill: #D2E3FC;\n",
              "    }\n",
              "\n",
              "    [theme=dark] .colab-df-convert:hover {\n",
              "      background-color: #434B5C;\n",
              "      box-shadow: 0px 1px 3px 1px rgba(0, 0, 0, 0.15);\n",
              "      filter: drop-shadow(0px 1px 2px rgba(0, 0, 0, 0.3));\n",
              "      fill: #FFFFFF;\n",
              "    }\n",
              "  </style>\n",
              "\n",
              "      <script>\n",
              "        const buttonEl =\n",
              "          document.querySelector('#df-ac91dea6-66e6-47fc-b8e1-94448d9d36ed button.colab-df-convert');\n",
              "        buttonEl.style.display =\n",
              "          google.colab.kernel.accessAllowed ? 'block' : 'none';\n",
              "\n",
              "        async function convertToInteractive(key) {\n",
              "          const element = document.querySelector('#df-ac91dea6-66e6-47fc-b8e1-94448d9d36ed');\n",
              "          const dataTable =\n",
              "            await google.colab.kernel.invokeFunction('convertToInteractive',\n",
              "                                                     [key], {});\n",
              "          if (!dataTable) return;\n",
              "\n",
              "          const docLinkHtml = 'Like what you see? Visit the ' +\n",
              "            '<a target=\"_blank\" href=https://colab.research.google.com/notebooks/data_table.ipynb>data table notebook</a>'\n",
              "            + ' to learn more about interactive tables.';\n",
              "          element.innerHTML = '';\n",
              "          dataTable['output_type'] = 'display_data';\n",
              "          await google.colab.output.renderOutput(dataTable, element);\n",
              "          const docLink = document.createElement('div');\n",
              "          docLink.innerHTML = docLinkHtml;\n",
              "          element.appendChild(docLink);\n",
              "        }\n",
              "      </script>\n",
              "    </div>\n",
              "  </div>\n",
              "  "
            ],
            "text/plain": [
              "          licitacao    proponente      situacao\n",
              "count  4.505600e+04  4.505600e+04  45055.000000\n",
              "mean   2.923675e+06  1.940806e+13      0.700810\n",
              "std    2.281637e+06  1.286377e+13      0.457908\n",
              "min    8.190000e+02  2.937200e+10      0.000000\n",
              "25%    1.014919e+06  8.923815e+12      0.000000\n",
              "50%    2.308719e+06  1.810027e+13      1.000000\n",
              "75%    4.448621e+06  2.774166e+13      1.000000\n",
              "max    1.011352e+07  9.754595e+13      1.000000"
            ]
          },
          "metadata": {},
          "execution_count": 22
        }
      ]
    },
    {
      "cell_type": "markdown",
      "metadata": {
        "_uuid": "97bb9b0e680db92ab2fe5f4392210156aae1e989",
        "_cell_guid": "644cc349-70e6-4650-9d26-b429802f5efa",
        "id": "ZkNbKjJ9CBAZ"
      },
      "source": [
        "#### Algumas observações importantes (preparação de dados):\n",
        "* Temos um total de 891 passageiros no nosso conjunto de treinamento (treinamento_df).\n",
        "* Valores para a variável Age estão faltando em aproximadamente 19.8% dos casos.  Imagine que esta variável Age seja bem importante para a questão de sobrevivência neste desastre. Por isso, seria interessante preencher estas lacunas de dados faltantes. \n",
        "* A variável Cabin tem aproxidamente 77.1% dos seus dados faltando. Neste caso, por ser uma quantidade grande de dados faltantes, será difícil tentarmos preencher as lacunas vazias. Neste caso, uma estratégia (vista em semana anterior) é de remover estes valores do dataset. \n",
        "* A variável Embarked tem 0.22%  de valores faltantes, o que deve ser bem tranquilo e sem problemas maiores em nossa estratégia de preparação de dados. \n"
      ]
    },
    {
      "cell_type": "code",
      "metadata": {
        "_uuid": "42dddbd08a428f4e3548d36e8619663d561fbf3b",
        "_cell_guid": "1f65770d-4c54-4605-9fd8-80d99eadbbab",
        "trusted": true,
        "id": "NlxSN4jFCBAZ"
      },
      "source": [
        "# verifica se existe qualquer outro variável com dados faltantes\n",
        "print(pd.isnull(treinamento_df).sum())"
      ],
      "execution_count": null,
      "outputs": []
    },
    {
      "cell_type": "markdown",
      "metadata": {
        "_uuid": "62f63111ad2ce761785782995126aa06979296ba",
        "_cell_guid": "7c83809f-48cd-47f2-836b-c13e34ec9356",
        "id": "JqGqpVV2CBAZ"
      },
      "source": [
        "Podemos observar que exceto os valores faltantes mencionados acima, não existe mais valores NaN em outras variáveis. "
      ]
    },
    {
      "cell_type": "markdown",
      "metadata": {
        "_uuid": "ac6896faf20480d1d0dd2cdb38324833a6fff650",
        "_cell_guid": "0a23ca84-ed03-4073-9bba-1d5ffd52c925",
        "id": "pzdYzf_UCBAZ"
      },
      "source": [
        "### Algumas previsões (de nossa cabeça)\n",
        "* Sex: mulheres tem mais chance de sobrevivência. \n",
        "* SibSp/Parch: passageiros viajando sozinhos tem mais chance de sobrevivência.\n",
        "* Age: crianças tem mais chance de sobrevivência.\n",
        "* Pclass: pessoas de classe sócio-econômica mais alta tem chances de sobreviver. \n"
      ]
    },
    {
      "cell_type": "markdown",
      "metadata": {
        "_uuid": "799a64948fd1b9e1486a14024df46e3b585ca426",
        "_cell_guid": "3de7077c-bac3-4a75-bd33-9438063d8d8e",
        "id": "5CEg3Xd3CBAZ"
      },
      "source": [
        "## 4) Visualização dos Dados\n",
        "Agora podemos verificar se as nossas hipóteses acima se confirmam!\n"
      ]
    },
    {
      "cell_type": "markdown",
      "metadata": {
        "_uuid": "96ecfe7a43dabb3d0554eb2553b29619fcb829e8",
        "_cell_guid": "d8f5581e-66d7-4901-8806-d1c92351f471",
        "id": "zMH5Qq3DCBAZ"
      },
      "source": [
        "### Feature 'Sex'"
      ]
    },
    {
      "cell_type": "code",
      "metadata": {
        "_uuid": "06f30fcae6e792e7ef9e011d69711ca6fcab3d36",
        "_cell_guid": "6cacebc8-5657-4abc-8f2b-0fec7e52f48c",
        "trusted": true,
        "id": "SbTY_2bnCBAZ"
      },
      "source": [
        "# plotar sobreviventes e gênero do passageiro. Observe que estamos usando a biblioteca seaborn para plotagem.\n",
        "sns.barplot(x=\"Sex\", y=\"Survived\", data=treinamento_df)\n",
        "\n",
        "# mostra percentuais de passageiros (feminino versus masculino) que sobreviveram\n",
        "print(\"Percentual de passageiros gênero feminino que sobreviveram:\", treinamento_df[\"Survived\"][treinamento_df[\"Sex\"] == 'female'].value_counts(normalize = True)[1]*100)\n",
        "\n",
        "print(\"Percentual de passageiros gênero masculino que sobreviveram:\", treinamento_df[\"Survived\"][treinamento_df[\"Sex\"] == 'male'].value_counts(normalize = True)[1]*100)"
      ],
      "execution_count": null,
      "outputs": []
    },
    {
      "cell_type": "markdown",
      "metadata": {
        "_uuid": "876d73b47f56dd7fa188b8ec69b5d91a4d62c917",
        "_cell_guid": "e4b6333c-7f43-4f8f-a199-17fcf5806db0",
        "id": "2uboRyCACBAZ"
      },
      "source": [
        "Como antecipado, passageira do gênero feminino teve chance maior de sobrivência se compararmos com o passageiro do gênero masculino. A feature Sex é essencial para novas previsões.\n"
      ]
    },
    {
      "cell_type": "markdown",
      "metadata": {
        "_uuid": "d9e28854048a4a514f0c038d97baa26b0ee40831",
        "_cell_guid": "340385a2-a794-41a8-890c-0d5566b22f76",
        "id": "XmMQ8ckACBAZ"
      },
      "source": [
        "### Feature Pclass"
      ]
    },
    {
      "cell_type": "code",
      "metadata": {
        "_uuid": "014f972c4d2fb7fe62902f2c9b177c569ee174b2",
        "_cell_guid": "6c987807-3ff8-4927-b648-e66b669702d8",
        "trusted": true,
        "id": "HDbYqEoSCBAZ"
      },
      "source": [
        "# plota sobreviventes por classe de cabine (Pclass)\n",
        "sns.barplot(x=\"Pclass\", y=\"Survived\", data=treinamento_df)\n",
        "\n",
        "# mostra percentual de pessoas por classe de cabine que sobreviveu\n",
        "print(\"Percentual da Pclass = 1 que sobreviveu:\", treinamento_df[\"Survived\"][treinamento_df[\"Pclass\"] == 1].value_counts(normalize = True)[1]*100)\n",
        "\n",
        "print(\"Percentual de Pclass = 2 que sobreviveu:\", treinamento_df[\"Survived\"][treinamento_df[\"Pclass\"] == 2].value_counts(normalize = True)[1]*100)\n",
        "\n",
        "print(\"Percentual de Pclass = 3 que sobreviveu:\", treinamento_df[\"Survived\"][treinamento_df[\"Pclass\"] == 3].value_counts(normalize = True)[1]*100)"
      ],
      "execution_count": null,
      "outputs": []
    },
    {
      "cell_type": "markdown",
      "metadata": {
        "_uuid": "90f8c5ed32a5db00a93d741b374a1b06bda16948",
        "_cell_guid": "4515e73e-d53c-42e0-ad77-939e32ab7d07",
        "id": "0lQwytHmCBAZ"
      },
      "source": [
        "Como antecipamos acima, pessoas de classe sócio-econômica mais alta teve maior taxa de sobrevivência neste naufrágio. (62.9% vs. 47.3% vs. 24.2%)"
      ]
    },
    {
      "cell_type": "markdown",
      "metadata": {
        "_uuid": "7ddbc256344324a13f35ef15b056b0edca259f3d",
        "_cell_guid": "3d42f81e-50b2-4883-820e-74413d9f94de",
        "id": "-mmkwYn6CBAZ"
      },
      "source": [
        "### Feature SibSp"
      ]
    },
    {
      "cell_type": "code",
      "metadata": {
        "_uuid": "a1c71cc0bb9faccbdd6d9dc5d127bcaadbf4303d",
        "_cell_guid": "940ac591-bdfd-493c-8d47-e4045dcf786f",
        "trusted": true,
        "id": "4TEBP7QsCBAZ"
      },
      "source": [
        "# plotar em gráficos de bar (barplot) a variável SibSp e as chances de sobrevivência\n",
        "sns.barplot(x=\"SibSp\", y=\"Survived\", data=treinamento_df)\n",
        "\n",
        "# imprimir os percentuais de até dois irmãos e/ou esposa/esposo\n",
        "print(\"Percentual de SibSp = 0 que sobreviveu:\", treinamento_df[\"Survived\"][treinamento_df[\"SibSp\"] == 0].value_counts(normalize = True)[1]*100)\n",
        "\n",
        "print(\"Percentual de SibSp = 1 que sobreviveu:\", treinamento_df[\"Survived\"][treinamento_df[\"SibSp\"] == 1].value_counts(normalize = True)[1]*100)\n",
        "\n",
        "print(\"Percentual de SibSp = 2 que sobreviveu:\", treinamento_df[\"Survived\"][treinamento_df[\"SibSp\"] == 2].value_counts(normalize = True)[1]*100)"
      ],
      "execution_count": null,
      "outputs": []
    },
    {
      "cell_type": "markdown",
      "metadata": {
        "_uuid": "c58f6e8b1e4b61d608de0d62cc6ba6ecb5f56410",
        "_cell_guid": "906c43f7-eec5-4e5a-86df-d2abcdf04928",
        "id": "UHRdxnNECBAZ"
      },
      "source": [
        "Fica mais claro agora que pessoas com mais irmãos/irmãs incluindo esposa/esposo a bordo tiveram menores chances de sobrivivência. Entretanto, um fato relevante observado no gráfico de barras,  e contrário às expectativas, é que passsageiros com nenhum \"irmão-irmã-esposo-esposa\" tiveram menor chance de sobrevivência se compararmos com passageiros com um ou dois. (34.5% vs 53.4% vs. 46.4%)"
      ]
    },
    {
      "cell_type": "markdown",
      "metadata": {
        "_uuid": "4e0d401776cd132f02923852ec1183efa473349c",
        "_cell_guid": "48c30691-e298-4f75-b0ef-8f0ba91467f5",
        "id": "2b3LfEHdCBAZ"
      },
      "source": [
        "### Feature Parch "
      ]
    },
    {
      "cell_type": "code",
      "metadata": {
        "_uuid": "0f1d270b132bac2faaa2ce399f5508fc94978d78",
        "_cell_guid": "50b8538b-d1bc-4541-b9a8-97d30fb05683",
        "trusted": true,
        "id": "ebyC0MvOCBAZ"
      },
      "source": [
        "# plotar um gráfico de barras para a variável Parch vs. Survived\n",
        "sns.barplot(x=\"Parch\", y=\"Survived\", data=treinamento_df)\n",
        "plt.show()"
      ],
      "execution_count": null,
      "outputs": []
    },
    {
      "cell_type": "markdown",
      "metadata": {
        "_uuid": "90f2b86d4ec449ab86fb66c6acfccc37d357cb80",
        "_cell_guid": "0b99a619-4f0f-423b-a124-55623e7bd6b6",
        "id": "jtK4dyURCBAZ"
      },
      "source": [
        "Passageiros com menos do que quatro pais ou crianças a bordo tiveram mais chances de sobrevivência comparando com os passageiros com quatro ou mais. Novamente, passageiros viajando sozinhos apresentaram menores chances de sobevivência. \n",
        "\n"
      ]
    },
    {
      "cell_type": "markdown",
      "metadata": {
        "_uuid": "3865ab5f13074f09d9604d80761ee2c08cb1d6d9",
        "_cell_guid": "9635fa44-a884-48a4-8eae-1a38a41d1c58",
        "id": "TQHu6aY-CBAZ"
      },
      "source": [
        "### Feature Age"
      ]
    },
    {
      "cell_type": "code",
      "metadata": {
        "_uuid": "0467092de1cc5ffb94921516e76e0d675c772716",
        "_cell_guid": "9188caf6-10c5-4003-bcf1-66b54d662c09",
        "trusted": true,
        "id": "JXhltLMJCBAZ"
      },
      "source": [
        "# ordena os valores de idade em categorias lógicas\n",
        "treinamento_df[\"Age\"] = treinamento_df[\"Age\"].fillna(-0.5)      # esse preenchimento de valores foi visto nas semanas anteriores\n",
        "teste_df[\"Age\"] = teste_df[\"Age\"].fillna(-0.5)\n",
        "bins = [-1, 0, 5, 12, 18, 24, 35, 60, np.inf]\n",
        "labels = ['Unknown', 'Baby', 'Child', 'Teenager', 'Student', 'Young Adult', 'Adult', 'Senior']\n",
        "treinamento_df['AgeGroup'] = pd.cut(treinamento_df[\"Age\"], bins, labels = labels)\n",
        "teste_df['AgeGroup'] = pd.cut(teste_df[\"Age\"], bins, labels = labels)\n",
        "\n",
        "# plota gráfico de barras (Age vs. survival)\n",
        "sns.barplot(x=\"AgeGroup\", y=\"Survived\", data=treinamento_df)\n",
        "plt.show()"
      ],
      "execution_count": null,
      "outputs": []
    },
    {
      "cell_type": "markdown",
      "metadata": {
        "_uuid": "780d41388683c3ed63ee4a447bf78a3e1750ea40",
        "_cell_guid": "1a439d36-4116-4b93-98da-e2befe265fd8",
        "id": "QCdic1gcCBAZ"
      },
      "source": [
        "Bebês tiveram as maiores de chance de sobrevivência de qualquer dos grupos. "
      ]
    },
    {
      "cell_type": "markdown",
      "metadata": {
        "id": "ZQHQYhpegpZg"
      },
      "source": [
        "<img src=\"https://upload.wikimedia.org/wikipedia/commons/a/a2/Titanic_lifeboat.jpg\">"
      ]
    },
    {
      "cell_type": "markdown",
      "metadata": {
        "_uuid": "b7adbf12f57fa29860e36c827a968d9ed6eda949",
        "_cell_guid": "c6e8ecf8-796e-4f30-ac88-62b21c71d2d7",
        "id": "uQs1OY7dCBAZ"
      },
      "source": [
        "### Feature Cabin\n",
        "A idéia é verificar se passageiros com números de cabines registrados são de classe social mais alta, e por isso com maiores chances de sobrevivência. \n"
      ]
    },
    {
      "cell_type": "code",
      "metadata": {
        "_uuid": "1e2ca5a5f1f10c0f1d7c2f34a9fc92b577631556",
        "_cell_guid": "8732f634-3605-4dce-bd76-8c4758c7dacf",
        "trusted": true,
        "id": "XnQOl6fuCBAZ"
      },
      "source": [
        "treinamento_df[\"CabinBool\"] = (treinamento_df[\"Cabin\"].notnull().astype('int'))\n",
        "teste_df[\"CabinBool\"] = (teste_df[\"Cabin\"].notnull().astype('int'))\n",
        "\n",
        "# calculamos aqui os percentuais de CabinBool vs. survived\n",
        "print(\"Percentual de CabinBool = 1 que sobreviveu:\", treinamento_df[\"Survived\"][treinamento_df[\"CabinBool\"] == 1].value_counts(normalize = True)[1]*100)\n",
        "\n",
        "print(\"Percentual de CabinBool = 0 que sobreviveu:\", treinamento_df[\"Survived\"][treinamento_df[\"CabinBool\"] == 0].value_counts(normalize = True)[1]*100)\n",
        "#draw a bar plot of CabinBool vs. survival\n",
        "sns.barplot(x=\"CabinBool\", y=\"Survived\", data=treinamento_df)\n",
        "plt.show()"
      ],
      "execution_count": null,
      "outputs": []
    },
    {
      "cell_type": "markdown",
      "metadata": {
        "_uuid": "7f6572c8c51c25de73665d80875267add963c2b3",
        "_cell_guid": "c6651960-d7f3-4f28-9759-71676c2cf93e",
        "id": "YpMKPr66CBAZ"
      },
      "source": [
        "Em resumo, passageiros com valor de cabin registrado no dataset, tem maiores chances de sobrevivência (66.6% vs 29.9%)\n",
        "\n",
        "É importante salientar que todas as análises acima são puramente baseadas em inspeções dos dados históricos. Ou seja, refletem estatísticas sobre dados e eventos que realmente aconteceram. \n"
      ]
    },
    {
      "cell_type": "markdown",
      "metadata": {
        "id": "VMwkP9NohPBm"
      },
      "source": [
        "<img src=\"https://www.euractiv.com/wp-content/uploads/sites/2/2016/02/titanic_orchestra_the_movie.jpeg\" width = 480>\n",
        "\n",
        "Orquestra no filme *Titanic* de James Cameron (1998). Isso mostra um pouco da falta de opções que os passageiros tinham e também a baixa expectativa de sobrevivência pela falta de barcos salva-vidas, e também de coletes salva-vidas. "
      ]
    },
    {
      "cell_type": "markdown",
      "metadata": {
        "_uuid": "8a11100acd44f07a3e77b973f60cd3a8a17700f8",
        "_cell_guid": "1b8a795d-e4dc-4f7c-a001-26b9bcd86d67",
        "id": "vcl4spXkCBAZ"
      },
      "source": [
        "## 5) Limpeza dos Dados\n",
        "Momento para limparmos nossos dados para tratar dados faltantes e informação desnecessária. \n"
      ]
    },
    {
      "cell_type": "markdown",
      "metadata": {
        "_uuid": "21ccaa6a70b4833c46b2eef8f98178cdc957c26e",
        "_cell_guid": "1f281521-8a27-4da9-b679-f61e233b3099",
        "id": "d2z_gsP9CBAZ"
      },
      "source": [
        "### Inspecionando os dados de teste\n",
        "Cabe lembrar que temos dois conjuntos de dados: treinamento (utilizado para criar modelos), e conjunto de dados para utilizado para validar o modelo criado.  \n",
        "Vamos olhar o conjunto de teste. "
      ]
    },
    {
      "cell_type": "code",
      "metadata": {
        "_uuid": "ed0b5356807dae805e8f0c76c71a01c86a396ccb",
        "_cell_guid": "51bd144d-bc3d-4b2e-b3a4-3def3ef5a614",
        "trusted": true,
        "id": "c5KdL2UdCBAZ"
      },
      "source": [
        "teste_df.describe(include=\"all\")\n"
      ],
      "execution_count": null,
      "outputs": []
    },
    {
      "cell_type": "markdown",
      "metadata": {
        "_uuid": "dbb4cfac71a016808d91f29ec4293ba94adea9f9",
        "_cell_guid": "10ac0007-e513-4e06-9680-b9548cb64304",
        "id": "1irBfkvnCBAZ"
      },
      "source": [
        "* Temos um total de 418 passageiros. \n",
        "* 1 valor para a variável Fare (preço do ticket) está faltando. \n",
        "* Em torno de 20.5% dos valores estão faltando para a varíavel Age. Precisamos preencher estas lacunas. \n"
      ]
    },
    {
      "cell_type": "markdown",
      "metadata": {
        "_uuid": "d3d78c9beee8a8294f2ecf07fd07f07dce64e0e9",
        "_cell_guid": "f065c0da-40f8-471e-9c88-7dda65d1933a",
        "id": "yFHEyPnVCBAZ"
      },
      "source": [
        "### Feature Cabin"
      ]
    },
    {
      "cell_type": "code",
      "metadata": {
        "_uuid": "f7f0b46448c021bf75a401a9f8caeb145418debf",
        "_cell_guid": "8f7829e9-fda0-424f-aec7-8e343464f5c7",
        "trusted": true,
        "id": "PRRDHvCpCBAZ"
      },
      "source": [
        "# iniciamos removendo (dropping) valores da variável Cabin pois\n",
        "# não podemos extrair algo muito útil desta variável\n",
        "treinamento_df = treinamento_df.drop(['Cabin'], axis = 1)\n",
        "teste_df = teste_df.drop(['Cabin'], axis = 1)"
      ],
      "execution_count": null,
      "outputs": []
    },
    {
      "cell_type": "markdown",
      "metadata": {
        "_uuid": "9576e0765919822abc737bce7f09eb9c022474c7",
        "_cell_guid": "b4b91207-5ff3-48b0-b2c7-64d55310706d",
        "id": "uKRGIwmkCBAZ"
      },
      "source": [
        "### Feature Ticket "
      ]
    },
    {
      "cell_type": "code",
      "metadata": {
        "_uuid": "1ef6d1564e86e9b866831a7bccff347d44889ee1",
        "_cell_guid": "5237ae32-df22-426b-ba42-a1058e97144e",
        "trusted": true,
        "id": "tmHSZ_GbCBAZ"
      },
      "source": [
        "# podemos também remover a variável Ticket pois esta não deve acrescentar muita coisa útil. O Ticket é um número, e dificilmente, pode ser \n",
        "# aproveitado para identificar um grupo de passageiros. O número do Ticket pode identificar sim um passageiro em específico, mas não \n",
        "# consegue conter informação acerca de um grupo de pessoas. \n",
        "treinamento_df = treinamento_df.drop(['Ticket'], axis = 1)\n",
        "teste_Df = teste_df.drop(['Ticket'], axis = 1)"
      ],
      "execution_count": null,
      "outputs": []
    },
    {
      "cell_type": "markdown",
      "metadata": {
        "_uuid": "d67ef4589d6744b718ab7652975cc2be38adfc34",
        "_cell_guid": "19bdb486-8ad6-424b-b12a-ec711ea40a78",
        "id": "heofOVr8CBAa"
      },
      "source": [
        "###  Feature Embarked"
      ]
    },
    {
      "cell_type": "code",
      "metadata": {
        "_uuid": "2269d0172302ef9a5c0d627ec0a139d89e33f871",
        "_cell_guid": "7413f753-a675-411d-931d-e3a9ca7509f0",
        "trusted": true,
        "id": "T9KQfnx_CBAa"
      },
      "source": [
        "# precisamos preencher os dados faltantes na variável Embarked com valores apropriados\n",
        "print(\"Número de pessoas que embarcaram em Southampton (S):\")\n",
        "southampton = treinamento_df[treinamento_df[\"Embarked\"] == \"S\"].shape[0]\n",
        "print(southampton)\n",
        "\n",
        "print(\"Número de pessoas que embarcaram em Cherbourg (C):\")\n",
        "cherbourg = treinamento_df[treinamento_df[\"Embarked\"] == \"C\"].shape[0]\n",
        "print(cherbourg)\n",
        "\n",
        "print(\"Número de pessoas que embarcaram em Queenstown (Q):\")\n",
        "queenstown = treinamento_df[treinamento_df[\"Embarked\"] == \"Q\"].shape[0]\n",
        "print(queenstown)"
      ],
      "execution_count": null,
      "outputs": []
    },
    {
      "cell_type": "markdown",
      "metadata": {
        "_uuid": "8bada1b635e3ed1d2de4183bcfca5a2e47a60288",
        "_cell_guid": "2413ea4e-f8f5-47dc-8572-89cba8f7d4f0",
        "id": "dOeK7sLgCBAa"
      },
      "source": [
        "Claramente a maioria das pessoas embarcou em Southampton (S). Podemos então preencher os dados faltantes na variável Embarked com o valor (S) de Southampton. Entenderam essa estratégia de preenchimento de valores faltantes? Utiliza a categoria com maior número de valores para então preencher os dados faltantes. \n",
        " "
      ]
    },
    {
      "cell_type": "code",
      "metadata": {
        "_uuid": "e930fcc94dee89f482c3689e0203c41db24501d2",
        "_cell_guid": "9b4fde7b-9f44-48bf-a809-d919aec54ea3",
        "trusted": true,
        "id": "D3wBYbACCBAa"
      },
      "source": [
        "# preenchendo os dados faltantes na variável Embarked com o valor S\n",
        "treinamento_df = treinamento_df.fillna({\"Embarked\": \"S\"})"
      ],
      "execution_count": null,
      "outputs": []
    },
    {
      "cell_type": "markdown",
      "metadata": {
        "_uuid": "5bb4686eb612f4dad5cbba0f4aae10cf463a3df3",
        "_cell_guid": "a450e321-1857-415a-a479-234911f3d661",
        "id": "D2HB6gMUCBAa"
      },
      "source": [
        "### Feature Age\n"
      ]
    },
    {
      "cell_type": "markdown",
      "metadata": {
        "_uuid": "6083d493c627a16606969e3258858d3335b0e705",
        "_cell_guid": "02704ec3-ca1b-4688-8841-8b3e37883d71",
        "id": "Sq6ZuWYJCBAa"
      },
      "source": [
        "Vamos agora tratar os valores faltantes da variável Age. Partindo do ponto que um grande percentual dos valores estão faltando, seria ilógico preenchermos todos estes valores com o mesmo valor (da forma como fizemos com a variável Embarked). Vamos explorar uma outra alternativa para preencher os valores nulos. "
      ]
    },
    {
      "cell_type": "code",
      "metadata": {
        "_uuid": "b25763097363fa98fc10fcb4a377d8d2c519b238",
        "_cell_guid": "2962e4b6-1744-449a-86c1-239123a0016e",
        "trusted": true,
        "id": "4oTpYvS6CBAa"
      },
      "source": [
        "# criamos um dataset 'combinado' que junta os nosos dois datasets (treinamento e teste)\n",
        "combinado_df = [treinamento_df, teste_df]\n",
        "\n",
        "# extraímos um Título para cada nome nos datasets treinamento_df e teste_df\n",
        "for dataset in combinado_df:\n",
        "    dataset['Title'] = dataset.Name.str.extract(' ([A-Za-z]+)\\.', expand=False)\n",
        "\n",
        "pd.crosstab(treinamento_df['Title'], treinamento_df['Sex'])"
      ],
      "execution_count": null,
      "outputs": []
    },
    {
      "cell_type": "code",
      "metadata": {
        "_uuid": "3ff0af2a97f14dadc8baaae5f3c35297ac56f319",
        "_cell_guid": "cf15c356-4b9c-4d5b-8eba-9cd5eee132fe",
        "trusted": true,
        "id": "n1PS6FwcCBAa"
      },
      "source": [
        "# troca vários títulos de nomes por nomes mais comuns\n",
        "for dataset in combinado_df:\n",
        "    dataset['Title'] = dataset['Title'].replace(['Lady', 'Capt', 'Col',\n",
        "    'Don', 'Dr', 'Major', 'Rev', 'Jonkheer', 'Dona'], 'Rare')\n",
        "    \n",
        "    dataset['Title'] = dataset['Title'].replace(['Countess', 'Lady', 'Sir'], 'Royal')\n",
        "    dataset['Title'] = dataset['Title'].replace('Mlle', 'Miss')\n",
        "    dataset['Title'] = dataset['Title'].replace('Ms', 'Miss')\n",
        "    dataset['Title'] = dataset['Title'].replace('Mme', 'Mrs')\n",
        "\n",
        "treinamento_df[['Title', 'Survived']].groupby(['Title'], as_index=False).mean()"
      ],
      "execution_count": null,
      "outputs": []
    },
    {
      "cell_type": "code",
      "metadata": {
        "_uuid": "bba482464f41b306ef0d7d6ca565a78ca59f50a8",
        "_cell_guid": "fd348a1f-c9ee-4439-a6f4-a796077e4889",
        "trusted": true,
        "id": "n1mKoezOCBAa"
      },
      "source": [
        "# faz o mapeamento de um dos grupos de títulos em um valor númerico\n",
        "mapeamento_titulo = {\"Mr\": 1, \"Miss\": 2, \"Mrs\": 3, \"Master\": 4, \"Royal\": 5, \"Rare\": 6}\n",
        "for dataset in combinado_df:\n",
        "    dataset['Title'] = dataset['Title'].map(mapeamento_titulo)\n",
        "    dataset['Title'] = dataset['Title'].fillna(0)\n",
        "\n",
        "treinamento_df.head()"
      ],
      "execution_count": null,
      "outputs": []
    },
    {
      "cell_type": "markdown",
      "metadata": {
        "_uuid": "c518b1f33b2fe849881779f7c485b09ff78e7ab9",
        "_cell_guid": "dc4b06f3-53d2-4e31-bdcc-c92be4e90746",
        "id": "dYqkxs1VCBAa"
      },
      "source": [
        "Vamos tentar preencher os valores nulos na variável Age utilizando as idades mais comnuns para os títulos. "
      ]
    },
    {
      "cell_type": "code",
      "metadata": {
        "scrolled": true,
        "_uuid": "8a5b22703431939416b3e8102d8d82208dbee6c2",
        "_cell_guid": "e5b5ac5c-333e-48ac-8108-c803eed83ec8",
        "trusted": true,
        "id": "RoIvz0BcCBAa"
      },
      "source": [
        "# preenchendo valores faltantes de idade com o grupo de idade para cada título\n",
        "mr_age = treinamento_df[treinamento_df[\"Title\"] == 1][\"AgeGroup\"].mode() #Adulto jovem\n",
        "miss_age = treinamento_df[treinamento_df[\"Title\"] == 2][\"AgeGroup\"].mode() #Estudante\n",
        "mrs_age = treinamento_df[treinamento_df[\"Title\"] == 3][\"AgeGroup\"].mode() #Adulto\n",
        "master_age = treinamento_df[treinamento_df[\"Title\"] == 4][\"AgeGroup\"].mode() #Bebê\n",
        "royal_age = treinamento_df[treinamento_df[\"Title\"] == 5][\"AgeGroup\"].mode() #Adulto\n",
        "rare_age = treinamento_df[treinamento_df[\"Title\"] == 6][\"AgeGroup\"].mode() #Adulto\n",
        "\n",
        "idade_titulo_mapeamento = {1: \"Young Adult\", 2: \"Student\", 3: \"Adult\", 4: \"Baby\", 5: \"Adult\", 6: \"Adult\"}\n",
        "\n",
        "#I tried to get this code to work with using .map(), but couldn't.\n",
        "#I've put down a less elegant, temporary solution for now.\n",
        "#train = train.fillna({\"Age\": train[\"Title\"].map(age_title_mapping)})\n",
        "#test = test.fillna({\"Age\": test[\"Title\"].map(age_title_mapping)})\n",
        "\n",
        "for x in range(len(treinamento_df[\"AgeGroup\"])):\n",
        "    if treinamento_df[\"AgeGroup\"][x] == \"Unknown\":\n",
        "        treinamento_df[\"AgeGroup\"][x] = idade_titulo_mapeamento[treinamento_df[\"Title\"][x]]\n",
        "        \n",
        "for x in range(len(teste_df[\"AgeGroup\"])):\n",
        "    if teste_df[\"AgeGroup\"][x] == \"Unknown\":\n",
        "        teste_df[\"AgeGroup\"][x] = idade_titulo_mapeamento[teste_df[\"Title\"][x]]"
      ],
      "execution_count": null,
      "outputs": []
    },
    {
      "cell_type": "markdown",
      "metadata": {
        "_uuid": "fd807a685913a27c9c23baaf191ddb5e36b60585",
        "_cell_guid": "f8488dbc-7824-4d1e-b697-6f711435c544",
        "id": "xCybxA3VCBAa"
      },
      "source": [
        "Agora que já preenchemos os valores faltantes de forma mais precisa (melhorias ainda precisam ser feitas na metodologia), é o momento de mapear cada grupo de idade para um valor numérico. "
      ]
    },
    {
      "cell_type": "code",
      "metadata": {
        "_uuid": "42cb61fd9a9e197d1cb4469cf499627ce0727f52",
        "_cell_guid": "f993cda0-12fe-47a5-a7a3-f391ac4cc701",
        "trusted": true,
        "id": "1jGG2i_XCBAa"
      },
      "source": [
        "# mapeia cada valor de Idade a um valor numérico\n",
        "mapeamento_idade = {'Baby': 1, 'Child': 2, 'Teenager': 3, 'Student': 4, 'Young Adult': 5, 'Adult': 6, 'Senior': 7}\n",
        "treinamento_df['AgeGroup'] = treinamento_df['AgeGroup'].map(mapeamento_idade)\n",
        "teste_df['AgeGroup'] = teste_df['AgeGroup'].map(mapeamento_idade)\n",
        "\n",
        "#dropping the Age feature for now, might change\n",
        "treinamento_df = treinamento_df.drop(['Age'], axis = 1)\n",
        "teste_df = teste_df.drop(['Age'], axis = 1)\n",
        "\n",
        "treinamento_df.head()"
      ],
      "execution_count": null,
      "outputs": []
    },
    {
      "cell_type": "markdown",
      "metadata": {
        "_uuid": "28080f4e1faf07aa11a3520f58f19010462f77ad",
        "_cell_guid": "4082d01c-0baa-440d-8324-4856dc49788d",
        "id": "4pClVaXDCBAa"
      },
      "source": [
        "### Feature Name\n",
        "We can drop the name feature now that we've extracted the titles."
      ]
    },
    {
      "cell_type": "code",
      "metadata": {
        "_uuid": "1d376d44884e25d9ed4646304acc1f41c3051b6b",
        "_cell_guid": "8b26bf01-16d7-4a8d-9ff0-3c36e0623d55",
        "trusted": true,
        "id": "9TFvWnNtCBAa"
      },
      "source": [
        "#drop the name feature since it contains no more useful information.\n",
        "train = train.drop(['Name'], axis = 1)\n",
        "test = test.drop(['Name'], axis = 1)"
      ],
      "execution_count": null,
      "outputs": []
    },
    {
      "cell_type": "markdown",
      "metadata": {
        "_uuid": "109400ad6b4acd87eb802dab44e3787b9121fb69",
        "_cell_guid": "7083aad2-e410-4587-82cd-3249e208cb31",
        "id": "AKVTB3wpCBAa"
      },
      "source": [
        "### Feature Sex "
      ]
    },
    {
      "cell_type": "code",
      "metadata": {
        "scrolled": true,
        "_uuid": "018ce967cf17298b7ab1157008871339d6876292",
        "_cell_guid": "a10f979c-f118-45dc-a1e5-3f0c17e7977f",
        "trusted": true,
        "id": "4WKF8tHrCBAa"
      },
      "source": [
        "# mapeia cada valor da variável Sex para um valor numérico. value to a numerical value\n",
        "# este tipo de preparação de dados é bem comum, ou seja, transformamos os valores categóricos texto em valore numéricos. \n",
        "# neste caso da variável Sex, temos \"male\" torna-se valor 0, e \"female\" torna-se valor 1\n",
        "mapeamento_sex = {\"male\": 0, \"female\": 1}\n",
        "treinamento_df['Sex'] = treinamento_df['Sex'].map(mapeamento_sex)\n",
        "teste_df['Sex'] = teste_df['Sex'].map(mapeamento_sex)\n",
        "\n",
        "treinamento_df.head()"
      ],
      "execution_count": null,
      "outputs": []
    },
    {
      "cell_type": "markdown",
      "metadata": {
        "_uuid": "3fbd0b63a2f07e207dc04f5853ee9d6c33f28209",
        "_cell_guid": "f8143134-2180-4c58-8ee0-df0605fa8f16",
        "id": "glo5Sy5pCBAa"
      },
      "source": [
        "###  Feature Embarked"
      ]
    },
    {
      "cell_type": "code",
      "metadata": {
        "_uuid": "068136f43870636a45fab8064ada1f0fb481cfd0",
        "_cell_guid": "4027975e-21a1-4a12-9ee5-8d215e24c74f",
        "trusted": true,
        "id": "x4sGr51NCBAa"
      },
      "source": [
        "# mapeia cada valor da variável Embarked em um valor numérico\n",
        "mapeamento_embarked = {\"S\": 1, \"C\": 2, \"Q\": 3}\n",
        "treinamento_df['Embarked'] = treinamento_df['Embarked'].map(mapeamento_embarked)\n",
        "teste_df['Embarked'] = teste_df['Embarked'].map(mapeamento_embarked)\n",
        "\n",
        "treinamento_df.head()"
      ],
      "execution_count": null,
      "outputs": []
    },
    {
      "cell_type": "markdown",
      "metadata": {
        "_uuid": "4020a321be8fc14e67aafa5158c7da2dbbe0951f",
        "_cell_guid": "b8fde41b-1ab3-47f3-8d53-73ac20e838e5",
        "id": "7ONehjdxCBAa"
      },
      "source": [
        "###  Feature Fare\n",
        "Agora podemos separar os valores da variável Fare (tarifa do ticket) em alguns grupos lógicos. \n",
        "\n",
        "It's time separate the fare values into some logical groups as well as filling in the single missing value in the test dataset."
      ]
    },
    {
      "cell_type": "code",
      "metadata": {
        "_uuid": "4410a1dd3ac0c37b46193079459c630611755c17",
        "_cell_guid": "98471d35-2eb7-4926-9efb-056e2e2c2c4f",
        "trusted": true,
        "id": "3WGnw1YwCBAa"
      },
      "source": [
        "# preencher os valores faltantes na variável Fare no dataset de teste utilizando a média de tarifas para cada classe Pclass \n",
        "for x in range(len(teste_df[\"Fare\"])):\n",
        "    if pd.isnull(teste_df[\"Fare\"][x]):\n",
        "        pclass = teste_df[\"Pclass\"][x] #Pclass = 3\n",
        "        test[\"Fare\"][x] = round(treinamento_df[treinamento_df[\"Pclass\"] == pclass][\"Fare\"].mean(), 4)\n",
        "        \n",
        "# mapeia valores de Fare em grupos de valores numéricos\n",
        "treinamento_df['FareBand'] = pd.qcut(treinamento_df['Fare'], 4, labels = [1, 2, 3, 4])\n",
        "teste_df['FareBand'] = pd.qcut(teste_df['Fare'], 4, labels = [1, 2, 3, 4])\n",
        "\n",
        "# remove valores da variável Fare\n",
        "treinamento_df = treinamento_df.drop(['Fare'], axis = 1)\n",
        "teste_df = teste_df.drop(['Fare'], axis = 1)"
      ],
      "execution_count": null,
      "outputs": []
    },
    {
      "cell_type": "code",
      "metadata": {
        "_uuid": "f0a528cfdba4bc0e10bf14b3a74408a366632e44",
        "_cell_guid": "aa65ff69-b6ec-4cdd-b83b-7537b1e64c35",
        "trusted": true,
        "id": "kpv3HqThCBAa"
      },
      "source": [
        "# verifica dados de treinamento\n",
        "treinamento_df.head()"
      ],
      "execution_count": null,
      "outputs": []
    },
    {
      "cell_type": "code",
      "metadata": {
        "_uuid": "2696d461065a82ceeab852407438287a4cae3293",
        "_cell_guid": "7b7ccca3-e1cf-4f39-8ac6-c0e1e0ca1109",
        "trusted": true,
        "id": "bFtA1g9jCBAa"
      },
      "source": [
        "# verifica dados de teste\n",
        "teste_df.head()"
      ],
      "execution_count": null,
      "outputs": []
    },
    {
      "cell_type": "markdown",
      "metadata": {
        "id": "xGhdHRlodvww"
      },
      "source": [
        "## 6) Escolha do Melhor Modelo\n",
        "\n",
        "Como todo o bom projeto de ciência de dados até este ponto completamos em torno de 80% do cronograma. A partir deste momento, entramos na parte que todo o cientista de dados gostaria de iniciar, que é a criação e validação de modelos. \n",
        "\n",
        "Mas como observaram, a quantidade de operações de tratamento de dados, com limpeza, preenchimento de dados faltantes, e outros é muito grande, e pode comprometer o cronograma das atividades. \n",
        "\n",
        "A idéia é terminarmos a parte da modelagem na próxima semana, e com isto, deixando a expectativa da criação do nosso modelo preditivo (sim, utilizando aprendizado de máquina ou *machine learning*).\n",
        "\n",
        "Continue tunado, semana que vem tem mais! \n",
        "\n",
        "Terminamos com a cena mais famosa do filme Titanic de 1998 dirigido por James Cameron, com Kate Winslet como Rose e Leonardo DiCaprio como Jack. Apesar de inspirado em alguns fatos reais, o filme conta a estória de Rose e Jack que se conhecem a bordo do Titanic. Os dois personagens vem de classes sociais diferentes, e os nossos dados reais apresenta muito forte este aspecto da classe sócio-econômica. Será que Rose e Jack constam na lista de nomes de passageiros reais do Titanic? Tente verificar isso com uma procura nos dados. \n",
        "\n",
        "\n",
        "<img src=\"https://www.gannett-cdn.com/-mm-/ae6c7665fa69ac7eec8a0d3a5dd5b6d77eb27b98/c=0-72-1721-1044/local/-/media/2017/12/19/WIGroup/Milwaukee/636492789022088927-TITANIC20P2.JPG?width=660&height=373&fit=crop&format=pjpg&auto=webp\"> "
      ]
    },
    {
      "cell_type": "markdown",
      "metadata": {
        "_uuid": "667f5ccd37ca5a4e2e99ff06982929fa927c5356",
        "_cell_guid": "a6a2d601-fe68-497f-8b34-876c32eb3af6",
        "id": "V-4qIFdxCBAb"
      },
      "source": [
        "## Fontes:\n",
        "* Este notebook é uma adaptação e tradução do notebook original disponibilizado por Nadim Tamer \n",
        "[Titanic Survival Predictions (Beginner)](https://www.kaggle.com/nadintamer/titanic-survival-predictions-beginner)"
      ]
    },
    {
      "cell_type": "code",
      "metadata": {
        "id": "LjIxGLEGelda"
      },
      "source": [
        ""
      ],
      "execution_count": null,
      "outputs": []
    }
  ]
}